{
 "cells": [
  {
   "cell_type": "markdown",
   "metadata": {},
   "source": [
    "___\n",
    "\n",
    "<a href='http://www.pieriandata.com'> <img src='Pierian_Data_Logo.png' /></a>\n",
    "___\n",
    "# Plotly and Cufflinks"
   ]
  },
  {
   "cell_type": "markdown",
   "metadata": {},
   "source": [
    "Plotly is a library that allows you to create interactive plots that you can use in dashboards or websites (you can save them as html files or static images).\n",
    "\n",
    "## Installation\n",
    "\n",
    "In order for this all to work, you'll need to install plotly and cufflinks to call plots directly off of a pandas dataframe. These libraries are not currently available through **conda** but are available through **pip**. Install the libraries at your command line/terminal using:\n",
    "\n",
    "    pip install plotly\n",
    "    pip install cufflinks\n",
    "\n",
    "** NOTE: Make sure you only have one installation of Python on your computer when you do this, otherwise the installation may not work. **\n",
    "\n",
    "## Imports and Set-up"
   ]
  },
  {
   "cell_type": "code",
   "execution_count": 1,
   "metadata": {},
   "outputs": [],
   "source": [
    "import pandas as pd\n",
    "import numpy as np\n",
    "%matplotlib inline"
   ]
  },
  {
   "cell_type": "code",
   "execution_count": 2,
   "metadata": {},
   "outputs": [
    {
     "name": "stdout",
     "output_type": "stream",
     "text": [
      "5.1.0\n"
     ]
    }
   ],
   "source": [
    "from plotly import __version__\n",
    "from plotly.offline import download_plotlyjs, init_notebook_mode, plot, iplot\n",
    "\n",
    "print(__version__) # requires version >= 1.9.0"
   ]
  },
  {
   "cell_type": "code",
   "execution_count": 3,
   "metadata": {},
   "outputs": [],
   "source": [
    "#pip install cufflinks"
   ]
  },
  {
   "cell_type": "code",
   "execution_count": 4,
   "metadata": {},
   "outputs": [],
   "source": [
    "import cufflinks as cf"
   ]
  },
  {
   "cell_type": "code",
   "execution_count": 5,
   "metadata": {},
   "outputs": [
    {
     "data": {
      "text/html": [
       "        <script type=\"text/javascript\">\n",
       "        window.PlotlyConfig = {MathJaxConfig: 'local'};\n",
       "        if (window.MathJax) {MathJax.Hub.Config({SVG: {font: \"STIX-Web\"}});}\n",
       "        if (typeof require !== 'undefined') {\n",
       "        require.undef(\"plotly\");\n",
       "        requirejs.config({\n",
       "            paths: {\n",
       "                'plotly': ['https://cdn.plot.ly/plotly-2.2.0.min']\n",
       "            }\n",
       "        });\n",
       "        require(['plotly'], function(Plotly) {\n",
       "            window._Plotly = Plotly;\n",
       "        });\n",
       "        }\n",
       "        </script>\n",
       "        "
      ]
     },
     "metadata": {},
     "output_type": "display_data"
    }
   ],
   "source": [
    "# For Notebooks\n",
    "init_notebook_mode(connected=True)"
   ]
  },
  {
   "cell_type": "code",
   "execution_count": 6,
   "metadata": {},
   "outputs": [
    {
     "data": {
      "text/html": [
       "        <script type=\"text/javascript\">\n",
       "        window.PlotlyConfig = {MathJaxConfig: 'local'};\n",
       "        if (window.MathJax) {MathJax.Hub.Config({SVG: {font: \"STIX-Web\"}});}\n",
       "        if (typeof require !== 'undefined') {\n",
       "        require.undef(\"plotly\");\n",
       "        requirejs.config({\n",
       "            paths: {\n",
       "                'plotly': ['https://cdn.plot.ly/plotly-2.2.0.min']\n",
       "            }\n",
       "        });\n",
       "        require(['plotly'], function(Plotly) {\n",
       "            window._Plotly = Plotly;\n",
       "        });\n",
       "        }\n",
       "        </script>\n",
       "        "
      ]
     },
     "metadata": {},
     "output_type": "display_data"
    }
   ],
   "source": [
    "# For offline use\n",
    "cf.go_offline()"
   ]
  },
  {
   "cell_type": "markdown",
   "metadata": {},
   "source": [
    "### Fake Data"
   ]
  },
  {
   "cell_type": "code",
   "execution_count": 7,
   "metadata": {},
   "outputs": [],
   "source": [
    "df = pd.DataFrame(np.random.randn(100,4),columns='A B C D'.split())"
   ]
  },
  {
   "cell_type": "code",
   "execution_count": 8,
   "metadata": {},
   "outputs": [
    {
     "data": {
      "text/html": [
       "<div>\n",
       "<style scoped>\n",
       "    .dataframe tbody tr th:only-of-type {\n",
       "        vertical-align: middle;\n",
       "    }\n",
       "\n",
       "    .dataframe tbody tr th {\n",
       "        vertical-align: top;\n",
       "    }\n",
       "\n",
       "    .dataframe thead th {\n",
       "        text-align: right;\n",
       "    }\n",
       "</style>\n",
       "<table border=\"1\" class=\"dataframe\">\n",
       "  <thead>\n",
       "    <tr style=\"text-align: right;\">\n",
       "      <th></th>\n",
       "      <th>A</th>\n",
       "      <th>B</th>\n",
       "      <th>C</th>\n",
       "      <th>D</th>\n",
       "    </tr>\n",
       "  </thead>\n",
       "  <tbody>\n",
       "    <tr>\n",
       "      <th>0</th>\n",
       "      <td>-0.005758</td>\n",
       "      <td>0.855622</td>\n",
       "      <td>0.287523</td>\n",
       "      <td>0.498316</td>\n",
       "    </tr>\n",
       "    <tr>\n",
       "      <th>1</th>\n",
       "      <td>0.635753</td>\n",
       "      <td>-1.127362</td>\n",
       "      <td>0.714455</td>\n",
       "      <td>-0.723504</td>\n",
       "    </tr>\n",
       "    <tr>\n",
       "      <th>2</th>\n",
       "      <td>1.207882</td>\n",
       "      <td>-0.526920</td>\n",
       "      <td>-0.263739</td>\n",
       "      <td>-0.199086</td>\n",
       "    </tr>\n",
       "    <tr>\n",
       "      <th>3</th>\n",
       "      <td>-0.428437</td>\n",
       "      <td>-0.805413</td>\n",
       "      <td>0.154534</td>\n",
       "      <td>-0.275439</td>\n",
       "    </tr>\n",
       "    <tr>\n",
       "      <th>4</th>\n",
       "      <td>1.014145</td>\n",
       "      <td>-0.749069</td>\n",
       "      <td>-2.272460</td>\n",
       "      <td>1.768593</td>\n",
       "    </tr>\n",
       "  </tbody>\n",
       "</table>\n",
       "</div>"
      ],
      "text/plain": [
       "          A         B         C         D\n",
       "0 -0.005758  0.855622  0.287523  0.498316\n",
       "1  0.635753 -1.127362  0.714455 -0.723504\n",
       "2  1.207882 -0.526920 -0.263739 -0.199086\n",
       "3 -0.428437 -0.805413  0.154534 -0.275439\n",
       "4  1.014145 -0.749069 -2.272460  1.768593"
      ]
     },
     "execution_count": 8,
     "metadata": {},
     "output_type": "execute_result"
    }
   ],
   "source": [
    "df.head()"
   ]
  },
  {
   "cell_type": "code",
   "execution_count": 9,
   "metadata": {},
   "outputs": [],
   "source": [
    "df2 = pd.DataFrame({'Category':['A','B','C'],'Values':[32,43,50]})"
   ]
  },
  {
   "cell_type": "code",
   "execution_count": 10,
   "metadata": {},
   "outputs": [
    {
     "data": {
      "text/html": [
       "<div>\n",
       "<style scoped>\n",
       "    .dataframe tbody tr th:only-of-type {\n",
       "        vertical-align: middle;\n",
       "    }\n",
       "\n",
       "    .dataframe tbody tr th {\n",
       "        vertical-align: top;\n",
       "    }\n",
       "\n",
       "    .dataframe thead th {\n",
       "        text-align: right;\n",
       "    }\n",
       "</style>\n",
       "<table border=\"1\" class=\"dataframe\">\n",
       "  <thead>\n",
       "    <tr style=\"text-align: right;\">\n",
       "      <th></th>\n",
       "      <th>Category</th>\n",
       "      <th>Values</th>\n",
       "    </tr>\n",
       "  </thead>\n",
       "  <tbody>\n",
       "    <tr>\n",
       "      <th>0</th>\n",
       "      <td>A</td>\n",
       "      <td>32</td>\n",
       "    </tr>\n",
       "    <tr>\n",
       "      <th>1</th>\n",
       "      <td>B</td>\n",
       "      <td>43</td>\n",
       "    </tr>\n",
       "    <tr>\n",
       "      <th>2</th>\n",
       "      <td>C</td>\n",
       "      <td>50</td>\n",
       "    </tr>\n",
       "  </tbody>\n",
       "</table>\n",
       "</div>"
      ],
      "text/plain": [
       "  Category  Values\n",
       "0        A      32\n",
       "1        B      43\n",
       "2        C      50"
      ]
     },
     "execution_count": 10,
     "metadata": {},
     "output_type": "execute_result"
    }
   ],
   "source": [
    "df2.head()"
   ]
  },
  {
   "cell_type": "markdown",
   "metadata": {},
   "source": [
    "## Using Cufflinks and iplot()\n",
    "\n",
    "* scatter\n",
    "* bar\n",
    "* box\n",
    "* spread\n",
    "* ratio\n",
    "* heatmap\n",
    "* surface\n",
    "* histogram\n",
    "* bubble"
   ]
  },
  {
   "cell_type": "markdown",
   "metadata": {},
   "source": [
    "## Scatter"
   ]
  },
  {
   "cell_type": "code",
   "execution_count": 11,
   "metadata": {},
   "outputs": [
    {
     "data": {
      "application/vnd.plotly.v1+json": {
       "config": {
        "linkText": "Export to plot.ly",
        "plotlyServerURL": "https://plot.ly",
        "showLink": true
       },
       "data": [
        {
         "line": {
          "color": "rgba(255, 153, 51, 1.0)",
          "dash": "solid",
          "shape": "linear",
          "width": 1.3
         },
         "marker": {
          "size": 10,
          "symbol": "circle"
         },
         "mode": "markers",
         "name": "B",
         "text": "",
         "type": "scatter",
         "x": [
          -0.00575823250580768,
          0.6357526536260791,
          1.2078823963791712,
          -0.4284366096975284,
          1.014145002542919,
          0.7054570499036387,
          -0.831478411217752,
          0.7728642327825064,
          0.7004697184507643,
          -1.231776416875097,
          -0.41401563481878434,
          1.1322856480346852,
          -0.39318595015558194,
          0.5263569154400487,
          0.3180291798716228,
          -0.22261827109346366,
          -1.6724197269192995,
          1.2783835503365846,
          -0.23993427251882554,
          -1.2484416732220707,
          0.5976488349424885,
          0.385677861181226,
          0.2560357823013782,
          -0.24619265351844694,
          2.2568470203373674,
          -2.15083769218194,
          1.5485306040937072,
          2.208994013492354,
          -1.499416587196466,
          1.1062623038209496,
          2.044744563145898,
          2.248361168621705,
          -0.6932520400964282,
          -0.12777423865974202,
          -1.9106494770833462,
          -1.212102180027225,
          -0.7757931969671343,
          -0.38744488026458784,
          -0.9463586424105409,
          1.6727887899650369,
          0.7217853129625886,
          -0.3313144221162863,
          0.6960026389981161,
          -0.6648173991171903,
          -0.8112860943469768,
          0.18082540347147127,
          1.3919630873733102,
          0.46382781671231865,
          -0.4115516140752952,
          0.9607193536511318,
          0.4855991638247819,
          -0.21715498311319506,
          -0.7347433916366071,
          0.9092951485461442,
          -2.0243405611992284,
          -1.225125636319877,
          -1.203029999997798,
          -0.6922336491755662,
          0.7660882197370672,
          0.11924644243358365,
          -1.088168686653994,
          1.1392452652594254,
          0.8146955230795004,
          -0.42734587533719665,
          1.2324680519582198,
          -1.1320953576596426,
          -0.30882776595725697,
          1.3663297636529603,
          0.37183579662600236,
          -1.1194792770930226,
          1.8284249216869883,
          1.3609247420075428,
          0.07122539323985272,
          -0.14829238264489364,
          -1.668889594574335,
          0.8066878771001542,
          0.7748156562794538,
          0.6497469973121999,
          2.1398027883949355,
          -1.0978266962978387,
          0.2281853014743535,
          -0.14931126628854363,
          1.4221579843061756,
          0.6914847803397621,
          0.1499341952277375,
          1.012089635627416,
          1.0610786107361148,
          0.8914013131752377,
          0.01231561343508519,
          0.26446277258881523,
          1.5752184579993507,
          -0.8798468402860836,
          1.745915075941031,
          2.15336063842221,
          -0.8801911033186313,
          1.1694085578453528,
          0.4981842791617605,
          0.2074732217252558,
          -0.8480967148262764,
          0.23707951484827536
         ],
         "y": [
          0.8556222288772496,
          -1.1273622610670195,
          -0.5269197553913275,
          -0.8054128781960725,
          -0.749068993151881,
          -1.3687859711329016,
          -0.5042087221215136,
          -0.10130817826066009,
          -0.19672410054208153,
          -0.6313557524089218,
          -1.4581007687375886,
          -1.6956715563044404,
          -0.6112438274023329,
          -0.5268826820818268,
          0.5051994695613479,
          0.8618708710073752,
          -0.4135652030449454,
          -0.7663539466374012,
          1.50407379417061,
          0.7581608221640876,
          0.627991625692652,
          0.5931741531110601,
          0.09454493355746088,
          -0.8700879836882897,
          1.5117944092355777,
          -0.9630717128935331,
          -1.6411006462755617,
          1.3077103851146104,
          0.8233511952419196,
          -0.5280582049795407,
          0.8130476880764101,
          1.952823474239663,
          -0.4683803044118759,
          -0.5235830298669955,
          -0.6842373146647192,
          1.2599932417420376,
          0.9045451435286472,
          0.8549122829220845,
          -1.2775836958876516,
          0.4333838865818812,
          0.01778947470583882,
          -0.09587610120673787,
          0.38128282520588874,
          2.245220942650822,
          -0.9482111767861034,
          -0.05824052572964152,
          0.5347356830229034,
          -3.2400736597966344,
          -0.45206527994377643,
          0.7486285793305874,
          0.7835336662405054,
          -0.16950682209101647,
          -0.2981146972584054,
          1.0210105761818091,
          0.5308830103579464,
          -0.6372186261129612,
          0.3825112899765546,
          -0.7920259017206817,
          0.9322434623218389,
          1.174222380990123,
          -0.09076164508268218,
          -0.2022479825572514,
          0.7230756394862698,
          0.7442097710794263,
          -2.2075109136116877,
          -0.980508554544525,
          -2.8428325330334707,
          1.8479259257597307,
          1.8510240121847856,
          0.49212184258917113,
          1.0625009684563536,
          0.024116607246121757,
          2.6502942145892296,
          2.637770977442213,
          -0.09862430633368902,
          -1.0035638170949084,
          -0.9339655766328269,
          1.456452510783111,
          1.4216849583929372,
          0.23597280549678476,
          -0.4808159398342157,
          -0.22865142773097336,
          0.36234353424371957,
          0.8729717061340367,
          0.28167948888950806,
          -0.415352323234306,
          -1.8463120604056424,
          0.6308806029970968,
          0.44399560562281554,
          0.14489948233936506,
          0.8482594018266639,
          0.8515618449616275,
          -2.5298432102411237,
          1.5630078810335475,
          0.4019441930096172,
          0.8480716100037919,
          -0.7089320124676023,
          0.3912621113405365,
          2.230966454744648,
          0.8791439133705296
         ]
        }
       ],
       "layout": {
        "legend": {
         "bgcolor": "#F5F6F9",
         "font": {
          "color": "#4D5663"
         }
        },
        "paper_bgcolor": "#F5F6F9",
        "plot_bgcolor": "#F5F6F9",
        "template": {
         "data": {
          "bar": [
           {
            "error_x": {
             "color": "#2a3f5f"
            },
            "error_y": {
             "color": "#2a3f5f"
            },
            "marker": {
             "line": {
              "color": "#E5ECF6",
              "width": 0.5
             },
             "pattern": {
              "fillmode": "overlay",
              "size": 10,
              "solidity": 0.2
             }
            },
            "type": "bar"
           }
          ],
          "barpolar": [
           {
            "marker": {
             "line": {
              "color": "#E5ECF6",
              "width": 0.5
             },
             "pattern": {
              "fillmode": "overlay",
              "size": 10,
              "solidity": 0.2
             }
            },
            "type": "barpolar"
           }
          ],
          "carpet": [
           {
            "aaxis": {
             "endlinecolor": "#2a3f5f",
             "gridcolor": "white",
             "linecolor": "white",
             "minorgridcolor": "white",
             "startlinecolor": "#2a3f5f"
            },
            "baxis": {
             "endlinecolor": "#2a3f5f",
             "gridcolor": "white",
             "linecolor": "white",
             "minorgridcolor": "white",
             "startlinecolor": "#2a3f5f"
            },
            "type": "carpet"
           }
          ],
          "choropleth": [
           {
            "colorbar": {
             "outlinewidth": 0,
             "ticks": ""
            },
            "type": "choropleth"
           }
          ],
          "contour": [
           {
            "colorbar": {
             "outlinewidth": 0,
             "ticks": ""
            },
            "colorscale": [
             [
              0,
              "#0d0887"
             ],
             [
              0.1111111111111111,
              "#46039f"
             ],
             [
              0.2222222222222222,
              "#7201a8"
             ],
             [
              0.3333333333333333,
              "#9c179e"
             ],
             [
              0.4444444444444444,
              "#bd3786"
             ],
             [
              0.5555555555555556,
              "#d8576b"
             ],
             [
              0.6666666666666666,
              "#ed7953"
             ],
             [
              0.7777777777777778,
              "#fb9f3a"
             ],
             [
              0.8888888888888888,
              "#fdca26"
             ],
             [
              1,
              "#f0f921"
             ]
            ],
            "type": "contour"
           }
          ],
          "contourcarpet": [
           {
            "colorbar": {
             "outlinewidth": 0,
             "ticks": ""
            },
            "type": "contourcarpet"
           }
          ],
          "heatmap": [
           {
            "colorbar": {
             "outlinewidth": 0,
             "ticks": ""
            },
            "colorscale": [
             [
              0,
              "#0d0887"
             ],
             [
              0.1111111111111111,
              "#46039f"
             ],
             [
              0.2222222222222222,
              "#7201a8"
             ],
             [
              0.3333333333333333,
              "#9c179e"
             ],
             [
              0.4444444444444444,
              "#bd3786"
             ],
             [
              0.5555555555555556,
              "#d8576b"
             ],
             [
              0.6666666666666666,
              "#ed7953"
             ],
             [
              0.7777777777777778,
              "#fb9f3a"
             ],
             [
              0.8888888888888888,
              "#fdca26"
             ],
             [
              1,
              "#f0f921"
             ]
            ],
            "type": "heatmap"
           }
          ],
          "heatmapgl": [
           {
            "colorbar": {
             "outlinewidth": 0,
             "ticks": ""
            },
            "colorscale": [
             [
              0,
              "#0d0887"
             ],
             [
              0.1111111111111111,
              "#46039f"
             ],
             [
              0.2222222222222222,
              "#7201a8"
             ],
             [
              0.3333333333333333,
              "#9c179e"
             ],
             [
              0.4444444444444444,
              "#bd3786"
             ],
             [
              0.5555555555555556,
              "#d8576b"
             ],
             [
              0.6666666666666666,
              "#ed7953"
             ],
             [
              0.7777777777777778,
              "#fb9f3a"
             ],
             [
              0.8888888888888888,
              "#fdca26"
             ],
             [
              1,
              "#f0f921"
             ]
            ],
            "type": "heatmapgl"
           }
          ],
          "histogram": [
           {
            "marker": {
             "pattern": {
              "fillmode": "overlay",
              "size": 10,
              "solidity": 0.2
             }
            },
            "type": "histogram"
           }
          ],
          "histogram2d": [
           {
            "colorbar": {
             "outlinewidth": 0,
             "ticks": ""
            },
            "colorscale": [
             [
              0,
              "#0d0887"
             ],
             [
              0.1111111111111111,
              "#46039f"
             ],
             [
              0.2222222222222222,
              "#7201a8"
             ],
             [
              0.3333333333333333,
              "#9c179e"
             ],
             [
              0.4444444444444444,
              "#bd3786"
             ],
             [
              0.5555555555555556,
              "#d8576b"
             ],
             [
              0.6666666666666666,
              "#ed7953"
             ],
             [
              0.7777777777777778,
              "#fb9f3a"
             ],
             [
              0.8888888888888888,
              "#fdca26"
             ],
             [
              1,
              "#f0f921"
             ]
            ],
            "type": "histogram2d"
           }
          ],
          "histogram2dcontour": [
           {
            "colorbar": {
             "outlinewidth": 0,
             "ticks": ""
            },
            "colorscale": [
             [
              0,
              "#0d0887"
             ],
             [
              0.1111111111111111,
              "#46039f"
             ],
             [
              0.2222222222222222,
              "#7201a8"
             ],
             [
              0.3333333333333333,
              "#9c179e"
             ],
             [
              0.4444444444444444,
              "#bd3786"
             ],
             [
              0.5555555555555556,
              "#d8576b"
             ],
             [
              0.6666666666666666,
              "#ed7953"
             ],
             [
              0.7777777777777778,
              "#fb9f3a"
             ],
             [
              0.8888888888888888,
              "#fdca26"
             ],
             [
              1,
              "#f0f921"
             ]
            ],
            "type": "histogram2dcontour"
           }
          ],
          "mesh3d": [
           {
            "colorbar": {
             "outlinewidth": 0,
             "ticks": ""
            },
            "type": "mesh3d"
           }
          ],
          "parcoords": [
           {
            "line": {
             "colorbar": {
              "outlinewidth": 0,
              "ticks": ""
             }
            },
            "type": "parcoords"
           }
          ],
          "pie": [
           {
            "automargin": true,
            "type": "pie"
           }
          ],
          "scatter": [
           {
            "marker": {
             "colorbar": {
              "outlinewidth": 0,
              "ticks": ""
             }
            },
            "type": "scatter"
           }
          ],
          "scatter3d": [
           {
            "line": {
             "colorbar": {
              "outlinewidth": 0,
              "ticks": ""
             }
            },
            "marker": {
             "colorbar": {
              "outlinewidth": 0,
              "ticks": ""
             }
            },
            "type": "scatter3d"
           }
          ],
          "scattercarpet": [
           {
            "marker": {
             "colorbar": {
              "outlinewidth": 0,
              "ticks": ""
             }
            },
            "type": "scattercarpet"
           }
          ],
          "scattergeo": [
           {
            "marker": {
             "colorbar": {
              "outlinewidth": 0,
              "ticks": ""
             }
            },
            "type": "scattergeo"
           }
          ],
          "scattergl": [
           {
            "marker": {
             "colorbar": {
              "outlinewidth": 0,
              "ticks": ""
             }
            },
            "type": "scattergl"
           }
          ],
          "scattermapbox": [
           {
            "marker": {
             "colorbar": {
              "outlinewidth": 0,
              "ticks": ""
             }
            },
            "type": "scattermapbox"
           }
          ],
          "scatterpolar": [
           {
            "marker": {
             "colorbar": {
              "outlinewidth": 0,
              "ticks": ""
             }
            },
            "type": "scatterpolar"
           }
          ],
          "scatterpolargl": [
           {
            "marker": {
             "colorbar": {
              "outlinewidth": 0,
              "ticks": ""
             }
            },
            "type": "scatterpolargl"
           }
          ],
          "scatterternary": [
           {
            "marker": {
             "colorbar": {
              "outlinewidth": 0,
              "ticks": ""
             }
            },
            "type": "scatterternary"
           }
          ],
          "surface": [
           {
            "colorbar": {
             "outlinewidth": 0,
             "ticks": ""
            },
            "colorscale": [
             [
              0,
              "#0d0887"
             ],
             [
              0.1111111111111111,
              "#46039f"
             ],
             [
              0.2222222222222222,
              "#7201a8"
             ],
             [
              0.3333333333333333,
              "#9c179e"
             ],
             [
              0.4444444444444444,
              "#bd3786"
             ],
             [
              0.5555555555555556,
              "#d8576b"
             ],
             [
              0.6666666666666666,
              "#ed7953"
             ],
             [
              0.7777777777777778,
              "#fb9f3a"
             ],
             [
              0.8888888888888888,
              "#fdca26"
             ],
             [
              1,
              "#f0f921"
             ]
            ],
            "type": "surface"
           }
          ],
          "table": [
           {
            "cells": {
             "fill": {
              "color": "#EBF0F8"
             },
             "line": {
              "color": "white"
             }
            },
            "header": {
             "fill": {
              "color": "#C8D4E3"
             },
             "line": {
              "color": "white"
             }
            },
            "type": "table"
           }
          ]
         },
         "layout": {
          "annotationdefaults": {
           "arrowcolor": "#2a3f5f",
           "arrowhead": 0,
           "arrowwidth": 1
          },
          "autotypenumbers": "strict",
          "coloraxis": {
           "colorbar": {
            "outlinewidth": 0,
            "ticks": ""
           }
          },
          "colorscale": {
           "diverging": [
            [
             0,
             "#8e0152"
            ],
            [
             0.1,
             "#c51b7d"
            ],
            [
             0.2,
             "#de77ae"
            ],
            [
             0.3,
             "#f1b6da"
            ],
            [
             0.4,
             "#fde0ef"
            ],
            [
             0.5,
             "#f7f7f7"
            ],
            [
             0.6,
             "#e6f5d0"
            ],
            [
             0.7,
             "#b8e186"
            ],
            [
             0.8,
             "#7fbc41"
            ],
            [
             0.9,
             "#4d9221"
            ],
            [
             1,
             "#276419"
            ]
           ],
           "sequential": [
            [
             0,
             "#0d0887"
            ],
            [
             0.1111111111111111,
             "#46039f"
            ],
            [
             0.2222222222222222,
             "#7201a8"
            ],
            [
             0.3333333333333333,
             "#9c179e"
            ],
            [
             0.4444444444444444,
             "#bd3786"
            ],
            [
             0.5555555555555556,
             "#d8576b"
            ],
            [
             0.6666666666666666,
             "#ed7953"
            ],
            [
             0.7777777777777778,
             "#fb9f3a"
            ],
            [
             0.8888888888888888,
             "#fdca26"
            ],
            [
             1,
             "#f0f921"
            ]
           ],
           "sequentialminus": [
            [
             0,
             "#0d0887"
            ],
            [
             0.1111111111111111,
             "#46039f"
            ],
            [
             0.2222222222222222,
             "#7201a8"
            ],
            [
             0.3333333333333333,
             "#9c179e"
            ],
            [
             0.4444444444444444,
             "#bd3786"
            ],
            [
             0.5555555555555556,
             "#d8576b"
            ],
            [
             0.6666666666666666,
             "#ed7953"
            ],
            [
             0.7777777777777778,
             "#fb9f3a"
            ],
            [
             0.8888888888888888,
             "#fdca26"
            ],
            [
             1,
             "#f0f921"
            ]
           ]
          },
          "colorway": [
           "#636efa",
           "#EF553B",
           "#00cc96",
           "#ab63fa",
           "#FFA15A",
           "#19d3f3",
           "#FF6692",
           "#B6E880",
           "#FF97FF",
           "#FECB52"
          ],
          "font": {
           "color": "#2a3f5f"
          },
          "geo": {
           "bgcolor": "white",
           "lakecolor": "white",
           "landcolor": "#E5ECF6",
           "showlakes": true,
           "showland": true,
           "subunitcolor": "white"
          },
          "hoverlabel": {
           "align": "left"
          },
          "hovermode": "closest",
          "mapbox": {
           "style": "light"
          },
          "paper_bgcolor": "white",
          "plot_bgcolor": "#E5ECF6",
          "polar": {
           "angularaxis": {
            "gridcolor": "white",
            "linecolor": "white",
            "ticks": ""
           },
           "bgcolor": "#E5ECF6",
           "radialaxis": {
            "gridcolor": "white",
            "linecolor": "white",
            "ticks": ""
           }
          },
          "scene": {
           "xaxis": {
            "backgroundcolor": "#E5ECF6",
            "gridcolor": "white",
            "gridwidth": 2,
            "linecolor": "white",
            "showbackground": true,
            "ticks": "",
            "zerolinecolor": "white"
           },
           "yaxis": {
            "backgroundcolor": "#E5ECF6",
            "gridcolor": "white",
            "gridwidth": 2,
            "linecolor": "white",
            "showbackground": true,
            "ticks": "",
            "zerolinecolor": "white"
           },
           "zaxis": {
            "backgroundcolor": "#E5ECF6",
            "gridcolor": "white",
            "gridwidth": 2,
            "linecolor": "white",
            "showbackground": true,
            "ticks": "",
            "zerolinecolor": "white"
           }
          },
          "shapedefaults": {
           "line": {
            "color": "#2a3f5f"
           }
          },
          "ternary": {
           "aaxis": {
            "gridcolor": "white",
            "linecolor": "white",
            "ticks": ""
           },
           "baxis": {
            "gridcolor": "white",
            "linecolor": "white",
            "ticks": ""
           },
           "bgcolor": "#E5ECF6",
           "caxis": {
            "gridcolor": "white",
            "linecolor": "white",
            "ticks": ""
           }
          },
          "title": {
           "x": 0.05
          },
          "xaxis": {
           "automargin": true,
           "gridcolor": "white",
           "linecolor": "white",
           "ticks": "",
           "title": {
            "standoff": 15
           },
           "zerolinecolor": "white",
           "zerolinewidth": 2
          },
          "yaxis": {
           "automargin": true,
           "gridcolor": "white",
           "linecolor": "white",
           "ticks": "",
           "title": {
            "standoff": 15
           },
           "zerolinecolor": "white",
           "zerolinewidth": 2
          }
         }
        },
        "title": {
         "font": {
          "color": "#4D5663"
         }
        },
        "xaxis": {
         "gridcolor": "#E1E5ED",
         "showgrid": true,
         "tickfont": {
          "color": "#4D5663"
         },
         "title": {
          "font": {
           "color": "#4D5663"
          },
          "text": ""
         },
         "zerolinecolor": "#E1E5ED"
        },
        "yaxis": {
         "gridcolor": "#E1E5ED",
         "showgrid": true,
         "tickfont": {
          "color": "#4D5663"
         },
         "title": {
          "font": {
           "color": "#4D5663"
          },
          "text": ""
         },
         "zerolinecolor": "#E1E5ED"
        }
       }
      },
      "text/html": [
       "<div>                            <div id=\"ca62cc83-2bed-4872-8158-95935534d2a6\" class=\"plotly-graph-div\" style=\"height:525px; width:100%;\"></div>            <script type=\"text/javascript\">                require([\"plotly\"], function(Plotly) {                    window.PLOTLYENV=window.PLOTLYENV || {};\n",
       "                    window.PLOTLYENV.BASE_URL='https://plot.ly';                                    if (document.getElementById(\"ca62cc83-2bed-4872-8158-95935534d2a6\")) {                    Plotly.newPlot(                        \"ca62cc83-2bed-4872-8158-95935534d2a6\",                        [{\"line\":{\"color\":\"rgba(255, 153, 51, 1.0)\",\"dash\":\"solid\",\"shape\":\"linear\",\"width\":1.3},\"marker\":{\"size\":10,\"symbol\":\"circle\"},\"mode\":\"markers\",\"name\":\"B\",\"text\":\"\",\"type\":\"scatter\",\"x\":[-0.00575823250580768,0.6357526536260791,1.2078823963791712,-0.4284366096975284,1.014145002542919,0.7054570499036387,-0.831478411217752,0.7728642327825064,0.7004697184507643,-1.231776416875097,-0.41401563481878434,1.1322856480346852,-0.39318595015558194,0.5263569154400487,0.3180291798716228,-0.22261827109346366,-1.6724197269192995,1.2783835503365846,-0.23993427251882554,-1.2484416732220707,0.5976488349424885,0.385677861181226,0.2560357823013782,-0.24619265351844694,2.2568470203373674,-2.15083769218194,1.5485306040937072,2.208994013492354,-1.499416587196466,1.1062623038209496,2.044744563145898,2.248361168621705,-0.6932520400964282,-0.12777423865974202,-1.9106494770833462,-1.212102180027225,-0.7757931969671343,-0.38744488026458784,-0.9463586424105409,1.6727887899650369,0.7217853129625886,-0.3313144221162863,0.6960026389981161,-0.6648173991171903,-0.8112860943469768,0.18082540347147127,1.3919630873733102,0.46382781671231865,-0.4115516140752952,0.9607193536511318,0.4855991638247819,-0.21715498311319506,-0.7347433916366071,0.9092951485461442,-2.0243405611992284,-1.225125636319877,-1.203029999997798,-0.6922336491755662,0.7660882197370672,0.11924644243358365,-1.088168686653994,1.1392452652594254,0.8146955230795004,-0.42734587533719665,1.2324680519582198,-1.1320953576596426,-0.30882776595725697,1.3663297636529603,0.37183579662600236,-1.1194792770930226,1.8284249216869883,1.3609247420075428,0.07122539323985272,-0.14829238264489364,-1.668889594574335,0.8066878771001542,0.7748156562794538,0.6497469973121999,2.1398027883949355,-1.0978266962978387,0.2281853014743535,-0.14931126628854363,1.4221579843061756,0.6914847803397621,0.1499341952277375,1.012089635627416,1.0610786107361148,0.8914013131752377,0.01231561343508519,0.26446277258881523,1.5752184579993507,-0.8798468402860836,1.745915075941031,2.15336063842221,-0.8801911033186313,1.1694085578453528,0.4981842791617605,0.2074732217252558,-0.8480967148262764,0.23707951484827536],\"y\":[0.8556222288772496,-1.1273622610670195,-0.5269197553913275,-0.8054128781960725,-0.749068993151881,-1.3687859711329016,-0.5042087221215136,-0.10130817826066009,-0.19672410054208153,-0.6313557524089218,-1.4581007687375886,-1.6956715563044404,-0.6112438274023329,-0.5268826820818268,0.5051994695613479,0.8618708710073752,-0.4135652030449454,-0.7663539466374012,1.50407379417061,0.7581608221640876,0.627991625692652,0.5931741531110601,0.09454493355746088,-0.8700879836882897,1.5117944092355777,-0.9630717128935331,-1.6411006462755617,1.3077103851146104,0.8233511952419196,-0.5280582049795407,0.8130476880764101,1.952823474239663,-0.4683803044118759,-0.5235830298669955,-0.6842373146647192,1.2599932417420376,0.9045451435286472,0.8549122829220845,-1.2775836958876516,0.4333838865818812,0.01778947470583882,-0.09587610120673787,0.38128282520588874,2.245220942650822,-0.9482111767861034,-0.05824052572964152,0.5347356830229034,-3.2400736597966344,-0.45206527994377643,0.7486285793305874,0.7835336662405054,-0.16950682209101647,-0.2981146972584054,1.0210105761818091,0.5308830103579464,-0.6372186261129612,0.3825112899765546,-0.7920259017206817,0.9322434623218389,1.174222380990123,-0.09076164508268218,-0.2022479825572514,0.7230756394862698,0.7442097710794263,-2.2075109136116877,-0.980508554544525,-2.8428325330334707,1.8479259257597307,1.8510240121847856,0.49212184258917113,1.0625009684563536,0.024116607246121757,2.6502942145892296,2.637770977442213,-0.09862430633368902,-1.0035638170949084,-0.9339655766328269,1.456452510783111,1.4216849583929372,0.23597280549678476,-0.4808159398342157,-0.22865142773097336,0.36234353424371957,0.8729717061340367,0.28167948888950806,-0.415352323234306,-1.8463120604056424,0.6308806029970968,0.44399560562281554,0.14489948233936506,0.8482594018266639,0.8515618449616275,-2.5298432102411237,1.5630078810335475,0.4019441930096172,0.8480716100037919,-0.7089320124676023,0.3912621113405365,2.230966454744648,0.8791439133705296]}],                        {\"legend\":{\"bgcolor\":\"#F5F6F9\",\"font\":{\"color\":\"#4D5663\"}},\"paper_bgcolor\":\"#F5F6F9\",\"plot_bgcolor\":\"#F5F6F9\",\"template\":{\"data\":{\"bar\":[{\"error_x\":{\"color\":\"#2a3f5f\"},\"error_y\":{\"color\":\"#2a3f5f\"},\"marker\":{\"line\":{\"color\":\"#E5ECF6\",\"width\":0.5},\"pattern\":{\"fillmode\":\"overlay\",\"size\":10,\"solidity\":0.2}},\"type\":\"bar\"}],\"barpolar\":[{\"marker\":{\"line\":{\"color\":\"#E5ECF6\",\"width\":0.5},\"pattern\":{\"fillmode\":\"overlay\",\"size\":10,\"solidity\":0.2}},\"type\":\"barpolar\"}],\"carpet\":[{\"aaxis\":{\"endlinecolor\":\"#2a3f5f\",\"gridcolor\":\"white\",\"linecolor\":\"white\",\"minorgridcolor\":\"white\",\"startlinecolor\":\"#2a3f5f\"},\"baxis\":{\"endlinecolor\":\"#2a3f5f\",\"gridcolor\":\"white\",\"linecolor\":\"white\",\"minorgridcolor\":\"white\",\"startlinecolor\":\"#2a3f5f\"},\"type\":\"carpet\"}],\"choropleth\":[{\"colorbar\":{\"outlinewidth\":0,\"ticks\":\"\"},\"type\":\"choropleth\"}],\"contour\":[{\"colorbar\":{\"outlinewidth\":0,\"ticks\":\"\"},\"colorscale\":[[0.0,\"#0d0887\"],[0.1111111111111111,\"#46039f\"],[0.2222222222222222,\"#7201a8\"],[0.3333333333333333,\"#9c179e\"],[0.4444444444444444,\"#bd3786\"],[0.5555555555555556,\"#d8576b\"],[0.6666666666666666,\"#ed7953\"],[0.7777777777777778,\"#fb9f3a\"],[0.8888888888888888,\"#fdca26\"],[1.0,\"#f0f921\"]],\"type\":\"contour\"}],\"contourcarpet\":[{\"colorbar\":{\"outlinewidth\":0,\"ticks\":\"\"},\"type\":\"contourcarpet\"}],\"heatmap\":[{\"colorbar\":{\"outlinewidth\":0,\"ticks\":\"\"},\"colorscale\":[[0.0,\"#0d0887\"],[0.1111111111111111,\"#46039f\"],[0.2222222222222222,\"#7201a8\"],[0.3333333333333333,\"#9c179e\"],[0.4444444444444444,\"#bd3786\"],[0.5555555555555556,\"#d8576b\"],[0.6666666666666666,\"#ed7953\"],[0.7777777777777778,\"#fb9f3a\"],[0.8888888888888888,\"#fdca26\"],[1.0,\"#f0f921\"]],\"type\":\"heatmap\"}],\"heatmapgl\":[{\"colorbar\":{\"outlinewidth\":0,\"ticks\":\"\"},\"colorscale\":[[0.0,\"#0d0887\"],[0.1111111111111111,\"#46039f\"],[0.2222222222222222,\"#7201a8\"],[0.3333333333333333,\"#9c179e\"],[0.4444444444444444,\"#bd3786\"],[0.5555555555555556,\"#d8576b\"],[0.6666666666666666,\"#ed7953\"],[0.7777777777777778,\"#fb9f3a\"],[0.8888888888888888,\"#fdca26\"],[1.0,\"#f0f921\"]],\"type\":\"heatmapgl\"}],\"histogram\":[{\"marker\":{\"pattern\":{\"fillmode\":\"overlay\",\"size\":10,\"solidity\":0.2}},\"type\":\"histogram\"}],\"histogram2d\":[{\"colorbar\":{\"outlinewidth\":0,\"ticks\":\"\"},\"colorscale\":[[0.0,\"#0d0887\"],[0.1111111111111111,\"#46039f\"],[0.2222222222222222,\"#7201a8\"],[0.3333333333333333,\"#9c179e\"],[0.4444444444444444,\"#bd3786\"],[0.5555555555555556,\"#d8576b\"],[0.6666666666666666,\"#ed7953\"],[0.7777777777777778,\"#fb9f3a\"],[0.8888888888888888,\"#fdca26\"],[1.0,\"#f0f921\"]],\"type\":\"histogram2d\"}],\"histogram2dcontour\":[{\"colorbar\":{\"outlinewidth\":0,\"ticks\":\"\"},\"colorscale\":[[0.0,\"#0d0887\"],[0.1111111111111111,\"#46039f\"],[0.2222222222222222,\"#7201a8\"],[0.3333333333333333,\"#9c179e\"],[0.4444444444444444,\"#bd3786\"],[0.5555555555555556,\"#d8576b\"],[0.6666666666666666,\"#ed7953\"],[0.7777777777777778,\"#fb9f3a\"],[0.8888888888888888,\"#fdca26\"],[1.0,\"#f0f921\"]],\"type\":\"histogram2dcontour\"}],\"mesh3d\":[{\"colorbar\":{\"outlinewidth\":0,\"ticks\":\"\"},\"type\":\"mesh3d\"}],\"parcoords\":[{\"line\":{\"colorbar\":{\"outlinewidth\":0,\"ticks\":\"\"}},\"type\":\"parcoords\"}],\"pie\":[{\"automargin\":true,\"type\":\"pie\"}],\"scatter\":[{\"marker\":{\"colorbar\":{\"outlinewidth\":0,\"ticks\":\"\"}},\"type\":\"scatter\"}],\"scatter3d\":[{\"line\":{\"colorbar\":{\"outlinewidth\":0,\"ticks\":\"\"}},\"marker\":{\"colorbar\":{\"outlinewidth\":0,\"ticks\":\"\"}},\"type\":\"scatter3d\"}],\"scattercarpet\":[{\"marker\":{\"colorbar\":{\"outlinewidth\":0,\"ticks\":\"\"}},\"type\":\"scattercarpet\"}],\"scattergeo\":[{\"marker\":{\"colorbar\":{\"outlinewidth\":0,\"ticks\":\"\"}},\"type\":\"scattergeo\"}],\"scattergl\":[{\"marker\":{\"colorbar\":{\"outlinewidth\":0,\"ticks\":\"\"}},\"type\":\"scattergl\"}],\"scattermapbox\":[{\"marker\":{\"colorbar\":{\"outlinewidth\":0,\"ticks\":\"\"}},\"type\":\"scattermapbox\"}],\"scatterpolar\":[{\"marker\":{\"colorbar\":{\"outlinewidth\":0,\"ticks\":\"\"}},\"type\":\"scatterpolar\"}],\"scatterpolargl\":[{\"marker\":{\"colorbar\":{\"outlinewidth\":0,\"ticks\":\"\"}},\"type\":\"scatterpolargl\"}],\"scatterternary\":[{\"marker\":{\"colorbar\":{\"outlinewidth\":0,\"ticks\":\"\"}},\"type\":\"scatterternary\"}],\"surface\":[{\"colorbar\":{\"outlinewidth\":0,\"ticks\":\"\"},\"colorscale\":[[0.0,\"#0d0887\"],[0.1111111111111111,\"#46039f\"],[0.2222222222222222,\"#7201a8\"],[0.3333333333333333,\"#9c179e\"],[0.4444444444444444,\"#bd3786\"],[0.5555555555555556,\"#d8576b\"],[0.6666666666666666,\"#ed7953\"],[0.7777777777777778,\"#fb9f3a\"],[0.8888888888888888,\"#fdca26\"],[1.0,\"#f0f921\"]],\"type\":\"surface\"}],\"table\":[{\"cells\":{\"fill\":{\"color\":\"#EBF0F8\"},\"line\":{\"color\":\"white\"}},\"header\":{\"fill\":{\"color\":\"#C8D4E3\"},\"line\":{\"color\":\"white\"}},\"type\":\"table\"}]},\"layout\":{\"annotationdefaults\":{\"arrowcolor\":\"#2a3f5f\",\"arrowhead\":0,\"arrowwidth\":1},\"autotypenumbers\":\"strict\",\"coloraxis\":{\"colorbar\":{\"outlinewidth\":0,\"ticks\":\"\"}},\"colorscale\":{\"diverging\":[[0,\"#8e0152\"],[0.1,\"#c51b7d\"],[0.2,\"#de77ae\"],[0.3,\"#f1b6da\"],[0.4,\"#fde0ef\"],[0.5,\"#f7f7f7\"],[0.6,\"#e6f5d0\"],[0.7,\"#b8e186\"],[0.8,\"#7fbc41\"],[0.9,\"#4d9221\"],[1,\"#276419\"]],\"sequential\":[[0.0,\"#0d0887\"],[0.1111111111111111,\"#46039f\"],[0.2222222222222222,\"#7201a8\"],[0.3333333333333333,\"#9c179e\"],[0.4444444444444444,\"#bd3786\"],[0.5555555555555556,\"#d8576b\"],[0.6666666666666666,\"#ed7953\"],[0.7777777777777778,\"#fb9f3a\"],[0.8888888888888888,\"#fdca26\"],[1.0,\"#f0f921\"]],\"sequentialminus\":[[0.0,\"#0d0887\"],[0.1111111111111111,\"#46039f\"],[0.2222222222222222,\"#7201a8\"],[0.3333333333333333,\"#9c179e\"],[0.4444444444444444,\"#bd3786\"],[0.5555555555555556,\"#d8576b\"],[0.6666666666666666,\"#ed7953\"],[0.7777777777777778,\"#fb9f3a\"],[0.8888888888888888,\"#fdca26\"],[1.0,\"#f0f921\"]]},\"colorway\":[\"#636efa\",\"#EF553B\",\"#00cc96\",\"#ab63fa\",\"#FFA15A\",\"#19d3f3\",\"#FF6692\",\"#B6E880\",\"#FF97FF\",\"#FECB52\"],\"font\":{\"color\":\"#2a3f5f\"},\"geo\":{\"bgcolor\":\"white\",\"lakecolor\":\"white\",\"landcolor\":\"#E5ECF6\",\"showlakes\":true,\"showland\":true,\"subunitcolor\":\"white\"},\"hoverlabel\":{\"align\":\"left\"},\"hovermode\":\"closest\",\"mapbox\":{\"style\":\"light\"},\"paper_bgcolor\":\"white\",\"plot_bgcolor\":\"#E5ECF6\",\"polar\":{\"angularaxis\":{\"gridcolor\":\"white\",\"linecolor\":\"white\",\"ticks\":\"\"},\"bgcolor\":\"#E5ECF6\",\"radialaxis\":{\"gridcolor\":\"white\",\"linecolor\":\"white\",\"ticks\":\"\"}},\"scene\":{\"xaxis\":{\"backgroundcolor\":\"#E5ECF6\",\"gridcolor\":\"white\",\"gridwidth\":2,\"linecolor\":\"white\",\"showbackground\":true,\"ticks\":\"\",\"zerolinecolor\":\"white\"},\"yaxis\":{\"backgroundcolor\":\"#E5ECF6\",\"gridcolor\":\"white\",\"gridwidth\":2,\"linecolor\":\"white\",\"showbackground\":true,\"ticks\":\"\",\"zerolinecolor\":\"white\"},\"zaxis\":{\"backgroundcolor\":\"#E5ECF6\",\"gridcolor\":\"white\",\"gridwidth\":2,\"linecolor\":\"white\",\"showbackground\":true,\"ticks\":\"\",\"zerolinecolor\":\"white\"}},\"shapedefaults\":{\"line\":{\"color\":\"#2a3f5f\"}},\"ternary\":{\"aaxis\":{\"gridcolor\":\"white\",\"linecolor\":\"white\",\"ticks\":\"\"},\"baxis\":{\"gridcolor\":\"white\",\"linecolor\":\"white\",\"ticks\":\"\"},\"bgcolor\":\"#E5ECF6\",\"caxis\":{\"gridcolor\":\"white\",\"linecolor\":\"white\",\"ticks\":\"\"}},\"title\":{\"x\":0.05},\"xaxis\":{\"automargin\":true,\"gridcolor\":\"white\",\"linecolor\":\"white\",\"ticks\":\"\",\"title\":{\"standoff\":15},\"zerolinecolor\":\"white\",\"zerolinewidth\":2},\"yaxis\":{\"automargin\":true,\"gridcolor\":\"white\",\"linecolor\":\"white\",\"ticks\":\"\",\"title\":{\"standoff\":15},\"zerolinecolor\":\"white\",\"zerolinewidth\":2}}},\"title\":{\"font\":{\"color\":\"#4D5663\"}},\"xaxis\":{\"gridcolor\":\"#E1E5ED\",\"showgrid\":true,\"tickfont\":{\"color\":\"#4D5663\"},\"title\":{\"font\":{\"color\":\"#4D5663\"},\"text\":\"\"},\"zerolinecolor\":\"#E1E5ED\"},\"yaxis\":{\"gridcolor\":\"#E1E5ED\",\"showgrid\":true,\"tickfont\":{\"color\":\"#4D5663\"},\"title\":{\"font\":{\"color\":\"#4D5663\"},\"text\":\"\"},\"zerolinecolor\":\"#E1E5ED\"}},                        {\"showLink\": true, \"linkText\": \"Export to plot.ly\", \"plotlyServerURL\": \"https://plot.ly\", \"responsive\": true}                    ).then(function(){\n",
       "                            \n",
       "var gd = document.getElementById('ca62cc83-2bed-4872-8158-95935534d2a6');\n",
       "var x = new MutationObserver(function (mutations, observer) {{\n",
       "        var display = window.getComputedStyle(gd).display;\n",
       "        if (!display || display === 'none') {{\n",
       "            console.log([gd, 'removed!']);\n",
       "            Plotly.purge(gd);\n",
       "            observer.disconnect();\n",
       "        }}\n",
       "}});\n",
       "\n",
       "// Listen for the removal of the full notebook cells\n",
       "var notebookContainer = gd.closest('#notebook-container');\n",
       "if (notebookContainer) {{\n",
       "    x.observe(notebookContainer, {childList: true});\n",
       "}}\n",
       "\n",
       "// Listen for the clearing of the current output cell\n",
       "var outputEl = gd.closest('.output');\n",
       "if (outputEl) {{\n",
       "    x.observe(outputEl, {childList: true});\n",
       "}}\n",
       "\n",
       "                        })                };                });            </script>        </div>"
      ]
     },
     "metadata": {},
     "output_type": "display_data"
    }
   ],
   "source": [
    "df.iplot(kind='scatter',x='A',y='B',mode='markers',size=10)"
   ]
  },
  {
   "cell_type": "markdown",
   "metadata": {},
   "source": [
    "## Bar Plots"
   ]
  },
  {
   "cell_type": "code",
   "execution_count": 12,
   "metadata": {},
   "outputs": [
    {
     "data": {
      "application/vnd.plotly.v1+json": {
       "config": {
        "linkText": "Export to plot.ly",
        "plotlyServerURL": "https://plot.ly",
        "showLink": true
       },
       "data": [
        {
         "marker": {
          "color": "rgba(255, 153, 51, 0.6)",
          "line": {
           "color": "rgba(255, 153, 51, 1.0)",
           "width": 1
          }
         },
         "name": "Values",
         "orientation": "v",
         "text": "",
         "type": "bar",
         "x": [
          "A",
          "B",
          "C"
         ],
         "y": [
          32,
          43,
          50
         ]
        }
       ],
       "layout": {
        "legend": {
         "bgcolor": "#F5F6F9",
         "font": {
          "color": "#4D5663"
         }
        },
        "paper_bgcolor": "#F5F6F9",
        "plot_bgcolor": "#F5F6F9",
        "template": {
         "data": {
          "bar": [
           {
            "error_x": {
             "color": "#2a3f5f"
            },
            "error_y": {
             "color": "#2a3f5f"
            },
            "marker": {
             "line": {
              "color": "#E5ECF6",
              "width": 0.5
             },
             "pattern": {
              "fillmode": "overlay",
              "size": 10,
              "solidity": 0.2
             }
            },
            "type": "bar"
           }
          ],
          "barpolar": [
           {
            "marker": {
             "line": {
              "color": "#E5ECF6",
              "width": 0.5
             },
             "pattern": {
              "fillmode": "overlay",
              "size": 10,
              "solidity": 0.2
             }
            },
            "type": "barpolar"
           }
          ],
          "carpet": [
           {
            "aaxis": {
             "endlinecolor": "#2a3f5f",
             "gridcolor": "white",
             "linecolor": "white",
             "minorgridcolor": "white",
             "startlinecolor": "#2a3f5f"
            },
            "baxis": {
             "endlinecolor": "#2a3f5f",
             "gridcolor": "white",
             "linecolor": "white",
             "minorgridcolor": "white",
             "startlinecolor": "#2a3f5f"
            },
            "type": "carpet"
           }
          ],
          "choropleth": [
           {
            "colorbar": {
             "outlinewidth": 0,
             "ticks": ""
            },
            "type": "choropleth"
           }
          ],
          "contour": [
           {
            "colorbar": {
             "outlinewidth": 0,
             "ticks": ""
            },
            "colorscale": [
             [
              0,
              "#0d0887"
             ],
             [
              0.1111111111111111,
              "#46039f"
             ],
             [
              0.2222222222222222,
              "#7201a8"
             ],
             [
              0.3333333333333333,
              "#9c179e"
             ],
             [
              0.4444444444444444,
              "#bd3786"
             ],
             [
              0.5555555555555556,
              "#d8576b"
             ],
             [
              0.6666666666666666,
              "#ed7953"
             ],
             [
              0.7777777777777778,
              "#fb9f3a"
             ],
             [
              0.8888888888888888,
              "#fdca26"
             ],
             [
              1,
              "#f0f921"
             ]
            ],
            "type": "contour"
           }
          ],
          "contourcarpet": [
           {
            "colorbar": {
             "outlinewidth": 0,
             "ticks": ""
            },
            "type": "contourcarpet"
           }
          ],
          "heatmap": [
           {
            "colorbar": {
             "outlinewidth": 0,
             "ticks": ""
            },
            "colorscale": [
             [
              0,
              "#0d0887"
             ],
             [
              0.1111111111111111,
              "#46039f"
             ],
             [
              0.2222222222222222,
              "#7201a8"
             ],
             [
              0.3333333333333333,
              "#9c179e"
             ],
             [
              0.4444444444444444,
              "#bd3786"
             ],
             [
              0.5555555555555556,
              "#d8576b"
             ],
             [
              0.6666666666666666,
              "#ed7953"
             ],
             [
              0.7777777777777778,
              "#fb9f3a"
             ],
             [
              0.8888888888888888,
              "#fdca26"
             ],
             [
              1,
              "#f0f921"
             ]
            ],
            "type": "heatmap"
           }
          ],
          "heatmapgl": [
           {
            "colorbar": {
             "outlinewidth": 0,
             "ticks": ""
            },
            "colorscale": [
             [
              0,
              "#0d0887"
             ],
             [
              0.1111111111111111,
              "#46039f"
             ],
             [
              0.2222222222222222,
              "#7201a8"
             ],
             [
              0.3333333333333333,
              "#9c179e"
             ],
             [
              0.4444444444444444,
              "#bd3786"
             ],
             [
              0.5555555555555556,
              "#d8576b"
             ],
             [
              0.6666666666666666,
              "#ed7953"
             ],
             [
              0.7777777777777778,
              "#fb9f3a"
             ],
             [
              0.8888888888888888,
              "#fdca26"
             ],
             [
              1,
              "#f0f921"
             ]
            ],
            "type": "heatmapgl"
           }
          ],
          "histogram": [
           {
            "marker": {
             "pattern": {
              "fillmode": "overlay",
              "size": 10,
              "solidity": 0.2
             }
            },
            "type": "histogram"
           }
          ],
          "histogram2d": [
           {
            "colorbar": {
             "outlinewidth": 0,
             "ticks": ""
            },
            "colorscale": [
             [
              0,
              "#0d0887"
             ],
             [
              0.1111111111111111,
              "#46039f"
             ],
             [
              0.2222222222222222,
              "#7201a8"
             ],
             [
              0.3333333333333333,
              "#9c179e"
             ],
             [
              0.4444444444444444,
              "#bd3786"
             ],
             [
              0.5555555555555556,
              "#d8576b"
             ],
             [
              0.6666666666666666,
              "#ed7953"
             ],
             [
              0.7777777777777778,
              "#fb9f3a"
             ],
             [
              0.8888888888888888,
              "#fdca26"
             ],
             [
              1,
              "#f0f921"
             ]
            ],
            "type": "histogram2d"
           }
          ],
          "histogram2dcontour": [
           {
            "colorbar": {
             "outlinewidth": 0,
             "ticks": ""
            },
            "colorscale": [
             [
              0,
              "#0d0887"
             ],
             [
              0.1111111111111111,
              "#46039f"
             ],
             [
              0.2222222222222222,
              "#7201a8"
             ],
             [
              0.3333333333333333,
              "#9c179e"
             ],
             [
              0.4444444444444444,
              "#bd3786"
             ],
             [
              0.5555555555555556,
              "#d8576b"
             ],
             [
              0.6666666666666666,
              "#ed7953"
             ],
             [
              0.7777777777777778,
              "#fb9f3a"
             ],
             [
              0.8888888888888888,
              "#fdca26"
             ],
             [
              1,
              "#f0f921"
             ]
            ],
            "type": "histogram2dcontour"
           }
          ],
          "mesh3d": [
           {
            "colorbar": {
             "outlinewidth": 0,
             "ticks": ""
            },
            "type": "mesh3d"
           }
          ],
          "parcoords": [
           {
            "line": {
             "colorbar": {
              "outlinewidth": 0,
              "ticks": ""
             }
            },
            "type": "parcoords"
           }
          ],
          "pie": [
           {
            "automargin": true,
            "type": "pie"
           }
          ],
          "scatter": [
           {
            "marker": {
             "colorbar": {
              "outlinewidth": 0,
              "ticks": ""
             }
            },
            "type": "scatter"
           }
          ],
          "scatter3d": [
           {
            "line": {
             "colorbar": {
              "outlinewidth": 0,
              "ticks": ""
             }
            },
            "marker": {
             "colorbar": {
              "outlinewidth": 0,
              "ticks": ""
             }
            },
            "type": "scatter3d"
           }
          ],
          "scattercarpet": [
           {
            "marker": {
             "colorbar": {
              "outlinewidth": 0,
              "ticks": ""
             }
            },
            "type": "scattercarpet"
           }
          ],
          "scattergeo": [
           {
            "marker": {
             "colorbar": {
              "outlinewidth": 0,
              "ticks": ""
             }
            },
            "type": "scattergeo"
           }
          ],
          "scattergl": [
           {
            "marker": {
             "colorbar": {
              "outlinewidth": 0,
              "ticks": ""
             }
            },
            "type": "scattergl"
           }
          ],
          "scattermapbox": [
           {
            "marker": {
             "colorbar": {
              "outlinewidth": 0,
              "ticks": ""
             }
            },
            "type": "scattermapbox"
           }
          ],
          "scatterpolar": [
           {
            "marker": {
             "colorbar": {
              "outlinewidth": 0,
              "ticks": ""
             }
            },
            "type": "scatterpolar"
           }
          ],
          "scatterpolargl": [
           {
            "marker": {
             "colorbar": {
              "outlinewidth": 0,
              "ticks": ""
             }
            },
            "type": "scatterpolargl"
           }
          ],
          "scatterternary": [
           {
            "marker": {
             "colorbar": {
              "outlinewidth": 0,
              "ticks": ""
             }
            },
            "type": "scatterternary"
           }
          ],
          "surface": [
           {
            "colorbar": {
             "outlinewidth": 0,
             "ticks": ""
            },
            "colorscale": [
             [
              0,
              "#0d0887"
             ],
             [
              0.1111111111111111,
              "#46039f"
             ],
             [
              0.2222222222222222,
              "#7201a8"
             ],
             [
              0.3333333333333333,
              "#9c179e"
             ],
             [
              0.4444444444444444,
              "#bd3786"
             ],
             [
              0.5555555555555556,
              "#d8576b"
             ],
             [
              0.6666666666666666,
              "#ed7953"
             ],
             [
              0.7777777777777778,
              "#fb9f3a"
             ],
             [
              0.8888888888888888,
              "#fdca26"
             ],
             [
              1,
              "#f0f921"
             ]
            ],
            "type": "surface"
           }
          ],
          "table": [
           {
            "cells": {
             "fill": {
              "color": "#EBF0F8"
             },
             "line": {
              "color": "white"
             }
            },
            "header": {
             "fill": {
              "color": "#C8D4E3"
             },
             "line": {
              "color": "white"
             }
            },
            "type": "table"
           }
          ]
         },
         "layout": {
          "annotationdefaults": {
           "arrowcolor": "#2a3f5f",
           "arrowhead": 0,
           "arrowwidth": 1
          },
          "autotypenumbers": "strict",
          "coloraxis": {
           "colorbar": {
            "outlinewidth": 0,
            "ticks": ""
           }
          },
          "colorscale": {
           "diverging": [
            [
             0,
             "#8e0152"
            ],
            [
             0.1,
             "#c51b7d"
            ],
            [
             0.2,
             "#de77ae"
            ],
            [
             0.3,
             "#f1b6da"
            ],
            [
             0.4,
             "#fde0ef"
            ],
            [
             0.5,
             "#f7f7f7"
            ],
            [
             0.6,
             "#e6f5d0"
            ],
            [
             0.7,
             "#b8e186"
            ],
            [
             0.8,
             "#7fbc41"
            ],
            [
             0.9,
             "#4d9221"
            ],
            [
             1,
             "#276419"
            ]
           ],
           "sequential": [
            [
             0,
             "#0d0887"
            ],
            [
             0.1111111111111111,
             "#46039f"
            ],
            [
             0.2222222222222222,
             "#7201a8"
            ],
            [
             0.3333333333333333,
             "#9c179e"
            ],
            [
             0.4444444444444444,
             "#bd3786"
            ],
            [
             0.5555555555555556,
             "#d8576b"
            ],
            [
             0.6666666666666666,
             "#ed7953"
            ],
            [
             0.7777777777777778,
             "#fb9f3a"
            ],
            [
             0.8888888888888888,
             "#fdca26"
            ],
            [
             1,
             "#f0f921"
            ]
           ],
           "sequentialminus": [
            [
             0,
             "#0d0887"
            ],
            [
             0.1111111111111111,
             "#46039f"
            ],
            [
             0.2222222222222222,
             "#7201a8"
            ],
            [
             0.3333333333333333,
             "#9c179e"
            ],
            [
             0.4444444444444444,
             "#bd3786"
            ],
            [
             0.5555555555555556,
             "#d8576b"
            ],
            [
             0.6666666666666666,
             "#ed7953"
            ],
            [
             0.7777777777777778,
             "#fb9f3a"
            ],
            [
             0.8888888888888888,
             "#fdca26"
            ],
            [
             1,
             "#f0f921"
            ]
           ]
          },
          "colorway": [
           "#636efa",
           "#EF553B",
           "#00cc96",
           "#ab63fa",
           "#FFA15A",
           "#19d3f3",
           "#FF6692",
           "#B6E880",
           "#FF97FF",
           "#FECB52"
          ],
          "font": {
           "color": "#2a3f5f"
          },
          "geo": {
           "bgcolor": "white",
           "lakecolor": "white",
           "landcolor": "#E5ECF6",
           "showlakes": true,
           "showland": true,
           "subunitcolor": "white"
          },
          "hoverlabel": {
           "align": "left"
          },
          "hovermode": "closest",
          "mapbox": {
           "style": "light"
          },
          "paper_bgcolor": "white",
          "plot_bgcolor": "#E5ECF6",
          "polar": {
           "angularaxis": {
            "gridcolor": "white",
            "linecolor": "white",
            "ticks": ""
           },
           "bgcolor": "#E5ECF6",
           "radialaxis": {
            "gridcolor": "white",
            "linecolor": "white",
            "ticks": ""
           }
          },
          "scene": {
           "xaxis": {
            "backgroundcolor": "#E5ECF6",
            "gridcolor": "white",
            "gridwidth": 2,
            "linecolor": "white",
            "showbackground": true,
            "ticks": "",
            "zerolinecolor": "white"
           },
           "yaxis": {
            "backgroundcolor": "#E5ECF6",
            "gridcolor": "white",
            "gridwidth": 2,
            "linecolor": "white",
            "showbackground": true,
            "ticks": "",
            "zerolinecolor": "white"
           },
           "zaxis": {
            "backgroundcolor": "#E5ECF6",
            "gridcolor": "white",
            "gridwidth": 2,
            "linecolor": "white",
            "showbackground": true,
            "ticks": "",
            "zerolinecolor": "white"
           }
          },
          "shapedefaults": {
           "line": {
            "color": "#2a3f5f"
           }
          },
          "ternary": {
           "aaxis": {
            "gridcolor": "white",
            "linecolor": "white",
            "ticks": ""
           },
           "baxis": {
            "gridcolor": "white",
            "linecolor": "white",
            "ticks": ""
           },
           "bgcolor": "#E5ECF6",
           "caxis": {
            "gridcolor": "white",
            "linecolor": "white",
            "ticks": ""
           }
          },
          "title": {
           "x": 0.05
          },
          "xaxis": {
           "automargin": true,
           "gridcolor": "white",
           "linecolor": "white",
           "ticks": "",
           "title": {
            "standoff": 15
           },
           "zerolinecolor": "white",
           "zerolinewidth": 2
          },
          "yaxis": {
           "automargin": true,
           "gridcolor": "white",
           "linecolor": "white",
           "ticks": "",
           "title": {
            "standoff": 15
           },
           "zerolinecolor": "white",
           "zerolinewidth": 2
          }
         }
        },
        "title": {
         "font": {
          "color": "#4D5663"
         }
        },
        "xaxis": {
         "gridcolor": "#E1E5ED",
         "showgrid": true,
         "tickfont": {
          "color": "#4D5663"
         },
         "title": {
          "font": {
           "color": "#4D5663"
          },
          "text": ""
         },
         "zerolinecolor": "#E1E5ED"
        },
        "yaxis": {
         "gridcolor": "#E1E5ED",
         "showgrid": true,
         "tickfont": {
          "color": "#4D5663"
         },
         "title": {
          "font": {
           "color": "#4D5663"
          },
          "text": ""
         },
         "zerolinecolor": "#E1E5ED"
        }
       }
      },
      "text/html": [
       "<div>                            <div id=\"5fe1c388-1881-4df0-be3e-d3e58bbe61d0\" class=\"plotly-graph-div\" style=\"height:525px; width:100%;\"></div>            <script type=\"text/javascript\">                require([\"plotly\"], function(Plotly) {                    window.PLOTLYENV=window.PLOTLYENV || {};\n",
       "                    window.PLOTLYENV.BASE_URL='https://plot.ly';                                    if (document.getElementById(\"5fe1c388-1881-4df0-be3e-d3e58bbe61d0\")) {                    Plotly.newPlot(                        \"5fe1c388-1881-4df0-be3e-d3e58bbe61d0\",                        [{\"marker\":{\"color\":\"rgba(255, 153, 51, 0.6)\",\"line\":{\"color\":\"rgba(255, 153, 51, 1.0)\",\"width\":1}},\"name\":\"Values\",\"orientation\":\"v\",\"text\":\"\",\"type\":\"bar\",\"x\":[\"A\",\"B\",\"C\"],\"y\":[32,43,50]}],                        {\"legend\":{\"bgcolor\":\"#F5F6F9\",\"font\":{\"color\":\"#4D5663\"}},\"paper_bgcolor\":\"#F5F6F9\",\"plot_bgcolor\":\"#F5F6F9\",\"template\":{\"data\":{\"bar\":[{\"error_x\":{\"color\":\"#2a3f5f\"},\"error_y\":{\"color\":\"#2a3f5f\"},\"marker\":{\"line\":{\"color\":\"#E5ECF6\",\"width\":0.5},\"pattern\":{\"fillmode\":\"overlay\",\"size\":10,\"solidity\":0.2}},\"type\":\"bar\"}],\"barpolar\":[{\"marker\":{\"line\":{\"color\":\"#E5ECF6\",\"width\":0.5},\"pattern\":{\"fillmode\":\"overlay\",\"size\":10,\"solidity\":0.2}},\"type\":\"barpolar\"}],\"carpet\":[{\"aaxis\":{\"endlinecolor\":\"#2a3f5f\",\"gridcolor\":\"white\",\"linecolor\":\"white\",\"minorgridcolor\":\"white\",\"startlinecolor\":\"#2a3f5f\"},\"baxis\":{\"endlinecolor\":\"#2a3f5f\",\"gridcolor\":\"white\",\"linecolor\":\"white\",\"minorgridcolor\":\"white\",\"startlinecolor\":\"#2a3f5f\"},\"type\":\"carpet\"}],\"choropleth\":[{\"colorbar\":{\"outlinewidth\":0,\"ticks\":\"\"},\"type\":\"choropleth\"}],\"contour\":[{\"colorbar\":{\"outlinewidth\":0,\"ticks\":\"\"},\"colorscale\":[[0.0,\"#0d0887\"],[0.1111111111111111,\"#46039f\"],[0.2222222222222222,\"#7201a8\"],[0.3333333333333333,\"#9c179e\"],[0.4444444444444444,\"#bd3786\"],[0.5555555555555556,\"#d8576b\"],[0.6666666666666666,\"#ed7953\"],[0.7777777777777778,\"#fb9f3a\"],[0.8888888888888888,\"#fdca26\"],[1.0,\"#f0f921\"]],\"type\":\"contour\"}],\"contourcarpet\":[{\"colorbar\":{\"outlinewidth\":0,\"ticks\":\"\"},\"type\":\"contourcarpet\"}],\"heatmap\":[{\"colorbar\":{\"outlinewidth\":0,\"ticks\":\"\"},\"colorscale\":[[0.0,\"#0d0887\"],[0.1111111111111111,\"#46039f\"],[0.2222222222222222,\"#7201a8\"],[0.3333333333333333,\"#9c179e\"],[0.4444444444444444,\"#bd3786\"],[0.5555555555555556,\"#d8576b\"],[0.6666666666666666,\"#ed7953\"],[0.7777777777777778,\"#fb9f3a\"],[0.8888888888888888,\"#fdca26\"],[1.0,\"#f0f921\"]],\"type\":\"heatmap\"}],\"heatmapgl\":[{\"colorbar\":{\"outlinewidth\":0,\"ticks\":\"\"},\"colorscale\":[[0.0,\"#0d0887\"],[0.1111111111111111,\"#46039f\"],[0.2222222222222222,\"#7201a8\"],[0.3333333333333333,\"#9c179e\"],[0.4444444444444444,\"#bd3786\"],[0.5555555555555556,\"#d8576b\"],[0.6666666666666666,\"#ed7953\"],[0.7777777777777778,\"#fb9f3a\"],[0.8888888888888888,\"#fdca26\"],[1.0,\"#f0f921\"]],\"type\":\"heatmapgl\"}],\"histogram\":[{\"marker\":{\"pattern\":{\"fillmode\":\"overlay\",\"size\":10,\"solidity\":0.2}},\"type\":\"histogram\"}],\"histogram2d\":[{\"colorbar\":{\"outlinewidth\":0,\"ticks\":\"\"},\"colorscale\":[[0.0,\"#0d0887\"],[0.1111111111111111,\"#46039f\"],[0.2222222222222222,\"#7201a8\"],[0.3333333333333333,\"#9c179e\"],[0.4444444444444444,\"#bd3786\"],[0.5555555555555556,\"#d8576b\"],[0.6666666666666666,\"#ed7953\"],[0.7777777777777778,\"#fb9f3a\"],[0.8888888888888888,\"#fdca26\"],[1.0,\"#f0f921\"]],\"type\":\"histogram2d\"}],\"histogram2dcontour\":[{\"colorbar\":{\"outlinewidth\":0,\"ticks\":\"\"},\"colorscale\":[[0.0,\"#0d0887\"],[0.1111111111111111,\"#46039f\"],[0.2222222222222222,\"#7201a8\"],[0.3333333333333333,\"#9c179e\"],[0.4444444444444444,\"#bd3786\"],[0.5555555555555556,\"#d8576b\"],[0.6666666666666666,\"#ed7953\"],[0.7777777777777778,\"#fb9f3a\"],[0.8888888888888888,\"#fdca26\"],[1.0,\"#f0f921\"]],\"type\":\"histogram2dcontour\"}],\"mesh3d\":[{\"colorbar\":{\"outlinewidth\":0,\"ticks\":\"\"},\"type\":\"mesh3d\"}],\"parcoords\":[{\"line\":{\"colorbar\":{\"outlinewidth\":0,\"ticks\":\"\"}},\"type\":\"parcoords\"}],\"pie\":[{\"automargin\":true,\"type\":\"pie\"}],\"scatter\":[{\"marker\":{\"colorbar\":{\"outlinewidth\":0,\"ticks\":\"\"}},\"type\":\"scatter\"}],\"scatter3d\":[{\"line\":{\"colorbar\":{\"outlinewidth\":0,\"ticks\":\"\"}},\"marker\":{\"colorbar\":{\"outlinewidth\":0,\"ticks\":\"\"}},\"type\":\"scatter3d\"}],\"scattercarpet\":[{\"marker\":{\"colorbar\":{\"outlinewidth\":0,\"ticks\":\"\"}},\"type\":\"scattercarpet\"}],\"scattergeo\":[{\"marker\":{\"colorbar\":{\"outlinewidth\":0,\"ticks\":\"\"}},\"type\":\"scattergeo\"}],\"scattergl\":[{\"marker\":{\"colorbar\":{\"outlinewidth\":0,\"ticks\":\"\"}},\"type\":\"scattergl\"}],\"scattermapbox\":[{\"marker\":{\"colorbar\":{\"outlinewidth\":0,\"ticks\":\"\"}},\"type\":\"scattermapbox\"}],\"scatterpolar\":[{\"marker\":{\"colorbar\":{\"outlinewidth\":0,\"ticks\":\"\"}},\"type\":\"scatterpolar\"}],\"scatterpolargl\":[{\"marker\":{\"colorbar\":{\"outlinewidth\":0,\"ticks\":\"\"}},\"type\":\"scatterpolargl\"}],\"scatterternary\":[{\"marker\":{\"colorbar\":{\"outlinewidth\":0,\"ticks\":\"\"}},\"type\":\"scatterternary\"}],\"surface\":[{\"colorbar\":{\"outlinewidth\":0,\"ticks\":\"\"},\"colorscale\":[[0.0,\"#0d0887\"],[0.1111111111111111,\"#46039f\"],[0.2222222222222222,\"#7201a8\"],[0.3333333333333333,\"#9c179e\"],[0.4444444444444444,\"#bd3786\"],[0.5555555555555556,\"#d8576b\"],[0.6666666666666666,\"#ed7953\"],[0.7777777777777778,\"#fb9f3a\"],[0.8888888888888888,\"#fdca26\"],[1.0,\"#f0f921\"]],\"type\":\"surface\"}],\"table\":[{\"cells\":{\"fill\":{\"color\":\"#EBF0F8\"},\"line\":{\"color\":\"white\"}},\"header\":{\"fill\":{\"color\":\"#C8D4E3\"},\"line\":{\"color\":\"white\"}},\"type\":\"table\"}]},\"layout\":{\"annotationdefaults\":{\"arrowcolor\":\"#2a3f5f\",\"arrowhead\":0,\"arrowwidth\":1},\"autotypenumbers\":\"strict\",\"coloraxis\":{\"colorbar\":{\"outlinewidth\":0,\"ticks\":\"\"}},\"colorscale\":{\"diverging\":[[0,\"#8e0152\"],[0.1,\"#c51b7d\"],[0.2,\"#de77ae\"],[0.3,\"#f1b6da\"],[0.4,\"#fde0ef\"],[0.5,\"#f7f7f7\"],[0.6,\"#e6f5d0\"],[0.7,\"#b8e186\"],[0.8,\"#7fbc41\"],[0.9,\"#4d9221\"],[1,\"#276419\"]],\"sequential\":[[0.0,\"#0d0887\"],[0.1111111111111111,\"#46039f\"],[0.2222222222222222,\"#7201a8\"],[0.3333333333333333,\"#9c179e\"],[0.4444444444444444,\"#bd3786\"],[0.5555555555555556,\"#d8576b\"],[0.6666666666666666,\"#ed7953\"],[0.7777777777777778,\"#fb9f3a\"],[0.8888888888888888,\"#fdca26\"],[1.0,\"#f0f921\"]],\"sequentialminus\":[[0.0,\"#0d0887\"],[0.1111111111111111,\"#46039f\"],[0.2222222222222222,\"#7201a8\"],[0.3333333333333333,\"#9c179e\"],[0.4444444444444444,\"#bd3786\"],[0.5555555555555556,\"#d8576b\"],[0.6666666666666666,\"#ed7953\"],[0.7777777777777778,\"#fb9f3a\"],[0.8888888888888888,\"#fdca26\"],[1.0,\"#f0f921\"]]},\"colorway\":[\"#636efa\",\"#EF553B\",\"#00cc96\",\"#ab63fa\",\"#FFA15A\",\"#19d3f3\",\"#FF6692\",\"#B6E880\",\"#FF97FF\",\"#FECB52\"],\"font\":{\"color\":\"#2a3f5f\"},\"geo\":{\"bgcolor\":\"white\",\"lakecolor\":\"white\",\"landcolor\":\"#E5ECF6\",\"showlakes\":true,\"showland\":true,\"subunitcolor\":\"white\"},\"hoverlabel\":{\"align\":\"left\"},\"hovermode\":\"closest\",\"mapbox\":{\"style\":\"light\"},\"paper_bgcolor\":\"white\",\"plot_bgcolor\":\"#E5ECF6\",\"polar\":{\"angularaxis\":{\"gridcolor\":\"white\",\"linecolor\":\"white\",\"ticks\":\"\"},\"bgcolor\":\"#E5ECF6\",\"radialaxis\":{\"gridcolor\":\"white\",\"linecolor\":\"white\",\"ticks\":\"\"}},\"scene\":{\"xaxis\":{\"backgroundcolor\":\"#E5ECF6\",\"gridcolor\":\"white\",\"gridwidth\":2,\"linecolor\":\"white\",\"showbackground\":true,\"ticks\":\"\",\"zerolinecolor\":\"white\"},\"yaxis\":{\"backgroundcolor\":\"#E5ECF6\",\"gridcolor\":\"white\",\"gridwidth\":2,\"linecolor\":\"white\",\"showbackground\":true,\"ticks\":\"\",\"zerolinecolor\":\"white\"},\"zaxis\":{\"backgroundcolor\":\"#E5ECF6\",\"gridcolor\":\"white\",\"gridwidth\":2,\"linecolor\":\"white\",\"showbackground\":true,\"ticks\":\"\",\"zerolinecolor\":\"white\"}},\"shapedefaults\":{\"line\":{\"color\":\"#2a3f5f\"}},\"ternary\":{\"aaxis\":{\"gridcolor\":\"white\",\"linecolor\":\"white\",\"ticks\":\"\"},\"baxis\":{\"gridcolor\":\"white\",\"linecolor\":\"white\",\"ticks\":\"\"},\"bgcolor\":\"#E5ECF6\",\"caxis\":{\"gridcolor\":\"white\",\"linecolor\":\"white\",\"ticks\":\"\"}},\"title\":{\"x\":0.05},\"xaxis\":{\"automargin\":true,\"gridcolor\":\"white\",\"linecolor\":\"white\",\"ticks\":\"\",\"title\":{\"standoff\":15},\"zerolinecolor\":\"white\",\"zerolinewidth\":2},\"yaxis\":{\"automargin\":true,\"gridcolor\":\"white\",\"linecolor\":\"white\",\"ticks\":\"\",\"title\":{\"standoff\":15},\"zerolinecolor\":\"white\",\"zerolinewidth\":2}}},\"title\":{\"font\":{\"color\":\"#4D5663\"}},\"xaxis\":{\"gridcolor\":\"#E1E5ED\",\"showgrid\":true,\"tickfont\":{\"color\":\"#4D5663\"},\"title\":{\"font\":{\"color\":\"#4D5663\"},\"text\":\"\"},\"zerolinecolor\":\"#E1E5ED\"},\"yaxis\":{\"gridcolor\":\"#E1E5ED\",\"showgrid\":true,\"tickfont\":{\"color\":\"#4D5663\"},\"title\":{\"font\":{\"color\":\"#4D5663\"},\"text\":\"\"},\"zerolinecolor\":\"#E1E5ED\"}},                        {\"showLink\": true, \"linkText\": \"Export to plot.ly\", \"plotlyServerURL\": \"https://plot.ly\", \"responsive\": true}                    ).then(function(){\n",
       "                            \n",
       "var gd = document.getElementById('5fe1c388-1881-4df0-be3e-d3e58bbe61d0');\n",
       "var x = new MutationObserver(function (mutations, observer) {{\n",
       "        var display = window.getComputedStyle(gd).display;\n",
       "        if (!display || display === 'none') {{\n",
       "            console.log([gd, 'removed!']);\n",
       "            Plotly.purge(gd);\n",
       "            observer.disconnect();\n",
       "        }}\n",
       "}});\n",
       "\n",
       "// Listen for the removal of the full notebook cells\n",
       "var notebookContainer = gd.closest('#notebook-container');\n",
       "if (notebookContainer) {{\n",
       "    x.observe(notebookContainer, {childList: true});\n",
       "}}\n",
       "\n",
       "// Listen for the clearing of the current output cell\n",
       "var outputEl = gd.closest('.output');\n",
       "if (outputEl) {{\n",
       "    x.observe(outputEl, {childList: true});\n",
       "}}\n",
       "\n",
       "                        })                };                });            </script>        </div>"
      ]
     },
     "metadata": {},
     "output_type": "display_data"
    }
   ],
   "source": [
    "df2.iplot(kind='bar',x='Category',y='Values')"
   ]
  },
  {
   "cell_type": "code",
   "execution_count": 13,
   "metadata": {},
   "outputs": [
    {
     "data": {
      "application/vnd.plotly.v1+json": {
       "config": {
        "linkText": "Export to plot.ly",
        "plotlyServerURL": "https://plot.ly",
        "showLink": true
       },
       "data": [
        {
         "marker": {
          "color": "rgba(255, 153, 51, 0.6)",
          "line": {
           "color": "rgba(255, 153, 51, 1.0)",
           "width": 1
          }
         },
         "name": "None",
         "orientation": "v",
         "text": "",
         "type": "bar",
         "x": [
          "A",
          "B",
          "C",
          "D"
         ],
         "y": [
          100,
          100,
          100,
          100
         ]
        }
       ],
       "layout": {
        "legend": {
         "bgcolor": "#F5F6F9",
         "font": {
          "color": "#4D5663"
         }
        },
        "paper_bgcolor": "#F5F6F9",
        "plot_bgcolor": "#F5F6F9",
        "template": {
         "data": {
          "bar": [
           {
            "error_x": {
             "color": "#2a3f5f"
            },
            "error_y": {
             "color": "#2a3f5f"
            },
            "marker": {
             "line": {
              "color": "#E5ECF6",
              "width": 0.5
             },
             "pattern": {
              "fillmode": "overlay",
              "size": 10,
              "solidity": 0.2
             }
            },
            "type": "bar"
           }
          ],
          "barpolar": [
           {
            "marker": {
             "line": {
              "color": "#E5ECF6",
              "width": 0.5
             },
             "pattern": {
              "fillmode": "overlay",
              "size": 10,
              "solidity": 0.2
             }
            },
            "type": "barpolar"
           }
          ],
          "carpet": [
           {
            "aaxis": {
             "endlinecolor": "#2a3f5f",
             "gridcolor": "white",
             "linecolor": "white",
             "minorgridcolor": "white",
             "startlinecolor": "#2a3f5f"
            },
            "baxis": {
             "endlinecolor": "#2a3f5f",
             "gridcolor": "white",
             "linecolor": "white",
             "minorgridcolor": "white",
             "startlinecolor": "#2a3f5f"
            },
            "type": "carpet"
           }
          ],
          "choropleth": [
           {
            "colorbar": {
             "outlinewidth": 0,
             "ticks": ""
            },
            "type": "choropleth"
           }
          ],
          "contour": [
           {
            "colorbar": {
             "outlinewidth": 0,
             "ticks": ""
            },
            "colorscale": [
             [
              0,
              "#0d0887"
             ],
             [
              0.1111111111111111,
              "#46039f"
             ],
             [
              0.2222222222222222,
              "#7201a8"
             ],
             [
              0.3333333333333333,
              "#9c179e"
             ],
             [
              0.4444444444444444,
              "#bd3786"
             ],
             [
              0.5555555555555556,
              "#d8576b"
             ],
             [
              0.6666666666666666,
              "#ed7953"
             ],
             [
              0.7777777777777778,
              "#fb9f3a"
             ],
             [
              0.8888888888888888,
              "#fdca26"
             ],
             [
              1,
              "#f0f921"
             ]
            ],
            "type": "contour"
           }
          ],
          "contourcarpet": [
           {
            "colorbar": {
             "outlinewidth": 0,
             "ticks": ""
            },
            "type": "contourcarpet"
           }
          ],
          "heatmap": [
           {
            "colorbar": {
             "outlinewidth": 0,
             "ticks": ""
            },
            "colorscale": [
             [
              0,
              "#0d0887"
             ],
             [
              0.1111111111111111,
              "#46039f"
             ],
             [
              0.2222222222222222,
              "#7201a8"
             ],
             [
              0.3333333333333333,
              "#9c179e"
             ],
             [
              0.4444444444444444,
              "#bd3786"
             ],
             [
              0.5555555555555556,
              "#d8576b"
             ],
             [
              0.6666666666666666,
              "#ed7953"
             ],
             [
              0.7777777777777778,
              "#fb9f3a"
             ],
             [
              0.8888888888888888,
              "#fdca26"
             ],
             [
              1,
              "#f0f921"
             ]
            ],
            "type": "heatmap"
           }
          ],
          "heatmapgl": [
           {
            "colorbar": {
             "outlinewidth": 0,
             "ticks": ""
            },
            "colorscale": [
             [
              0,
              "#0d0887"
             ],
             [
              0.1111111111111111,
              "#46039f"
             ],
             [
              0.2222222222222222,
              "#7201a8"
             ],
             [
              0.3333333333333333,
              "#9c179e"
             ],
             [
              0.4444444444444444,
              "#bd3786"
             ],
             [
              0.5555555555555556,
              "#d8576b"
             ],
             [
              0.6666666666666666,
              "#ed7953"
             ],
             [
              0.7777777777777778,
              "#fb9f3a"
             ],
             [
              0.8888888888888888,
              "#fdca26"
             ],
             [
              1,
              "#f0f921"
             ]
            ],
            "type": "heatmapgl"
           }
          ],
          "histogram": [
           {
            "marker": {
             "pattern": {
              "fillmode": "overlay",
              "size": 10,
              "solidity": 0.2
             }
            },
            "type": "histogram"
           }
          ],
          "histogram2d": [
           {
            "colorbar": {
             "outlinewidth": 0,
             "ticks": ""
            },
            "colorscale": [
             [
              0,
              "#0d0887"
             ],
             [
              0.1111111111111111,
              "#46039f"
             ],
             [
              0.2222222222222222,
              "#7201a8"
             ],
             [
              0.3333333333333333,
              "#9c179e"
             ],
             [
              0.4444444444444444,
              "#bd3786"
             ],
             [
              0.5555555555555556,
              "#d8576b"
             ],
             [
              0.6666666666666666,
              "#ed7953"
             ],
             [
              0.7777777777777778,
              "#fb9f3a"
             ],
             [
              0.8888888888888888,
              "#fdca26"
             ],
             [
              1,
              "#f0f921"
             ]
            ],
            "type": "histogram2d"
           }
          ],
          "histogram2dcontour": [
           {
            "colorbar": {
             "outlinewidth": 0,
             "ticks": ""
            },
            "colorscale": [
             [
              0,
              "#0d0887"
             ],
             [
              0.1111111111111111,
              "#46039f"
             ],
             [
              0.2222222222222222,
              "#7201a8"
             ],
             [
              0.3333333333333333,
              "#9c179e"
             ],
             [
              0.4444444444444444,
              "#bd3786"
             ],
             [
              0.5555555555555556,
              "#d8576b"
             ],
             [
              0.6666666666666666,
              "#ed7953"
             ],
             [
              0.7777777777777778,
              "#fb9f3a"
             ],
             [
              0.8888888888888888,
              "#fdca26"
             ],
             [
              1,
              "#f0f921"
             ]
            ],
            "type": "histogram2dcontour"
           }
          ],
          "mesh3d": [
           {
            "colorbar": {
             "outlinewidth": 0,
             "ticks": ""
            },
            "type": "mesh3d"
           }
          ],
          "parcoords": [
           {
            "line": {
             "colorbar": {
              "outlinewidth": 0,
              "ticks": ""
             }
            },
            "type": "parcoords"
           }
          ],
          "pie": [
           {
            "automargin": true,
            "type": "pie"
           }
          ],
          "scatter": [
           {
            "marker": {
             "colorbar": {
              "outlinewidth": 0,
              "ticks": ""
             }
            },
            "type": "scatter"
           }
          ],
          "scatter3d": [
           {
            "line": {
             "colorbar": {
              "outlinewidth": 0,
              "ticks": ""
             }
            },
            "marker": {
             "colorbar": {
              "outlinewidth": 0,
              "ticks": ""
             }
            },
            "type": "scatter3d"
           }
          ],
          "scattercarpet": [
           {
            "marker": {
             "colorbar": {
              "outlinewidth": 0,
              "ticks": ""
             }
            },
            "type": "scattercarpet"
           }
          ],
          "scattergeo": [
           {
            "marker": {
             "colorbar": {
              "outlinewidth": 0,
              "ticks": ""
             }
            },
            "type": "scattergeo"
           }
          ],
          "scattergl": [
           {
            "marker": {
             "colorbar": {
              "outlinewidth": 0,
              "ticks": ""
             }
            },
            "type": "scattergl"
           }
          ],
          "scattermapbox": [
           {
            "marker": {
             "colorbar": {
              "outlinewidth": 0,
              "ticks": ""
             }
            },
            "type": "scattermapbox"
           }
          ],
          "scatterpolar": [
           {
            "marker": {
             "colorbar": {
              "outlinewidth": 0,
              "ticks": ""
             }
            },
            "type": "scatterpolar"
           }
          ],
          "scatterpolargl": [
           {
            "marker": {
             "colorbar": {
              "outlinewidth": 0,
              "ticks": ""
             }
            },
            "type": "scatterpolargl"
           }
          ],
          "scatterternary": [
           {
            "marker": {
             "colorbar": {
              "outlinewidth": 0,
              "ticks": ""
             }
            },
            "type": "scatterternary"
           }
          ],
          "surface": [
           {
            "colorbar": {
             "outlinewidth": 0,
             "ticks": ""
            },
            "colorscale": [
             [
              0,
              "#0d0887"
             ],
             [
              0.1111111111111111,
              "#46039f"
             ],
             [
              0.2222222222222222,
              "#7201a8"
             ],
             [
              0.3333333333333333,
              "#9c179e"
             ],
             [
              0.4444444444444444,
              "#bd3786"
             ],
             [
              0.5555555555555556,
              "#d8576b"
             ],
             [
              0.6666666666666666,
              "#ed7953"
             ],
             [
              0.7777777777777778,
              "#fb9f3a"
             ],
             [
              0.8888888888888888,
              "#fdca26"
             ],
             [
              1,
              "#f0f921"
             ]
            ],
            "type": "surface"
           }
          ],
          "table": [
           {
            "cells": {
             "fill": {
              "color": "#EBF0F8"
             },
             "line": {
              "color": "white"
             }
            },
            "header": {
             "fill": {
              "color": "#C8D4E3"
             },
             "line": {
              "color": "white"
             }
            },
            "type": "table"
           }
          ]
         },
         "layout": {
          "annotationdefaults": {
           "arrowcolor": "#2a3f5f",
           "arrowhead": 0,
           "arrowwidth": 1
          },
          "autotypenumbers": "strict",
          "coloraxis": {
           "colorbar": {
            "outlinewidth": 0,
            "ticks": ""
           }
          },
          "colorscale": {
           "diverging": [
            [
             0,
             "#8e0152"
            ],
            [
             0.1,
             "#c51b7d"
            ],
            [
             0.2,
             "#de77ae"
            ],
            [
             0.3,
             "#f1b6da"
            ],
            [
             0.4,
             "#fde0ef"
            ],
            [
             0.5,
             "#f7f7f7"
            ],
            [
             0.6,
             "#e6f5d0"
            ],
            [
             0.7,
             "#b8e186"
            ],
            [
             0.8,
             "#7fbc41"
            ],
            [
             0.9,
             "#4d9221"
            ],
            [
             1,
             "#276419"
            ]
           ],
           "sequential": [
            [
             0,
             "#0d0887"
            ],
            [
             0.1111111111111111,
             "#46039f"
            ],
            [
             0.2222222222222222,
             "#7201a8"
            ],
            [
             0.3333333333333333,
             "#9c179e"
            ],
            [
             0.4444444444444444,
             "#bd3786"
            ],
            [
             0.5555555555555556,
             "#d8576b"
            ],
            [
             0.6666666666666666,
             "#ed7953"
            ],
            [
             0.7777777777777778,
             "#fb9f3a"
            ],
            [
             0.8888888888888888,
             "#fdca26"
            ],
            [
             1,
             "#f0f921"
            ]
           ],
           "sequentialminus": [
            [
             0,
             "#0d0887"
            ],
            [
             0.1111111111111111,
             "#46039f"
            ],
            [
             0.2222222222222222,
             "#7201a8"
            ],
            [
             0.3333333333333333,
             "#9c179e"
            ],
            [
             0.4444444444444444,
             "#bd3786"
            ],
            [
             0.5555555555555556,
             "#d8576b"
            ],
            [
             0.6666666666666666,
             "#ed7953"
            ],
            [
             0.7777777777777778,
             "#fb9f3a"
            ],
            [
             0.8888888888888888,
             "#fdca26"
            ],
            [
             1,
             "#f0f921"
            ]
           ]
          },
          "colorway": [
           "#636efa",
           "#EF553B",
           "#00cc96",
           "#ab63fa",
           "#FFA15A",
           "#19d3f3",
           "#FF6692",
           "#B6E880",
           "#FF97FF",
           "#FECB52"
          ],
          "font": {
           "color": "#2a3f5f"
          },
          "geo": {
           "bgcolor": "white",
           "lakecolor": "white",
           "landcolor": "#E5ECF6",
           "showlakes": true,
           "showland": true,
           "subunitcolor": "white"
          },
          "hoverlabel": {
           "align": "left"
          },
          "hovermode": "closest",
          "mapbox": {
           "style": "light"
          },
          "paper_bgcolor": "white",
          "plot_bgcolor": "#E5ECF6",
          "polar": {
           "angularaxis": {
            "gridcolor": "white",
            "linecolor": "white",
            "ticks": ""
           },
           "bgcolor": "#E5ECF6",
           "radialaxis": {
            "gridcolor": "white",
            "linecolor": "white",
            "ticks": ""
           }
          },
          "scene": {
           "xaxis": {
            "backgroundcolor": "#E5ECF6",
            "gridcolor": "white",
            "gridwidth": 2,
            "linecolor": "white",
            "showbackground": true,
            "ticks": "",
            "zerolinecolor": "white"
           },
           "yaxis": {
            "backgroundcolor": "#E5ECF6",
            "gridcolor": "white",
            "gridwidth": 2,
            "linecolor": "white",
            "showbackground": true,
            "ticks": "",
            "zerolinecolor": "white"
           },
           "zaxis": {
            "backgroundcolor": "#E5ECF6",
            "gridcolor": "white",
            "gridwidth": 2,
            "linecolor": "white",
            "showbackground": true,
            "ticks": "",
            "zerolinecolor": "white"
           }
          },
          "shapedefaults": {
           "line": {
            "color": "#2a3f5f"
           }
          },
          "ternary": {
           "aaxis": {
            "gridcolor": "white",
            "linecolor": "white",
            "ticks": ""
           },
           "baxis": {
            "gridcolor": "white",
            "linecolor": "white",
            "ticks": ""
           },
           "bgcolor": "#E5ECF6",
           "caxis": {
            "gridcolor": "white",
            "linecolor": "white",
            "ticks": ""
           }
          },
          "title": {
           "x": 0.05
          },
          "xaxis": {
           "automargin": true,
           "gridcolor": "white",
           "linecolor": "white",
           "ticks": "",
           "title": {
            "standoff": 15
           },
           "zerolinecolor": "white",
           "zerolinewidth": 2
          },
          "yaxis": {
           "automargin": true,
           "gridcolor": "white",
           "linecolor": "white",
           "ticks": "",
           "title": {
            "standoff": 15
           },
           "zerolinecolor": "white",
           "zerolinewidth": 2
          }
         }
        },
        "title": {
         "font": {
          "color": "#4D5663"
         }
        },
        "xaxis": {
         "gridcolor": "#E1E5ED",
         "showgrid": true,
         "tickfont": {
          "color": "#4D5663"
         },
         "title": {
          "font": {
           "color": "#4D5663"
          },
          "text": ""
         },
         "zerolinecolor": "#E1E5ED"
        },
        "yaxis": {
         "gridcolor": "#E1E5ED",
         "showgrid": true,
         "tickfont": {
          "color": "#4D5663"
         },
         "title": {
          "font": {
           "color": "#4D5663"
          },
          "text": ""
         },
         "zerolinecolor": "#E1E5ED"
        }
       }
      },
      "text/html": [
       "<div>                            <div id=\"c975c2df-9acc-4691-b00f-29fe3220f3d1\" class=\"plotly-graph-div\" style=\"height:525px; width:100%;\"></div>            <script type=\"text/javascript\">                require([\"plotly\"], function(Plotly) {                    window.PLOTLYENV=window.PLOTLYENV || {};\n",
       "                    window.PLOTLYENV.BASE_URL='https://plot.ly';                                    if (document.getElementById(\"c975c2df-9acc-4691-b00f-29fe3220f3d1\")) {                    Plotly.newPlot(                        \"c975c2df-9acc-4691-b00f-29fe3220f3d1\",                        [{\"marker\":{\"color\":\"rgba(255, 153, 51, 0.6)\",\"line\":{\"color\":\"rgba(255, 153, 51, 1.0)\",\"width\":1}},\"name\":\"None\",\"orientation\":\"v\",\"text\":\"\",\"type\":\"bar\",\"x\":[\"A\",\"B\",\"C\",\"D\"],\"y\":[100,100,100,100]}],                        {\"legend\":{\"bgcolor\":\"#F5F6F9\",\"font\":{\"color\":\"#4D5663\"}},\"paper_bgcolor\":\"#F5F6F9\",\"plot_bgcolor\":\"#F5F6F9\",\"template\":{\"data\":{\"bar\":[{\"error_x\":{\"color\":\"#2a3f5f\"},\"error_y\":{\"color\":\"#2a3f5f\"},\"marker\":{\"line\":{\"color\":\"#E5ECF6\",\"width\":0.5},\"pattern\":{\"fillmode\":\"overlay\",\"size\":10,\"solidity\":0.2}},\"type\":\"bar\"}],\"barpolar\":[{\"marker\":{\"line\":{\"color\":\"#E5ECF6\",\"width\":0.5},\"pattern\":{\"fillmode\":\"overlay\",\"size\":10,\"solidity\":0.2}},\"type\":\"barpolar\"}],\"carpet\":[{\"aaxis\":{\"endlinecolor\":\"#2a3f5f\",\"gridcolor\":\"white\",\"linecolor\":\"white\",\"minorgridcolor\":\"white\",\"startlinecolor\":\"#2a3f5f\"},\"baxis\":{\"endlinecolor\":\"#2a3f5f\",\"gridcolor\":\"white\",\"linecolor\":\"white\",\"minorgridcolor\":\"white\",\"startlinecolor\":\"#2a3f5f\"},\"type\":\"carpet\"}],\"choropleth\":[{\"colorbar\":{\"outlinewidth\":0,\"ticks\":\"\"},\"type\":\"choropleth\"}],\"contour\":[{\"colorbar\":{\"outlinewidth\":0,\"ticks\":\"\"},\"colorscale\":[[0.0,\"#0d0887\"],[0.1111111111111111,\"#46039f\"],[0.2222222222222222,\"#7201a8\"],[0.3333333333333333,\"#9c179e\"],[0.4444444444444444,\"#bd3786\"],[0.5555555555555556,\"#d8576b\"],[0.6666666666666666,\"#ed7953\"],[0.7777777777777778,\"#fb9f3a\"],[0.8888888888888888,\"#fdca26\"],[1.0,\"#f0f921\"]],\"type\":\"contour\"}],\"contourcarpet\":[{\"colorbar\":{\"outlinewidth\":0,\"ticks\":\"\"},\"type\":\"contourcarpet\"}],\"heatmap\":[{\"colorbar\":{\"outlinewidth\":0,\"ticks\":\"\"},\"colorscale\":[[0.0,\"#0d0887\"],[0.1111111111111111,\"#46039f\"],[0.2222222222222222,\"#7201a8\"],[0.3333333333333333,\"#9c179e\"],[0.4444444444444444,\"#bd3786\"],[0.5555555555555556,\"#d8576b\"],[0.6666666666666666,\"#ed7953\"],[0.7777777777777778,\"#fb9f3a\"],[0.8888888888888888,\"#fdca26\"],[1.0,\"#f0f921\"]],\"type\":\"heatmap\"}],\"heatmapgl\":[{\"colorbar\":{\"outlinewidth\":0,\"ticks\":\"\"},\"colorscale\":[[0.0,\"#0d0887\"],[0.1111111111111111,\"#46039f\"],[0.2222222222222222,\"#7201a8\"],[0.3333333333333333,\"#9c179e\"],[0.4444444444444444,\"#bd3786\"],[0.5555555555555556,\"#d8576b\"],[0.6666666666666666,\"#ed7953\"],[0.7777777777777778,\"#fb9f3a\"],[0.8888888888888888,\"#fdca26\"],[1.0,\"#f0f921\"]],\"type\":\"heatmapgl\"}],\"histogram\":[{\"marker\":{\"pattern\":{\"fillmode\":\"overlay\",\"size\":10,\"solidity\":0.2}},\"type\":\"histogram\"}],\"histogram2d\":[{\"colorbar\":{\"outlinewidth\":0,\"ticks\":\"\"},\"colorscale\":[[0.0,\"#0d0887\"],[0.1111111111111111,\"#46039f\"],[0.2222222222222222,\"#7201a8\"],[0.3333333333333333,\"#9c179e\"],[0.4444444444444444,\"#bd3786\"],[0.5555555555555556,\"#d8576b\"],[0.6666666666666666,\"#ed7953\"],[0.7777777777777778,\"#fb9f3a\"],[0.8888888888888888,\"#fdca26\"],[1.0,\"#f0f921\"]],\"type\":\"histogram2d\"}],\"histogram2dcontour\":[{\"colorbar\":{\"outlinewidth\":0,\"ticks\":\"\"},\"colorscale\":[[0.0,\"#0d0887\"],[0.1111111111111111,\"#46039f\"],[0.2222222222222222,\"#7201a8\"],[0.3333333333333333,\"#9c179e\"],[0.4444444444444444,\"#bd3786\"],[0.5555555555555556,\"#d8576b\"],[0.6666666666666666,\"#ed7953\"],[0.7777777777777778,\"#fb9f3a\"],[0.8888888888888888,\"#fdca26\"],[1.0,\"#f0f921\"]],\"type\":\"histogram2dcontour\"}],\"mesh3d\":[{\"colorbar\":{\"outlinewidth\":0,\"ticks\":\"\"},\"type\":\"mesh3d\"}],\"parcoords\":[{\"line\":{\"colorbar\":{\"outlinewidth\":0,\"ticks\":\"\"}},\"type\":\"parcoords\"}],\"pie\":[{\"automargin\":true,\"type\":\"pie\"}],\"scatter\":[{\"marker\":{\"colorbar\":{\"outlinewidth\":0,\"ticks\":\"\"}},\"type\":\"scatter\"}],\"scatter3d\":[{\"line\":{\"colorbar\":{\"outlinewidth\":0,\"ticks\":\"\"}},\"marker\":{\"colorbar\":{\"outlinewidth\":0,\"ticks\":\"\"}},\"type\":\"scatter3d\"}],\"scattercarpet\":[{\"marker\":{\"colorbar\":{\"outlinewidth\":0,\"ticks\":\"\"}},\"type\":\"scattercarpet\"}],\"scattergeo\":[{\"marker\":{\"colorbar\":{\"outlinewidth\":0,\"ticks\":\"\"}},\"type\":\"scattergeo\"}],\"scattergl\":[{\"marker\":{\"colorbar\":{\"outlinewidth\":0,\"ticks\":\"\"}},\"type\":\"scattergl\"}],\"scattermapbox\":[{\"marker\":{\"colorbar\":{\"outlinewidth\":0,\"ticks\":\"\"}},\"type\":\"scattermapbox\"}],\"scatterpolar\":[{\"marker\":{\"colorbar\":{\"outlinewidth\":0,\"ticks\":\"\"}},\"type\":\"scatterpolar\"}],\"scatterpolargl\":[{\"marker\":{\"colorbar\":{\"outlinewidth\":0,\"ticks\":\"\"}},\"type\":\"scatterpolargl\"}],\"scatterternary\":[{\"marker\":{\"colorbar\":{\"outlinewidth\":0,\"ticks\":\"\"}},\"type\":\"scatterternary\"}],\"surface\":[{\"colorbar\":{\"outlinewidth\":0,\"ticks\":\"\"},\"colorscale\":[[0.0,\"#0d0887\"],[0.1111111111111111,\"#46039f\"],[0.2222222222222222,\"#7201a8\"],[0.3333333333333333,\"#9c179e\"],[0.4444444444444444,\"#bd3786\"],[0.5555555555555556,\"#d8576b\"],[0.6666666666666666,\"#ed7953\"],[0.7777777777777778,\"#fb9f3a\"],[0.8888888888888888,\"#fdca26\"],[1.0,\"#f0f921\"]],\"type\":\"surface\"}],\"table\":[{\"cells\":{\"fill\":{\"color\":\"#EBF0F8\"},\"line\":{\"color\":\"white\"}},\"header\":{\"fill\":{\"color\":\"#C8D4E3\"},\"line\":{\"color\":\"white\"}},\"type\":\"table\"}]},\"layout\":{\"annotationdefaults\":{\"arrowcolor\":\"#2a3f5f\",\"arrowhead\":0,\"arrowwidth\":1},\"autotypenumbers\":\"strict\",\"coloraxis\":{\"colorbar\":{\"outlinewidth\":0,\"ticks\":\"\"}},\"colorscale\":{\"diverging\":[[0,\"#8e0152\"],[0.1,\"#c51b7d\"],[0.2,\"#de77ae\"],[0.3,\"#f1b6da\"],[0.4,\"#fde0ef\"],[0.5,\"#f7f7f7\"],[0.6,\"#e6f5d0\"],[0.7,\"#b8e186\"],[0.8,\"#7fbc41\"],[0.9,\"#4d9221\"],[1,\"#276419\"]],\"sequential\":[[0.0,\"#0d0887\"],[0.1111111111111111,\"#46039f\"],[0.2222222222222222,\"#7201a8\"],[0.3333333333333333,\"#9c179e\"],[0.4444444444444444,\"#bd3786\"],[0.5555555555555556,\"#d8576b\"],[0.6666666666666666,\"#ed7953\"],[0.7777777777777778,\"#fb9f3a\"],[0.8888888888888888,\"#fdca26\"],[1.0,\"#f0f921\"]],\"sequentialminus\":[[0.0,\"#0d0887\"],[0.1111111111111111,\"#46039f\"],[0.2222222222222222,\"#7201a8\"],[0.3333333333333333,\"#9c179e\"],[0.4444444444444444,\"#bd3786\"],[0.5555555555555556,\"#d8576b\"],[0.6666666666666666,\"#ed7953\"],[0.7777777777777778,\"#fb9f3a\"],[0.8888888888888888,\"#fdca26\"],[1.0,\"#f0f921\"]]},\"colorway\":[\"#636efa\",\"#EF553B\",\"#00cc96\",\"#ab63fa\",\"#FFA15A\",\"#19d3f3\",\"#FF6692\",\"#B6E880\",\"#FF97FF\",\"#FECB52\"],\"font\":{\"color\":\"#2a3f5f\"},\"geo\":{\"bgcolor\":\"white\",\"lakecolor\":\"white\",\"landcolor\":\"#E5ECF6\",\"showlakes\":true,\"showland\":true,\"subunitcolor\":\"white\"},\"hoverlabel\":{\"align\":\"left\"},\"hovermode\":\"closest\",\"mapbox\":{\"style\":\"light\"},\"paper_bgcolor\":\"white\",\"plot_bgcolor\":\"#E5ECF6\",\"polar\":{\"angularaxis\":{\"gridcolor\":\"white\",\"linecolor\":\"white\",\"ticks\":\"\"},\"bgcolor\":\"#E5ECF6\",\"radialaxis\":{\"gridcolor\":\"white\",\"linecolor\":\"white\",\"ticks\":\"\"}},\"scene\":{\"xaxis\":{\"backgroundcolor\":\"#E5ECF6\",\"gridcolor\":\"white\",\"gridwidth\":2,\"linecolor\":\"white\",\"showbackground\":true,\"ticks\":\"\",\"zerolinecolor\":\"white\"},\"yaxis\":{\"backgroundcolor\":\"#E5ECF6\",\"gridcolor\":\"white\",\"gridwidth\":2,\"linecolor\":\"white\",\"showbackground\":true,\"ticks\":\"\",\"zerolinecolor\":\"white\"},\"zaxis\":{\"backgroundcolor\":\"#E5ECF6\",\"gridcolor\":\"white\",\"gridwidth\":2,\"linecolor\":\"white\",\"showbackground\":true,\"ticks\":\"\",\"zerolinecolor\":\"white\"}},\"shapedefaults\":{\"line\":{\"color\":\"#2a3f5f\"}},\"ternary\":{\"aaxis\":{\"gridcolor\":\"white\",\"linecolor\":\"white\",\"ticks\":\"\"},\"baxis\":{\"gridcolor\":\"white\",\"linecolor\":\"white\",\"ticks\":\"\"},\"bgcolor\":\"#E5ECF6\",\"caxis\":{\"gridcolor\":\"white\",\"linecolor\":\"white\",\"ticks\":\"\"}},\"title\":{\"x\":0.05},\"xaxis\":{\"automargin\":true,\"gridcolor\":\"white\",\"linecolor\":\"white\",\"ticks\":\"\",\"title\":{\"standoff\":15},\"zerolinecolor\":\"white\",\"zerolinewidth\":2},\"yaxis\":{\"automargin\":true,\"gridcolor\":\"white\",\"linecolor\":\"white\",\"ticks\":\"\",\"title\":{\"standoff\":15},\"zerolinecolor\":\"white\",\"zerolinewidth\":2}}},\"title\":{\"font\":{\"color\":\"#4D5663\"}},\"xaxis\":{\"gridcolor\":\"#E1E5ED\",\"showgrid\":true,\"tickfont\":{\"color\":\"#4D5663\"},\"title\":{\"font\":{\"color\":\"#4D5663\"},\"text\":\"\"},\"zerolinecolor\":\"#E1E5ED\"},\"yaxis\":{\"gridcolor\":\"#E1E5ED\",\"showgrid\":true,\"tickfont\":{\"color\":\"#4D5663\"},\"title\":{\"font\":{\"color\":\"#4D5663\"},\"text\":\"\"},\"zerolinecolor\":\"#E1E5ED\"}},                        {\"showLink\": true, \"linkText\": \"Export to plot.ly\", \"plotlyServerURL\": \"https://plot.ly\", \"responsive\": true}                    ).then(function(){\n",
       "                            \n",
       "var gd = document.getElementById('c975c2df-9acc-4691-b00f-29fe3220f3d1');\n",
       "var x = new MutationObserver(function (mutations, observer) {{\n",
       "        var display = window.getComputedStyle(gd).display;\n",
       "        if (!display || display === 'none') {{\n",
       "            console.log([gd, 'removed!']);\n",
       "            Plotly.purge(gd);\n",
       "            observer.disconnect();\n",
       "        }}\n",
       "}});\n",
       "\n",
       "// Listen for the removal of the full notebook cells\n",
       "var notebookContainer = gd.closest('#notebook-container');\n",
       "if (notebookContainer) {{\n",
       "    x.observe(notebookContainer, {childList: true});\n",
       "}}\n",
       "\n",
       "// Listen for the clearing of the current output cell\n",
       "var outputEl = gd.closest('.output');\n",
       "if (outputEl) {{\n",
       "    x.observe(outputEl, {childList: true});\n",
       "}}\n",
       "\n",
       "                        })                };                });            </script>        </div>"
      ]
     },
     "metadata": {},
     "output_type": "display_data"
    }
   ],
   "source": [
    "df.count().iplot(kind='bar')"
   ]
  },
  {
   "cell_type": "markdown",
   "metadata": {},
   "source": [
    "## Boxplots"
   ]
  },
  {
   "cell_type": "code",
   "execution_count": 14,
   "metadata": {},
   "outputs": [
    {
     "data": {
      "application/vnd.plotly.v1+json": {
       "config": {
        "linkText": "Export to plot.ly",
        "plotlyServerURL": "https://plot.ly",
        "showLink": true
       },
       "data": [
        {
         "boxpoints": false,
         "line": {
          "width": 1.3
         },
         "marker": {
          "color": "rgba(255, 153, 51, 1.0)"
         },
         "name": "A",
         "orientation": "v",
         "type": "box",
         "y": [
          -0.00575823250580768,
          0.6357526536260791,
          1.2078823963791712,
          -0.4284366096975284,
          1.014145002542919,
          0.7054570499036387,
          -0.831478411217752,
          0.7728642327825064,
          0.7004697184507643,
          -1.231776416875097,
          -0.41401563481878434,
          1.1322856480346852,
          -0.39318595015558194,
          0.5263569154400487,
          0.3180291798716228,
          -0.22261827109346366,
          -1.6724197269192995,
          1.2783835503365846,
          -0.23993427251882554,
          -1.2484416732220707,
          0.5976488349424885,
          0.385677861181226,
          0.2560357823013782,
          -0.24619265351844694,
          2.2568470203373674,
          -2.15083769218194,
          1.5485306040937072,
          2.208994013492354,
          -1.499416587196466,
          1.1062623038209496,
          2.044744563145898,
          2.248361168621705,
          -0.6932520400964282,
          -0.12777423865974202,
          -1.9106494770833462,
          -1.212102180027225,
          -0.7757931969671343,
          -0.38744488026458784,
          -0.9463586424105409,
          1.6727887899650369,
          0.7217853129625886,
          -0.3313144221162863,
          0.6960026389981161,
          -0.6648173991171903,
          -0.8112860943469768,
          0.18082540347147127,
          1.3919630873733102,
          0.46382781671231865,
          -0.4115516140752952,
          0.9607193536511318,
          0.4855991638247819,
          -0.21715498311319506,
          -0.7347433916366071,
          0.9092951485461442,
          -2.0243405611992284,
          -1.225125636319877,
          -1.203029999997798,
          -0.6922336491755662,
          0.7660882197370672,
          0.11924644243358365,
          -1.088168686653994,
          1.1392452652594254,
          0.8146955230795004,
          -0.42734587533719665,
          1.2324680519582198,
          -1.1320953576596426,
          -0.30882776595725697,
          1.3663297636529603,
          0.37183579662600236,
          -1.1194792770930226,
          1.8284249216869883,
          1.3609247420075428,
          0.07122539323985272,
          -0.14829238264489364,
          -1.668889594574335,
          0.8066878771001542,
          0.7748156562794538,
          0.6497469973121999,
          2.1398027883949355,
          -1.0978266962978387,
          0.2281853014743535,
          -0.14931126628854363,
          1.4221579843061756,
          0.6914847803397621,
          0.1499341952277375,
          1.012089635627416,
          1.0610786107361148,
          0.8914013131752377,
          0.01231561343508519,
          0.26446277258881523,
          1.5752184579993507,
          -0.8798468402860836,
          1.745915075941031,
          2.15336063842221,
          -0.8801911033186313,
          1.1694085578453528,
          0.4981842791617605,
          0.2074732217252558,
          -0.8480967148262764,
          0.23707951484827536
         ]
        },
        {
         "boxpoints": false,
         "line": {
          "width": 1.3
         },
         "marker": {
          "color": "rgba(55, 128, 191, 1.0)"
         },
         "name": "B",
         "orientation": "v",
         "type": "box",
         "y": [
          0.8556222288772496,
          -1.1273622610670195,
          -0.5269197553913275,
          -0.8054128781960725,
          -0.749068993151881,
          -1.3687859711329016,
          -0.5042087221215136,
          -0.10130817826066009,
          -0.19672410054208153,
          -0.6313557524089218,
          -1.4581007687375886,
          -1.6956715563044404,
          -0.6112438274023329,
          -0.5268826820818268,
          0.5051994695613479,
          0.8618708710073752,
          -0.4135652030449454,
          -0.7663539466374012,
          1.50407379417061,
          0.7581608221640876,
          0.627991625692652,
          0.5931741531110601,
          0.09454493355746088,
          -0.8700879836882897,
          1.5117944092355777,
          -0.9630717128935331,
          -1.6411006462755617,
          1.3077103851146104,
          0.8233511952419196,
          -0.5280582049795407,
          0.8130476880764101,
          1.952823474239663,
          -0.4683803044118759,
          -0.5235830298669955,
          -0.6842373146647192,
          1.2599932417420376,
          0.9045451435286472,
          0.8549122829220845,
          -1.2775836958876516,
          0.4333838865818812,
          0.01778947470583882,
          -0.09587610120673787,
          0.38128282520588874,
          2.245220942650822,
          -0.9482111767861034,
          -0.05824052572964152,
          0.5347356830229034,
          -3.2400736597966344,
          -0.45206527994377643,
          0.7486285793305874,
          0.7835336662405054,
          -0.16950682209101647,
          -0.2981146972584054,
          1.0210105761818091,
          0.5308830103579464,
          -0.6372186261129612,
          0.3825112899765546,
          -0.7920259017206817,
          0.9322434623218389,
          1.174222380990123,
          -0.09076164508268218,
          -0.2022479825572514,
          0.7230756394862698,
          0.7442097710794263,
          -2.2075109136116877,
          -0.980508554544525,
          -2.8428325330334707,
          1.8479259257597307,
          1.8510240121847856,
          0.49212184258917113,
          1.0625009684563536,
          0.024116607246121757,
          2.6502942145892296,
          2.637770977442213,
          -0.09862430633368902,
          -1.0035638170949084,
          -0.9339655766328269,
          1.456452510783111,
          1.4216849583929372,
          0.23597280549678476,
          -0.4808159398342157,
          -0.22865142773097336,
          0.36234353424371957,
          0.8729717061340367,
          0.28167948888950806,
          -0.415352323234306,
          -1.8463120604056424,
          0.6308806029970968,
          0.44399560562281554,
          0.14489948233936506,
          0.8482594018266639,
          0.8515618449616275,
          -2.5298432102411237,
          1.5630078810335475,
          0.4019441930096172,
          0.8480716100037919,
          -0.7089320124676023,
          0.3912621113405365,
          2.230966454744648,
          0.8791439133705296
         ]
        },
        {
         "boxpoints": false,
         "line": {
          "width": 1.3
         },
         "marker": {
          "color": "rgba(50, 171, 96, 1.0)"
         },
         "name": "C",
         "orientation": "v",
         "type": "box",
         "y": [
          0.2875230902704165,
          0.7144551764076076,
          -0.26373937309965895,
          0.15453370145811182,
          -2.272460489767835,
          -0.9202091236216271,
          -0.6206782009732357,
          -1.1812667157832835,
          2.7919040278254097,
          0.7310137714432254,
          0.4256853657269252,
          0.05392814708787436,
          -0.0974086583996873,
          0.9408653025587447,
          0.8324660742534052,
          0.8228990445082776,
          -0.3649543187972734,
          0.06829129860687892,
          -0.3523405628702323,
          1.5235670120970195,
          -0.0658489381632977,
          1.8305139148808192,
          -0.07524422160917033,
          1.2310677809670822,
          -0.8962624327502261,
          -1.2107645828239735,
          0.5692048248697585,
          0.037030880907862454,
          -2.5520013599137603,
          1.0127452862706037,
          2.677919935694347,
          -0.191808975491193,
          -0.13949424857943263,
          -0.21168701268500553,
          -0.6718188437190941,
          -0.09649659207560592,
          0.4617663690059929,
          -0.46406168261294384,
          0.5489039510288141,
          -0.6841180843945812,
          0.053878504423162756,
          -1.9838483312730033,
          -0.3597936723613456,
          -0.7106725963646878,
          -1.3258128086026235,
          -2.616942350857831,
          0.8107843697988363,
          0.1854880589464085,
          0.1437574340873547,
          -1.6846226622794245,
          -0.025905535861105645,
          -0.588694190784461,
          0.16130675088873025,
          1.3709630895256617,
          -1.3101517359256105,
          -1.4724328145971546,
          -0.8783671193102046,
          2.500096199936014,
          -0.14113851117071863,
          0.6235004597398874,
          -1.7061505853499135,
          0.14043314241679744,
          0.7730112759549945,
          1.713587891654579,
          -0.20176636230519202,
          0.9352064937523854,
          -0.6029558023561434,
          0.4088772308962657,
          0.385095412850809,
          -0.27307356592312776,
          -0.6231219706414931,
          0.723239802124104,
          -0.16989036545644434,
          1.9887370471006218,
          -0.18846156651695695,
          -1.8067467652782028,
          -1.0148676546193147,
          -0.2663724727484411,
          -0.71051102974763,
          -0.8318146341379324,
          -0.6241221323772533,
          1.3671817390323795,
          1.1235262799562347,
          -1.6668006762079057,
          -0.4790339578295775,
          -0.43259277236664184,
          1.700460465295679,
          -2.0994436476299043,
          -0.3663173172542101,
          0.16524785035489334,
          -0.3923425880295725,
          -0.03391520438375921,
          -0.5565256070872344,
          -0.7500510373676693,
          -0.3697969151967694,
          1.458597845540889,
          0.8292688953720019,
          -0.43315697046388035,
          -1.1894029023161081,
          0.41700444057904584
         ]
        },
        {
         "boxpoints": false,
         "line": {
          "width": 1.3
         },
         "marker": {
          "color": "rgba(128, 0, 128, 1.0)"
         },
         "name": "D",
         "orientation": "v",
         "type": "box",
         "y": [
          0.49831588430906937,
          -0.7235038268767632,
          -0.19908633958507851,
          -0.2754390444806026,
          1.7685927979099847,
          -1.259696371883114,
          0.5563611634463861,
          0.9248211590735165,
          0.4212259555469513,
          0.4846234009416616,
          1.0597921430117188,
          -0.2925003284745853,
          2.303056953728043,
          0.5249191896310468,
          -2.109272310397259,
          -0.7992687250163971,
          -1.0407741637071959,
          0.015596406410107443,
          2.353855274863578,
          1.754396650682535,
          0.7127535111699759,
          -0.07410488789727092,
          0.6760586702090022,
          -1.417933641572086,
          0.7973675213056064,
          0.2443727882911371,
          -0.5804437703391563,
          1.863633767044503,
          0.20297799852874407,
          0.09491158191092101,
          1.129039036267022,
          0.055188386864763926,
          -0.031448036577972543,
          0.9899245497935543,
          -0.8773372622519309,
          0.4102587494933926,
          -1.1579541074048647,
          0.21155812933810664,
          -1.5041523248454534,
          -1.2851898217991646,
          -2.735329818561617,
          -0.5467656108492137,
          -2.013469643569477,
          -0.17341243555935112,
          -0.33030972013752347,
          -1.6770609897240745,
          -0.029631159207978073,
          -0.7064601987786423,
          -1.2656208954837023,
          -0.46961915490041006,
          -0.617099492318239,
          0.06061649110428425,
          -0.7561586377783462,
          2.0628248035466377,
          0.6380114005658614,
          -0.9535431688724288,
          -0.5701526124793378,
          0.32599042957947244,
          0.3646544010905983,
          -0.15354805490208603,
          0.682630870046837,
          0.08650373562728984,
          -0.5992172329859129,
          0.17411704252751653,
          2.046294501275606,
          0.19732575727193682,
          1.1221926518318792,
          -0.09534130522144674,
          -0.6105076916942559,
          2.118660425841574,
          0.13723407475958918,
          -1.62651918139627,
          0.7841085955713709,
          -0.9652201975436723,
          1.4646677595435906,
          -1.7465528798122336,
          -1.318860053271632,
          -1.8160111050623335,
          -0.8646624630037903,
          1.5071076372892311,
          1.242116581214999,
          1.7496499043875162,
          1.2637316877945737,
          0.5849093345996091,
          0.44801670543112526,
          0.9326512384042261,
          0.20172343385404465,
          0.42691411019877096,
          -0.12283203968538749,
          0.03985489094344529,
          0.17734216454604754,
          -1.9432020122343785,
          -1.0058812366034295,
          -1.7146744278597892,
          0.008044755271902978,
          1.4176332510507221,
          -0.23722410139262268,
          0.5765595597331339,
          -0.5295606383341808,
          -1.0671617581387909
         ]
        }
       ],
       "layout": {
        "legend": {
         "bgcolor": "#F5F6F9",
         "font": {
          "color": "#4D5663"
         }
        },
        "paper_bgcolor": "#F5F6F9",
        "plot_bgcolor": "#F5F6F9",
        "template": {
         "data": {
          "bar": [
           {
            "error_x": {
             "color": "#2a3f5f"
            },
            "error_y": {
             "color": "#2a3f5f"
            },
            "marker": {
             "line": {
              "color": "#E5ECF6",
              "width": 0.5
             },
             "pattern": {
              "fillmode": "overlay",
              "size": 10,
              "solidity": 0.2
             }
            },
            "type": "bar"
           }
          ],
          "barpolar": [
           {
            "marker": {
             "line": {
              "color": "#E5ECF6",
              "width": 0.5
             },
             "pattern": {
              "fillmode": "overlay",
              "size": 10,
              "solidity": 0.2
             }
            },
            "type": "barpolar"
           }
          ],
          "carpet": [
           {
            "aaxis": {
             "endlinecolor": "#2a3f5f",
             "gridcolor": "white",
             "linecolor": "white",
             "minorgridcolor": "white",
             "startlinecolor": "#2a3f5f"
            },
            "baxis": {
             "endlinecolor": "#2a3f5f",
             "gridcolor": "white",
             "linecolor": "white",
             "minorgridcolor": "white",
             "startlinecolor": "#2a3f5f"
            },
            "type": "carpet"
           }
          ],
          "choropleth": [
           {
            "colorbar": {
             "outlinewidth": 0,
             "ticks": ""
            },
            "type": "choropleth"
           }
          ],
          "contour": [
           {
            "colorbar": {
             "outlinewidth": 0,
             "ticks": ""
            },
            "colorscale": [
             [
              0,
              "#0d0887"
             ],
             [
              0.1111111111111111,
              "#46039f"
             ],
             [
              0.2222222222222222,
              "#7201a8"
             ],
             [
              0.3333333333333333,
              "#9c179e"
             ],
             [
              0.4444444444444444,
              "#bd3786"
             ],
             [
              0.5555555555555556,
              "#d8576b"
             ],
             [
              0.6666666666666666,
              "#ed7953"
             ],
             [
              0.7777777777777778,
              "#fb9f3a"
             ],
             [
              0.8888888888888888,
              "#fdca26"
             ],
             [
              1,
              "#f0f921"
             ]
            ],
            "type": "contour"
           }
          ],
          "contourcarpet": [
           {
            "colorbar": {
             "outlinewidth": 0,
             "ticks": ""
            },
            "type": "contourcarpet"
           }
          ],
          "heatmap": [
           {
            "colorbar": {
             "outlinewidth": 0,
             "ticks": ""
            },
            "colorscale": [
             [
              0,
              "#0d0887"
             ],
             [
              0.1111111111111111,
              "#46039f"
             ],
             [
              0.2222222222222222,
              "#7201a8"
             ],
             [
              0.3333333333333333,
              "#9c179e"
             ],
             [
              0.4444444444444444,
              "#bd3786"
             ],
             [
              0.5555555555555556,
              "#d8576b"
             ],
             [
              0.6666666666666666,
              "#ed7953"
             ],
             [
              0.7777777777777778,
              "#fb9f3a"
             ],
             [
              0.8888888888888888,
              "#fdca26"
             ],
             [
              1,
              "#f0f921"
             ]
            ],
            "type": "heatmap"
           }
          ],
          "heatmapgl": [
           {
            "colorbar": {
             "outlinewidth": 0,
             "ticks": ""
            },
            "colorscale": [
             [
              0,
              "#0d0887"
             ],
             [
              0.1111111111111111,
              "#46039f"
             ],
             [
              0.2222222222222222,
              "#7201a8"
             ],
             [
              0.3333333333333333,
              "#9c179e"
             ],
             [
              0.4444444444444444,
              "#bd3786"
             ],
             [
              0.5555555555555556,
              "#d8576b"
             ],
             [
              0.6666666666666666,
              "#ed7953"
             ],
             [
              0.7777777777777778,
              "#fb9f3a"
             ],
             [
              0.8888888888888888,
              "#fdca26"
             ],
             [
              1,
              "#f0f921"
             ]
            ],
            "type": "heatmapgl"
           }
          ],
          "histogram": [
           {
            "marker": {
             "pattern": {
              "fillmode": "overlay",
              "size": 10,
              "solidity": 0.2
             }
            },
            "type": "histogram"
           }
          ],
          "histogram2d": [
           {
            "colorbar": {
             "outlinewidth": 0,
             "ticks": ""
            },
            "colorscale": [
             [
              0,
              "#0d0887"
             ],
             [
              0.1111111111111111,
              "#46039f"
             ],
             [
              0.2222222222222222,
              "#7201a8"
             ],
             [
              0.3333333333333333,
              "#9c179e"
             ],
             [
              0.4444444444444444,
              "#bd3786"
             ],
             [
              0.5555555555555556,
              "#d8576b"
             ],
             [
              0.6666666666666666,
              "#ed7953"
             ],
             [
              0.7777777777777778,
              "#fb9f3a"
             ],
             [
              0.8888888888888888,
              "#fdca26"
             ],
             [
              1,
              "#f0f921"
             ]
            ],
            "type": "histogram2d"
           }
          ],
          "histogram2dcontour": [
           {
            "colorbar": {
             "outlinewidth": 0,
             "ticks": ""
            },
            "colorscale": [
             [
              0,
              "#0d0887"
             ],
             [
              0.1111111111111111,
              "#46039f"
             ],
             [
              0.2222222222222222,
              "#7201a8"
             ],
             [
              0.3333333333333333,
              "#9c179e"
             ],
             [
              0.4444444444444444,
              "#bd3786"
             ],
             [
              0.5555555555555556,
              "#d8576b"
             ],
             [
              0.6666666666666666,
              "#ed7953"
             ],
             [
              0.7777777777777778,
              "#fb9f3a"
             ],
             [
              0.8888888888888888,
              "#fdca26"
             ],
             [
              1,
              "#f0f921"
             ]
            ],
            "type": "histogram2dcontour"
           }
          ],
          "mesh3d": [
           {
            "colorbar": {
             "outlinewidth": 0,
             "ticks": ""
            },
            "type": "mesh3d"
           }
          ],
          "parcoords": [
           {
            "line": {
             "colorbar": {
              "outlinewidth": 0,
              "ticks": ""
             }
            },
            "type": "parcoords"
           }
          ],
          "pie": [
           {
            "automargin": true,
            "type": "pie"
           }
          ],
          "scatter": [
           {
            "marker": {
             "colorbar": {
              "outlinewidth": 0,
              "ticks": ""
             }
            },
            "type": "scatter"
           }
          ],
          "scatter3d": [
           {
            "line": {
             "colorbar": {
              "outlinewidth": 0,
              "ticks": ""
             }
            },
            "marker": {
             "colorbar": {
              "outlinewidth": 0,
              "ticks": ""
             }
            },
            "type": "scatter3d"
           }
          ],
          "scattercarpet": [
           {
            "marker": {
             "colorbar": {
              "outlinewidth": 0,
              "ticks": ""
             }
            },
            "type": "scattercarpet"
           }
          ],
          "scattergeo": [
           {
            "marker": {
             "colorbar": {
              "outlinewidth": 0,
              "ticks": ""
             }
            },
            "type": "scattergeo"
           }
          ],
          "scattergl": [
           {
            "marker": {
             "colorbar": {
              "outlinewidth": 0,
              "ticks": ""
             }
            },
            "type": "scattergl"
           }
          ],
          "scattermapbox": [
           {
            "marker": {
             "colorbar": {
              "outlinewidth": 0,
              "ticks": ""
             }
            },
            "type": "scattermapbox"
           }
          ],
          "scatterpolar": [
           {
            "marker": {
             "colorbar": {
              "outlinewidth": 0,
              "ticks": ""
             }
            },
            "type": "scatterpolar"
           }
          ],
          "scatterpolargl": [
           {
            "marker": {
             "colorbar": {
              "outlinewidth": 0,
              "ticks": ""
             }
            },
            "type": "scatterpolargl"
           }
          ],
          "scatterternary": [
           {
            "marker": {
             "colorbar": {
              "outlinewidth": 0,
              "ticks": ""
             }
            },
            "type": "scatterternary"
           }
          ],
          "surface": [
           {
            "colorbar": {
             "outlinewidth": 0,
             "ticks": ""
            },
            "colorscale": [
             [
              0,
              "#0d0887"
             ],
             [
              0.1111111111111111,
              "#46039f"
             ],
             [
              0.2222222222222222,
              "#7201a8"
             ],
             [
              0.3333333333333333,
              "#9c179e"
             ],
             [
              0.4444444444444444,
              "#bd3786"
             ],
             [
              0.5555555555555556,
              "#d8576b"
             ],
             [
              0.6666666666666666,
              "#ed7953"
             ],
             [
              0.7777777777777778,
              "#fb9f3a"
             ],
             [
              0.8888888888888888,
              "#fdca26"
             ],
             [
              1,
              "#f0f921"
             ]
            ],
            "type": "surface"
           }
          ],
          "table": [
           {
            "cells": {
             "fill": {
              "color": "#EBF0F8"
             },
             "line": {
              "color": "white"
             }
            },
            "header": {
             "fill": {
              "color": "#C8D4E3"
             },
             "line": {
              "color": "white"
             }
            },
            "type": "table"
           }
          ]
         },
         "layout": {
          "annotationdefaults": {
           "arrowcolor": "#2a3f5f",
           "arrowhead": 0,
           "arrowwidth": 1
          },
          "autotypenumbers": "strict",
          "coloraxis": {
           "colorbar": {
            "outlinewidth": 0,
            "ticks": ""
           }
          },
          "colorscale": {
           "diverging": [
            [
             0,
             "#8e0152"
            ],
            [
             0.1,
             "#c51b7d"
            ],
            [
             0.2,
             "#de77ae"
            ],
            [
             0.3,
             "#f1b6da"
            ],
            [
             0.4,
             "#fde0ef"
            ],
            [
             0.5,
             "#f7f7f7"
            ],
            [
             0.6,
             "#e6f5d0"
            ],
            [
             0.7,
             "#b8e186"
            ],
            [
             0.8,
             "#7fbc41"
            ],
            [
             0.9,
             "#4d9221"
            ],
            [
             1,
             "#276419"
            ]
           ],
           "sequential": [
            [
             0,
             "#0d0887"
            ],
            [
             0.1111111111111111,
             "#46039f"
            ],
            [
             0.2222222222222222,
             "#7201a8"
            ],
            [
             0.3333333333333333,
             "#9c179e"
            ],
            [
             0.4444444444444444,
             "#bd3786"
            ],
            [
             0.5555555555555556,
             "#d8576b"
            ],
            [
             0.6666666666666666,
             "#ed7953"
            ],
            [
             0.7777777777777778,
             "#fb9f3a"
            ],
            [
             0.8888888888888888,
             "#fdca26"
            ],
            [
             1,
             "#f0f921"
            ]
           ],
           "sequentialminus": [
            [
             0,
             "#0d0887"
            ],
            [
             0.1111111111111111,
             "#46039f"
            ],
            [
             0.2222222222222222,
             "#7201a8"
            ],
            [
             0.3333333333333333,
             "#9c179e"
            ],
            [
             0.4444444444444444,
             "#bd3786"
            ],
            [
             0.5555555555555556,
             "#d8576b"
            ],
            [
             0.6666666666666666,
             "#ed7953"
            ],
            [
             0.7777777777777778,
             "#fb9f3a"
            ],
            [
             0.8888888888888888,
             "#fdca26"
            ],
            [
             1,
             "#f0f921"
            ]
           ]
          },
          "colorway": [
           "#636efa",
           "#EF553B",
           "#00cc96",
           "#ab63fa",
           "#FFA15A",
           "#19d3f3",
           "#FF6692",
           "#B6E880",
           "#FF97FF",
           "#FECB52"
          ],
          "font": {
           "color": "#2a3f5f"
          },
          "geo": {
           "bgcolor": "white",
           "lakecolor": "white",
           "landcolor": "#E5ECF6",
           "showlakes": true,
           "showland": true,
           "subunitcolor": "white"
          },
          "hoverlabel": {
           "align": "left"
          },
          "hovermode": "closest",
          "mapbox": {
           "style": "light"
          },
          "paper_bgcolor": "white",
          "plot_bgcolor": "#E5ECF6",
          "polar": {
           "angularaxis": {
            "gridcolor": "white",
            "linecolor": "white",
            "ticks": ""
           },
           "bgcolor": "#E5ECF6",
           "radialaxis": {
            "gridcolor": "white",
            "linecolor": "white",
            "ticks": ""
           }
          },
          "scene": {
           "xaxis": {
            "backgroundcolor": "#E5ECF6",
            "gridcolor": "white",
            "gridwidth": 2,
            "linecolor": "white",
            "showbackground": true,
            "ticks": "",
            "zerolinecolor": "white"
           },
           "yaxis": {
            "backgroundcolor": "#E5ECF6",
            "gridcolor": "white",
            "gridwidth": 2,
            "linecolor": "white",
            "showbackground": true,
            "ticks": "",
            "zerolinecolor": "white"
           },
           "zaxis": {
            "backgroundcolor": "#E5ECF6",
            "gridcolor": "white",
            "gridwidth": 2,
            "linecolor": "white",
            "showbackground": true,
            "ticks": "",
            "zerolinecolor": "white"
           }
          },
          "shapedefaults": {
           "line": {
            "color": "#2a3f5f"
           }
          },
          "ternary": {
           "aaxis": {
            "gridcolor": "white",
            "linecolor": "white",
            "ticks": ""
           },
           "baxis": {
            "gridcolor": "white",
            "linecolor": "white",
            "ticks": ""
           },
           "bgcolor": "#E5ECF6",
           "caxis": {
            "gridcolor": "white",
            "linecolor": "white",
            "ticks": ""
           }
          },
          "title": {
           "x": 0.05
          },
          "xaxis": {
           "automargin": true,
           "gridcolor": "white",
           "linecolor": "white",
           "ticks": "",
           "title": {
            "standoff": 15
           },
           "zerolinecolor": "white",
           "zerolinewidth": 2
          },
          "yaxis": {
           "automargin": true,
           "gridcolor": "white",
           "linecolor": "white",
           "ticks": "",
           "title": {
            "standoff": 15
           },
           "zerolinecolor": "white",
           "zerolinewidth": 2
          }
         }
        },
        "title": {
         "font": {
          "color": "#4D5663"
         }
        },
        "xaxis": {
         "gridcolor": "#E1E5ED",
         "showgrid": true,
         "tickfont": {
          "color": "#4D5663"
         },
         "title": {
          "font": {
           "color": "#4D5663"
          },
          "text": ""
         },
         "zerolinecolor": "#E1E5ED"
        },
        "yaxis": {
         "gridcolor": "#E1E5ED",
         "showgrid": true,
         "tickfont": {
          "color": "#4D5663"
         },
         "title": {
          "font": {
           "color": "#4D5663"
          },
          "text": ""
         },
         "zerolinecolor": "#E1E5ED"
        }
       }
      },
      "text/html": [
       "<div>                            <div id=\"6e51836d-9a3b-4884-b7cc-d4a3246d7400\" class=\"plotly-graph-div\" style=\"height:525px; width:100%;\"></div>            <script type=\"text/javascript\">                require([\"plotly\"], function(Plotly) {                    window.PLOTLYENV=window.PLOTLYENV || {};\n",
       "                    window.PLOTLYENV.BASE_URL='https://plot.ly';                                    if (document.getElementById(\"6e51836d-9a3b-4884-b7cc-d4a3246d7400\")) {                    Plotly.newPlot(                        \"6e51836d-9a3b-4884-b7cc-d4a3246d7400\",                        [{\"boxpoints\":false,\"line\":{\"width\":1.3},\"marker\":{\"color\":\"rgba(255, 153, 51, 1.0)\"},\"name\":\"A\",\"orientation\":\"v\",\"type\":\"box\",\"y\":[-0.00575823250580768,0.6357526536260791,1.2078823963791712,-0.4284366096975284,1.014145002542919,0.7054570499036387,-0.831478411217752,0.7728642327825064,0.7004697184507643,-1.231776416875097,-0.41401563481878434,1.1322856480346852,-0.39318595015558194,0.5263569154400487,0.3180291798716228,-0.22261827109346366,-1.6724197269192995,1.2783835503365846,-0.23993427251882554,-1.2484416732220707,0.5976488349424885,0.385677861181226,0.2560357823013782,-0.24619265351844694,2.2568470203373674,-2.15083769218194,1.5485306040937072,2.208994013492354,-1.499416587196466,1.1062623038209496,2.044744563145898,2.248361168621705,-0.6932520400964282,-0.12777423865974202,-1.9106494770833462,-1.212102180027225,-0.7757931969671343,-0.38744488026458784,-0.9463586424105409,1.6727887899650369,0.7217853129625886,-0.3313144221162863,0.6960026389981161,-0.6648173991171903,-0.8112860943469768,0.18082540347147127,1.3919630873733102,0.46382781671231865,-0.4115516140752952,0.9607193536511318,0.4855991638247819,-0.21715498311319506,-0.7347433916366071,0.9092951485461442,-2.0243405611992284,-1.225125636319877,-1.203029999997798,-0.6922336491755662,0.7660882197370672,0.11924644243358365,-1.088168686653994,1.1392452652594254,0.8146955230795004,-0.42734587533719665,1.2324680519582198,-1.1320953576596426,-0.30882776595725697,1.3663297636529603,0.37183579662600236,-1.1194792770930226,1.8284249216869883,1.3609247420075428,0.07122539323985272,-0.14829238264489364,-1.668889594574335,0.8066878771001542,0.7748156562794538,0.6497469973121999,2.1398027883949355,-1.0978266962978387,0.2281853014743535,-0.14931126628854363,1.4221579843061756,0.6914847803397621,0.1499341952277375,1.012089635627416,1.0610786107361148,0.8914013131752377,0.01231561343508519,0.26446277258881523,1.5752184579993507,-0.8798468402860836,1.745915075941031,2.15336063842221,-0.8801911033186313,1.1694085578453528,0.4981842791617605,0.2074732217252558,-0.8480967148262764,0.23707951484827536]},{\"boxpoints\":false,\"line\":{\"width\":1.3},\"marker\":{\"color\":\"rgba(55, 128, 191, 1.0)\"},\"name\":\"B\",\"orientation\":\"v\",\"type\":\"box\",\"y\":[0.8556222288772496,-1.1273622610670195,-0.5269197553913275,-0.8054128781960725,-0.749068993151881,-1.3687859711329016,-0.5042087221215136,-0.10130817826066009,-0.19672410054208153,-0.6313557524089218,-1.4581007687375886,-1.6956715563044404,-0.6112438274023329,-0.5268826820818268,0.5051994695613479,0.8618708710073752,-0.4135652030449454,-0.7663539466374012,1.50407379417061,0.7581608221640876,0.627991625692652,0.5931741531110601,0.09454493355746088,-0.8700879836882897,1.5117944092355777,-0.9630717128935331,-1.6411006462755617,1.3077103851146104,0.8233511952419196,-0.5280582049795407,0.8130476880764101,1.952823474239663,-0.4683803044118759,-0.5235830298669955,-0.6842373146647192,1.2599932417420376,0.9045451435286472,0.8549122829220845,-1.2775836958876516,0.4333838865818812,0.01778947470583882,-0.09587610120673787,0.38128282520588874,2.245220942650822,-0.9482111767861034,-0.05824052572964152,0.5347356830229034,-3.2400736597966344,-0.45206527994377643,0.7486285793305874,0.7835336662405054,-0.16950682209101647,-0.2981146972584054,1.0210105761818091,0.5308830103579464,-0.6372186261129612,0.3825112899765546,-0.7920259017206817,0.9322434623218389,1.174222380990123,-0.09076164508268218,-0.2022479825572514,0.7230756394862698,0.7442097710794263,-2.2075109136116877,-0.980508554544525,-2.8428325330334707,1.8479259257597307,1.8510240121847856,0.49212184258917113,1.0625009684563536,0.024116607246121757,2.6502942145892296,2.637770977442213,-0.09862430633368902,-1.0035638170949084,-0.9339655766328269,1.456452510783111,1.4216849583929372,0.23597280549678476,-0.4808159398342157,-0.22865142773097336,0.36234353424371957,0.8729717061340367,0.28167948888950806,-0.415352323234306,-1.8463120604056424,0.6308806029970968,0.44399560562281554,0.14489948233936506,0.8482594018266639,0.8515618449616275,-2.5298432102411237,1.5630078810335475,0.4019441930096172,0.8480716100037919,-0.7089320124676023,0.3912621113405365,2.230966454744648,0.8791439133705296]},{\"boxpoints\":false,\"line\":{\"width\":1.3},\"marker\":{\"color\":\"rgba(50, 171, 96, 1.0)\"},\"name\":\"C\",\"orientation\":\"v\",\"type\":\"box\",\"y\":[0.2875230902704165,0.7144551764076076,-0.26373937309965895,0.15453370145811182,-2.272460489767835,-0.9202091236216271,-0.6206782009732357,-1.1812667157832835,2.7919040278254097,0.7310137714432254,0.4256853657269252,0.05392814708787436,-0.0974086583996873,0.9408653025587447,0.8324660742534052,0.8228990445082776,-0.3649543187972734,0.06829129860687892,-0.3523405628702323,1.5235670120970195,-0.0658489381632977,1.8305139148808192,-0.07524422160917033,1.2310677809670822,-0.8962624327502261,-1.2107645828239735,0.5692048248697585,0.037030880907862454,-2.5520013599137603,1.0127452862706037,2.677919935694347,-0.191808975491193,-0.13949424857943263,-0.21168701268500553,-0.6718188437190941,-0.09649659207560592,0.4617663690059929,-0.46406168261294384,0.5489039510288141,-0.6841180843945812,0.053878504423162756,-1.9838483312730033,-0.3597936723613456,-0.7106725963646878,-1.3258128086026235,-2.616942350857831,0.8107843697988363,0.1854880589464085,0.1437574340873547,-1.6846226622794245,-0.025905535861105645,-0.588694190784461,0.16130675088873025,1.3709630895256617,-1.3101517359256105,-1.4724328145971546,-0.8783671193102046,2.500096199936014,-0.14113851117071863,0.6235004597398874,-1.7061505853499135,0.14043314241679744,0.7730112759549945,1.713587891654579,-0.20176636230519202,0.9352064937523854,-0.6029558023561434,0.4088772308962657,0.385095412850809,-0.27307356592312776,-0.6231219706414931,0.723239802124104,-0.16989036545644434,1.9887370471006218,-0.18846156651695695,-1.8067467652782028,-1.0148676546193147,-0.2663724727484411,-0.71051102974763,-0.8318146341379324,-0.6241221323772533,1.3671817390323795,1.1235262799562347,-1.6668006762079057,-0.4790339578295775,-0.43259277236664184,1.700460465295679,-2.0994436476299043,-0.3663173172542101,0.16524785035489334,-0.3923425880295725,-0.03391520438375921,-0.5565256070872344,-0.7500510373676693,-0.3697969151967694,1.458597845540889,0.8292688953720019,-0.43315697046388035,-1.1894029023161081,0.41700444057904584]},{\"boxpoints\":false,\"line\":{\"width\":1.3},\"marker\":{\"color\":\"rgba(128, 0, 128, 1.0)\"},\"name\":\"D\",\"orientation\":\"v\",\"type\":\"box\",\"y\":[0.49831588430906937,-0.7235038268767632,-0.19908633958507851,-0.2754390444806026,1.7685927979099847,-1.259696371883114,0.5563611634463861,0.9248211590735165,0.4212259555469513,0.4846234009416616,1.0597921430117188,-0.2925003284745853,2.303056953728043,0.5249191896310468,-2.109272310397259,-0.7992687250163971,-1.0407741637071959,0.015596406410107443,2.353855274863578,1.754396650682535,0.7127535111699759,-0.07410488789727092,0.6760586702090022,-1.417933641572086,0.7973675213056064,0.2443727882911371,-0.5804437703391563,1.863633767044503,0.20297799852874407,0.09491158191092101,1.129039036267022,0.055188386864763926,-0.031448036577972543,0.9899245497935543,-0.8773372622519309,0.4102587494933926,-1.1579541074048647,0.21155812933810664,-1.5041523248454534,-1.2851898217991646,-2.735329818561617,-0.5467656108492137,-2.013469643569477,-0.17341243555935112,-0.33030972013752347,-1.6770609897240745,-0.029631159207978073,-0.7064601987786423,-1.2656208954837023,-0.46961915490041006,-0.617099492318239,0.06061649110428425,-0.7561586377783462,2.0628248035466377,0.6380114005658614,-0.9535431688724288,-0.5701526124793378,0.32599042957947244,0.3646544010905983,-0.15354805490208603,0.682630870046837,0.08650373562728984,-0.5992172329859129,0.17411704252751653,2.046294501275606,0.19732575727193682,1.1221926518318792,-0.09534130522144674,-0.6105076916942559,2.118660425841574,0.13723407475958918,-1.62651918139627,0.7841085955713709,-0.9652201975436723,1.4646677595435906,-1.7465528798122336,-1.318860053271632,-1.8160111050623335,-0.8646624630037903,1.5071076372892311,1.242116581214999,1.7496499043875162,1.2637316877945737,0.5849093345996091,0.44801670543112526,0.9326512384042261,0.20172343385404465,0.42691411019877096,-0.12283203968538749,0.03985489094344529,0.17734216454604754,-1.9432020122343785,-1.0058812366034295,-1.7146744278597892,0.008044755271902978,1.4176332510507221,-0.23722410139262268,0.5765595597331339,-0.5295606383341808,-1.0671617581387909]}],                        {\"legend\":{\"bgcolor\":\"#F5F6F9\",\"font\":{\"color\":\"#4D5663\"}},\"paper_bgcolor\":\"#F5F6F9\",\"plot_bgcolor\":\"#F5F6F9\",\"template\":{\"data\":{\"bar\":[{\"error_x\":{\"color\":\"#2a3f5f\"},\"error_y\":{\"color\":\"#2a3f5f\"},\"marker\":{\"line\":{\"color\":\"#E5ECF6\",\"width\":0.5},\"pattern\":{\"fillmode\":\"overlay\",\"size\":10,\"solidity\":0.2}},\"type\":\"bar\"}],\"barpolar\":[{\"marker\":{\"line\":{\"color\":\"#E5ECF6\",\"width\":0.5},\"pattern\":{\"fillmode\":\"overlay\",\"size\":10,\"solidity\":0.2}},\"type\":\"barpolar\"}],\"carpet\":[{\"aaxis\":{\"endlinecolor\":\"#2a3f5f\",\"gridcolor\":\"white\",\"linecolor\":\"white\",\"minorgridcolor\":\"white\",\"startlinecolor\":\"#2a3f5f\"},\"baxis\":{\"endlinecolor\":\"#2a3f5f\",\"gridcolor\":\"white\",\"linecolor\":\"white\",\"minorgridcolor\":\"white\",\"startlinecolor\":\"#2a3f5f\"},\"type\":\"carpet\"}],\"choropleth\":[{\"colorbar\":{\"outlinewidth\":0,\"ticks\":\"\"},\"type\":\"choropleth\"}],\"contour\":[{\"colorbar\":{\"outlinewidth\":0,\"ticks\":\"\"},\"colorscale\":[[0.0,\"#0d0887\"],[0.1111111111111111,\"#46039f\"],[0.2222222222222222,\"#7201a8\"],[0.3333333333333333,\"#9c179e\"],[0.4444444444444444,\"#bd3786\"],[0.5555555555555556,\"#d8576b\"],[0.6666666666666666,\"#ed7953\"],[0.7777777777777778,\"#fb9f3a\"],[0.8888888888888888,\"#fdca26\"],[1.0,\"#f0f921\"]],\"type\":\"contour\"}],\"contourcarpet\":[{\"colorbar\":{\"outlinewidth\":0,\"ticks\":\"\"},\"type\":\"contourcarpet\"}],\"heatmap\":[{\"colorbar\":{\"outlinewidth\":0,\"ticks\":\"\"},\"colorscale\":[[0.0,\"#0d0887\"],[0.1111111111111111,\"#46039f\"],[0.2222222222222222,\"#7201a8\"],[0.3333333333333333,\"#9c179e\"],[0.4444444444444444,\"#bd3786\"],[0.5555555555555556,\"#d8576b\"],[0.6666666666666666,\"#ed7953\"],[0.7777777777777778,\"#fb9f3a\"],[0.8888888888888888,\"#fdca26\"],[1.0,\"#f0f921\"]],\"type\":\"heatmap\"}],\"heatmapgl\":[{\"colorbar\":{\"outlinewidth\":0,\"ticks\":\"\"},\"colorscale\":[[0.0,\"#0d0887\"],[0.1111111111111111,\"#46039f\"],[0.2222222222222222,\"#7201a8\"],[0.3333333333333333,\"#9c179e\"],[0.4444444444444444,\"#bd3786\"],[0.5555555555555556,\"#d8576b\"],[0.6666666666666666,\"#ed7953\"],[0.7777777777777778,\"#fb9f3a\"],[0.8888888888888888,\"#fdca26\"],[1.0,\"#f0f921\"]],\"type\":\"heatmapgl\"}],\"histogram\":[{\"marker\":{\"pattern\":{\"fillmode\":\"overlay\",\"size\":10,\"solidity\":0.2}},\"type\":\"histogram\"}],\"histogram2d\":[{\"colorbar\":{\"outlinewidth\":0,\"ticks\":\"\"},\"colorscale\":[[0.0,\"#0d0887\"],[0.1111111111111111,\"#46039f\"],[0.2222222222222222,\"#7201a8\"],[0.3333333333333333,\"#9c179e\"],[0.4444444444444444,\"#bd3786\"],[0.5555555555555556,\"#d8576b\"],[0.6666666666666666,\"#ed7953\"],[0.7777777777777778,\"#fb9f3a\"],[0.8888888888888888,\"#fdca26\"],[1.0,\"#f0f921\"]],\"type\":\"histogram2d\"}],\"histogram2dcontour\":[{\"colorbar\":{\"outlinewidth\":0,\"ticks\":\"\"},\"colorscale\":[[0.0,\"#0d0887\"],[0.1111111111111111,\"#46039f\"],[0.2222222222222222,\"#7201a8\"],[0.3333333333333333,\"#9c179e\"],[0.4444444444444444,\"#bd3786\"],[0.5555555555555556,\"#d8576b\"],[0.6666666666666666,\"#ed7953\"],[0.7777777777777778,\"#fb9f3a\"],[0.8888888888888888,\"#fdca26\"],[1.0,\"#f0f921\"]],\"type\":\"histogram2dcontour\"}],\"mesh3d\":[{\"colorbar\":{\"outlinewidth\":0,\"ticks\":\"\"},\"type\":\"mesh3d\"}],\"parcoords\":[{\"line\":{\"colorbar\":{\"outlinewidth\":0,\"ticks\":\"\"}},\"type\":\"parcoords\"}],\"pie\":[{\"automargin\":true,\"type\":\"pie\"}],\"scatter\":[{\"marker\":{\"colorbar\":{\"outlinewidth\":0,\"ticks\":\"\"}},\"type\":\"scatter\"}],\"scatter3d\":[{\"line\":{\"colorbar\":{\"outlinewidth\":0,\"ticks\":\"\"}},\"marker\":{\"colorbar\":{\"outlinewidth\":0,\"ticks\":\"\"}},\"type\":\"scatter3d\"}],\"scattercarpet\":[{\"marker\":{\"colorbar\":{\"outlinewidth\":0,\"ticks\":\"\"}},\"type\":\"scattercarpet\"}],\"scattergeo\":[{\"marker\":{\"colorbar\":{\"outlinewidth\":0,\"ticks\":\"\"}},\"type\":\"scattergeo\"}],\"scattergl\":[{\"marker\":{\"colorbar\":{\"outlinewidth\":0,\"ticks\":\"\"}},\"type\":\"scattergl\"}],\"scattermapbox\":[{\"marker\":{\"colorbar\":{\"outlinewidth\":0,\"ticks\":\"\"}},\"type\":\"scattermapbox\"}],\"scatterpolar\":[{\"marker\":{\"colorbar\":{\"outlinewidth\":0,\"ticks\":\"\"}},\"type\":\"scatterpolar\"}],\"scatterpolargl\":[{\"marker\":{\"colorbar\":{\"outlinewidth\":0,\"ticks\":\"\"}},\"type\":\"scatterpolargl\"}],\"scatterternary\":[{\"marker\":{\"colorbar\":{\"outlinewidth\":0,\"ticks\":\"\"}},\"type\":\"scatterternary\"}],\"surface\":[{\"colorbar\":{\"outlinewidth\":0,\"ticks\":\"\"},\"colorscale\":[[0.0,\"#0d0887\"],[0.1111111111111111,\"#46039f\"],[0.2222222222222222,\"#7201a8\"],[0.3333333333333333,\"#9c179e\"],[0.4444444444444444,\"#bd3786\"],[0.5555555555555556,\"#d8576b\"],[0.6666666666666666,\"#ed7953\"],[0.7777777777777778,\"#fb9f3a\"],[0.8888888888888888,\"#fdca26\"],[1.0,\"#f0f921\"]],\"type\":\"surface\"}],\"table\":[{\"cells\":{\"fill\":{\"color\":\"#EBF0F8\"},\"line\":{\"color\":\"white\"}},\"header\":{\"fill\":{\"color\":\"#C8D4E3\"},\"line\":{\"color\":\"white\"}},\"type\":\"table\"}]},\"layout\":{\"annotationdefaults\":{\"arrowcolor\":\"#2a3f5f\",\"arrowhead\":0,\"arrowwidth\":1},\"autotypenumbers\":\"strict\",\"coloraxis\":{\"colorbar\":{\"outlinewidth\":0,\"ticks\":\"\"}},\"colorscale\":{\"diverging\":[[0,\"#8e0152\"],[0.1,\"#c51b7d\"],[0.2,\"#de77ae\"],[0.3,\"#f1b6da\"],[0.4,\"#fde0ef\"],[0.5,\"#f7f7f7\"],[0.6,\"#e6f5d0\"],[0.7,\"#b8e186\"],[0.8,\"#7fbc41\"],[0.9,\"#4d9221\"],[1,\"#276419\"]],\"sequential\":[[0.0,\"#0d0887\"],[0.1111111111111111,\"#46039f\"],[0.2222222222222222,\"#7201a8\"],[0.3333333333333333,\"#9c179e\"],[0.4444444444444444,\"#bd3786\"],[0.5555555555555556,\"#d8576b\"],[0.6666666666666666,\"#ed7953\"],[0.7777777777777778,\"#fb9f3a\"],[0.8888888888888888,\"#fdca26\"],[1.0,\"#f0f921\"]],\"sequentialminus\":[[0.0,\"#0d0887\"],[0.1111111111111111,\"#46039f\"],[0.2222222222222222,\"#7201a8\"],[0.3333333333333333,\"#9c179e\"],[0.4444444444444444,\"#bd3786\"],[0.5555555555555556,\"#d8576b\"],[0.6666666666666666,\"#ed7953\"],[0.7777777777777778,\"#fb9f3a\"],[0.8888888888888888,\"#fdca26\"],[1.0,\"#f0f921\"]]},\"colorway\":[\"#636efa\",\"#EF553B\",\"#00cc96\",\"#ab63fa\",\"#FFA15A\",\"#19d3f3\",\"#FF6692\",\"#B6E880\",\"#FF97FF\",\"#FECB52\"],\"font\":{\"color\":\"#2a3f5f\"},\"geo\":{\"bgcolor\":\"white\",\"lakecolor\":\"white\",\"landcolor\":\"#E5ECF6\",\"showlakes\":true,\"showland\":true,\"subunitcolor\":\"white\"},\"hoverlabel\":{\"align\":\"left\"},\"hovermode\":\"closest\",\"mapbox\":{\"style\":\"light\"},\"paper_bgcolor\":\"white\",\"plot_bgcolor\":\"#E5ECF6\",\"polar\":{\"angularaxis\":{\"gridcolor\":\"white\",\"linecolor\":\"white\",\"ticks\":\"\"},\"bgcolor\":\"#E5ECF6\",\"radialaxis\":{\"gridcolor\":\"white\",\"linecolor\":\"white\",\"ticks\":\"\"}},\"scene\":{\"xaxis\":{\"backgroundcolor\":\"#E5ECF6\",\"gridcolor\":\"white\",\"gridwidth\":2,\"linecolor\":\"white\",\"showbackground\":true,\"ticks\":\"\",\"zerolinecolor\":\"white\"},\"yaxis\":{\"backgroundcolor\":\"#E5ECF6\",\"gridcolor\":\"white\",\"gridwidth\":2,\"linecolor\":\"white\",\"showbackground\":true,\"ticks\":\"\",\"zerolinecolor\":\"white\"},\"zaxis\":{\"backgroundcolor\":\"#E5ECF6\",\"gridcolor\":\"white\",\"gridwidth\":2,\"linecolor\":\"white\",\"showbackground\":true,\"ticks\":\"\",\"zerolinecolor\":\"white\"}},\"shapedefaults\":{\"line\":{\"color\":\"#2a3f5f\"}},\"ternary\":{\"aaxis\":{\"gridcolor\":\"white\",\"linecolor\":\"white\",\"ticks\":\"\"},\"baxis\":{\"gridcolor\":\"white\",\"linecolor\":\"white\",\"ticks\":\"\"},\"bgcolor\":\"#E5ECF6\",\"caxis\":{\"gridcolor\":\"white\",\"linecolor\":\"white\",\"ticks\":\"\"}},\"title\":{\"x\":0.05},\"xaxis\":{\"automargin\":true,\"gridcolor\":\"white\",\"linecolor\":\"white\",\"ticks\":\"\",\"title\":{\"standoff\":15},\"zerolinecolor\":\"white\",\"zerolinewidth\":2},\"yaxis\":{\"automargin\":true,\"gridcolor\":\"white\",\"linecolor\":\"white\",\"ticks\":\"\",\"title\":{\"standoff\":15},\"zerolinecolor\":\"white\",\"zerolinewidth\":2}}},\"title\":{\"font\":{\"color\":\"#4D5663\"}},\"xaxis\":{\"gridcolor\":\"#E1E5ED\",\"showgrid\":true,\"tickfont\":{\"color\":\"#4D5663\"},\"title\":{\"font\":{\"color\":\"#4D5663\"},\"text\":\"\"},\"zerolinecolor\":\"#E1E5ED\"},\"yaxis\":{\"gridcolor\":\"#E1E5ED\",\"showgrid\":true,\"tickfont\":{\"color\":\"#4D5663\"},\"title\":{\"font\":{\"color\":\"#4D5663\"},\"text\":\"\"},\"zerolinecolor\":\"#E1E5ED\"}},                        {\"showLink\": true, \"linkText\": \"Export to plot.ly\", \"plotlyServerURL\": \"https://plot.ly\", \"responsive\": true}                    ).then(function(){\n",
       "                            \n",
       "var gd = document.getElementById('6e51836d-9a3b-4884-b7cc-d4a3246d7400');\n",
       "var x = new MutationObserver(function (mutations, observer) {{\n",
       "        var display = window.getComputedStyle(gd).display;\n",
       "        if (!display || display === 'none') {{\n",
       "            console.log([gd, 'removed!']);\n",
       "            Plotly.purge(gd);\n",
       "            observer.disconnect();\n",
       "        }}\n",
       "}});\n",
       "\n",
       "// Listen for the removal of the full notebook cells\n",
       "var notebookContainer = gd.closest('#notebook-container');\n",
       "if (notebookContainer) {{\n",
       "    x.observe(notebookContainer, {childList: true});\n",
       "}}\n",
       "\n",
       "// Listen for the clearing of the current output cell\n",
       "var outputEl = gd.closest('.output');\n",
       "if (outputEl) {{\n",
       "    x.observe(outputEl, {childList: true});\n",
       "}}\n",
       "\n",
       "                        })                };                });            </script>        </div>"
      ]
     },
     "metadata": {},
     "output_type": "display_data"
    }
   ],
   "source": [
    "df.iplot(kind='box')"
   ]
  },
  {
   "cell_type": "markdown",
   "metadata": {},
   "source": [
    "## 3d Surface"
   ]
  },
  {
   "cell_type": "code",
   "execution_count": 15,
   "metadata": {},
   "outputs": [
    {
     "data": {
      "application/vnd.plotly.v1+json": {
       "config": {
        "linkText": "Export to plot.ly",
        "plotlyServerURL": "https://plot.ly",
        "showLink": true
       },
       "data": [
        {
         "colorscale": [
          [
           0,
           "rgb(165,0,38)"
          ],
          [
           0.1,
           "rgb(215,48,39)"
          ],
          [
           0.2,
           "rgb(244,109,67)"
          ],
          [
           0.3,
           "rgb(253,174,97)"
          ],
          [
           0.4,
           "rgb(254,224,144)"
          ],
          [
           0.5,
           "rgb(255,255,191)"
          ],
          [
           0.6,
           "rgb(224,243,248)"
          ],
          [
           0.7,
           "rgb(171,217,233)"
          ],
          [
           0.8,
           "rgb(116,173,209)"
          ],
          [
           0.9,
           "rgb(69,117,180)"
          ],
          [
           1,
           "rgb(49,54,149)"
          ]
         ],
         "type": "surface",
         "x": [
          0,
          1,
          2,
          3,
          4
         ],
         "y": [
          "x",
          "y",
          "z"
         ],
         "z": [
          [
           1,
           2,
           3,
           4,
           5
          ],
          [
           10,
           20,
           30,
           20,
           10
          ],
          [
           5,
           4,
           3,
           2,
           1
          ]
         ]
        }
       ],
       "layout": {
        "legend": {
         "bgcolor": "#F5F6F9",
         "font": {
          "color": "#4D5663"
         }
        },
        "paper_bgcolor": "#F5F6F9",
        "plot_bgcolor": "#F5F6F9",
        "template": {
         "data": {
          "bar": [
           {
            "error_x": {
             "color": "#2a3f5f"
            },
            "error_y": {
             "color": "#2a3f5f"
            },
            "marker": {
             "line": {
              "color": "#E5ECF6",
              "width": 0.5
             },
             "pattern": {
              "fillmode": "overlay",
              "size": 10,
              "solidity": 0.2
             }
            },
            "type": "bar"
           }
          ],
          "barpolar": [
           {
            "marker": {
             "line": {
              "color": "#E5ECF6",
              "width": 0.5
             },
             "pattern": {
              "fillmode": "overlay",
              "size": 10,
              "solidity": 0.2
             }
            },
            "type": "barpolar"
           }
          ],
          "carpet": [
           {
            "aaxis": {
             "endlinecolor": "#2a3f5f",
             "gridcolor": "white",
             "linecolor": "white",
             "minorgridcolor": "white",
             "startlinecolor": "#2a3f5f"
            },
            "baxis": {
             "endlinecolor": "#2a3f5f",
             "gridcolor": "white",
             "linecolor": "white",
             "minorgridcolor": "white",
             "startlinecolor": "#2a3f5f"
            },
            "type": "carpet"
           }
          ],
          "choropleth": [
           {
            "colorbar": {
             "outlinewidth": 0,
             "ticks": ""
            },
            "type": "choropleth"
           }
          ],
          "contour": [
           {
            "colorbar": {
             "outlinewidth": 0,
             "ticks": ""
            },
            "colorscale": [
             [
              0,
              "#0d0887"
             ],
             [
              0.1111111111111111,
              "#46039f"
             ],
             [
              0.2222222222222222,
              "#7201a8"
             ],
             [
              0.3333333333333333,
              "#9c179e"
             ],
             [
              0.4444444444444444,
              "#bd3786"
             ],
             [
              0.5555555555555556,
              "#d8576b"
             ],
             [
              0.6666666666666666,
              "#ed7953"
             ],
             [
              0.7777777777777778,
              "#fb9f3a"
             ],
             [
              0.8888888888888888,
              "#fdca26"
             ],
             [
              1,
              "#f0f921"
             ]
            ],
            "type": "contour"
           }
          ],
          "contourcarpet": [
           {
            "colorbar": {
             "outlinewidth": 0,
             "ticks": ""
            },
            "type": "contourcarpet"
           }
          ],
          "heatmap": [
           {
            "colorbar": {
             "outlinewidth": 0,
             "ticks": ""
            },
            "colorscale": [
             [
              0,
              "#0d0887"
             ],
             [
              0.1111111111111111,
              "#46039f"
             ],
             [
              0.2222222222222222,
              "#7201a8"
             ],
             [
              0.3333333333333333,
              "#9c179e"
             ],
             [
              0.4444444444444444,
              "#bd3786"
             ],
             [
              0.5555555555555556,
              "#d8576b"
             ],
             [
              0.6666666666666666,
              "#ed7953"
             ],
             [
              0.7777777777777778,
              "#fb9f3a"
             ],
             [
              0.8888888888888888,
              "#fdca26"
             ],
             [
              1,
              "#f0f921"
             ]
            ],
            "type": "heatmap"
           }
          ],
          "heatmapgl": [
           {
            "colorbar": {
             "outlinewidth": 0,
             "ticks": ""
            },
            "colorscale": [
             [
              0,
              "#0d0887"
             ],
             [
              0.1111111111111111,
              "#46039f"
             ],
             [
              0.2222222222222222,
              "#7201a8"
             ],
             [
              0.3333333333333333,
              "#9c179e"
             ],
             [
              0.4444444444444444,
              "#bd3786"
             ],
             [
              0.5555555555555556,
              "#d8576b"
             ],
             [
              0.6666666666666666,
              "#ed7953"
             ],
             [
              0.7777777777777778,
              "#fb9f3a"
             ],
             [
              0.8888888888888888,
              "#fdca26"
             ],
             [
              1,
              "#f0f921"
             ]
            ],
            "type": "heatmapgl"
           }
          ],
          "histogram": [
           {
            "marker": {
             "pattern": {
              "fillmode": "overlay",
              "size": 10,
              "solidity": 0.2
             }
            },
            "type": "histogram"
           }
          ],
          "histogram2d": [
           {
            "colorbar": {
             "outlinewidth": 0,
             "ticks": ""
            },
            "colorscale": [
             [
              0,
              "#0d0887"
             ],
             [
              0.1111111111111111,
              "#46039f"
             ],
             [
              0.2222222222222222,
              "#7201a8"
             ],
             [
              0.3333333333333333,
              "#9c179e"
             ],
             [
              0.4444444444444444,
              "#bd3786"
             ],
             [
              0.5555555555555556,
              "#d8576b"
             ],
             [
              0.6666666666666666,
              "#ed7953"
             ],
             [
              0.7777777777777778,
              "#fb9f3a"
             ],
             [
              0.8888888888888888,
              "#fdca26"
             ],
             [
              1,
              "#f0f921"
             ]
            ],
            "type": "histogram2d"
           }
          ],
          "histogram2dcontour": [
           {
            "colorbar": {
             "outlinewidth": 0,
             "ticks": ""
            },
            "colorscale": [
             [
              0,
              "#0d0887"
             ],
             [
              0.1111111111111111,
              "#46039f"
             ],
             [
              0.2222222222222222,
              "#7201a8"
             ],
             [
              0.3333333333333333,
              "#9c179e"
             ],
             [
              0.4444444444444444,
              "#bd3786"
             ],
             [
              0.5555555555555556,
              "#d8576b"
             ],
             [
              0.6666666666666666,
              "#ed7953"
             ],
             [
              0.7777777777777778,
              "#fb9f3a"
             ],
             [
              0.8888888888888888,
              "#fdca26"
             ],
             [
              1,
              "#f0f921"
             ]
            ],
            "type": "histogram2dcontour"
           }
          ],
          "mesh3d": [
           {
            "colorbar": {
             "outlinewidth": 0,
             "ticks": ""
            },
            "type": "mesh3d"
           }
          ],
          "parcoords": [
           {
            "line": {
             "colorbar": {
              "outlinewidth": 0,
              "ticks": ""
             }
            },
            "type": "parcoords"
           }
          ],
          "pie": [
           {
            "automargin": true,
            "type": "pie"
           }
          ],
          "scatter": [
           {
            "marker": {
             "colorbar": {
              "outlinewidth": 0,
              "ticks": ""
             }
            },
            "type": "scatter"
           }
          ],
          "scatter3d": [
           {
            "line": {
             "colorbar": {
              "outlinewidth": 0,
              "ticks": ""
             }
            },
            "marker": {
             "colorbar": {
              "outlinewidth": 0,
              "ticks": ""
             }
            },
            "type": "scatter3d"
           }
          ],
          "scattercarpet": [
           {
            "marker": {
             "colorbar": {
              "outlinewidth": 0,
              "ticks": ""
             }
            },
            "type": "scattercarpet"
           }
          ],
          "scattergeo": [
           {
            "marker": {
             "colorbar": {
              "outlinewidth": 0,
              "ticks": ""
             }
            },
            "type": "scattergeo"
           }
          ],
          "scattergl": [
           {
            "marker": {
             "colorbar": {
              "outlinewidth": 0,
              "ticks": ""
             }
            },
            "type": "scattergl"
           }
          ],
          "scattermapbox": [
           {
            "marker": {
             "colorbar": {
              "outlinewidth": 0,
              "ticks": ""
             }
            },
            "type": "scattermapbox"
           }
          ],
          "scatterpolar": [
           {
            "marker": {
             "colorbar": {
              "outlinewidth": 0,
              "ticks": ""
             }
            },
            "type": "scatterpolar"
           }
          ],
          "scatterpolargl": [
           {
            "marker": {
             "colorbar": {
              "outlinewidth": 0,
              "ticks": ""
             }
            },
            "type": "scatterpolargl"
           }
          ],
          "scatterternary": [
           {
            "marker": {
             "colorbar": {
              "outlinewidth": 0,
              "ticks": ""
             }
            },
            "type": "scatterternary"
           }
          ],
          "surface": [
           {
            "colorbar": {
             "outlinewidth": 0,
             "ticks": ""
            },
            "colorscale": [
             [
              0,
              "#0d0887"
             ],
             [
              0.1111111111111111,
              "#46039f"
             ],
             [
              0.2222222222222222,
              "#7201a8"
             ],
             [
              0.3333333333333333,
              "#9c179e"
             ],
             [
              0.4444444444444444,
              "#bd3786"
             ],
             [
              0.5555555555555556,
              "#d8576b"
             ],
             [
              0.6666666666666666,
              "#ed7953"
             ],
             [
              0.7777777777777778,
              "#fb9f3a"
             ],
             [
              0.8888888888888888,
              "#fdca26"
             ],
             [
              1,
              "#f0f921"
             ]
            ],
            "type": "surface"
           }
          ],
          "table": [
           {
            "cells": {
             "fill": {
              "color": "#EBF0F8"
             },
             "line": {
              "color": "white"
             }
            },
            "header": {
             "fill": {
              "color": "#C8D4E3"
             },
             "line": {
              "color": "white"
             }
            },
            "type": "table"
           }
          ]
         },
         "layout": {
          "annotationdefaults": {
           "arrowcolor": "#2a3f5f",
           "arrowhead": 0,
           "arrowwidth": 1
          },
          "autotypenumbers": "strict",
          "coloraxis": {
           "colorbar": {
            "outlinewidth": 0,
            "ticks": ""
           }
          },
          "colorscale": {
           "diverging": [
            [
             0,
             "#8e0152"
            ],
            [
             0.1,
             "#c51b7d"
            ],
            [
             0.2,
             "#de77ae"
            ],
            [
             0.3,
             "#f1b6da"
            ],
            [
             0.4,
             "#fde0ef"
            ],
            [
             0.5,
             "#f7f7f7"
            ],
            [
             0.6,
             "#e6f5d0"
            ],
            [
             0.7,
             "#b8e186"
            ],
            [
             0.8,
             "#7fbc41"
            ],
            [
             0.9,
             "#4d9221"
            ],
            [
             1,
             "#276419"
            ]
           ],
           "sequential": [
            [
             0,
             "#0d0887"
            ],
            [
             0.1111111111111111,
             "#46039f"
            ],
            [
             0.2222222222222222,
             "#7201a8"
            ],
            [
             0.3333333333333333,
             "#9c179e"
            ],
            [
             0.4444444444444444,
             "#bd3786"
            ],
            [
             0.5555555555555556,
             "#d8576b"
            ],
            [
             0.6666666666666666,
             "#ed7953"
            ],
            [
             0.7777777777777778,
             "#fb9f3a"
            ],
            [
             0.8888888888888888,
             "#fdca26"
            ],
            [
             1,
             "#f0f921"
            ]
           ],
           "sequentialminus": [
            [
             0,
             "#0d0887"
            ],
            [
             0.1111111111111111,
             "#46039f"
            ],
            [
             0.2222222222222222,
             "#7201a8"
            ],
            [
             0.3333333333333333,
             "#9c179e"
            ],
            [
             0.4444444444444444,
             "#bd3786"
            ],
            [
             0.5555555555555556,
             "#d8576b"
            ],
            [
             0.6666666666666666,
             "#ed7953"
            ],
            [
             0.7777777777777778,
             "#fb9f3a"
            ],
            [
             0.8888888888888888,
             "#fdca26"
            ],
            [
             1,
             "#f0f921"
            ]
           ]
          },
          "colorway": [
           "#636efa",
           "#EF553B",
           "#00cc96",
           "#ab63fa",
           "#FFA15A",
           "#19d3f3",
           "#FF6692",
           "#B6E880",
           "#FF97FF",
           "#FECB52"
          ],
          "font": {
           "color": "#2a3f5f"
          },
          "geo": {
           "bgcolor": "white",
           "lakecolor": "white",
           "landcolor": "#E5ECF6",
           "showlakes": true,
           "showland": true,
           "subunitcolor": "white"
          },
          "hoverlabel": {
           "align": "left"
          },
          "hovermode": "closest",
          "mapbox": {
           "style": "light"
          },
          "paper_bgcolor": "white",
          "plot_bgcolor": "#E5ECF6",
          "polar": {
           "angularaxis": {
            "gridcolor": "white",
            "linecolor": "white",
            "ticks": ""
           },
           "bgcolor": "#E5ECF6",
           "radialaxis": {
            "gridcolor": "white",
            "linecolor": "white",
            "ticks": ""
           }
          },
          "scene": {
           "xaxis": {
            "backgroundcolor": "#E5ECF6",
            "gridcolor": "white",
            "gridwidth": 2,
            "linecolor": "white",
            "showbackground": true,
            "ticks": "",
            "zerolinecolor": "white"
           },
           "yaxis": {
            "backgroundcolor": "#E5ECF6",
            "gridcolor": "white",
            "gridwidth": 2,
            "linecolor": "white",
            "showbackground": true,
            "ticks": "",
            "zerolinecolor": "white"
           },
           "zaxis": {
            "backgroundcolor": "#E5ECF6",
            "gridcolor": "white",
            "gridwidth": 2,
            "linecolor": "white",
            "showbackground": true,
            "ticks": "",
            "zerolinecolor": "white"
           }
          },
          "shapedefaults": {
           "line": {
            "color": "#2a3f5f"
           }
          },
          "ternary": {
           "aaxis": {
            "gridcolor": "white",
            "linecolor": "white",
            "ticks": ""
           },
           "baxis": {
            "gridcolor": "white",
            "linecolor": "white",
            "ticks": ""
           },
           "bgcolor": "#E5ECF6",
           "caxis": {
            "gridcolor": "white",
            "linecolor": "white",
            "ticks": ""
           }
          },
          "title": {
           "x": 0.05
          },
          "xaxis": {
           "automargin": true,
           "gridcolor": "white",
           "linecolor": "white",
           "ticks": "",
           "title": {
            "standoff": 15
           },
           "zerolinecolor": "white",
           "zerolinewidth": 2
          },
          "yaxis": {
           "automargin": true,
           "gridcolor": "white",
           "linecolor": "white",
           "ticks": "",
           "title": {
            "standoff": 15
           },
           "zerolinecolor": "white",
           "zerolinewidth": 2
          }
         }
        },
        "title": {
         "font": {
          "color": "#4D5663"
         }
        },
        "xaxis": {
         "gridcolor": "#E1E5ED",
         "showgrid": true,
         "tickfont": {
          "color": "#4D5663"
         },
         "title": {
          "font": {
           "color": "#4D5663"
          },
          "text": ""
         },
         "zerolinecolor": "#E1E5ED"
        },
        "yaxis": {
         "gridcolor": "#E1E5ED",
         "showgrid": true,
         "tickfont": {
          "color": "#4D5663"
         },
         "title": {
          "font": {
           "color": "#4D5663"
          },
          "text": ""
         },
         "zerolinecolor": "#E1E5ED"
        }
       }
      },
      "text/html": [
       "<div>                            <div id=\"8d3ffc9e-74b6-419b-b704-332c65c66afa\" class=\"plotly-graph-div\" style=\"height:525px; width:100%;\"></div>            <script type=\"text/javascript\">                require([\"plotly\"], function(Plotly) {                    window.PLOTLYENV=window.PLOTLYENV || {};\n",
       "                    window.PLOTLYENV.BASE_URL='https://plot.ly';                                    if (document.getElementById(\"8d3ffc9e-74b6-419b-b704-332c65c66afa\")) {                    Plotly.newPlot(                        \"8d3ffc9e-74b6-419b-b704-332c65c66afa\",                        [{\"colorscale\":[[0.0,\"rgb(165,0,38)\"],[0.1,\"rgb(215,48,39)\"],[0.2,\"rgb(244,109,67)\"],[0.3,\"rgb(253,174,97)\"],[0.4,\"rgb(254,224,144)\"],[0.5,\"rgb(255,255,191)\"],[0.6,\"rgb(224,243,248)\"],[0.7,\"rgb(171,217,233)\"],[0.8,\"rgb(116,173,209)\"],[0.9,\"rgb(69,117,180)\"],[1.0,\"rgb(49,54,149)\"]],\"type\":\"surface\",\"x\":[0,1,2,3,4],\"y\":[\"x\",\"y\",\"z\"],\"z\":[[1,2,3,4,5],[10,20,30,20,10],[5,4,3,2,1]]}],                        {\"legend\":{\"bgcolor\":\"#F5F6F9\",\"font\":{\"color\":\"#4D5663\"}},\"paper_bgcolor\":\"#F5F6F9\",\"plot_bgcolor\":\"#F5F6F9\",\"template\":{\"data\":{\"bar\":[{\"error_x\":{\"color\":\"#2a3f5f\"},\"error_y\":{\"color\":\"#2a3f5f\"},\"marker\":{\"line\":{\"color\":\"#E5ECF6\",\"width\":0.5},\"pattern\":{\"fillmode\":\"overlay\",\"size\":10,\"solidity\":0.2}},\"type\":\"bar\"}],\"barpolar\":[{\"marker\":{\"line\":{\"color\":\"#E5ECF6\",\"width\":0.5},\"pattern\":{\"fillmode\":\"overlay\",\"size\":10,\"solidity\":0.2}},\"type\":\"barpolar\"}],\"carpet\":[{\"aaxis\":{\"endlinecolor\":\"#2a3f5f\",\"gridcolor\":\"white\",\"linecolor\":\"white\",\"minorgridcolor\":\"white\",\"startlinecolor\":\"#2a3f5f\"},\"baxis\":{\"endlinecolor\":\"#2a3f5f\",\"gridcolor\":\"white\",\"linecolor\":\"white\",\"minorgridcolor\":\"white\",\"startlinecolor\":\"#2a3f5f\"},\"type\":\"carpet\"}],\"choropleth\":[{\"colorbar\":{\"outlinewidth\":0,\"ticks\":\"\"},\"type\":\"choropleth\"}],\"contour\":[{\"colorbar\":{\"outlinewidth\":0,\"ticks\":\"\"},\"colorscale\":[[0.0,\"#0d0887\"],[0.1111111111111111,\"#46039f\"],[0.2222222222222222,\"#7201a8\"],[0.3333333333333333,\"#9c179e\"],[0.4444444444444444,\"#bd3786\"],[0.5555555555555556,\"#d8576b\"],[0.6666666666666666,\"#ed7953\"],[0.7777777777777778,\"#fb9f3a\"],[0.8888888888888888,\"#fdca26\"],[1.0,\"#f0f921\"]],\"type\":\"contour\"}],\"contourcarpet\":[{\"colorbar\":{\"outlinewidth\":0,\"ticks\":\"\"},\"type\":\"contourcarpet\"}],\"heatmap\":[{\"colorbar\":{\"outlinewidth\":0,\"ticks\":\"\"},\"colorscale\":[[0.0,\"#0d0887\"],[0.1111111111111111,\"#46039f\"],[0.2222222222222222,\"#7201a8\"],[0.3333333333333333,\"#9c179e\"],[0.4444444444444444,\"#bd3786\"],[0.5555555555555556,\"#d8576b\"],[0.6666666666666666,\"#ed7953\"],[0.7777777777777778,\"#fb9f3a\"],[0.8888888888888888,\"#fdca26\"],[1.0,\"#f0f921\"]],\"type\":\"heatmap\"}],\"heatmapgl\":[{\"colorbar\":{\"outlinewidth\":0,\"ticks\":\"\"},\"colorscale\":[[0.0,\"#0d0887\"],[0.1111111111111111,\"#46039f\"],[0.2222222222222222,\"#7201a8\"],[0.3333333333333333,\"#9c179e\"],[0.4444444444444444,\"#bd3786\"],[0.5555555555555556,\"#d8576b\"],[0.6666666666666666,\"#ed7953\"],[0.7777777777777778,\"#fb9f3a\"],[0.8888888888888888,\"#fdca26\"],[1.0,\"#f0f921\"]],\"type\":\"heatmapgl\"}],\"histogram\":[{\"marker\":{\"pattern\":{\"fillmode\":\"overlay\",\"size\":10,\"solidity\":0.2}},\"type\":\"histogram\"}],\"histogram2d\":[{\"colorbar\":{\"outlinewidth\":0,\"ticks\":\"\"},\"colorscale\":[[0.0,\"#0d0887\"],[0.1111111111111111,\"#46039f\"],[0.2222222222222222,\"#7201a8\"],[0.3333333333333333,\"#9c179e\"],[0.4444444444444444,\"#bd3786\"],[0.5555555555555556,\"#d8576b\"],[0.6666666666666666,\"#ed7953\"],[0.7777777777777778,\"#fb9f3a\"],[0.8888888888888888,\"#fdca26\"],[1.0,\"#f0f921\"]],\"type\":\"histogram2d\"}],\"histogram2dcontour\":[{\"colorbar\":{\"outlinewidth\":0,\"ticks\":\"\"},\"colorscale\":[[0.0,\"#0d0887\"],[0.1111111111111111,\"#46039f\"],[0.2222222222222222,\"#7201a8\"],[0.3333333333333333,\"#9c179e\"],[0.4444444444444444,\"#bd3786\"],[0.5555555555555556,\"#d8576b\"],[0.6666666666666666,\"#ed7953\"],[0.7777777777777778,\"#fb9f3a\"],[0.8888888888888888,\"#fdca26\"],[1.0,\"#f0f921\"]],\"type\":\"histogram2dcontour\"}],\"mesh3d\":[{\"colorbar\":{\"outlinewidth\":0,\"ticks\":\"\"},\"type\":\"mesh3d\"}],\"parcoords\":[{\"line\":{\"colorbar\":{\"outlinewidth\":0,\"ticks\":\"\"}},\"type\":\"parcoords\"}],\"pie\":[{\"automargin\":true,\"type\":\"pie\"}],\"scatter\":[{\"marker\":{\"colorbar\":{\"outlinewidth\":0,\"ticks\":\"\"}},\"type\":\"scatter\"}],\"scatter3d\":[{\"line\":{\"colorbar\":{\"outlinewidth\":0,\"ticks\":\"\"}},\"marker\":{\"colorbar\":{\"outlinewidth\":0,\"ticks\":\"\"}},\"type\":\"scatter3d\"}],\"scattercarpet\":[{\"marker\":{\"colorbar\":{\"outlinewidth\":0,\"ticks\":\"\"}},\"type\":\"scattercarpet\"}],\"scattergeo\":[{\"marker\":{\"colorbar\":{\"outlinewidth\":0,\"ticks\":\"\"}},\"type\":\"scattergeo\"}],\"scattergl\":[{\"marker\":{\"colorbar\":{\"outlinewidth\":0,\"ticks\":\"\"}},\"type\":\"scattergl\"}],\"scattermapbox\":[{\"marker\":{\"colorbar\":{\"outlinewidth\":0,\"ticks\":\"\"}},\"type\":\"scattermapbox\"}],\"scatterpolar\":[{\"marker\":{\"colorbar\":{\"outlinewidth\":0,\"ticks\":\"\"}},\"type\":\"scatterpolar\"}],\"scatterpolargl\":[{\"marker\":{\"colorbar\":{\"outlinewidth\":0,\"ticks\":\"\"}},\"type\":\"scatterpolargl\"}],\"scatterternary\":[{\"marker\":{\"colorbar\":{\"outlinewidth\":0,\"ticks\":\"\"}},\"type\":\"scatterternary\"}],\"surface\":[{\"colorbar\":{\"outlinewidth\":0,\"ticks\":\"\"},\"colorscale\":[[0.0,\"#0d0887\"],[0.1111111111111111,\"#46039f\"],[0.2222222222222222,\"#7201a8\"],[0.3333333333333333,\"#9c179e\"],[0.4444444444444444,\"#bd3786\"],[0.5555555555555556,\"#d8576b\"],[0.6666666666666666,\"#ed7953\"],[0.7777777777777778,\"#fb9f3a\"],[0.8888888888888888,\"#fdca26\"],[1.0,\"#f0f921\"]],\"type\":\"surface\"}],\"table\":[{\"cells\":{\"fill\":{\"color\":\"#EBF0F8\"},\"line\":{\"color\":\"white\"}},\"header\":{\"fill\":{\"color\":\"#C8D4E3\"},\"line\":{\"color\":\"white\"}},\"type\":\"table\"}]},\"layout\":{\"annotationdefaults\":{\"arrowcolor\":\"#2a3f5f\",\"arrowhead\":0,\"arrowwidth\":1},\"autotypenumbers\":\"strict\",\"coloraxis\":{\"colorbar\":{\"outlinewidth\":0,\"ticks\":\"\"}},\"colorscale\":{\"diverging\":[[0,\"#8e0152\"],[0.1,\"#c51b7d\"],[0.2,\"#de77ae\"],[0.3,\"#f1b6da\"],[0.4,\"#fde0ef\"],[0.5,\"#f7f7f7\"],[0.6,\"#e6f5d0\"],[0.7,\"#b8e186\"],[0.8,\"#7fbc41\"],[0.9,\"#4d9221\"],[1,\"#276419\"]],\"sequential\":[[0.0,\"#0d0887\"],[0.1111111111111111,\"#46039f\"],[0.2222222222222222,\"#7201a8\"],[0.3333333333333333,\"#9c179e\"],[0.4444444444444444,\"#bd3786\"],[0.5555555555555556,\"#d8576b\"],[0.6666666666666666,\"#ed7953\"],[0.7777777777777778,\"#fb9f3a\"],[0.8888888888888888,\"#fdca26\"],[1.0,\"#f0f921\"]],\"sequentialminus\":[[0.0,\"#0d0887\"],[0.1111111111111111,\"#46039f\"],[0.2222222222222222,\"#7201a8\"],[0.3333333333333333,\"#9c179e\"],[0.4444444444444444,\"#bd3786\"],[0.5555555555555556,\"#d8576b\"],[0.6666666666666666,\"#ed7953\"],[0.7777777777777778,\"#fb9f3a\"],[0.8888888888888888,\"#fdca26\"],[1.0,\"#f0f921\"]]},\"colorway\":[\"#636efa\",\"#EF553B\",\"#00cc96\",\"#ab63fa\",\"#FFA15A\",\"#19d3f3\",\"#FF6692\",\"#B6E880\",\"#FF97FF\",\"#FECB52\"],\"font\":{\"color\":\"#2a3f5f\"},\"geo\":{\"bgcolor\":\"white\",\"lakecolor\":\"white\",\"landcolor\":\"#E5ECF6\",\"showlakes\":true,\"showland\":true,\"subunitcolor\":\"white\"},\"hoverlabel\":{\"align\":\"left\"},\"hovermode\":\"closest\",\"mapbox\":{\"style\":\"light\"},\"paper_bgcolor\":\"white\",\"plot_bgcolor\":\"#E5ECF6\",\"polar\":{\"angularaxis\":{\"gridcolor\":\"white\",\"linecolor\":\"white\",\"ticks\":\"\"},\"bgcolor\":\"#E5ECF6\",\"radialaxis\":{\"gridcolor\":\"white\",\"linecolor\":\"white\",\"ticks\":\"\"}},\"scene\":{\"xaxis\":{\"backgroundcolor\":\"#E5ECF6\",\"gridcolor\":\"white\",\"gridwidth\":2,\"linecolor\":\"white\",\"showbackground\":true,\"ticks\":\"\",\"zerolinecolor\":\"white\"},\"yaxis\":{\"backgroundcolor\":\"#E5ECF6\",\"gridcolor\":\"white\",\"gridwidth\":2,\"linecolor\":\"white\",\"showbackground\":true,\"ticks\":\"\",\"zerolinecolor\":\"white\"},\"zaxis\":{\"backgroundcolor\":\"#E5ECF6\",\"gridcolor\":\"white\",\"gridwidth\":2,\"linecolor\":\"white\",\"showbackground\":true,\"ticks\":\"\",\"zerolinecolor\":\"white\"}},\"shapedefaults\":{\"line\":{\"color\":\"#2a3f5f\"}},\"ternary\":{\"aaxis\":{\"gridcolor\":\"white\",\"linecolor\":\"white\",\"ticks\":\"\"},\"baxis\":{\"gridcolor\":\"white\",\"linecolor\":\"white\",\"ticks\":\"\"},\"bgcolor\":\"#E5ECF6\",\"caxis\":{\"gridcolor\":\"white\",\"linecolor\":\"white\",\"ticks\":\"\"}},\"title\":{\"x\":0.05},\"xaxis\":{\"automargin\":true,\"gridcolor\":\"white\",\"linecolor\":\"white\",\"ticks\":\"\",\"title\":{\"standoff\":15},\"zerolinecolor\":\"white\",\"zerolinewidth\":2},\"yaxis\":{\"automargin\":true,\"gridcolor\":\"white\",\"linecolor\":\"white\",\"ticks\":\"\",\"title\":{\"standoff\":15},\"zerolinecolor\":\"white\",\"zerolinewidth\":2}}},\"title\":{\"font\":{\"color\":\"#4D5663\"}},\"xaxis\":{\"gridcolor\":\"#E1E5ED\",\"showgrid\":true,\"tickfont\":{\"color\":\"#4D5663\"},\"title\":{\"font\":{\"color\":\"#4D5663\"},\"text\":\"\"},\"zerolinecolor\":\"#E1E5ED\"},\"yaxis\":{\"gridcolor\":\"#E1E5ED\",\"showgrid\":true,\"tickfont\":{\"color\":\"#4D5663\"},\"title\":{\"font\":{\"color\":\"#4D5663\"},\"text\":\"\"},\"zerolinecolor\":\"#E1E5ED\"}},                        {\"showLink\": true, \"linkText\": \"Export to plot.ly\", \"plotlyServerURL\": \"https://plot.ly\", \"responsive\": true}                    ).then(function(){\n",
       "                            \n",
       "var gd = document.getElementById('8d3ffc9e-74b6-419b-b704-332c65c66afa');\n",
       "var x = new MutationObserver(function (mutations, observer) {{\n",
       "        var display = window.getComputedStyle(gd).display;\n",
       "        if (!display || display === 'none') {{\n",
       "            console.log([gd, 'removed!']);\n",
       "            Plotly.purge(gd);\n",
       "            observer.disconnect();\n",
       "        }}\n",
       "}});\n",
       "\n",
       "// Listen for the removal of the full notebook cells\n",
       "var notebookContainer = gd.closest('#notebook-container');\n",
       "if (notebookContainer) {{\n",
       "    x.observe(notebookContainer, {childList: true});\n",
       "}}\n",
       "\n",
       "// Listen for the clearing of the current output cell\n",
       "var outputEl = gd.closest('.output');\n",
       "if (outputEl) {{\n",
       "    x.observe(outputEl, {childList: true});\n",
       "}}\n",
       "\n",
       "                        })                };                });            </script>        </div>"
      ]
     },
     "metadata": {},
     "output_type": "display_data"
    }
   ],
   "source": [
    "df3 = pd.DataFrame({'x':[1,2,3,4,5],'y':[10,20,30,20,10],'z':[5,4,3,2,1]})\n",
    "df3.iplot(kind='surface',colorscale='rdylbu')"
   ]
  },
  {
   "cell_type": "markdown",
   "metadata": {},
   "source": [
    "## Spread"
   ]
  },
  {
   "cell_type": "code",
   "execution_count": 16,
   "metadata": {},
   "outputs": [
    {
     "name": "stderr",
     "output_type": "stream",
     "text": [
      "C:\\Users\\Yasin\\anaconda3\\lib\\site-packages\\cufflinks\\plotlytools.py:849: FutureWarning:\n",
      "\n",
      "The pandas.np module is deprecated and will be removed from pandas in a future version. Import numpy directly instead\n",
      "\n",
      "C:\\Users\\Yasin\\anaconda3\\lib\\site-packages\\cufflinks\\plotlytools.py:850: FutureWarning:\n",
      "\n",
      "The pandas.np module is deprecated and will be removed from pandas in a future version. Import numpy directly instead\n",
      "\n"
     ]
    },
    {
     "data": {
      "application/vnd.plotly.v1+json": {
       "config": {
        "linkText": "Export to plot.ly",
        "plotlyServerURL": "https://plot.ly",
        "showLink": true
       },
       "data": [
        {
         "line": {
          "color": "rgba(255, 153, 51, 1.0)",
          "dash": "solid",
          "shape": "linear",
          "width": 1.3
         },
         "mode": "lines",
         "name": "A",
         "text": "",
         "type": "scatter",
         "x": [
          0,
          1,
          2,
          3,
          4,
          5,
          6,
          7,
          8,
          9,
          10,
          11,
          12,
          13,
          14,
          15,
          16,
          17,
          18,
          19,
          20,
          21,
          22,
          23,
          24,
          25,
          26,
          27,
          28,
          29,
          30,
          31,
          32,
          33,
          34,
          35,
          36,
          37,
          38,
          39,
          40,
          41,
          42,
          43,
          44,
          45,
          46,
          47,
          48,
          49,
          50,
          51,
          52,
          53,
          54,
          55,
          56,
          57,
          58,
          59,
          60,
          61,
          62,
          63,
          64,
          65,
          66,
          67,
          68,
          69,
          70,
          71,
          72,
          73,
          74,
          75,
          76,
          77,
          78,
          79,
          80,
          81,
          82,
          83,
          84,
          85,
          86,
          87,
          88,
          89,
          90,
          91,
          92,
          93,
          94,
          95,
          96,
          97,
          98,
          99
         ],
         "y": [
          -0.00575823250580768,
          0.6357526536260791,
          1.2078823963791712,
          -0.4284366096975284,
          1.014145002542919,
          0.7054570499036387,
          -0.831478411217752,
          0.7728642327825064,
          0.7004697184507643,
          -1.231776416875097,
          -0.41401563481878434,
          1.1322856480346852,
          -0.39318595015558194,
          0.5263569154400487,
          0.3180291798716228,
          -0.22261827109346366,
          -1.6724197269192995,
          1.2783835503365846,
          -0.23993427251882554,
          -1.2484416732220707,
          0.5976488349424885,
          0.385677861181226,
          0.2560357823013782,
          -0.24619265351844694,
          2.2568470203373674,
          -2.15083769218194,
          1.5485306040937072,
          2.208994013492354,
          -1.499416587196466,
          1.1062623038209496,
          2.044744563145898,
          2.248361168621705,
          -0.6932520400964282,
          -0.12777423865974202,
          -1.9106494770833462,
          -1.212102180027225,
          -0.7757931969671343,
          -0.38744488026458784,
          -0.9463586424105409,
          1.6727887899650369,
          0.7217853129625886,
          -0.3313144221162863,
          0.6960026389981161,
          -0.6648173991171903,
          -0.8112860943469768,
          0.18082540347147127,
          1.3919630873733102,
          0.46382781671231865,
          -0.4115516140752952,
          0.9607193536511318,
          0.4855991638247819,
          -0.21715498311319506,
          -0.7347433916366071,
          0.9092951485461442,
          -2.0243405611992284,
          -1.225125636319877,
          -1.203029999997798,
          -0.6922336491755662,
          0.7660882197370672,
          0.11924644243358365,
          -1.088168686653994,
          1.1392452652594254,
          0.8146955230795004,
          -0.42734587533719665,
          1.2324680519582198,
          -1.1320953576596426,
          -0.30882776595725697,
          1.3663297636529603,
          0.37183579662600236,
          -1.1194792770930226,
          1.8284249216869883,
          1.3609247420075428,
          0.07122539323985272,
          -0.14829238264489364,
          -1.668889594574335,
          0.8066878771001542,
          0.7748156562794538,
          0.6497469973121999,
          2.1398027883949355,
          -1.0978266962978387,
          0.2281853014743535,
          -0.14931126628854363,
          1.4221579843061756,
          0.6914847803397621,
          0.1499341952277375,
          1.012089635627416,
          1.0610786107361148,
          0.8914013131752377,
          0.01231561343508519,
          0.26446277258881523,
          1.5752184579993507,
          -0.8798468402860836,
          1.745915075941031,
          2.15336063842221,
          -0.8801911033186313,
          1.1694085578453528,
          0.4981842791617605,
          0.2074732217252558,
          -0.8480967148262764,
          0.23707951484827536
         ]
        },
        {
         "line": {
          "color": "rgba(55, 128, 191, 1.0)",
          "dash": "solid",
          "shape": "linear",
          "width": 1.3
         },
         "mode": "lines",
         "name": "B",
         "text": "",
         "type": "scatter",
         "x": [
          0,
          1,
          2,
          3,
          4,
          5,
          6,
          7,
          8,
          9,
          10,
          11,
          12,
          13,
          14,
          15,
          16,
          17,
          18,
          19,
          20,
          21,
          22,
          23,
          24,
          25,
          26,
          27,
          28,
          29,
          30,
          31,
          32,
          33,
          34,
          35,
          36,
          37,
          38,
          39,
          40,
          41,
          42,
          43,
          44,
          45,
          46,
          47,
          48,
          49,
          50,
          51,
          52,
          53,
          54,
          55,
          56,
          57,
          58,
          59,
          60,
          61,
          62,
          63,
          64,
          65,
          66,
          67,
          68,
          69,
          70,
          71,
          72,
          73,
          74,
          75,
          76,
          77,
          78,
          79,
          80,
          81,
          82,
          83,
          84,
          85,
          86,
          87,
          88,
          89,
          90,
          91,
          92,
          93,
          94,
          95,
          96,
          97,
          98,
          99
         ],
         "y": [
          0.8556222288772496,
          -1.1273622610670195,
          -0.5269197553913275,
          -0.8054128781960725,
          -0.749068993151881,
          -1.3687859711329016,
          -0.5042087221215136,
          -0.10130817826066009,
          -0.19672410054208153,
          -0.6313557524089218,
          -1.4581007687375886,
          -1.6956715563044404,
          -0.6112438274023329,
          -0.5268826820818268,
          0.5051994695613479,
          0.8618708710073752,
          -0.4135652030449454,
          -0.7663539466374012,
          1.50407379417061,
          0.7581608221640876,
          0.627991625692652,
          0.5931741531110601,
          0.09454493355746088,
          -0.8700879836882897,
          1.5117944092355777,
          -0.9630717128935331,
          -1.6411006462755617,
          1.3077103851146104,
          0.8233511952419196,
          -0.5280582049795407,
          0.8130476880764101,
          1.952823474239663,
          -0.4683803044118759,
          -0.5235830298669955,
          -0.6842373146647192,
          1.2599932417420376,
          0.9045451435286472,
          0.8549122829220845,
          -1.2775836958876516,
          0.4333838865818812,
          0.01778947470583882,
          -0.09587610120673787,
          0.38128282520588874,
          2.245220942650822,
          -0.9482111767861034,
          -0.05824052572964152,
          0.5347356830229034,
          -3.2400736597966344,
          -0.45206527994377643,
          0.7486285793305874,
          0.7835336662405054,
          -0.16950682209101647,
          -0.2981146972584054,
          1.0210105761818091,
          0.5308830103579464,
          -0.6372186261129612,
          0.3825112899765546,
          -0.7920259017206817,
          0.9322434623218389,
          1.174222380990123,
          -0.09076164508268218,
          -0.2022479825572514,
          0.7230756394862698,
          0.7442097710794263,
          -2.2075109136116877,
          -0.980508554544525,
          -2.8428325330334707,
          1.8479259257597307,
          1.8510240121847856,
          0.49212184258917113,
          1.0625009684563536,
          0.024116607246121757,
          2.6502942145892296,
          2.637770977442213,
          -0.09862430633368902,
          -1.0035638170949084,
          -0.9339655766328269,
          1.456452510783111,
          1.4216849583929372,
          0.23597280549678476,
          -0.4808159398342157,
          -0.22865142773097336,
          0.36234353424371957,
          0.8729717061340367,
          0.28167948888950806,
          -0.415352323234306,
          -1.8463120604056424,
          0.6308806029970968,
          0.44399560562281554,
          0.14489948233936506,
          0.8482594018266639,
          0.8515618449616275,
          -2.5298432102411237,
          1.5630078810335475,
          0.4019441930096172,
          0.8480716100037919,
          -0.7089320124676023,
          0.3912621113405365,
          2.230966454744648,
          0.8791439133705296
         ]
        },
        {
         "connectgaps": false,
         "fill": "tozeroy",
         "line": {
          "color": "green",
          "dash": "solid",
          "shape": "linear",
          "width": 0.5
         },
         "mode": "lines",
         "name": "Spread",
         "showlegend": false,
         "type": "scatter",
         "x": [
          0,
          1,
          2,
          3,
          4,
          5,
          6,
          7,
          8,
          9,
          10,
          11,
          12,
          13,
          14,
          15,
          16,
          17,
          18,
          19,
          20,
          21,
          22,
          23,
          24,
          25,
          26,
          27,
          28,
          29,
          30,
          31,
          32,
          33,
          34,
          35,
          36,
          37,
          38,
          39,
          40,
          41,
          42,
          43,
          44,
          45,
          46,
          47,
          48,
          49,
          50,
          51,
          52,
          53,
          54,
          55,
          56,
          57,
          58,
          59,
          60,
          61,
          62,
          63,
          64,
          65,
          66,
          67,
          68,
          69,
          70,
          71,
          72,
          73,
          74,
          75,
          76,
          77,
          78,
          79,
          80,
          81,
          82,
          83,
          84,
          85,
          86,
          87,
          88,
          89,
          90,
          91,
          92,
          93,
          94,
          95,
          96,
          97,
          98,
          99
         ],
         "xaxis": "x2",
         "y": [
          "",
          1.7631149146930987,
          1.7348021517704986,
          0.37697626849854415,
          1.7632139956948,
          2.07424302103654,
          "",
          0.8741724110431665,
          0.8971938189928459,
          "",
          1.0440851339188044,
          2.8279572043391257,
          0.2180578772467509,
          1.0532395975218756,
          "",
          "",
          "",
          2.044737496973986,
          "",
          "",
          "",
          "",
          0.1614908487439173,
          0.6238953301698427,
          0.7450526111017897,
          "",
          3.1896312503692688,
          0.9012836283777437,
          "",
          1.6343205088004904,
          1.2316968750694879,
          0.295537694382042,
          "",
          0.39580879120725343,
          "",
          "",
          "",
          "",
          0.33122505347711073,
          1.2394049033831558,
          0.7039958382567498,
          "",
          0.31471981379222735,
          "",
          0.1369250824391266,
          0.2390659292011128,
          0.8572274043504068,
          3.7039014765089533,
          0.04051366586848121,
          0.21209077432054446,
          "",
          "",
          "",
          "",
          "",
          "",
          "",
          0.09979225254511548,
          "",
          "",
          "",
          1.3414932478166768,
          0.09161988359323059,
          "",
          3.4399789655699076,
          "",
          2.5340047670762136,
          "",
          "",
          "",
          0.7659239532306348,
          1.336808134761421,
          "",
          "",
          "",
          1.8102516941950626,
          1.7087812329122807,
          "",
          0.7181178300019984,
          "",
          0.7090012413085692,
          0.07934016144242972,
          1.059814450062456,
          "",
          "",
          1.427441958861722,
          2.907390671141757,
          0.26052071017814094,
          "",
          0.11956329024945017,
          0.7269590561726867,
          "",
          4.275758286182155,
          0.5903527573886624,
          "",
          0.32133694784156086,
          1.2071162916293627,
          "",
          "",
          ""
         ],
         "yaxis": "y2"
        },
        {
         "connectgaps": false,
         "fill": "tozeroy",
         "line": {
          "color": "red",
          "dash": "solid",
          "shape": "linear",
          "width": 0.5
         },
         "mode": "lines",
         "name": "Spread",
         "showlegend": false,
         "type": "scatter",
         "x": [
          0,
          1,
          2,
          3,
          4,
          5,
          6,
          7,
          8,
          9,
          10,
          11,
          12,
          13,
          14,
          15,
          16,
          17,
          18,
          19,
          20,
          21,
          22,
          23,
          24,
          25,
          26,
          27,
          28,
          29,
          30,
          31,
          32,
          33,
          34,
          35,
          36,
          37,
          38,
          39,
          40,
          41,
          42,
          43,
          44,
          45,
          46,
          47,
          48,
          49,
          50,
          51,
          52,
          53,
          54,
          55,
          56,
          57,
          58,
          59,
          60,
          61,
          62,
          63,
          64,
          65,
          66,
          67,
          68,
          69,
          70,
          71,
          72,
          73,
          74,
          75,
          76,
          77,
          78,
          79,
          80,
          81,
          82,
          83,
          84,
          85,
          86,
          87,
          88,
          89,
          90,
          91,
          92,
          93,
          94,
          95,
          96,
          97,
          98,
          99
         ],
         "xaxis": "x2",
         "y": [
          -0.8613804613830572,
          "",
          "",
          "",
          "",
          "",
          -0.32726968909623844,
          "",
          "",
          -0.6004206644661753,
          "",
          "",
          "",
          "",
          -0.18717028968972504,
          -1.084489142100839,
          -1.258854523874354,
          "",
          -1.7440080666894355,
          -2.0066024953861583,
          -0.03034279075016344,
          -0.20749629192983415,
          "",
          "",
          "",
          -1.1877659792884068,
          "",
          "",
          -2.3227677824383854,
          "",
          "",
          "",
          -0.22487173568455227,
          "",
          -1.226412162418627,
          -2.4720954217692626,
          -1.6803383404957817,
          -1.2423571631866723,
          "",
          "",
          "",
          -0.23543832090954844,
          "",
          -2.9100383417680122,
          "",
          "",
          "",
          "",
          "",
          "",
          -0.29793450241572345,
          -0.04764816102217859,
          -0.4366286943782017,
          -0.11171542763566489,
          -2.5552235715571747,
          -0.5879070102069158,
          -1.5855412899743526,
          "",
          -0.16615524258477166,
          -1.0549759385565394,
          -0.9974070415713118,
          "",
          "",
          -1.171555646416623,
          "",
          -0.15158680311511763,
          "",
          -0.48159616210677036,
          -1.4791882155587832,
          -1.6116011196821938,
          "",
          "",
          -2.579068821349377,
          -2.7860633600871068,
          -1.570265288240646,
          "",
          "",
          -0.8067055134709111,
          "",
          -1.3337995017946234,
          "",
          "",
          "",
          -0.1814869257942746,
          -0.13174529366177057,
          "",
          "",
          "",
          -0.43167999218773034,
          "",
          "",
          -1.731408685247711,
          "",
          "",
          -1.2821352963282484,
          "",
          "",
          -0.1837888896152807,
          -3.0790631695709245,
          -0.6420643985222542
         ],
         "yaxis": "y2"
        }
       ],
       "layout": {
        "hovermode": "x",
        "legend": {
         "bgcolor": "#F5F6F9",
         "font": {
          "color": "#4D5663"
         }
        },
        "paper_bgcolor": "#F5F6F9",
        "plot_bgcolor": "#F5F6F9",
        "template": {
         "data": {
          "bar": [
           {
            "error_x": {
             "color": "#2a3f5f"
            },
            "error_y": {
             "color": "#2a3f5f"
            },
            "marker": {
             "line": {
              "color": "#E5ECF6",
              "width": 0.5
             },
             "pattern": {
              "fillmode": "overlay",
              "size": 10,
              "solidity": 0.2
             }
            },
            "type": "bar"
           }
          ],
          "barpolar": [
           {
            "marker": {
             "line": {
              "color": "#E5ECF6",
              "width": 0.5
             },
             "pattern": {
              "fillmode": "overlay",
              "size": 10,
              "solidity": 0.2
             }
            },
            "type": "barpolar"
           }
          ],
          "carpet": [
           {
            "aaxis": {
             "endlinecolor": "#2a3f5f",
             "gridcolor": "white",
             "linecolor": "white",
             "minorgridcolor": "white",
             "startlinecolor": "#2a3f5f"
            },
            "baxis": {
             "endlinecolor": "#2a3f5f",
             "gridcolor": "white",
             "linecolor": "white",
             "minorgridcolor": "white",
             "startlinecolor": "#2a3f5f"
            },
            "type": "carpet"
           }
          ],
          "choropleth": [
           {
            "colorbar": {
             "outlinewidth": 0,
             "ticks": ""
            },
            "type": "choropleth"
           }
          ],
          "contour": [
           {
            "colorbar": {
             "outlinewidth": 0,
             "ticks": ""
            },
            "colorscale": [
             [
              0,
              "#0d0887"
             ],
             [
              0.1111111111111111,
              "#46039f"
             ],
             [
              0.2222222222222222,
              "#7201a8"
             ],
             [
              0.3333333333333333,
              "#9c179e"
             ],
             [
              0.4444444444444444,
              "#bd3786"
             ],
             [
              0.5555555555555556,
              "#d8576b"
             ],
             [
              0.6666666666666666,
              "#ed7953"
             ],
             [
              0.7777777777777778,
              "#fb9f3a"
             ],
             [
              0.8888888888888888,
              "#fdca26"
             ],
             [
              1,
              "#f0f921"
             ]
            ],
            "type": "contour"
           }
          ],
          "contourcarpet": [
           {
            "colorbar": {
             "outlinewidth": 0,
             "ticks": ""
            },
            "type": "contourcarpet"
           }
          ],
          "heatmap": [
           {
            "colorbar": {
             "outlinewidth": 0,
             "ticks": ""
            },
            "colorscale": [
             [
              0,
              "#0d0887"
             ],
             [
              0.1111111111111111,
              "#46039f"
             ],
             [
              0.2222222222222222,
              "#7201a8"
             ],
             [
              0.3333333333333333,
              "#9c179e"
             ],
             [
              0.4444444444444444,
              "#bd3786"
             ],
             [
              0.5555555555555556,
              "#d8576b"
             ],
             [
              0.6666666666666666,
              "#ed7953"
             ],
             [
              0.7777777777777778,
              "#fb9f3a"
             ],
             [
              0.8888888888888888,
              "#fdca26"
             ],
             [
              1,
              "#f0f921"
             ]
            ],
            "type": "heatmap"
           }
          ],
          "heatmapgl": [
           {
            "colorbar": {
             "outlinewidth": 0,
             "ticks": ""
            },
            "colorscale": [
             [
              0,
              "#0d0887"
             ],
             [
              0.1111111111111111,
              "#46039f"
             ],
             [
              0.2222222222222222,
              "#7201a8"
             ],
             [
              0.3333333333333333,
              "#9c179e"
             ],
             [
              0.4444444444444444,
              "#bd3786"
             ],
             [
              0.5555555555555556,
              "#d8576b"
             ],
             [
              0.6666666666666666,
              "#ed7953"
             ],
             [
              0.7777777777777778,
              "#fb9f3a"
             ],
             [
              0.8888888888888888,
              "#fdca26"
             ],
             [
              1,
              "#f0f921"
             ]
            ],
            "type": "heatmapgl"
           }
          ],
          "histogram": [
           {
            "marker": {
             "pattern": {
              "fillmode": "overlay",
              "size": 10,
              "solidity": 0.2
             }
            },
            "type": "histogram"
           }
          ],
          "histogram2d": [
           {
            "colorbar": {
             "outlinewidth": 0,
             "ticks": ""
            },
            "colorscale": [
             [
              0,
              "#0d0887"
             ],
             [
              0.1111111111111111,
              "#46039f"
             ],
             [
              0.2222222222222222,
              "#7201a8"
             ],
             [
              0.3333333333333333,
              "#9c179e"
             ],
             [
              0.4444444444444444,
              "#bd3786"
             ],
             [
              0.5555555555555556,
              "#d8576b"
             ],
             [
              0.6666666666666666,
              "#ed7953"
             ],
             [
              0.7777777777777778,
              "#fb9f3a"
             ],
             [
              0.8888888888888888,
              "#fdca26"
             ],
             [
              1,
              "#f0f921"
             ]
            ],
            "type": "histogram2d"
           }
          ],
          "histogram2dcontour": [
           {
            "colorbar": {
             "outlinewidth": 0,
             "ticks": ""
            },
            "colorscale": [
             [
              0,
              "#0d0887"
             ],
             [
              0.1111111111111111,
              "#46039f"
             ],
             [
              0.2222222222222222,
              "#7201a8"
             ],
             [
              0.3333333333333333,
              "#9c179e"
             ],
             [
              0.4444444444444444,
              "#bd3786"
             ],
             [
              0.5555555555555556,
              "#d8576b"
             ],
             [
              0.6666666666666666,
              "#ed7953"
             ],
             [
              0.7777777777777778,
              "#fb9f3a"
             ],
             [
              0.8888888888888888,
              "#fdca26"
             ],
             [
              1,
              "#f0f921"
             ]
            ],
            "type": "histogram2dcontour"
           }
          ],
          "mesh3d": [
           {
            "colorbar": {
             "outlinewidth": 0,
             "ticks": ""
            },
            "type": "mesh3d"
           }
          ],
          "parcoords": [
           {
            "line": {
             "colorbar": {
              "outlinewidth": 0,
              "ticks": ""
             }
            },
            "type": "parcoords"
           }
          ],
          "pie": [
           {
            "automargin": true,
            "type": "pie"
           }
          ],
          "scatter": [
           {
            "marker": {
             "colorbar": {
              "outlinewidth": 0,
              "ticks": ""
             }
            },
            "type": "scatter"
           }
          ],
          "scatter3d": [
           {
            "line": {
             "colorbar": {
              "outlinewidth": 0,
              "ticks": ""
             }
            },
            "marker": {
             "colorbar": {
              "outlinewidth": 0,
              "ticks": ""
             }
            },
            "type": "scatter3d"
           }
          ],
          "scattercarpet": [
           {
            "marker": {
             "colorbar": {
              "outlinewidth": 0,
              "ticks": ""
             }
            },
            "type": "scattercarpet"
           }
          ],
          "scattergeo": [
           {
            "marker": {
             "colorbar": {
              "outlinewidth": 0,
              "ticks": ""
             }
            },
            "type": "scattergeo"
           }
          ],
          "scattergl": [
           {
            "marker": {
             "colorbar": {
              "outlinewidth": 0,
              "ticks": ""
             }
            },
            "type": "scattergl"
           }
          ],
          "scattermapbox": [
           {
            "marker": {
             "colorbar": {
              "outlinewidth": 0,
              "ticks": ""
             }
            },
            "type": "scattermapbox"
           }
          ],
          "scatterpolar": [
           {
            "marker": {
             "colorbar": {
              "outlinewidth": 0,
              "ticks": ""
             }
            },
            "type": "scatterpolar"
           }
          ],
          "scatterpolargl": [
           {
            "marker": {
             "colorbar": {
              "outlinewidth": 0,
              "ticks": ""
             }
            },
            "type": "scatterpolargl"
           }
          ],
          "scatterternary": [
           {
            "marker": {
             "colorbar": {
              "outlinewidth": 0,
              "ticks": ""
             }
            },
            "type": "scatterternary"
           }
          ],
          "surface": [
           {
            "colorbar": {
             "outlinewidth": 0,
             "ticks": ""
            },
            "colorscale": [
             [
              0,
              "#0d0887"
             ],
             [
              0.1111111111111111,
              "#46039f"
             ],
             [
              0.2222222222222222,
              "#7201a8"
             ],
             [
              0.3333333333333333,
              "#9c179e"
             ],
             [
              0.4444444444444444,
              "#bd3786"
             ],
             [
              0.5555555555555556,
              "#d8576b"
             ],
             [
              0.6666666666666666,
              "#ed7953"
             ],
             [
              0.7777777777777778,
              "#fb9f3a"
             ],
             [
              0.8888888888888888,
              "#fdca26"
             ],
             [
              1,
              "#f0f921"
             ]
            ],
            "type": "surface"
           }
          ],
          "table": [
           {
            "cells": {
             "fill": {
              "color": "#EBF0F8"
             },
             "line": {
              "color": "white"
             }
            },
            "header": {
             "fill": {
              "color": "#C8D4E3"
             },
             "line": {
              "color": "white"
             }
            },
            "type": "table"
           }
          ]
         },
         "layout": {
          "annotationdefaults": {
           "arrowcolor": "#2a3f5f",
           "arrowhead": 0,
           "arrowwidth": 1
          },
          "autotypenumbers": "strict",
          "coloraxis": {
           "colorbar": {
            "outlinewidth": 0,
            "ticks": ""
           }
          },
          "colorscale": {
           "diverging": [
            [
             0,
             "#8e0152"
            ],
            [
             0.1,
             "#c51b7d"
            ],
            [
             0.2,
             "#de77ae"
            ],
            [
             0.3,
             "#f1b6da"
            ],
            [
             0.4,
             "#fde0ef"
            ],
            [
             0.5,
             "#f7f7f7"
            ],
            [
             0.6,
             "#e6f5d0"
            ],
            [
             0.7,
             "#b8e186"
            ],
            [
             0.8,
             "#7fbc41"
            ],
            [
             0.9,
             "#4d9221"
            ],
            [
             1,
             "#276419"
            ]
           ],
           "sequential": [
            [
             0,
             "#0d0887"
            ],
            [
             0.1111111111111111,
             "#46039f"
            ],
            [
             0.2222222222222222,
             "#7201a8"
            ],
            [
             0.3333333333333333,
             "#9c179e"
            ],
            [
             0.4444444444444444,
             "#bd3786"
            ],
            [
             0.5555555555555556,
             "#d8576b"
            ],
            [
             0.6666666666666666,
             "#ed7953"
            ],
            [
             0.7777777777777778,
             "#fb9f3a"
            ],
            [
             0.8888888888888888,
             "#fdca26"
            ],
            [
             1,
             "#f0f921"
            ]
           ],
           "sequentialminus": [
            [
             0,
             "#0d0887"
            ],
            [
             0.1111111111111111,
             "#46039f"
            ],
            [
             0.2222222222222222,
             "#7201a8"
            ],
            [
             0.3333333333333333,
             "#9c179e"
            ],
            [
             0.4444444444444444,
             "#bd3786"
            ],
            [
             0.5555555555555556,
             "#d8576b"
            ],
            [
             0.6666666666666666,
             "#ed7953"
            ],
            [
             0.7777777777777778,
             "#fb9f3a"
            ],
            [
             0.8888888888888888,
             "#fdca26"
            ],
            [
             1,
             "#f0f921"
            ]
           ]
          },
          "colorway": [
           "#636efa",
           "#EF553B",
           "#00cc96",
           "#ab63fa",
           "#FFA15A",
           "#19d3f3",
           "#FF6692",
           "#B6E880",
           "#FF97FF",
           "#FECB52"
          ],
          "font": {
           "color": "#2a3f5f"
          },
          "geo": {
           "bgcolor": "white",
           "lakecolor": "white",
           "landcolor": "#E5ECF6",
           "showlakes": true,
           "showland": true,
           "subunitcolor": "white"
          },
          "hoverlabel": {
           "align": "left"
          },
          "hovermode": "closest",
          "mapbox": {
           "style": "light"
          },
          "paper_bgcolor": "white",
          "plot_bgcolor": "#E5ECF6",
          "polar": {
           "angularaxis": {
            "gridcolor": "white",
            "linecolor": "white",
            "ticks": ""
           },
           "bgcolor": "#E5ECF6",
           "radialaxis": {
            "gridcolor": "white",
            "linecolor": "white",
            "ticks": ""
           }
          },
          "scene": {
           "xaxis": {
            "backgroundcolor": "#E5ECF6",
            "gridcolor": "white",
            "gridwidth": 2,
            "linecolor": "white",
            "showbackground": true,
            "ticks": "",
            "zerolinecolor": "white"
           },
           "yaxis": {
            "backgroundcolor": "#E5ECF6",
            "gridcolor": "white",
            "gridwidth": 2,
            "linecolor": "white",
            "showbackground": true,
            "ticks": "",
            "zerolinecolor": "white"
           },
           "zaxis": {
            "backgroundcolor": "#E5ECF6",
            "gridcolor": "white",
            "gridwidth": 2,
            "linecolor": "white",
            "showbackground": true,
            "ticks": "",
            "zerolinecolor": "white"
           }
          },
          "shapedefaults": {
           "line": {
            "color": "#2a3f5f"
           }
          },
          "ternary": {
           "aaxis": {
            "gridcolor": "white",
            "linecolor": "white",
            "ticks": ""
           },
           "baxis": {
            "gridcolor": "white",
            "linecolor": "white",
            "ticks": ""
           },
           "bgcolor": "#E5ECF6",
           "caxis": {
            "gridcolor": "white",
            "linecolor": "white",
            "ticks": ""
           }
          },
          "title": {
           "x": 0.05
          },
          "xaxis": {
           "automargin": true,
           "gridcolor": "white",
           "linecolor": "white",
           "ticks": "",
           "title": {
            "standoff": 15
           },
           "zerolinecolor": "white",
           "zerolinewidth": 2
          },
          "yaxis": {
           "automargin": true,
           "gridcolor": "white",
           "linecolor": "white",
           "ticks": "",
           "title": {
            "standoff": 15
           },
           "zerolinecolor": "white",
           "zerolinewidth": 2
          }
         }
        },
        "title": {
         "font": {
          "color": "#4D5663"
         }
        },
        "xaxis": {
         "gridcolor": "#E1E5ED",
         "showgrid": true,
         "tickfont": {
          "color": "#4D5663"
         },
         "title": {
          "font": {
           "color": "#4D5663"
          },
          "text": ""
         },
         "zerolinecolor": "#E1E5ED"
        },
        "xaxis2": {
         "anchor": "y2",
         "gridcolor": "#E1E5ED",
         "showgrid": true,
         "showticklabels": false,
         "tickfont": {
          "color": "#4D5663"
         },
         "title": {
          "font": {
           "color": "#4D5663"
          },
          "text": ""
         },
         "zerolinecolor": "#E1E5ED"
        },
        "yaxis": {
         "domain": [
          0.3,
          1
         ],
         "gridcolor": "#E1E5ED",
         "showgrid": true,
         "tickfont": {
          "color": "#4D5663"
         },
         "title": {
          "font": {
           "color": "#4D5663"
          },
          "text": ""
         },
         "zerolinecolor": "#E1E5ED"
        },
        "yaxis2": {
         "domain": [
          0,
          0.25
         ],
         "gridcolor": "#E1E5ED",
         "showgrid": true,
         "tickfont": {
          "color": "#4D5663"
         },
         "title": {
          "font": {
           "color": "#4D5663"
          },
          "text": "Spread"
         },
         "zerolinecolor": "#E1E5ED"
        }
       }
      },
      "text/html": [
       "<div>                            <div id=\"333dfb4c-e8b0-48d0-b35b-c141cc3ce3c6\" class=\"plotly-graph-div\" style=\"height:525px; width:100%;\"></div>            <script type=\"text/javascript\">                require([\"plotly\"], function(Plotly) {                    window.PLOTLYENV=window.PLOTLYENV || {};\n",
       "                    window.PLOTLYENV.BASE_URL='https://plot.ly';                                    if (document.getElementById(\"333dfb4c-e8b0-48d0-b35b-c141cc3ce3c6\")) {                    Plotly.newPlot(                        \"333dfb4c-e8b0-48d0-b35b-c141cc3ce3c6\",                        [{\"line\":{\"color\":\"rgba(255, 153, 51, 1.0)\",\"dash\":\"solid\",\"shape\":\"linear\",\"width\":1.3},\"mode\":\"lines\",\"name\":\"A\",\"text\":\"\",\"type\":\"scatter\",\"x\":[0,1,2,3,4,5,6,7,8,9,10,11,12,13,14,15,16,17,18,19,20,21,22,23,24,25,26,27,28,29,30,31,32,33,34,35,36,37,38,39,40,41,42,43,44,45,46,47,48,49,50,51,52,53,54,55,56,57,58,59,60,61,62,63,64,65,66,67,68,69,70,71,72,73,74,75,76,77,78,79,80,81,82,83,84,85,86,87,88,89,90,91,92,93,94,95,96,97,98,99],\"y\":[-0.00575823250580768,0.6357526536260791,1.2078823963791712,-0.4284366096975284,1.014145002542919,0.7054570499036387,-0.831478411217752,0.7728642327825064,0.7004697184507643,-1.231776416875097,-0.41401563481878434,1.1322856480346852,-0.39318595015558194,0.5263569154400487,0.3180291798716228,-0.22261827109346366,-1.6724197269192995,1.2783835503365846,-0.23993427251882554,-1.2484416732220707,0.5976488349424885,0.385677861181226,0.2560357823013782,-0.24619265351844694,2.2568470203373674,-2.15083769218194,1.5485306040937072,2.208994013492354,-1.499416587196466,1.1062623038209496,2.044744563145898,2.248361168621705,-0.6932520400964282,-0.12777423865974202,-1.9106494770833462,-1.212102180027225,-0.7757931969671343,-0.38744488026458784,-0.9463586424105409,1.6727887899650369,0.7217853129625886,-0.3313144221162863,0.6960026389981161,-0.6648173991171903,-0.8112860943469768,0.18082540347147127,1.3919630873733102,0.46382781671231865,-0.4115516140752952,0.9607193536511318,0.4855991638247819,-0.21715498311319506,-0.7347433916366071,0.9092951485461442,-2.0243405611992284,-1.225125636319877,-1.203029999997798,-0.6922336491755662,0.7660882197370672,0.11924644243358365,-1.088168686653994,1.1392452652594254,0.8146955230795004,-0.42734587533719665,1.2324680519582198,-1.1320953576596426,-0.30882776595725697,1.3663297636529603,0.37183579662600236,-1.1194792770930226,1.8284249216869883,1.3609247420075428,0.07122539323985272,-0.14829238264489364,-1.668889594574335,0.8066878771001542,0.7748156562794538,0.6497469973121999,2.1398027883949355,-1.0978266962978387,0.2281853014743535,-0.14931126628854363,1.4221579843061756,0.6914847803397621,0.1499341952277375,1.012089635627416,1.0610786107361148,0.8914013131752377,0.01231561343508519,0.26446277258881523,1.5752184579993507,-0.8798468402860836,1.745915075941031,2.15336063842221,-0.8801911033186313,1.1694085578453528,0.4981842791617605,0.2074732217252558,-0.8480967148262764,0.23707951484827536]},{\"line\":{\"color\":\"rgba(55, 128, 191, 1.0)\",\"dash\":\"solid\",\"shape\":\"linear\",\"width\":1.3},\"mode\":\"lines\",\"name\":\"B\",\"text\":\"\",\"type\":\"scatter\",\"x\":[0,1,2,3,4,5,6,7,8,9,10,11,12,13,14,15,16,17,18,19,20,21,22,23,24,25,26,27,28,29,30,31,32,33,34,35,36,37,38,39,40,41,42,43,44,45,46,47,48,49,50,51,52,53,54,55,56,57,58,59,60,61,62,63,64,65,66,67,68,69,70,71,72,73,74,75,76,77,78,79,80,81,82,83,84,85,86,87,88,89,90,91,92,93,94,95,96,97,98,99],\"y\":[0.8556222288772496,-1.1273622610670195,-0.5269197553913275,-0.8054128781960725,-0.749068993151881,-1.3687859711329016,-0.5042087221215136,-0.10130817826066009,-0.19672410054208153,-0.6313557524089218,-1.4581007687375886,-1.6956715563044404,-0.6112438274023329,-0.5268826820818268,0.5051994695613479,0.8618708710073752,-0.4135652030449454,-0.7663539466374012,1.50407379417061,0.7581608221640876,0.627991625692652,0.5931741531110601,0.09454493355746088,-0.8700879836882897,1.5117944092355777,-0.9630717128935331,-1.6411006462755617,1.3077103851146104,0.8233511952419196,-0.5280582049795407,0.8130476880764101,1.952823474239663,-0.4683803044118759,-0.5235830298669955,-0.6842373146647192,1.2599932417420376,0.9045451435286472,0.8549122829220845,-1.2775836958876516,0.4333838865818812,0.01778947470583882,-0.09587610120673787,0.38128282520588874,2.245220942650822,-0.9482111767861034,-0.05824052572964152,0.5347356830229034,-3.2400736597966344,-0.45206527994377643,0.7486285793305874,0.7835336662405054,-0.16950682209101647,-0.2981146972584054,1.0210105761818091,0.5308830103579464,-0.6372186261129612,0.3825112899765546,-0.7920259017206817,0.9322434623218389,1.174222380990123,-0.09076164508268218,-0.2022479825572514,0.7230756394862698,0.7442097710794263,-2.2075109136116877,-0.980508554544525,-2.8428325330334707,1.8479259257597307,1.8510240121847856,0.49212184258917113,1.0625009684563536,0.024116607246121757,2.6502942145892296,2.637770977442213,-0.09862430633368902,-1.0035638170949084,-0.9339655766328269,1.456452510783111,1.4216849583929372,0.23597280549678476,-0.4808159398342157,-0.22865142773097336,0.36234353424371957,0.8729717061340367,0.28167948888950806,-0.415352323234306,-1.8463120604056424,0.6308806029970968,0.44399560562281554,0.14489948233936506,0.8482594018266639,0.8515618449616275,-2.5298432102411237,1.5630078810335475,0.4019441930096172,0.8480716100037919,-0.7089320124676023,0.3912621113405365,2.230966454744648,0.8791439133705296]},{\"connectgaps\":false,\"fill\":\"tozeroy\",\"line\":{\"color\":\"green\",\"dash\":\"solid\",\"shape\":\"linear\",\"width\":0.5},\"mode\":\"lines\",\"name\":\"Spread\",\"showlegend\":false,\"type\":\"scatter\",\"x\":[0,1,2,3,4,5,6,7,8,9,10,11,12,13,14,15,16,17,18,19,20,21,22,23,24,25,26,27,28,29,30,31,32,33,34,35,36,37,38,39,40,41,42,43,44,45,46,47,48,49,50,51,52,53,54,55,56,57,58,59,60,61,62,63,64,65,66,67,68,69,70,71,72,73,74,75,76,77,78,79,80,81,82,83,84,85,86,87,88,89,90,91,92,93,94,95,96,97,98,99],\"xaxis\":\"x2\",\"y\":[\"\",1.7631149146930987,1.7348021517704986,0.37697626849854415,1.7632139956948,2.07424302103654,\"\",0.8741724110431665,0.8971938189928459,\"\",1.0440851339188044,2.8279572043391257,0.2180578772467509,1.0532395975218756,\"\",\"\",\"\",2.044737496973986,\"\",\"\",\"\",\"\",0.1614908487439173,0.6238953301698427,0.7450526111017897,\"\",3.1896312503692688,0.9012836283777437,\"\",1.6343205088004904,1.2316968750694879,0.295537694382042,\"\",0.39580879120725343,\"\",\"\",\"\",\"\",0.33122505347711073,1.2394049033831558,0.7039958382567498,\"\",0.31471981379222735,\"\",0.1369250824391266,0.2390659292011128,0.8572274043504068,3.7039014765089533,0.04051366586848121,0.21209077432054446,\"\",\"\",\"\",\"\",\"\",\"\",\"\",0.09979225254511548,\"\",\"\",\"\",1.3414932478166768,0.09161988359323059,\"\",3.4399789655699076,\"\",2.5340047670762136,\"\",\"\",\"\",0.7659239532306348,1.336808134761421,\"\",\"\",\"\",1.8102516941950626,1.7087812329122807,\"\",0.7181178300019984,\"\",0.7090012413085692,0.07934016144242972,1.059814450062456,\"\",\"\",1.427441958861722,2.907390671141757,0.26052071017814094,\"\",0.11956329024945017,0.7269590561726867,\"\",4.275758286182155,0.5903527573886624,\"\",0.32133694784156086,1.2071162916293627,\"\",\"\",\"\"],\"yaxis\":\"y2\"},{\"connectgaps\":false,\"fill\":\"tozeroy\",\"line\":{\"color\":\"red\",\"dash\":\"solid\",\"shape\":\"linear\",\"width\":0.5},\"mode\":\"lines\",\"name\":\"Spread\",\"showlegend\":false,\"type\":\"scatter\",\"x\":[0,1,2,3,4,5,6,7,8,9,10,11,12,13,14,15,16,17,18,19,20,21,22,23,24,25,26,27,28,29,30,31,32,33,34,35,36,37,38,39,40,41,42,43,44,45,46,47,48,49,50,51,52,53,54,55,56,57,58,59,60,61,62,63,64,65,66,67,68,69,70,71,72,73,74,75,76,77,78,79,80,81,82,83,84,85,86,87,88,89,90,91,92,93,94,95,96,97,98,99],\"xaxis\":\"x2\",\"y\":[-0.8613804613830572,\"\",\"\",\"\",\"\",\"\",-0.32726968909623844,\"\",\"\",-0.6004206644661753,\"\",\"\",\"\",\"\",-0.18717028968972504,-1.084489142100839,-1.258854523874354,\"\",-1.7440080666894355,-2.0066024953861583,-0.03034279075016344,-0.20749629192983415,\"\",\"\",\"\",-1.1877659792884068,\"\",\"\",-2.3227677824383854,\"\",\"\",\"\",-0.22487173568455227,\"\",-1.226412162418627,-2.4720954217692626,-1.6803383404957817,-1.2423571631866723,\"\",\"\",\"\",-0.23543832090954844,\"\",-2.9100383417680122,\"\",\"\",\"\",\"\",\"\",\"\",-0.29793450241572345,-0.04764816102217859,-0.4366286943782017,-0.11171542763566489,-2.5552235715571747,-0.5879070102069158,-1.5855412899743526,\"\",-0.16615524258477166,-1.0549759385565394,-0.9974070415713118,\"\",\"\",-1.171555646416623,\"\",-0.15158680311511763,\"\",-0.48159616210677036,-1.4791882155587832,-1.6116011196821938,\"\",\"\",-2.579068821349377,-2.7860633600871068,-1.570265288240646,\"\",\"\",-0.8067055134709111,\"\",-1.3337995017946234,\"\",\"\",\"\",-0.1814869257942746,-0.13174529366177057,\"\",\"\",\"\",-0.43167999218773034,\"\",\"\",-1.731408685247711,\"\",\"\",-1.2821352963282484,\"\",\"\",-0.1837888896152807,-3.0790631695709245,-0.6420643985222542],\"yaxis\":\"y2\"}],                        {\"hovermode\":\"x\",\"legend\":{\"bgcolor\":\"#F5F6F9\",\"font\":{\"color\":\"#4D5663\"}},\"paper_bgcolor\":\"#F5F6F9\",\"plot_bgcolor\":\"#F5F6F9\",\"template\":{\"data\":{\"bar\":[{\"error_x\":{\"color\":\"#2a3f5f\"},\"error_y\":{\"color\":\"#2a3f5f\"},\"marker\":{\"line\":{\"color\":\"#E5ECF6\",\"width\":0.5},\"pattern\":{\"fillmode\":\"overlay\",\"size\":10,\"solidity\":0.2}},\"type\":\"bar\"}],\"barpolar\":[{\"marker\":{\"line\":{\"color\":\"#E5ECF6\",\"width\":0.5},\"pattern\":{\"fillmode\":\"overlay\",\"size\":10,\"solidity\":0.2}},\"type\":\"barpolar\"}],\"carpet\":[{\"aaxis\":{\"endlinecolor\":\"#2a3f5f\",\"gridcolor\":\"white\",\"linecolor\":\"white\",\"minorgridcolor\":\"white\",\"startlinecolor\":\"#2a3f5f\"},\"baxis\":{\"endlinecolor\":\"#2a3f5f\",\"gridcolor\":\"white\",\"linecolor\":\"white\",\"minorgridcolor\":\"white\",\"startlinecolor\":\"#2a3f5f\"},\"type\":\"carpet\"}],\"choropleth\":[{\"colorbar\":{\"outlinewidth\":0,\"ticks\":\"\"},\"type\":\"choropleth\"}],\"contour\":[{\"colorbar\":{\"outlinewidth\":0,\"ticks\":\"\"},\"colorscale\":[[0.0,\"#0d0887\"],[0.1111111111111111,\"#46039f\"],[0.2222222222222222,\"#7201a8\"],[0.3333333333333333,\"#9c179e\"],[0.4444444444444444,\"#bd3786\"],[0.5555555555555556,\"#d8576b\"],[0.6666666666666666,\"#ed7953\"],[0.7777777777777778,\"#fb9f3a\"],[0.8888888888888888,\"#fdca26\"],[1.0,\"#f0f921\"]],\"type\":\"contour\"}],\"contourcarpet\":[{\"colorbar\":{\"outlinewidth\":0,\"ticks\":\"\"},\"type\":\"contourcarpet\"}],\"heatmap\":[{\"colorbar\":{\"outlinewidth\":0,\"ticks\":\"\"},\"colorscale\":[[0.0,\"#0d0887\"],[0.1111111111111111,\"#46039f\"],[0.2222222222222222,\"#7201a8\"],[0.3333333333333333,\"#9c179e\"],[0.4444444444444444,\"#bd3786\"],[0.5555555555555556,\"#d8576b\"],[0.6666666666666666,\"#ed7953\"],[0.7777777777777778,\"#fb9f3a\"],[0.8888888888888888,\"#fdca26\"],[1.0,\"#f0f921\"]],\"type\":\"heatmap\"}],\"heatmapgl\":[{\"colorbar\":{\"outlinewidth\":0,\"ticks\":\"\"},\"colorscale\":[[0.0,\"#0d0887\"],[0.1111111111111111,\"#46039f\"],[0.2222222222222222,\"#7201a8\"],[0.3333333333333333,\"#9c179e\"],[0.4444444444444444,\"#bd3786\"],[0.5555555555555556,\"#d8576b\"],[0.6666666666666666,\"#ed7953\"],[0.7777777777777778,\"#fb9f3a\"],[0.8888888888888888,\"#fdca26\"],[1.0,\"#f0f921\"]],\"type\":\"heatmapgl\"}],\"histogram\":[{\"marker\":{\"pattern\":{\"fillmode\":\"overlay\",\"size\":10,\"solidity\":0.2}},\"type\":\"histogram\"}],\"histogram2d\":[{\"colorbar\":{\"outlinewidth\":0,\"ticks\":\"\"},\"colorscale\":[[0.0,\"#0d0887\"],[0.1111111111111111,\"#46039f\"],[0.2222222222222222,\"#7201a8\"],[0.3333333333333333,\"#9c179e\"],[0.4444444444444444,\"#bd3786\"],[0.5555555555555556,\"#d8576b\"],[0.6666666666666666,\"#ed7953\"],[0.7777777777777778,\"#fb9f3a\"],[0.8888888888888888,\"#fdca26\"],[1.0,\"#f0f921\"]],\"type\":\"histogram2d\"}],\"histogram2dcontour\":[{\"colorbar\":{\"outlinewidth\":0,\"ticks\":\"\"},\"colorscale\":[[0.0,\"#0d0887\"],[0.1111111111111111,\"#46039f\"],[0.2222222222222222,\"#7201a8\"],[0.3333333333333333,\"#9c179e\"],[0.4444444444444444,\"#bd3786\"],[0.5555555555555556,\"#d8576b\"],[0.6666666666666666,\"#ed7953\"],[0.7777777777777778,\"#fb9f3a\"],[0.8888888888888888,\"#fdca26\"],[1.0,\"#f0f921\"]],\"type\":\"histogram2dcontour\"}],\"mesh3d\":[{\"colorbar\":{\"outlinewidth\":0,\"ticks\":\"\"},\"type\":\"mesh3d\"}],\"parcoords\":[{\"line\":{\"colorbar\":{\"outlinewidth\":0,\"ticks\":\"\"}},\"type\":\"parcoords\"}],\"pie\":[{\"automargin\":true,\"type\":\"pie\"}],\"scatter\":[{\"marker\":{\"colorbar\":{\"outlinewidth\":0,\"ticks\":\"\"}},\"type\":\"scatter\"}],\"scatter3d\":[{\"line\":{\"colorbar\":{\"outlinewidth\":0,\"ticks\":\"\"}},\"marker\":{\"colorbar\":{\"outlinewidth\":0,\"ticks\":\"\"}},\"type\":\"scatter3d\"}],\"scattercarpet\":[{\"marker\":{\"colorbar\":{\"outlinewidth\":0,\"ticks\":\"\"}},\"type\":\"scattercarpet\"}],\"scattergeo\":[{\"marker\":{\"colorbar\":{\"outlinewidth\":0,\"ticks\":\"\"}},\"type\":\"scattergeo\"}],\"scattergl\":[{\"marker\":{\"colorbar\":{\"outlinewidth\":0,\"ticks\":\"\"}},\"type\":\"scattergl\"}],\"scattermapbox\":[{\"marker\":{\"colorbar\":{\"outlinewidth\":0,\"ticks\":\"\"}},\"type\":\"scattermapbox\"}],\"scatterpolar\":[{\"marker\":{\"colorbar\":{\"outlinewidth\":0,\"ticks\":\"\"}},\"type\":\"scatterpolar\"}],\"scatterpolargl\":[{\"marker\":{\"colorbar\":{\"outlinewidth\":0,\"ticks\":\"\"}},\"type\":\"scatterpolargl\"}],\"scatterternary\":[{\"marker\":{\"colorbar\":{\"outlinewidth\":0,\"ticks\":\"\"}},\"type\":\"scatterternary\"}],\"surface\":[{\"colorbar\":{\"outlinewidth\":0,\"ticks\":\"\"},\"colorscale\":[[0.0,\"#0d0887\"],[0.1111111111111111,\"#46039f\"],[0.2222222222222222,\"#7201a8\"],[0.3333333333333333,\"#9c179e\"],[0.4444444444444444,\"#bd3786\"],[0.5555555555555556,\"#d8576b\"],[0.6666666666666666,\"#ed7953\"],[0.7777777777777778,\"#fb9f3a\"],[0.8888888888888888,\"#fdca26\"],[1.0,\"#f0f921\"]],\"type\":\"surface\"}],\"table\":[{\"cells\":{\"fill\":{\"color\":\"#EBF0F8\"},\"line\":{\"color\":\"white\"}},\"header\":{\"fill\":{\"color\":\"#C8D4E3\"},\"line\":{\"color\":\"white\"}},\"type\":\"table\"}]},\"layout\":{\"annotationdefaults\":{\"arrowcolor\":\"#2a3f5f\",\"arrowhead\":0,\"arrowwidth\":1},\"autotypenumbers\":\"strict\",\"coloraxis\":{\"colorbar\":{\"outlinewidth\":0,\"ticks\":\"\"}},\"colorscale\":{\"diverging\":[[0,\"#8e0152\"],[0.1,\"#c51b7d\"],[0.2,\"#de77ae\"],[0.3,\"#f1b6da\"],[0.4,\"#fde0ef\"],[0.5,\"#f7f7f7\"],[0.6,\"#e6f5d0\"],[0.7,\"#b8e186\"],[0.8,\"#7fbc41\"],[0.9,\"#4d9221\"],[1,\"#276419\"]],\"sequential\":[[0.0,\"#0d0887\"],[0.1111111111111111,\"#46039f\"],[0.2222222222222222,\"#7201a8\"],[0.3333333333333333,\"#9c179e\"],[0.4444444444444444,\"#bd3786\"],[0.5555555555555556,\"#d8576b\"],[0.6666666666666666,\"#ed7953\"],[0.7777777777777778,\"#fb9f3a\"],[0.8888888888888888,\"#fdca26\"],[1.0,\"#f0f921\"]],\"sequentialminus\":[[0.0,\"#0d0887\"],[0.1111111111111111,\"#46039f\"],[0.2222222222222222,\"#7201a8\"],[0.3333333333333333,\"#9c179e\"],[0.4444444444444444,\"#bd3786\"],[0.5555555555555556,\"#d8576b\"],[0.6666666666666666,\"#ed7953\"],[0.7777777777777778,\"#fb9f3a\"],[0.8888888888888888,\"#fdca26\"],[1.0,\"#f0f921\"]]},\"colorway\":[\"#636efa\",\"#EF553B\",\"#00cc96\",\"#ab63fa\",\"#FFA15A\",\"#19d3f3\",\"#FF6692\",\"#B6E880\",\"#FF97FF\",\"#FECB52\"],\"font\":{\"color\":\"#2a3f5f\"},\"geo\":{\"bgcolor\":\"white\",\"lakecolor\":\"white\",\"landcolor\":\"#E5ECF6\",\"showlakes\":true,\"showland\":true,\"subunitcolor\":\"white\"},\"hoverlabel\":{\"align\":\"left\"},\"hovermode\":\"closest\",\"mapbox\":{\"style\":\"light\"},\"paper_bgcolor\":\"white\",\"plot_bgcolor\":\"#E5ECF6\",\"polar\":{\"angularaxis\":{\"gridcolor\":\"white\",\"linecolor\":\"white\",\"ticks\":\"\"},\"bgcolor\":\"#E5ECF6\",\"radialaxis\":{\"gridcolor\":\"white\",\"linecolor\":\"white\",\"ticks\":\"\"}},\"scene\":{\"xaxis\":{\"backgroundcolor\":\"#E5ECF6\",\"gridcolor\":\"white\",\"gridwidth\":2,\"linecolor\":\"white\",\"showbackground\":true,\"ticks\":\"\",\"zerolinecolor\":\"white\"},\"yaxis\":{\"backgroundcolor\":\"#E5ECF6\",\"gridcolor\":\"white\",\"gridwidth\":2,\"linecolor\":\"white\",\"showbackground\":true,\"ticks\":\"\",\"zerolinecolor\":\"white\"},\"zaxis\":{\"backgroundcolor\":\"#E5ECF6\",\"gridcolor\":\"white\",\"gridwidth\":2,\"linecolor\":\"white\",\"showbackground\":true,\"ticks\":\"\",\"zerolinecolor\":\"white\"}},\"shapedefaults\":{\"line\":{\"color\":\"#2a3f5f\"}},\"ternary\":{\"aaxis\":{\"gridcolor\":\"white\",\"linecolor\":\"white\",\"ticks\":\"\"},\"baxis\":{\"gridcolor\":\"white\",\"linecolor\":\"white\",\"ticks\":\"\"},\"bgcolor\":\"#E5ECF6\",\"caxis\":{\"gridcolor\":\"white\",\"linecolor\":\"white\",\"ticks\":\"\"}},\"title\":{\"x\":0.05},\"xaxis\":{\"automargin\":true,\"gridcolor\":\"white\",\"linecolor\":\"white\",\"ticks\":\"\",\"title\":{\"standoff\":15},\"zerolinecolor\":\"white\",\"zerolinewidth\":2},\"yaxis\":{\"automargin\":true,\"gridcolor\":\"white\",\"linecolor\":\"white\",\"ticks\":\"\",\"title\":{\"standoff\":15},\"zerolinecolor\":\"white\",\"zerolinewidth\":2}}},\"title\":{\"font\":{\"color\":\"#4D5663\"}},\"xaxis\":{\"gridcolor\":\"#E1E5ED\",\"showgrid\":true,\"tickfont\":{\"color\":\"#4D5663\"},\"title\":{\"font\":{\"color\":\"#4D5663\"},\"text\":\"\"},\"zerolinecolor\":\"#E1E5ED\"},\"xaxis2\":{\"anchor\":\"y2\",\"gridcolor\":\"#E1E5ED\",\"showgrid\":true,\"showticklabels\":false,\"tickfont\":{\"color\":\"#4D5663\"},\"title\":{\"font\":{\"color\":\"#4D5663\"},\"text\":\"\"},\"zerolinecolor\":\"#E1E5ED\"},\"yaxis\":{\"domain\":[0.3,1],\"gridcolor\":\"#E1E5ED\",\"showgrid\":true,\"tickfont\":{\"color\":\"#4D5663\"},\"title\":{\"font\":{\"color\":\"#4D5663\"},\"text\":\"\"},\"zerolinecolor\":\"#E1E5ED\"},\"yaxis2\":{\"domain\":[0,0.25],\"gridcolor\":\"#E1E5ED\",\"showgrid\":true,\"tickfont\":{\"color\":\"#4D5663\"},\"title\":{\"font\":{\"color\":\"#4D5663\"},\"text\":\"Spread\"},\"zerolinecolor\":\"#E1E5ED\"}},                        {\"showLink\": true, \"linkText\": \"Export to plot.ly\", \"plotlyServerURL\": \"https://plot.ly\", \"responsive\": true}                    ).then(function(){\n",
       "                            \n",
       "var gd = document.getElementById('333dfb4c-e8b0-48d0-b35b-c141cc3ce3c6');\n",
       "var x = new MutationObserver(function (mutations, observer) {{\n",
       "        var display = window.getComputedStyle(gd).display;\n",
       "        if (!display || display === 'none') {{\n",
       "            console.log([gd, 'removed!']);\n",
       "            Plotly.purge(gd);\n",
       "            observer.disconnect();\n",
       "        }}\n",
       "}});\n",
       "\n",
       "// Listen for the removal of the full notebook cells\n",
       "var notebookContainer = gd.closest('#notebook-container');\n",
       "if (notebookContainer) {{\n",
       "    x.observe(notebookContainer, {childList: true});\n",
       "}}\n",
       "\n",
       "// Listen for the clearing of the current output cell\n",
       "var outputEl = gd.closest('.output');\n",
       "if (outputEl) {{\n",
       "    x.observe(outputEl, {childList: true});\n",
       "}}\n",
       "\n",
       "                        })                };                });            </script>        </div>"
      ]
     },
     "metadata": {},
     "output_type": "display_data"
    }
   ],
   "source": [
    "df[['A','B']].iplot(kind='spread')"
   ]
  },
  {
   "cell_type": "markdown",
   "metadata": {},
   "source": [
    "## histogram"
   ]
  },
  {
   "cell_type": "code",
   "execution_count": 17,
   "metadata": {},
   "outputs": [
    {
     "data": {
      "application/vnd.plotly.v1+json": {
       "config": {
        "linkText": "Export to plot.ly",
        "plotlyServerURL": "https://plot.ly",
        "showLink": true
       },
       "data": [
        {
         "histfunc": "count",
         "histnorm": "",
         "marker": {
          "color": "rgba(255, 153, 51, 1.0)",
          "line": {
           "color": "#4D5663",
           "width": 1.3
          }
         },
         "name": "A",
         "nbinsx": 25,
         "opacity": 0.8,
         "orientation": "v",
         "type": "histogram",
         "x": [
          -0.00575823250580768,
          0.6357526536260791,
          1.2078823963791712,
          -0.4284366096975284,
          1.014145002542919,
          0.7054570499036387,
          -0.831478411217752,
          0.7728642327825064,
          0.7004697184507643,
          -1.231776416875097,
          -0.41401563481878434,
          1.1322856480346852,
          -0.39318595015558194,
          0.5263569154400487,
          0.3180291798716228,
          -0.22261827109346366,
          -1.6724197269192995,
          1.2783835503365846,
          -0.23993427251882554,
          -1.2484416732220707,
          0.5976488349424885,
          0.385677861181226,
          0.2560357823013782,
          -0.24619265351844694,
          2.2568470203373674,
          -2.15083769218194,
          1.5485306040937072,
          2.208994013492354,
          -1.499416587196466,
          1.1062623038209496,
          2.044744563145898,
          2.248361168621705,
          -0.6932520400964282,
          -0.12777423865974202,
          -1.9106494770833462,
          -1.212102180027225,
          -0.7757931969671343,
          -0.38744488026458784,
          -0.9463586424105409,
          1.6727887899650369,
          0.7217853129625886,
          -0.3313144221162863,
          0.6960026389981161,
          -0.6648173991171903,
          -0.8112860943469768,
          0.18082540347147127,
          1.3919630873733102,
          0.46382781671231865,
          -0.4115516140752952,
          0.9607193536511318,
          0.4855991638247819,
          -0.21715498311319506,
          -0.7347433916366071,
          0.9092951485461442,
          -2.0243405611992284,
          -1.225125636319877,
          -1.203029999997798,
          -0.6922336491755662,
          0.7660882197370672,
          0.11924644243358365,
          -1.088168686653994,
          1.1392452652594254,
          0.8146955230795004,
          -0.42734587533719665,
          1.2324680519582198,
          -1.1320953576596426,
          -0.30882776595725697,
          1.3663297636529603,
          0.37183579662600236,
          -1.1194792770930226,
          1.8284249216869883,
          1.3609247420075428,
          0.07122539323985272,
          -0.14829238264489364,
          -1.668889594574335,
          0.8066878771001542,
          0.7748156562794538,
          0.6497469973121999,
          2.1398027883949355,
          -1.0978266962978387,
          0.2281853014743535,
          -0.14931126628854363,
          1.4221579843061756,
          0.6914847803397621,
          0.1499341952277375,
          1.012089635627416,
          1.0610786107361148,
          0.8914013131752377,
          0.01231561343508519,
          0.26446277258881523,
          1.5752184579993507,
          -0.8798468402860836,
          1.745915075941031,
          2.15336063842221,
          -0.8801911033186313,
          1.1694085578453528,
          0.4981842791617605,
          0.2074732217252558,
          -0.8480967148262764,
          0.23707951484827536
         ]
        }
       ],
       "layout": {
        "barmode": "overlay",
        "legend": {
         "bgcolor": "#F5F6F9",
         "font": {
          "color": "#4D5663"
         }
        },
        "paper_bgcolor": "#F5F6F9",
        "plot_bgcolor": "#F5F6F9",
        "template": {
         "data": {
          "bar": [
           {
            "error_x": {
             "color": "#2a3f5f"
            },
            "error_y": {
             "color": "#2a3f5f"
            },
            "marker": {
             "line": {
              "color": "#E5ECF6",
              "width": 0.5
             },
             "pattern": {
              "fillmode": "overlay",
              "size": 10,
              "solidity": 0.2
             }
            },
            "type": "bar"
           }
          ],
          "barpolar": [
           {
            "marker": {
             "line": {
              "color": "#E5ECF6",
              "width": 0.5
             },
             "pattern": {
              "fillmode": "overlay",
              "size": 10,
              "solidity": 0.2
             }
            },
            "type": "barpolar"
           }
          ],
          "carpet": [
           {
            "aaxis": {
             "endlinecolor": "#2a3f5f",
             "gridcolor": "white",
             "linecolor": "white",
             "minorgridcolor": "white",
             "startlinecolor": "#2a3f5f"
            },
            "baxis": {
             "endlinecolor": "#2a3f5f",
             "gridcolor": "white",
             "linecolor": "white",
             "minorgridcolor": "white",
             "startlinecolor": "#2a3f5f"
            },
            "type": "carpet"
           }
          ],
          "choropleth": [
           {
            "colorbar": {
             "outlinewidth": 0,
             "ticks": ""
            },
            "type": "choropleth"
           }
          ],
          "contour": [
           {
            "colorbar": {
             "outlinewidth": 0,
             "ticks": ""
            },
            "colorscale": [
             [
              0,
              "#0d0887"
             ],
             [
              0.1111111111111111,
              "#46039f"
             ],
             [
              0.2222222222222222,
              "#7201a8"
             ],
             [
              0.3333333333333333,
              "#9c179e"
             ],
             [
              0.4444444444444444,
              "#bd3786"
             ],
             [
              0.5555555555555556,
              "#d8576b"
             ],
             [
              0.6666666666666666,
              "#ed7953"
             ],
             [
              0.7777777777777778,
              "#fb9f3a"
             ],
             [
              0.8888888888888888,
              "#fdca26"
             ],
             [
              1,
              "#f0f921"
             ]
            ],
            "type": "contour"
           }
          ],
          "contourcarpet": [
           {
            "colorbar": {
             "outlinewidth": 0,
             "ticks": ""
            },
            "type": "contourcarpet"
           }
          ],
          "heatmap": [
           {
            "colorbar": {
             "outlinewidth": 0,
             "ticks": ""
            },
            "colorscale": [
             [
              0,
              "#0d0887"
             ],
             [
              0.1111111111111111,
              "#46039f"
             ],
             [
              0.2222222222222222,
              "#7201a8"
             ],
             [
              0.3333333333333333,
              "#9c179e"
             ],
             [
              0.4444444444444444,
              "#bd3786"
             ],
             [
              0.5555555555555556,
              "#d8576b"
             ],
             [
              0.6666666666666666,
              "#ed7953"
             ],
             [
              0.7777777777777778,
              "#fb9f3a"
             ],
             [
              0.8888888888888888,
              "#fdca26"
             ],
             [
              1,
              "#f0f921"
             ]
            ],
            "type": "heatmap"
           }
          ],
          "heatmapgl": [
           {
            "colorbar": {
             "outlinewidth": 0,
             "ticks": ""
            },
            "colorscale": [
             [
              0,
              "#0d0887"
             ],
             [
              0.1111111111111111,
              "#46039f"
             ],
             [
              0.2222222222222222,
              "#7201a8"
             ],
             [
              0.3333333333333333,
              "#9c179e"
             ],
             [
              0.4444444444444444,
              "#bd3786"
             ],
             [
              0.5555555555555556,
              "#d8576b"
             ],
             [
              0.6666666666666666,
              "#ed7953"
             ],
             [
              0.7777777777777778,
              "#fb9f3a"
             ],
             [
              0.8888888888888888,
              "#fdca26"
             ],
             [
              1,
              "#f0f921"
             ]
            ],
            "type": "heatmapgl"
           }
          ],
          "histogram": [
           {
            "marker": {
             "pattern": {
              "fillmode": "overlay",
              "size": 10,
              "solidity": 0.2
             }
            },
            "type": "histogram"
           }
          ],
          "histogram2d": [
           {
            "colorbar": {
             "outlinewidth": 0,
             "ticks": ""
            },
            "colorscale": [
             [
              0,
              "#0d0887"
             ],
             [
              0.1111111111111111,
              "#46039f"
             ],
             [
              0.2222222222222222,
              "#7201a8"
             ],
             [
              0.3333333333333333,
              "#9c179e"
             ],
             [
              0.4444444444444444,
              "#bd3786"
             ],
             [
              0.5555555555555556,
              "#d8576b"
             ],
             [
              0.6666666666666666,
              "#ed7953"
             ],
             [
              0.7777777777777778,
              "#fb9f3a"
             ],
             [
              0.8888888888888888,
              "#fdca26"
             ],
             [
              1,
              "#f0f921"
             ]
            ],
            "type": "histogram2d"
           }
          ],
          "histogram2dcontour": [
           {
            "colorbar": {
             "outlinewidth": 0,
             "ticks": ""
            },
            "colorscale": [
             [
              0,
              "#0d0887"
             ],
             [
              0.1111111111111111,
              "#46039f"
             ],
             [
              0.2222222222222222,
              "#7201a8"
             ],
             [
              0.3333333333333333,
              "#9c179e"
             ],
             [
              0.4444444444444444,
              "#bd3786"
             ],
             [
              0.5555555555555556,
              "#d8576b"
             ],
             [
              0.6666666666666666,
              "#ed7953"
             ],
             [
              0.7777777777777778,
              "#fb9f3a"
             ],
             [
              0.8888888888888888,
              "#fdca26"
             ],
             [
              1,
              "#f0f921"
             ]
            ],
            "type": "histogram2dcontour"
           }
          ],
          "mesh3d": [
           {
            "colorbar": {
             "outlinewidth": 0,
             "ticks": ""
            },
            "type": "mesh3d"
           }
          ],
          "parcoords": [
           {
            "line": {
             "colorbar": {
              "outlinewidth": 0,
              "ticks": ""
             }
            },
            "type": "parcoords"
           }
          ],
          "pie": [
           {
            "automargin": true,
            "type": "pie"
           }
          ],
          "scatter": [
           {
            "marker": {
             "colorbar": {
              "outlinewidth": 0,
              "ticks": ""
             }
            },
            "type": "scatter"
           }
          ],
          "scatter3d": [
           {
            "line": {
             "colorbar": {
              "outlinewidth": 0,
              "ticks": ""
             }
            },
            "marker": {
             "colorbar": {
              "outlinewidth": 0,
              "ticks": ""
             }
            },
            "type": "scatter3d"
           }
          ],
          "scattercarpet": [
           {
            "marker": {
             "colorbar": {
              "outlinewidth": 0,
              "ticks": ""
             }
            },
            "type": "scattercarpet"
           }
          ],
          "scattergeo": [
           {
            "marker": {
             "colorbar": {
              "outlinewidth": 0,
              "ticks": ""
             }
            },
            "type": "scattergeo"
           }
          ],
          "scattergl": [
           {
            "marker": {
             "colorbar": {
              "outlinewidth": 0,
              "ticks": ""
             }
            },
            "type": "scattergl"
           }
          ],
          "scattermapbox": [
           {
            "marker": {
             "colorbar": {
              "outlinewidth": 0,
              "ticks": ""
             }
            },
            "type": "scattermapbox"
           }
          ],
          "scatterpolar": [
           {
            "marker": {
             "colorbar": {
              "outlinewidth": 0,
              "ticks": ""
             }
            },
            "type": "scatterpolar"
           }
          ],
          "scatterpolargl": [
           {
            "marker": {
             "colorbar": {
              "outlinewidth": 0,
              "ticks": ""
             }
            },
            "type": "scatterpolargl"
           }
          ],
          "scatterternary": [
           {
            "marker": {
             "colorbar": {
              "outlinewidth": 0,
              "ticks": ""
             }
            },
            "type": "scatterternary"
           }
          ],
          "surface": [
           {
            "colorbar": {
             "outlinewidth": 0,
             "ticks": ""
            },
            "colorscale": [
             [
              0,
              "#0d0887"
             ],
             [
              0.1111111111111111,
              "#46039f"
             ],
             [
              0.2222222222222222,
              "#7201a8"
             ],
             [
              0.3333333333333333,
              "#9c179e"
             ],
             [
              0.4444444444444444,
              "#bd3786"
             ],
             [
              0.5555555555555556,
              "#d8576b"
             ],
             [
              0.6666666666666666,
              "#ed7953"
             ],
             [
              0.7777777777777778,
              "#fb9f3a"
             ],
             [
              0.8888888888888888,
              "#fdca26"
             ],
             [
              1,
              "#f0f921"
             ]
            ],
            "type": "surface"
           }
          ],
          "table": [
           {
            "cells": {
             "fill": {
              "color": "#EBF0F8"
             },
             "line": {
              "color": "white"
             }
            },
            "header": {
             "fill": {
              "color": "#C8D4E3"
             },
             "line": {
              "color": "white"
             }
            },
            "type": "table"
           }
          ]
         },
         "layout": {
          "annotationdefaults": {
           "arrowcolor": "#2a3f5f",
           "arrowhead": 0,
           "arrowwidth": 1
          },
          "autotypenumbers": "strict",
          "coloraxis": {
           "colorbar": {
            "outlinewidth": 0,
            "ticks": ""
           }
          },
          "colorscale": {
           "diverging": [
            [
             0,
             "#8e0152"
            ],
            [
             0.1,
             "#c51b7d"
            ],
            [
             0.2,
             "#de77ae"
            ],
            [
             0.3,
             "#f1b6da"
            ],
            [
             0.4,
             "#fde0ef"
            ],
            [
             0.5,
             "#f7f7f7"
            ],
            [
             0.6,
             "#e6f5d0"
            ],
            [
             0.7,
             "#b8e186"
            ],
            [
             0.8,
             "#7fbc41"
            ],
            [
             0.9,
             "#4d9221"
            ],
            [
             1,
             "#276419"
            ]
           ],
           "sequential": [
            [
             0,
             "#0d0887"
            ],
            [
             0.1111111111111111,
             "#46039f"
            ],
            [
             0.2222222222222222,
             "#7201a8"
            ],
            [
             0.3333333333333333,
             "#9c179e"
            ],
            [
             0.4444444444444444,
             "#bd3786"
            ],
            [
             0.5555555555555556,
             "#d8576b"
            ],
            [
             0.6666666666666666,
             "#ed7953"
            ],
            [
             0.7777777777777778,
             "#fb9f3a"
            ],
            [
             0.8888888888888888,
             "#fdca26"
            ],
            [
             1,
             "#f0f921"
            ]
           ],
           "sequentialminus": [
            [
             0,
             "#0d0887"
            ],
            [
             0.1111111111111111,
             "#46039f"
            ],
            [
             0.2222222222222222,
             "#7201a8"
            ],
            [
             0.3333333333333333,
             "#9c179e"
            ],
            [
             0.4444444444444444,
             "#bd3786"
            ],
            [
             0.5555555555555556,
             "#d8576b"
            ],
            [
             0.6666666666666666,
             "#ed7953"
            ],
            [
             0.7777777777777778,
             "#fb9f3a"
            ],
            [
             0.8888888888888888,
             "#fdca26"
            ],
            [
             1,
             "#f0f921"
            ]
           ]
          },
          "colorway": [
           "#636efa",
           "#EF553B",
           "#00cc96",
           "#ab63fa",
           "#FFA15A",
           "#19d3f3",
           "#FF6692",
           "#B6E880",
           "#FF97FF",
           "#FECB52"
          ],
          "font": {
           "color": "#2a3f5f"
          },
          "geo": {
           "bgcolor": "white",
           "lakecolor": "white",
           "landcolor": "#E5ECF6",
           "showlakes": true,
           "showland": true,
           "subunitcolor": "white"
          },
          "hoverlabel": {
           "align": "left"
          },
          "hovermode": "closest",
          "mapbox": {
           "style": "light"
          },
          "paper_bgcolor": "white",
          "plot_bgcolor": "#E5ECF6",
          "polar": {
           "angularaxis": {
            "gridcolor": "white",
            "linecolor": "white",
            "ticks": ""
           },
           "bgcolor": "#E5ECF6",
           "radialaxis": {
            "gridcolor": "white",
            "linecolor": "white",
            "ticks": ""
           }
          },
          "scene": {
           "xaxis": {
            "backgroundcolor": "#E5ECF6",
            "gridcolor": "white",
            "gridwidth": 2,
            "linecolor": "white",
            "showbackground": true,
            "ticks": "",
            "zerolinecolor": "white"
           },
           "yaxis": {
            "backgroundcolor": "#E5ECF6",
            "gridcolor": "white",
            "gridwidth": 2,
            "linecolor": "white",
            "showbackground": true,
            "ticks": "",
            "zerolinecolor": "white"
           },
           "zaxis": {
            "backgroundcolor": "#E5ECF6",
            "gridcolor": "white",
            "gridwidth": 2,
            "linecolor": "white",
            "showbackground": true,
            "ticks": "",
            "zerolinecolor": "white"
           }
          },
          "shapedefaults": {
           "line": {
            "color": "#2a3f5f"
           }
          },
          "ternary": {
           "aaxis": {
            "gridcolor": "white",
            "linecolor": "white",
            "ticks": ""
           },
           "baxis": {
            "gridcolor": "white",
            "linecolor": "white",
            "ticks": ""
           },
           "bgcolor": "#E5ECF6",
           "caxis": {
            "gridcolor": "white",
            "linecolor": "white",
            "ticks": ""
           }
          },
          "title": {
           "x": 0.05
          },
          "xaxis": {
           "automargin": true,
           "gridcolor": "white",
           "linecolor": "white",
           "ticks": "",
           "title": {
            "standoff": 15
           },
           "zerolinecolor": "white",
           "zerolinewidth": 2
          },
          "yaxis": {
           "automargin": true,
           "gridcolor": "white",
           "linecolor": "white",
           "ticks": "",
           "title": {
            "standoff": 15
           },
           "zerolinecolor": "white",
           "zerolinewidth": 2
          }
         }
        },
        "title": {
         "font": {
          "color": "#4D5663"
         }
        },
        "xaxis": {
         "gridcolor": "#E1E5ED",
         "showgrid": true,
         "tickfont": {
          "color": "#4D5663"
         },
         "title": {
          "font": {
           "color": "#4D5663"
          },
          "text": ""
         },
         "zerolinecolor": "#E1E5ED"
        },
        "yaxis": {
         "gridcolor": "#E1E5ED",
         "showgrid": true,
         "tickfont": {
          "color": "#4D5663"
         },
         "title": {
          "font": {
           "color": "#4D5663"
          },
          "text": ""
         },
         "zerolinecolor": "#E1E5ED"
        }
       }
      },
      "text/html": [
       "<div>                            <div id=\"aa83956e-bbd3-451d-8208-b41217db5118\" class=\"plotly-graph-div\" style=\"height:525px; width:100%;\"></div>            <script type=\"text/javascript\">                require([\"plotly\"], function(Plotly) {                    window.PLOTLYENV=window.PLOTLYENV || {};\n",
       "                    window.PLOTLYENV.BASE_URL='https://plot.ly';                                    if (document.getElementById(\"aa83956e-bbd3-451d-8208-b41217db5118\")) {                    Plotly.newPlot(                        \"aa83956e-bbd3-451d-8208-b41217db5118\",                        [{\"histfunc\":\"count\",\"histnorm\":\"\",\"marker\":{\"color\":\"rgba(255, 153, 51, 1.0)\",\"line\":{\"color\":\"#4D5663\",\"width\":1.3}},\"name\":\"A\",\"nbinsx\":25,\"opacity\":0.8,\"orientation\":\"v\",\"type\":\"histogram\",\"x\":[-0.00575823250580768,0.6357526536260791,1.2078823963791712,-0.4284366096975284,1.014145002542919,0.7054570499036387,-0.831478411217752,0.7728642327825064,0.7004697184507643,-1.231776416875097,-0.41401563481878434,1.1322856480346852,-0.39318595015558194,0.5263569154400487,0.3180291798716228,-0.22261827109346366,-1.6724197269192995,1.2783835503365846,-0.23993427251882554,-1.2484416732220707,0.5976488349424885,0.385677861181226,0.2560357823013782,-0.24619265351844694,2.2568470203373674,-2.15083769218194,1.5485306040937072,2.208994013492354,-1.499416587196466,1.1062623038209496,2.044744563145898,2.248361168621705,-0.6932520400964282,-0.12777423865974202,-1.9106494770833462,-1.212102180027225,-0.7757931969671343,-0.38744488026458784,-0.9463586424105409,1.6727887899650369,0.7217853129625886,-0.3313144221162863,0.6960026389981161,-0.6648173991171903,-0.8112860943469768,0.18082540347147127,1.3919630873733102,0.46382781671231865,-0.4115516140752952,0.9607193536511318,0.4855991638247819,-0.21715498311319506,-0.7347433916366071,0.9092951485461442,-2.0243405611992284,-1.225125636319877,-1.203029999997798,-0.6922336491755662,0.7660882197370672,0.11924644243358365,-1.088168686653994,1.1392452652594254,0.8146955230795004,-0.42734587533719665,1.2324680519582198,-1.1320953576596426,-0.30882776595725697,1.3663297636529603,0.37183579662600236,-1.1194792770930226,1.8284249216869883,1.3609247420075428,0.07122539323985272,-0.14829238264489364,-1.668889594574335,0.8066878771001542,0.7748156562794538,0.6497469973121999,2.1398027883949355,-1.0978266962978387,0.2281853014743535,-0.14931126628854363,1.4221579843061756,0.6914847803397621,0.1499341952277375,1.012089635627416,1.0610786107361148,0.8914013131752377,0.01231561343508519,0.26446277258881523,1.5752184579993507,-0.8798468402860836,1.745915075941031,2.15336063842221,-0.8801911033186313,1.1694085578453528,0.4981842791617605,0.2074732217252558,-0.8480967148262764,0.23707951484827536]}],                        {\"barmode\":\"overlay\",\"legend\":{\"bgcolor\":\"#F5F6F9\",\"font\":{\"color\":\"#4D5663\"}},\"paper_bgcolor\":\"#F5F6F9\",\"plot_bgcolor\":\"#F5F6F9\",\"template\":{\"data\":{\"bar\":[{\"error_x\":{\"color\":\"#2a3f5f\"},\"error_y\":{\"color\":\"#2a3f5f\"},\"marker\":{\"line\":{\"color\":\"#E5ECF6\",\"width\":0.5},\"pattern\":{\"fillmode\":\"overlay\",\"size\":10,\"solidity\":0.2}},\"type\":\"bar\"}],\"barpolar\":[{\"marker\":{\"line\":{\"color\":\"#E5ECF6\",\"width\":0.5},\"pattern\":{\"fillmode\":\"overlay\",\"size\":10,\"solidity\":0.2}},\"type\":\"barpolar\"}],\"carpet\":[{\"aaxis\":{\"endlinecolor\":\"#2a3f5f\",\"gridcolor\":\"white\",\"linecolor\":\"white\",\"minorgridcolor\":\"white\",\"startlinecolor\":\"#2a3f5f\"},\"baxis\":{\"endlinecolor\":\"#2a3f5f\",\"gridcolor\":\"white\",\"linecolor\":\"white\",\"minorgridcolor\":\"white\",\"startlinecolor\":\"#2a3f5f\"},\"type\":\"carpet\"}],\"choropleth\":[{\"colorbar\":{\"outlinewidth\":0,\"ticks\":\"\"},\"type\":\"choropleth\"}],\"contour\":[{\"colorbar\":{\"outlinewidth\":0,\"ticks\":\"\"},\"colorscale\":[[0.0,\"#0d0887\"],[0.1111111111111111,\"#46039f\"],[0.2222222222222222,\"#7201a8\"],[0.3333333333333333,\"#9c179e\"],[0.4444444444444444,\"#bd3786\"],[0.5555555555555556,\"#d8576b\"],[0.6666666666666666,\"#ed7953\"],[0.7777777777777778,\"#fb9f3a\"],[0.8888888888888888,\"#fdca26\"],[1.0,\"#f0f921\"]],\"type\":\"contour\"}],\"contourcarpet\":[{\"colorbar\":{\"outlinewidth\":0,\"ticks\":\"\"},\"type\":\"contourcarpet\"}],\"heatmap\":[{\"colorbar\":{\"outlinewidth\":0,\"ticks\":\"\"},\"colorscale\":[[0.0,\"#0d0887\"],[0.1111111111111111,\"#46039f\"],[0.2222222222222222,\"#7201a8\"],[0.3333333333333333,\"#9c179e\"],[0.4444444444444444,\"#bd3786\"],[0.5555555555555556,\"#d8576b\"],[0.6666666666666666,\"#ed7953\"],[0.7777777777777778,\"#fb9f3a\"],[0.8888888888888888,\"#fdca26\"],[1.0,\"#f0f921\"]],\"type\":\"heatmap\"}],\"heatmapgl\":[{\"colorbar\":{\"outlinewidth\":0,\"ticks\":\"\"},\"colorscale\":[[0.0,\"#0d0887\"],[0.1111111111111111,\"#46039f\"],[0.2222222222222222,\"#7201a8\"],[0.3333333333333333,\"#9c179e\"],[0.4444444444444444,\"#bd3786\"],[0.5555555555555556,\"#d8576b\"],[0.6666666666666666,\"#ed7953\"],[0.7777777777777778,\"#fb9f3a\"],[0.8888888888888888,\"#fdca26\"],[1.0,\"#f0f921\"]],\"type\":\"heatmapgl\"}],\"histogram\":[{\"marker\":{\"pattern\":{\"fillmode\":\"overlay\",\"size\":10,\"solidity\":0.2}},\"type\":\"histogram\"}],\"histogram2d\":[{\"colorbar\":{\"outlinewidth\":0,\"ticks\":\"\"},\"colorscale\":[[0.0,\"#0d0887\"],[0.1111111111111111,\"#46039f\"],[0.2222222222222222,\"#7201a8\"],[0.3333333333333333,\"#9c179e\"],[0.4444444444444444,\"#bd3786\"],[0.5555555555555556,\"#d8576b\"],[0.6666666666666666,\"#ed7953\"],[0.7777777777777778,\"#fb9f3a\"],[0.8888888888888888,\"#fdca26\"],[1.0,\"#f0f921\"]],\"type\":\"histogram2d\"}],\"histogram2dcontour\":[{\"colorbar\":{\"outlinewidth\":0,\"ticks\":\"\"},\"colorscale\":[[0.0,\"#0d0887\"],[0.1111111111111111,\"#46039f\"],[0.2222222222222222,\"#7201a8\"],[0.3333333333333333,\"#9c179e\"],[0.4444444444444444,\"#bd3786\"],[0.5555555555555556,\"#d8576b\"],[0.6666666666666666,\"#ed7953\"],[0.7777777777777778,\"#fb9f3a\"],[0.8888888888888888,\"#fdca26\"],[1.0,\"#f0f921\"]],\"type\":\"histogram2dcontour\"}],\"mesh3d\":[{\"colorbar\":{\"outlinewidth\":0,\"ticks\":\"\"},\"type\":\"mesh3d\"}],\"parcoords\":[{\"line\":{\"colorbar\":{\"outlinewidth\":0,\"ticks\":\"\"}},\"type\":\"parcoords\"}],\"pie\":[{\"automargin\":true,\"type\":\"pie\"}],\"scatter\":[{\"marker\":{\"colorbar\":{\"outlinewidth\":0,\"ticks\":\"\"}},\"type\":\"scatter\"}],\"scatter3d\":[{\"line\":{\"colorbar\":{\"outlinewidth\":0,\"ticks\":\"\"}},\"marker\":{\"colorbar\":{\"outlinewidth\":0,\"ticks\":\"\"}},\"type\":\"scatter3d\"}],\"scattercarpet\":[{\"marker\":{\"colorbar\":{\"outlinewidth\":0,\"ticks\":\"\"}},\"type\":\"scattercarpet\"}],\"scattergeo\":[{\"marker\":{\"colorbar\":{\"outlinewidth\":0,\"ticks\":\"\"}},\"type\":\"scattergeo\"}],\"scattergl\":[{\"marker\":{\"colorbar\":{\"outlinewidth\":0,\"ticks\":\"\"}},\"type\":\"scattergl\"}],\"scattermapbox\":[{\"marker\":{\"colorbar\":{\"outlinewidth\":0,\"ticks\":\"\"}},\"type\":\"scattermapbox\"}],\"scatterpolar\":[{\"marker\":{\"colorbar\":{\"outlinewidth\":0,\"ticks\":\"\"}},\"type\":\"scatterpolar\"}],\"scatterpolargl\":[{\"marker\":{\"colorbar\":{\"outlinewidth\":0,\"ticks\":\"\"}},\"type\":\"scatterpolargl\"}],\"scatterternary\":[{\"marker\":{\"colorbar\":{\"outlinewidth\":0,\"ticks\":\"\"}},\"type\":\"scatterternary\"}],\"surface\":[{\"colorbar\":{\"outlinewidth\":0,\"ticks\":\"\"},\"colorscale\":[[0.0,\"#0d0887\"],[0.1111111111111111,\"#46039f\"],[0.2222222222222222,\"#7201a8\"],[0.3333333333333333,\"#9c179e\"],[0.4444444444444444,\"#bd3786\"],[0.5555555555555556,\"#d8576b\"],[0.6666666666666666,\"#ed7953\"],[0.7777777777777778,\"#fb9f3a\"],[0.8888888888888888,\"#fdca26\"],[1.0,\"#f0f921\"]],\"type\":\"surface\"}],\"table\":[{\"cells\":{\"fill\":{\"color\":\"#EBF0F8\"},\"line\":{\"color\":\"white\"}},\"header\":{\"fill\":{\"color\":\"#C8D4E3\"},\"line\":{\"color\":\"white\"}},\"type\":\"table\"}]},\"layout\":{\"annotationdefaults\":{\"arrowcolor\":\"#2a3f5f\",\"arrowhead\":0,\"arrowwidth\":1},\"autotypenumbers\":\"strict\",\"coloraxis\":{\"colorbar\":{\"outlinewidth\":0,\"ticks\":\"\"}},\"colorscale\":{\"diverging\":[[0,\"#8e0152\"],[0.1,\"#c51b7d\"],[0.2,\"#de77ae\"],[0.3,\"#f1b6da\"],[0.4,\"#fde0ef\"],[0.5,\"#f7f7f7\"],[0.6,\"#e6f5d0\"],[0.7,\"#b8e186\"],[0.8,\"#7fbc41\"],[0.9,\"#4d9221\"],[1,\"#276419\"]],\"sequential\":[[0.0,\"#0d0887\"],[0.1111111111111111,\"#46039f\"],[0.2222222222222222,\"#7201a8\"],[0.3333333333333333,\"#9c179e\"],[0.4444444444444444,\"#bd3786\"],[0.5555555555555556,\"#d8576b\"],[0.6666666666666666,\"#ed7953\"],[0.7777777777777778,\"#fb9f3a\"],[0.8888888888888888,\"#fdca26\"],[1.0,\"#f0f921\"]],\"sequentialminus\":[[0.0,\"#0d0887\"],[0.1111111111111111,\"#46039f\"],[0.2222222222222222,\"#7201a8\"],[0.3333333333333333,\"#9c179e\"],[0.4444444444444444,\"#bd3786\"],[0.5555555555555556,\"#d8576b\"],[0.6666666666666666,\"#ed7953\"],[0.7777777777777778,\"#fb9f3a\"],[0.8888888888888888,\"#fdca26\"],[1.0,\"#f0f921\"]]},\"colorway\":[\"#636efa\",\"#EF553B\",\"#00cc96\",\"#ab63fa\",\"#FFA15A\",\"#19d3f3\",\"#FF6692\",\"#B6E880\",\"#FF97FF\",\"#FECB52\"],\"font\":{\"color\":\"#2a3f5f\"},\"geo\":{\"bgcolor\":\"white\",\"lakecolor\":\"white\",\"landcolor\":\"#E5ECF6\",\"showlakes\":true,\"showland\":true,\"subunitcolor\":\"white\"},\"hoverlabel\":{\"align\":\"left\"},\"hovermode\":\"closest\",\"mapbox\":{\"style\":\"light\"},\"paper_bgcolor\":\"white\",\"plot_bgcolor\":\"#E5ECF6\",\"polar\":{\"angularaxis\":{\"gridcolor\":\"white\",\"linecolor\":\"white\",\"ticks\":\"\"},\"bgcolor\":\"#E5ECF6\",\"radialaxis\":{\"gridcolor\":\"white\",\"linecolor\":\"white\",\"ticks\":\"\"}},\"scene\":{\"xaxis\":{\"backgroundcolor\":\"#E5ECF6\",\"gridcolor\":\"white\",\"gridwidth\":2,\"linecolor\":\"white\",\"showbackground\":true,\"ticks\":\"\",\"zerolinecolor\":\"white\"},\"yaxis\":{\"backgroundcolor\":\"#E5ECF6\",\"gridcolor\":\"white\",\"gridwidth\":2,\"linecolor\":\"white\",\"showbackground\":true,\"ticks\":\"\",\"zerolinecolor\":\"white\"},\"zaxis\":{\"backgroundcolor\":\"#E5ECF6\",\"gridcolor\":\"white\",\"gridwidth\":2,\"linecolor\":\"white\",\"showbackground\":true,\"ticks\":\"\",\"zerolinecolor\":\"white\"}},\"shapedefaults\":{\"line\":{\"color\":\"#2a3f5f\"}},\"ternary\":{\"aaxis\":{\"gridcolor\":\"white\",\"linecolor\":\"white\",\"ticks\":\"\"},\"baxis\":{\"gridcolor\":\"white\",\"linecolor\":\"white\",\"ticks\":\"\"},\"bgcolor\":\"#E5ECF6\",\"caxis\":{\"gridcolor\":\"white\",\"linecolor\":\"white\",\"ticks\":\"\"}},\"title\":{\"x\":0.05},\"xaxis\":{\"automargin\":true,\"gridcolor\":\"white\",\"linecolor\":\"white\",\"ticks\":\"\",\"title\":{\"standoff\":15},\"zerolinecolor\":\"white\",\"zerolinewidth\":2},\"yaxis\":{\"automargin\":true,\"gridcolor\":\"white\",\"linecolor\":\"white\",\"ticks\":\"\",\"title\":{\"standoff\":15},\"zerolinecolor\":\"white\",\"zerolinewidth\":2}}},\"title\":{\"font\":{\"color\":\"#4D5663\"}},\"xaxis\":{\"gridcolor\":\"#E1E5ED\",\"showgrid\":true,\"tickfont\":{\"color\":\"#4D5663\"},\"title\":{\"font\":{\"color\":\"#4D5663\"},\"text\":\"\"},\"zerolinecolor\":\"#E1E5ED\"},\"yaxis\":{\"gridcolor\":\"#E1E5ED\",\"showgrid\":true,\"tickfont\":{\"color\":\"#4D5663\"},\"title\":{\"font\":{\"color\":\"#4D5663\"},\"text\":\"\"},\"zerolinecolor\":\"#E1E5ED\"}},                        {\"showLink\": true, \"linkText\": \"Export to plot.ly\", \"plotlyServerURL\": \"https://plot.ly\", \"responsive\": true}                    ).then(function(){\n",
       "                            \n",
       "var gd = document.getElementById('aa83956e-bbd3-451d-8208-b41217db5118');\n",
       "var x = new MutationObserver(function (mutations, observer) {{\n",
       "        var display = window.getComputedStyle(gd).display;\n",
       "        if (!display || display === 'none') {{\n",
       "            console.log([gd, 'removed!']);\n",
       "            Plotly.purge(gd);\n",
       "            observer.disconnect();\n",
       "        }}\n",
       "}});\n",
       "\n",
       "// Listen for the removal of the full notebook cells\n",
       "var notebookContainer = gd.closest('#notebook-container');\n",
       "if (notebookContainer) {{\n",
       "    x.observe(notebookContainer, {childList: true});\n",
       "}}\n",
       "\n",
       "// Listen for the clearing of the current output cell\n",
       "var outputEl = gd.closest('.output');\n",
       "if (outputEl) {{\n",
       "    x.observe(outputEl, {childList: true});\n",
       "}}\n",
       "\n",
       "                        })                };                });            </script>        </div>"
      ]
     },
     "metadata": {},
     "output_type": "display_data"
    }
   ],
   "source": [
    "df['A'].iplot(kind='hist',bins=25)"
   ]
  },
  {
   "cell_type": "code",
   "execution_count": 18,
   "metadata": {},
   "outputs": [
    {
     "data": {
      "application/vnd.plotly.v1+json": {
       "config": {
        "linkText": "Export to plot.ly",
        "plotlyServerURL": "https://plot.ly",
        "showLink": true
       },
       "data": [
        {
         "marker": {
          "color": [
           "rgb(255, 153, 51)",
           "rgb(55, 128, 191)",
           "rgb(50, 171, 96)",
           "rgb(128, 0, 128)",
           "rgb(219, 64, 82)",
           "rgb(0, 128, 128)",
           "rgb(255, 255, 51)",
           "rgb(128, 128, 0)",
           "rgb(251, 128, 114)",
           "rgb(128, 177, 211)"
          ],
          "line": {
           "width": 1.3
          },
          "size": [
           65,
           73,
           55,
           63,
           18,
           43,
           48,
           38,
           111,
           73,
           68,
           61,
           58,
           77,
           75,
           75,
           53,
           61,
           53,
           88,
           59,
           94,
           58,
           83,
           43,
           37,
           70,
           61,
           13,
           79,
           109,
           56,
           57,
           56,
           47,
           58,
           68,
           51,
           70,
           47,
           61,
           23,
           53,
           47,
           35,
           12,
           75,
           63,
           63,
           29,
           59,
           49,
           63,
           85,
           36,
           33,
           44,
           106,
           57,
           71,
           28,
           62,
           74,
           92,
           56,
           77,
           49,
           67,
           67,
           55,
           48,
           73,
           57,
           97,
           56,
           26,
           41,
           55,
           47,
           45,
           48,
           85,
           81,
           29,
           51,
           52,
           91,
           21,
           53,
           63,
           53,
           59,
           50,
           46,
           53,
           87,
           75,
           52,
           38,
           68
          ],
          "symbol": "circle"
         },
         "mode": "markers",
         "text": "",
         "type": "scatter",
         "x": [
          -0.00575823250580768,
          0.6357526536260791,
          1.2078823963791712,
          -0.4284366096975284,
          1.014145002542919,
          0.7054570499036387,
          -0.831478411217752,
          0.7728642327825064,
          0.7004697184507643,
          -1.231776416875097,
          -0.41401563481878434,
          1.1322856480346852,
          -0.39318595015558194,
          0.5263569154400487,
          0.3180291798716228,
          -0.22261827109346366,
          -1.6724197269192995,
          1.2783835503365846,
          -0.23993427251882554,
          -1.2484416732220707,
          0.5976488349424885,
          0.385677861181226,
          0.2560357823013782,
          -0.24619265351844694,
          2.2568470203373674,
          -2.15083769218194,
          1.5485306040937072,
          2.208994013492354,
          -1.499416587196466,
          1.1062623038209496,
          2.044744563145898,
          2.248361168621705,
          -0.6932520400964282,
          -0.12777423865974202,
          -1.9106494770833462,
          -1.212102180027225,
          -0.7757931969671343,
          -0.38744488026458784,
          -0.9463586424105409,
          1.6727887899650369,
          0.7217853129625886,
          -0.3313144221162863,
          0.6960026389981161,
          -0.6648173991171903,
          -0.8112860943469768,
          0.18082540347147127,
          1.3919630873733102,
          0.46382781671231865,
          -0.4115516140752952,
          0.9607193536511318,
          0.4855991638247819,
          -0.21715498311319506,
          -0.7347433916366071,
          0.9092951485461442,
          -2.0243405611992284,
          -1.225125636319877,
          -1.203029999997798,
          -0.6922336491755662,
          0.7660882197370672,
          0.11924644243358365,
          -1.088168686653994,
          1.1392452652594254,
          0.8146955230795004,
          -0.42734587533719665,
          1.2324680519582198,
          -1.1320953576596426,
          -0.30882776595725697,
          1.3663297636529603,
          0.37183579662600236,
          -1.1194792770930226,
          1.8284249216869883,
          1.3609247420075428,
          0.07122539323985272,
          -0.14829238264489364,
          -1.668889594574335,
          0.8066878771001542,
          0.7748156562794538,
          0.6497469973121999,
          2.1398027883949355,
          -1.0978266962978387,
          0.2281853014743535,
          -0.14931126628854363,
          1.4221579843061756,
          0.6914847803397621,
          0.1499341952277375,
          1.012089635627416,
          1.0610786107361148,
          0.8914013131752377,
          0.01231561343508519,
          0.26446277258881523,
          1.5752184579993507,
          -0.8798468402860836,
          1.745915075941031,
          2.15336063842221,
          -0.8801911033186313,
          1.1694085578453528,
          0.4981842791617605,
          0.2074732217252558,
          -0.8480967148262764,
          0.23707951484827536
         ],
         "y": [
          0.8556222288772496,
          -1.1273622610670195,
          -0.5269197553913275,
          -0.8054128781960725,
          -0.749068993151881,
          -1.3687859711329016,
          -0.5042087221215136,
          -0.10130817826066009,
          -0.19672410054208153,
          -0.6313557524089218,
          -1.4581007687375886,
          -1.6956715563044404,
          -0.6112438274023329,
          -0.5268826820818268,
          0.5051994695613479,
          0.8618708710073752,
          -0.4135652030449454,
          -0.7663539466374012,
          1.50407379417061,
          0.7581608221640876,
          0.627991625692652,
          0.5931741531110601,
          0.09454493355746088,
          -0.8700879836882897,
          1.5117944092355777,
          -0.9630717128935331,
          -1.6411006462755617,
          1.3077103851146104,
          0.8233511952419196,
          -0.5280582049795407,
          0.8130476880764101,
          1.952823474239663,
          -0.4683803044118759,
          -0.5235830298669955,
          -0.6842373146647192,
          1.2599932417420376,
          0.9045451435286472,
          0.8549122829220845,
          -1.2775836958876516,
          0.4333838865818812,
          0.01778947470583882,
          -0.09587610120673787,
          0.38128282520588874,
          2.245220942650822,
          -0.9482111767861034,
          -0.05824052572964152,
          0.5347356830229034,
          -3.2400736597966344,
          -0.45206527994377643,
          0.7486285793305874,
          0.7835336662405054,
          -0.16950682209101647,
          -0.2981146972584054,
          1.0210105761818091,
          0.5308830103579464,
          -0.6372186261129612,
          0.3825112899765546,
          -0.7920259017206817,
          0.9322434623218389,
          1.174222380990123,
          -0.09076164508268218,
          -0.2022479825572514,
          0.7230756394862698,
          0.7442097710794263,
          -2.2075109136116877,
          -0.980508554544525,
          -2.8428325330334707,
          1.8479259257597307,
          1.8510240121847856,
          0.49212184258917113,
          1.0625009684563536,
          0.024116607246121757,
          2.6502942145892296,
          2.637770977442213,
          -0.09862430633368902,
          -1.0035638170949084,
          -0.9339655766328269,
          1.456452510783111,
          1.4216849583929372,
          0.23597280549678476,
          -0.4808159398342157,
          -0.22865142773097336,
          0.36234353424371957,
          0.8729717061340367,
          0.28167948888950806,
          -0.415352323234306,
          -1.8463120604056424,
          0.6308806029970968,
          0.44399560562281554,
          0.14489948233936506,
          0.8482594018266639,
          0.8515618449616275,
          -2.5298432102411237,
          1.5630078810335475,
          0.4019441930096172,
          0.8480716100037919,
          -0.7089320124676023,
          0.3912621113405365,
          2.230966454744648,
          0.8791439133705296
         ]
        }
       ],
       "layout": {
        "legend": {
         "bgcolor": "#F5F6F9",
         "font": {
          "color": "#4D5663"
         }
        },
        "paper_bgcolor": "#F5F6F9",
        "plot_bgcolor": "#F5F6F9",
        "template": {
         "data": {
          "bar": [
           {
            "error_x": {
             "color": "#2a3f5f"
            },
            "error_y": {
             "color": "#2a3f5f"
            },
            "marker": {
             "line": {
              "color": "#E5ECF6",
              "width": 0.5
             },
             "pattern": {
              "fillmode": "overlay",
              "size": 10,
              "solidity": 0.2
             }
            },
            "type": "bar"
           }
          ],
          "barpolar": [
           {
            "marker": {
             "line": {
              "color": "#E5ECF6",
              "width": 0.5
             },
             "pattern": {
              "fillmode": "overlay",
              "size": 10,
              "solidity": 0.2
             }
            },
            "type": "barpolar"
           }
          ],
          "carpet": [
           {
            "aaxis": {
             "endlinecolor": "#2a3f5f",
             "gridcolor": "white",
             "linecolor": "white",
             "minorgridcolor": "white",
             "startlinecolor": "#2a3f5f"
            },
            "baxis": {
             "endlinecolor": "#2a3f5f",
             "gridcolor": "white",
             "linecolor": "white",
             "minorgridcolor": "white",
             "startlinecolor": "#2a3f5f"
            },
            "type": "carpet"
           }
          ],
          "choropleth": [
           {
            "colorbar": {
             "outlinewidth": 0,
             "ticks": ""
            },
            "type": "choropleth"
           }
          ],
          "contour": [
           {
            "colorbar": {
             "outlinewidth": 0,
             "ticks": ""
            },
            "colorscale": [
             [
              0,
              "#0d0887"
             ],
             [
              0.1111111111111111,
              "#46039f"
             ],
             [
              0.2222222222222222,
              "#7201a8"
             ],
             [
              0.3333333333333333,
              "#9c179e"
             ],
             [
              0.4444444444444444,
              "#bd3786"
             ],
             [
              0.5555555555555556,
              "#d8576b"
             ],
             [
              0.6666666666666666,
              "#ed7953"
             ],
             [
              0.7777777777777778,
              "#fb9f3a"
             ],
             [
              0.8888888888888888,
              "#fdca26"
             ],
             [
              1,
              "#f0f921"
             ]
            ],
            "type": "contour"
           }
          ],
          "contourcarpet": [
           {
            "colorbar": {
             "outlinewidth": 0,
             "ticks": ""
            },
            "type": "contourcarpet"
           }
          ],
          "heatmap": [
           {
            "colorbar": {
             "outlinewidth": 0,
             "ticks": ""
            },
            "colorscale": [
             [
              0,
              "#0d0887"
             ],
             [
              0.1111111111111111,
              "#46039f"
             ],
             [
              0.2222222222222222,
              "#7201a8"
             ],
             [
              0.3333333333333333,
              "#9c179e"
             ],
             [
              0.4444444444444444,
              "#bd3786"
             ],
             [
              0.5555555555555556,
              "#d8576b"
             ],
             [
              0.6666666666666666,
              "#ed7953"
             ],
             [
              0.7777777777777778,
              "#fb9f3a"
             ],
             [
              0.8888888888888888,
              "#fdca26"
             ],
             [
              1,
              "#f0f921"
             ]
            ],
            "type": "heatmap"
           }
          ],
          "heatmapgl": [
           {
            "colorbar": {
             "outlinewidth": 0,
             "ticks": ""
            },
            "colorscale": [
             [
              0,
              "#0d0887"
             ],
             [
              0.1111111111111111,
              "#46039f"
             ],
             [
              0.2222222222222222,
              "#7201a8"
             ],
             [
              0.3333333333333333,
              "#9c179e"
             ],
             [
              0.4444444444444444,
              "#bd3786"
             ],
             [
              0.5555555555555556,
              "#d8576b"
             ],
             [
              0.6666666666666666,
              "#ed7953"
             ],
             [
              0.7777777777777778,
              "#fb9f3a"
             ],
             [
              0.8888888888888888,
              "#fdca26"
             ],
             [
              1,
              "#f0f921"
             ]
            ],
            "type": "heatmapgl"
           }
          ],
          "histogram": [
           {
            "marker": {
             "pattern": {
              "fillmode": "overlay",
              "size": 10,
              "solidity": 0.2
             }
            },
            "type": "histogram"
           }
          ],
          "histogram2d": [
           {
            "colorbar": {
             "outlinewidth": 0,
             "ticks": ""
            },
            "colorscale": [
             [
              0,
              "#0d0887"
             ],
             [
              0.1111111111111111,
              "#46039f"
             ],
             [
              0.2222222222222222,
              "#7201a8"
             ],
             [
              0.3333333333333333,
              "#9c179e"
             ],
             [
              0.4444444444444444,
              "#bd3786"
             ],
             [
              0.5555555555555556,
              "#d8576b"
             ],
             [
              0.6666666666666666,
              "#ed7953"
             ],
             [
              0.7777777777777778,
              "#fb9f3a"
             ],
             [
              0.8888888888888888,
              "#fdca26"
             ],
             [
              1,
              "#f0f921"
             ]
            ],
            "type": "histogram2d"
           }
          ],
          "histogram2dcontour": [
           {
            "colorbar": {
             "outlinewidth": 0,
             "ticks": ""
            },
            "colorscale": [
             [
              0,
              "#0d0887"
             ],
             [
              0.1111111111111111,
              "#46039f"
             ],
             [
              0.2222222222222222,
              "#7201a8"
             ],
             [
              0.3333333333333333,
              "#9c179e"
             ],
             [
              0.4444444444444444,
              "#bd3786"
             ],
             [
              0.5555555555555556,
              "#d8576b"
             ],
             [
              0.6666666666666666,
              "#ed7953"
             ],
             [
              0.7777777777777778,
              "#fb9f3a"
             ],
             [
              0.8888888888888888,
              "#fdca26"
             ],
             [
              1,
              "#f0f921"
             ]
            ],
            "type": "histogram2dcontour"
           }
          ],
          "mesh3d": [
           {
            "colorbar": {
             "outlinewidth": 0,
             "ticks": ""
            },
            "type": "mesh3d"
           }
          ],
          "parcoords": [
           {
            "line": {
             "colorbar": {
              "outlinewidth": 0,
              "ticks": ""
             }
            },
            "type": "parcoords"
           }
          ],
          "pie": [
           {
            "automargin": true,
            "type": "pie"
           }
          ],
          "scatter": [
           {
            "marker": {
             "colorbar": {
              "outlinewidth": 0,
              "ticks": ""
             }
            },
            "type": "scatter"
           }
          ],
          "scatter3d": [
           {
            "line": {
             "colorbar": {
              "outlinewidth": 0,
              "ticks": ""
             }
            },
            "marker": {
             "colorbar": {
              "outlinewidth": 0,
              "ticks": ""
             }
            },
            "type": "scatter3d"
           }
          ],
          "scattercarpet": [
           {
            "marker": {
             "colorbar": {
              "outlinewidth": 0,
              "ticks": ""
             }
            },
            "type": "scattercarpet"
           }
          ],
          "scattergeo": [
           {
            "marker": {
             "colorbar": {
              "outlinewidth": 0,
              "ticks": ""
             }
            },
            "type": "scattergeo"
           }
          ],
          "scattergl": [
           {
            "marker": {
             "colorbar": {
              "outlinewidth": 0,
              "ticks": ""
             }
            },
            "type": "scattergl"
           }
          ],
          "scattermapbox": [
           {
            "marker": {
             "colorbar": {
              "outlinewidth": 0,
              "ticks": ""
             }
            },
            "type": "scattermapbox"
           }
          ],
          "scatterpolar": [
           {
            "marker": {
             "colorbar": {
              "outlinewidth": 0,
              "ticks": ""
             }
            },
            "type": "scatterpolar"
           }
          ],
          "scatterpolargl": [
           {
            "marker": {
             "colorbar": {
              "outlinewidth": 0,
              "ticks": ""
             }
            },
            "type": "scatterpolargl"
           }
          ],
          "scatterternary": [
           {
            "marker": {
             "colorbar": {
              "outlinewidth": 0,
              "ticks": ""
             }
            },
            "type": "scatterternary"
           }
          ],
          "surface": [
           {
            "colorbar": {
             "outlinewidth": 0,
             "ticks": ""
            },
            "colorscale": [
             [
              0,
              "#0d0887"
             ],
             [
              0.1111111111111111,
              "#46039f"
             ],
             [
              0.2222222222222222,
              "#7201a8"
             ],
             [
              0.3333333333333333,
              "#9c179e"
             ],
             [
              0.4444444444444444,
              "#bd3786"
             ],
             [
              0.5555555555555556,
              "#d8576b"
             ],
             [
              0.6666666666666666,
              "#ed7953"
             ],
             [
              0.7777777777777778,
              "#fb9f3a"
             ],
             [
              0.8888888888888888,
              "#fdca26"
             ],
             [
              1,
              "#f0f921"
             ]
            ],
            "type": "surface"
           }
          ],
          "table": [
           {
            "cells": {
             "fill": {
              "color": "#EBF0F8"
             },
             "line": {
              "color": "white"
             }
            },
            "header": {
             "fill": {
              "color": "#C8D4E3"
             },
             "line": {
              "color": "white"
             }
            },
            "type": "table"
           }
          ]
         },
         "layout": {
          "annotationdefaults": {
           "arrowcolor": "#2a3f5f",
           "arrowhead": 0,
           "arrowwidth": 1
          },
          "autotypenumbers": "strict",
          "coloraxis": {
           "colorbar": {
            "outlinewidth": 0,
            "ticks": ""
           }
          },
          "colorscale": {
           "diverging": [
            [
             0,
             "#8e0152"
            ],
            [
             0.1,
             "#c51b7d"
            ],
            [
             0.2,
             "#de77ae"
            ],
            [
             0.3,
             "#f1b6da"
            ],
            [
             0.4,
             "#fde0ef"
            ],
            [
             0.5,
             "#f7f7f7"
            ],
            [
             0.6,
             "#e6f5d0"
            ],
            [
             0.7,
             "#b8e186"
            ],
            [
             0.8,
             "#7fbc41"
            ],
            [
             0.9,
             "#4d9221"
            ],
            [
             1,
             "#276419"
            ]
           ],
           "sequential": [
            [
             0,
             "#0d0887"
            ],
            [
             0.1111111111111111,
             "#46039f"
            ],
            [
             0.2222222222222222,
             "#7201a8"
            ],
            [
             0.3333333333333333,
             "#9c179e"
            ],
            [
             0.4444444444444444,
             "#bd3786"
            ],
            [
             0.5555555555555556,
             "#d8576b"
            ],
            [
             0.6666666666666666,
             "#ed7953"
            ],
            [
             0.7777777777777778,
             "#fb9f3a"
            ],
            [
             0.8888888888888888,
             "#fdca26"
            ],
            [
             1,
             "#f0f921"
            ]
           ],
           "sequentialminus": [
            [
             0,
             "#0d0887"
            ],
            [
             0.1111111111111111,
             "#46039f"
            ],
            [
             0.2222222222222222,
             "#7201a8"
            ],
            [
             0.3333333333333333,
             "#9c179e"
            ],
            [
             0.4444444444444444,
             "#bd3786"
            ],
            [
             0.5555555555555556,
             "#d8576b"
            ],
            [
             0.6666666666666666,
             "#ed7953"
            ],
            [
             0.7777777777777778,
             "#fb9f3a"
            ],
            [
             0.8888888888888888,
             "#fdca26"
            ],
            [
             1,
             "#f0f921"
            ]
           ]
          },
          "colorway": [
           "#636efa",
           "#EF553B",
           "#00cc96",
           "#ab63fa",
           "#FFA15A",
           "#19d3f3",
           "#FF6692",
           "#B6E880",
           "#FF97FF",
           "#FECB52"
          ],
          "font": {
           "color": "#2a3f5f"
          },
          "geo": {
           "bgcolor": "white",
           "lakecolor": "white",
           "landcolor": "#E5ECF6",
           "showlakes": true,
           "showland": true,
           "subunitcolor": "white"
          },
          "hoverlabel": {
           "align": "left"
          },
          "hovermode": "closest",
          "mapbox": {
           "style": "light"
          },
          "paper_bgcolor": "white",
          "plot_bgcolor": "#E5ECF6",
          "polar": {
           "angularaxis": {
            "gridcolor": "white",
            "linecolor": "white",
            "ticks": ""
           },
           "bgcolor": "#E5ECF6",
           "radialaxis": {
            "gridcolor": "white",
            "linecolor": "white",
            "ticks": ""
           }
          },
          "scene": {
           "xaxis": {
            "backgroundcolor": "#E5ECF6",
            "gridcolor": "white",
            "gridwidth": 2,
            "linecolor": "white",
            "showbackground": true,
            "ticks": "",
            "zerolinecolor": "white"
           },
           "yaxis": {
            "backgroundcolor": "#E5ECF6",
            "gridcolor": "white",
            "gridwidth": 2,
            "linecolor": "white",
            "showbackground": true,
            "ticks": "",
            "zerolinecolor": "white"
           },
           "zaxis": {
            "backgroundcolor": "#E5ECF6",
            "gridcolor": "white",
            "gridwidth": 2,
            "linecolor": "white",
            "showbackground": true,
            "ticks": "",
            "zerolinecolor": "white"
           }
          },
          "shapedefaults": {
           "line": {
            "color": "#2a3f5f"
           }
          },
          "ternary": {
           "aaxis": {
            "gridcolor": "white",
            "linecolor": "white",
            "ticks": ""
           },
           "baxis": {
            "gridcolor": "white",
            "linecolor": "white",
            "ticks": ""
           },
           "bgcolor": "#E5ECF6",
           "caxis": {
            "gridcolor": "white",
            "linecolor": "white",
            "ticks": ""
           }
          },
          "title": {
           "x": 0.05
          },
          "xaxis": {
           "automargin": true,
           "gridcolor": "white",
           "linecolor": "white",
           "ticks": "",
           "title": {
            "standoff": 15
           },
           "zerolinecolor": "white",
           "zerolinewidth": 2
          },
          "yaxis": {
           "automargin": true,
           "gridcolor": "white",
           "linecolor": "white",
           "ticks": "",
           "title": {
            "standoff": 15
           },
           "zerolinecolor": "white",
           "zerolinewidth": 2
          }
         }
        },
        "title": {
         "font": {
          "color": "#4D5663"
         }
        },
        "xaxis": {
         "gridcolor": "#E1E5ED",
         "showgrid": true,
         "tickfont": {
          "color": "#4D5663"
         },
         "title": {
          "font": {
           "color": "#4D5663"
          },
          "text": ""
         },
         "zerolinecolor": "#E1E5ED"
        },
        "yaxis": {
         "gridcolor": "#E1E5ED",
         "showgrid": true,
         "tickfont": {
          "color": "#4D5663"
         },
         "title": {
          "font": {
           "color": "#4D5663"
          },
          "text": ""
         },
         "zerolinecolor": "#E1E5ED"
        }
       }
      },
      "text/html": [
       "<div>                            <div id=\"f09c6aa7-6818-4b7b-a4b9-4802a7ce139d\" class=\"plotly-graph-div\" style=\"height:525px; width:100%;\"></div>            <script type=\"text/javascript\">                require([\"plotly\"], function(Plotly) {                    window.PLOTLYENV=window.PLOTLYENV || {};\n",
       "                    window.PLOTLYENV.BASE_URL='https://plot.ly';                                    if (document.getElementById(\"f09c6aa7-6818-4b7b-a4b9-4802a7ce139d\")) {                    Plotly.newPlot(                        \"f09c6aa7-6818-4b7b-a4b9-4802a7ce139d\",                        [{\"marker\":{\"color\":[\"rgb(255, 153, 51)\",\"rgb(55, 128, 191)\",\"rgb(50, 171, 96)\",\"rgb(128, 0, 128)\",\"rgb(219, 64, 82)\",\"rgb(0, 128, 128)\",\"rgb(255, 255, 51)\",\"rgb(128, 128, 0)\",\"rgb(251, 128, 114)\",\"rgb(128, 177, 211)\"],\"line\":{\"width\":1.3},\"size\":[65,73,55,63,18,43,48,38,111,73,68,61,58,77,75,75,53,61,53,88,59,94,58,83,43,37,70,61,13,79,109,56,57,56,47,58,68,51,70,47,61,23,53,47,35,12,75,63,63,29,59,49,63,85,36,33,44,106,57,71,28,62,74,92,56,77,49,67,67,55,48,73,57,97,56,26,41,55,47,45,48,85,81,29,51,52,91,21,53,63,53,59,50,46,53,87,75,52,38,68],\"symbol\":\"circle\"},\"mode\":\"markers\",\"text\":\"\",\"type\":\"scatter\",\"x\":[-0.00575823250580768,0.6357526536260791,1.2078823963791712,-0.4284366096975284,1.014145002542919,0.7054570499036387,-0.831478411217752,0.7728642327825064,0.7004697184507643,-1.231776416875097,-0.41401563481878434,1.1322856480346852,-0.39318595015558194,0.5263569154400487,0.3180291798716228,-0.22261827109346366,-1.6724197269192995,1.2783835503365846,-0.23993427251882554,-1.2484416732220707,0.5976488349424885,0.385677861181226,0.2560357823013782,-0.24619265351844694,2.2568470203373674,-2.15083769218194,1.5485306040937072,2.208994013492354,-1.499416587196466,1.1062623038209496,2.044744563145898,2.248361168621705,-0.6932520400964282,-0.12777423865974202,-1.9106494770833462,-1.212102180027225,-0.7757931969671343,-0.38744488026458784,-0.9463586424105409,1.6727887899650369,0.7217853129625886,-0.3313144221162863,0.6960026389981161,-0.6648173991171903,-0.8112860943469768,0.18082540347147127,1.3919630873733102,0.46382781671231865,-0.4115516140752952,0.9607193536511318,0.4855991638247819,-0.21715498311319506,-0.7347433916366071,0.9092951485461442,-2.0243405611992284,-1.225125636319877,-1.203029999997798,-0.6922336491755662,0.7660882197370672,0.11924644243358365,-1.088168686653994,1.1392452652594254,0.8146955230795004,-0.42734587533719665,1.2324680519582198,-1.1320953576596426,-0.30882776595725697,1.3663297636529603,0.37183579662600236,-1.1194792770930226,1.8284249216869883,1.3609247420075428,0.07122539323985272,-0.14829238264489364,-1.668889594574335,0.8066878771001542,0.7748156562794538,0.6497469973121999,2.1398027883949355,-1.0978266962978387,0.2281853014743535,-0.14931126628854363,1.4221579843061756,0.6914847803397621,0.1499341952277375,1.012089635627416,1.0610786107361148,0.8914013131752377,0.01231561343508519,0.26446277258881523,1.5752184579993507,-0.8798468402860836,1.745915075941031,2.15336063842221,-0.8801911033186313,1.1694085578453528,0.4981842791617605,0.2074732217252558,-0.8480967148262764,0.23707951484827536],\"y\":[0.8556222288772496,-1.1273622610670195,-0.5269197553913275,-0.8054128781960725,-0.749068993151881,-1.3687859711329016,-0.5042087221215136,-0.10130817826066009,-0.19672410054208153,-0.6313557524089218,-1.4581007687375886,-1.6956715563044404,-0.6112438274023329,-0.5268826820818268,0.5051994695613479,0.8618708710073752,-0.4135652030449454,-0.7663539466374012,1.50407379417061,0.7581608221640876,0.627991625692652,0.5931741531110601,0.09454493355746088,-0.8700879836882897,1.5117944092355777,-0.9630717128935331,-1.6411006462755617,1.3077103851146104,0.8233511952419196,-0.5280582049795407,0.8130476880764101,1.952823474239663,-0.4683803044118759,-0.5235830298669955,-0.6842373146647192,1.2599932417420376,0.9045451435286472,0.8549122829220845,-1.2775836958876516,0.4333838865818812,0.01778947470583882,-0.09587610120673787,0.38128282520588874,2.245220942650822,-0.9482111767861034,-0.05824052572964152,0.5347356830229034,-3.2400736597966344,-0.45206527994377643,0.7486285793305874,0.7835336662405054,-0.16950682209101647,-0.2981146972584054,1.0210105761818091,0.5308830103579464,-0.6372186261129612,0.3825112899765546,-0.7920259017206817,0.9322434623218389,1.174222380990123,-0.09076164508268218,-0.2022479825572514,0.7230756394862698,0.7442097710794263,-2.2075109136116877,-0.980508554544525,-2.8428325330334707,1.8479259257597307,1.8510240121847856,0.49212184258917113,1.0625009684563536,0.024116607246121757,2.6502942145892296,2.637770977442213,-0.09862430633368902,-1.0035638170949084,-0.9339655766328269,1.456452510783111,1.4216849583929372,0.23597280549678476,-0.4808159398342157,-0.22865142773097336,0.36234353424371957,0.8729717061340367,0.28167948888950806,-0.415352323234306,-1.8463120604056424,0.6308806029970968,0.44399560562281554,0.14489948233936506,0.8482594018266639,0.8515618449616275,-2.5298432102411237,1.5630078810335475,0.4019441930096172,0.8480716100037919,-0.7089320124676023,0.3912621113405365,2.230966454744648,0.8791439133705296]}],                        {\"legend\":{\"bgcolor\":\"#F5F6F9\",\"font\":{\"color\":\"#4D5663\"}},\"paper_bgcolor\":\"#F5F6F9\",\"plot_bgcolor\":\"#F5F6F9\",\"template\":{\"data\":{\"bar\":[{\"error_x\":{\"color\":\"#2a3f5f\"},\"error_y\":{\"color\":\"#2a3f5f\"},\"marker\":{\"line\":{\"color\":\"#E5ECF6\",\"width\":0.5},\"pattern\":{\"fillmode\":\"overlay\",\"size\":10,\"solidity\":0.2}},\"type\":\"bar\"}],\"barpolar\":[{\"marker\":{\"line\":{\"color\":\"#E5ECF6\",\"width\":0.5},\"pattern\":{\"fillmode\":\"overlay\",\"size\":10,\"solidity\":0.2}},\"type\":\"barpolar\"}],\"carpet\":[{\"aaxis\":{\"endlinecolor\":\"#2a3f5f\",\"gridcolor\":\"white\",\"linecolor\":\"white\",\"minorgridcolor\":\"white\",\"startlinecolor\":\"#2a3f5f\"},\"baxis\":{\"endlinecolor\":\"#2a3f5f\",\"gridcolor\":\"white\",\"linecolor\":\"white\",\"minorgridcolor\":\"white\",\"startlinecolor\":\"#2a3f5f\"},\"type\":\"carpet\"}],\"choropleth\":[{\"colorbar\":{\"outlinewidth\":0,\"ticks\":\"\"},\"type\":\"choropleth\"}],\"contour\":[{\"colorbar\":{\"outlinewidth\":0,\"ticks\":\"\"},\"colorscale\":[[0.0,\"#0d0887\"],[0.1111111111111111,\"#46039f\"],[0.2222222222222222,\"#7201a8\"],[0.3333333333333333,\"#9c179e\"],[0.4444444444444444,\"#bd3786\"],[0.5555555555555556,\"#d8576b\"],[0.6666666666666666,\"#ed7953\"],[0.7777777777777778,\"#fb9f3a\"],[0.8888888888888888,\"#fdca26\"],[1.0,\"#f0f921\"]],\"type\":\"contour\"}],\"contourcarpet\":[{\"colorbar\":{\"outlinewidth\":0,\"ticks\":\"\"},\"type\":\"contourcarpet\"}],\"heatmap\":[{\"colorbar\":{\"outlinewidth\":0,\"ticks\":\"\"},\"colorscale\":[[0.0,\"#0d0887\"],[0.1111111111111111,\"#46039f\"],[0.2222222222222222,\"#7201a8\"],[0.3333333333333333,\"#9c179e\"],[0.4444444444444444,\"#bd3786\"],[0.5555555555555556,\"#d8576b\"],[0.6666666666666666,\"#ed7953\"],[0.7777777777777778,\"#fb9f3a\"],[0.8888888888888888,\"#fdca26\"],[1.0,\"#f0f921\"]],\"type\":\"heatmap\"}],\"heatmapgl\":[{\"colorbar\":{\"outlinewidth\":0,\"ticks\":\"\"},\"colorscale\":[[0.0,\"#0d0887\"],[0.1111111111111111,\"#46039f\"],[0.2222222222222222,\"#7201a8\"],[0.3333333333333333,\"#9c179e\"],[0.4444444444444444,\"#bd3786\"],[0.5555555555555556,\"#d8576b\"],[0.6666666666666666,\"#ed7953\"],[0.7777777777777778,\"#fb9f3a\"],[0.8888888888888888,\"#fdca26\"],[1.0,\"#f0f921\"]],\"type\":\"heatmapgl\"}],\"histogram\":[{\"marker\":{\"pattern\":{\"fillmode\":\"overlay\",\"size\":10,\"solidity\":0.2}},\"type\":\"histogram\"}],\"histogram2d\":[{\"colorbar\":{\"outlinewidth\":0,\"ticks\":\"\"},\"colorscale\":[[0.0,\"#0d0887\"],[0.1111111111111111,\"#46039f\"],[0.2222222222222222,\"#7201a8\"],[0.3333333333333333,\"#9c179e\"],[0.4444444444444444,\"#bd3786\"],[0.5555555555555556,\"#d8576b\"],[0.6666666666666666,\"#ed7953\"],[0.7777777777777778,\"#fb9f3a\"],[0.8888888888888888,\"#fdca26\"],[1.0,\"#f0f921\"]],\"type\":\"histogram2d\"}],\"histogram2dcontour\":[{\"colorbar\":{\"outlinewidth\":0,\"ticks\":\"\"},\"colorscale\":[[0.0,\"#0d0887\"],[0.1111111111111111,\"#46039f\"],[0.2222222222222222,\"#7201a8\"],[0.3333333333333333,\"#9c179e\"],[0.4444444444444444,\"#bd3786\"],[0.5555555555555556,\"#d8576b\"],[0.6666666666666666,\"#ed7953\"],[0.7777777777777778,\"#fb9f3a\"],[0.8888888888888888,\"#fdca26\"],[1.0,\"#f0f921\"]],\"type\":\"histogram2dcontour\"}],\"mesh3d\":[{\"colorbar\":{\"outlinewidth\":0,\"ticks\":\"\"},\"type\":\"mesh3d\"}],\"parcoords\":[{\"line\":{\"colorbar\":{\"outlinewidth\":0,\"ticks\":\"\"}},\"type\":\"parcoords\"}],\"pie\":[{\"automargin\":true,\"type\":\"pie\"}],\"scatter\":[{\"marker\":{\"colorbar\":{\"outlinewidth\":0,\"ticks\":\"\"}},\"type\":\"scatter\"}],\"scatter3d\":[{\"line\":{\"colorbar\":{\"outlinewidth\":0,\"ticks\":\"\"}},\"marker\":{\"colorbar\":{\"outlinewidth\":0,\"ticks\":\"\"}},\"type\":\"scatter3d\"}],\"scattercarpet\":[{\"marker\":{\"colorbar\":{\"outlinewidth\":0,\"ticks\":\"\"}},\"type\":\"scattercarpet\"}],\"scattergeo\":[{\"marker\":{\"colorbar\":{\"outlinewidth\":0,\"ticks\":\"\"}},\"type\":\"scattergeo\"}],\"scattergl\":[{\"marker\":{\"colorbar\":{\"outlinewidth\":0,\"ticks\":\"\"}},\"type\":\"scattergl\"}],\"scattermapbox\":[{\"marker\":{\"colorbar\":{\"outlinewidth\":0,\"ticks\":\"\"}},\"type\":\"scattermapbox\"}],\"scatterpolar\":[{\"marker\":{\"colorbar\":{\"outlinewidth\":0,\"ticks\":\"\"}},\"type\":\"scatterpolar\"}],\"scatterpolargl\":[{\"marker\":{\"colorbar\":{\"outlinewidth\":0,\"ticks\":\"\"}},\"type\":\"scatterpolargl\"}],\"scatterternary\":[{\"marker\":{\"colorbar\":{\"outlinewidth\":0,\"ticks\":\"\"}},\"type\":\"scatterternary\"}],\"surface\":[{\"colorbar\":{\"outlinewidth\":0,\"ticks\":\"\"},\"colorscale\":[[0.0,\"#0d0887\"],[0.1111111111111111,\"#46039f\"],[0.2222222222222222,\"#7201a8\"],[0.3333333333333333,\"#9c179e\"],[0.4444444444444444,\"#bd3786\"],[0.5555555555555556,\"#d8576b\"],[0.6666666666666666,\"#ed7953\"],[0.7777777777777778,\"#fb9f3a\"],[0.8888888888888888,\"#fdca26\"],[1.0,\"#f0f921\"]],\"type\":\"surface\"}],\"table\":[{\"cells\":{\"fill\":{\"color\":\"#EBF0F8\"},\"line\":{\"color\":\"white\"}},\"header\":{\"fill\":{\"color\":\"#C8D4E3\"},\"line\":{\"color\":\"white\"}},\"type\":\"table\"}]},\"layout\":{\"annotationdefaults\":{\"arrowcolor\":\"#2a3f5f\",\"arrowhead\":0,\"arrowwidth\":1},\"autotypenumbers\":\"strict\",\"coloraxis\":{\"colorbar\":{\"outlinewidth\":0,\"ticks\":\"\"}},\"colorscale\":{\"diverging\":[[0,\"#8e0152\"],[0.1,\"#c51b7d\"],[0.2,\"#de77ae\"],[0.3,\"#f1b6da\"],[0.4,\"#fde0ef\"],[0.5,\"#f7f7f7\"],[0.6,\"#e6f5d0\"],[0.7,\"#b8e186\"],[0.8,\"#7fbc41\"],[0.9,\"#4d9221\"],[1,\"#276419\"]],\"sequential\":[[0.0,\"#0d0887\"],[0.1111111111111111,\"#46039f\"],[0.2222222222222222,\"#7201a8\"],[0.3333333333333333,\"#9c179e\"],[0.4444444444444444,\"#bd3786\"],[0.5555555555555556,\"#d8576b\"],[0.6666666666666666,\"#ed7953\"],[0.7777777777777778,\"#fb9f3a\"],[0.8888888888888888,\"#fdca26\"],[1.0,\"#f0f921\"]],\"sequentialminus\":[[0.0,\"#0d0887\"],[0.1111111111111111,\"#46039f\"],[0.2222222222222222,\"#7201a8\"],[0.3333333333333333,\"#9c179e\"],[0.4444444444444444,\"#bd3786\"],[0.5555555555555556,\"#d8576b\"],[0.6666666666666666,\"#ed7953\"],[0.7777777777777778,\"#fb9f3a\"],[0.8888888888888888,\"#fdca26\"],[1.0,\"#f0f921\"]]},\"colorway\":[\"#636efa\",\"#EF553B\",\"#00cc96\",\"#ab63fa\",\"#FFA15A\",\"#19d3f3\",\"#FF6692\",\"#B6E880\",\"#FF97FF\",\"#FECB52\"],\"font\":{\"color\":\"#2a3f5f\"},\"geo\":{\"bgcolor\":\"white\",\"lakecolor\":\"white\",\"landcolor\":\"#E5ECF6\",\"showlakes\":true,\"showland\":true,\"subunitcolor\":\"white\"},\"hoverlabel\":{\"align\":\"left\"},\"hovermode\":\"closest\",\"mapbox\":{\"style\":\"light\"},\"paper_bgcolor\":\"white\",\"plot_bgcolor\":\"#E5ECF6\",\"polar\":{\"angularaxis\":{\"gridcolor\":\"white\",\"linecolor\":\"white\",\"ticks\":\"\"},\"bgcolor\":\"#E5ECF6\",\"radialaxis\":{\"gridcolor\":\"white\",\"linecolor\":\"white\",\"ticks\":\"\"}},\"scene\":{\"xaxis\":{\"backgroundcolor\":\"#E5ECF6\",\"gridcolor\":\"white\",\"gridwidth\":2,\"linecolor\":\"white\",\"showbackground\":true,\"ticks\":\"\",\"zerolinecolor\":\"white\"},\"yaxis\":{\"backgroundcolor\":\"#E5ECF6\",\"gridcolor\":\"white\",\"gridwidth\":2,\"linecolor\":\"white\",\"showbackground\":true,\"ticks\":\"\",\"zerolinecolor\":\"white\"},\"zaxis\":{\"backgroundcolor\":\"#E5ECF6\",\"gridcolor\":\"white\",\"gridwidth\":2,\"linecolor\":\"white\",\"showbackground\":true,\"ticks\":\"\",\"zerolinecolor\":\"white\"}},\"shapedefaults\":{\"line\":{\"color\":\"#2a3f5f\"}},\"ternary\":{\"aaxis\":{\"gridcolor\":\"white\",\"linecolor\":\"white\",\"ticks\":\"\"},\"baxis\":{\"gridcolor\":\"white\",\"linecolor\":\"white\",\"ticks\":\"\"},\"bgcolor\":\"#E5ECF6\",\"caxis\":{\"gridcolor\":\"white\",\"linecolor\":\"white\",\"ticks\":\"\"}},\"title\":{\"x\":0.05},\"xaxis\":{\"automargin\":true,\"gridcolor\":\"white\",\"linecolor\":\"white\",\"ticks\":\"\",\"title\":{\"standoff\":15},\"zerolinecolor\":\"white\",\"zerolinewidth\":2},\"yaxis\":{\"automargin\":true,\"gridcolor\":\"white\",\"linecolor\":\"white\",\"ticks\":\"\",\"title\":{\"standoff\":15},\"zerolinecolor\":\"white\",\"zerolinewidth\":2}}},\"title\":{\"font\":{\"color\":\"#4D5663\"}},\"xaxis\":{\"gridcolor\":\"#E1E5ED\",\"showgrid\":true,\"tickfont\":{\"color\":\"#4D5663\"},\"title\":{\"font\":{\"color\":\"#4D5663\"},\"text\":\"\"},\"zerolinecolor\":\"#E1E5ED\"},\"yaxis\":{\"gridcolor\":\"#E1E5ED\",\"showgrid\":true,\"tickfont\":{\"color\":\"#4D5663\"},\"title\":{\"font\":{\"color\":\"#4D5663\"},\"text\":\"\"},\"zerolinecolor\":\"#E1E5ED\"}},                        {\"showLink\": true, \"linkText\": \"Export to plot.ly\", \"plotlyServerURL\": \"https://plot.ly\", \"responsive\": true}                    ).then(function(){\n",
       "                            \n",
       "var gd = document.getElementById('f09c6aa7-6818-4b7b-a4b9-4802a7ce139d');\n",
       "var x = new MutationObserver(function (mutations, observer) {{\n",
       "        var display = window.getComputedStyle(gd).display;\n",
       "        if (!display || display === 'none') {{\n",
       "            console.log([gd, 'removed!']);\n",
       "            Plotly.purge(gd);\n",
       "            observer.disconnect();\n",
       "        }}\n",
       "}});\n",
       "\n",
       "// Listen for the removal of the full notebook cells\n",
       "var notebookContainer = gd.closest('#notebook-container');\n",
       "if (notebookContainer) {{\n",
       "    x.observe(notebookContainer, {childList: true});\n",
       "}}\n",
       "\n",
       "// Listen for the clearing of the current output cell\n",
       "var outputEl = gd.closest('.output');\n",
       "if (outputEl) {{\n",
       "    x.observe(outputEl, {childList: true});\n",
       "}}\n",
       "\n",
       "                        })                };                });            </script>        </div>"
      ]
     },
     "metadata": {},
     "output_type": "display_data"
    }
   ],
   "source": [
    "df.iplot(kind='bubble',x='A',y='B',size='C')"
   ]
  },
  {
   "cell_type": "markdown",
   "metadata": {},
   "source": [
    "## scatter_matrix()\n",
    "\n",
    "Similar to sns.pairplot()"
   ]
  },
  {
   "cell_type": "code",
   "execution_count": 19,
   "metadata": {},
   "outputs": [
    {
     "data": {
      "application/vnd.plotly.v1+json": {
       "config": {
        "linkText": "Export to plot.ly",
        "plotlyServerURL": "https://plot.ly",
        "showLink": true
       },
       "data": [
        {
         "histfunc": "count",
         "histnorm": "",
         "marker": {
          "color": "rgba(255, 153, 51, 1.0)",
          "line": {
           "color": "#4D5663",
           "width": 1.3
          }
         },
         "name": "A",
         "nbinsx": 10,
         "opacity": 0.8,
         "orientation": "v",
         "type": "histogram",
         "x": [
          -0.00575823250580768,
          0.6357526536260791,
          1.2078823963791712,
          -0.4284366096975284,
          1.014145002542919,
          0.7054570499036387,
          -0.831478411217752,
          0.7728642327825064,
          0.7004697184507643,
          -1.231776416875097,
          -0.41401563481878434,
          1.1322856480346852,
          -0.39318595015558194,
          0.5263569154400487,
          0.3180291798716228,
          -0.22261827109346366,
          -1.6724197269192995,
          1.2783835503365846,
          -0.23993427251882554,
          -1.2484416732220707,
          0.5976488349424885,
          0.385677861181226,
          0.2560357823013782,
          -0.24619265351844694,
          2.2568470203373674,
          -2.15083769218194,
          1.5485306040937072,
          2.208994013492354,
          -1.499416587196466,
          1.1062623038209496,
          2.044744563145898,
          2.248361168621705,
          -0.6932520400964282,
          -0.12777423865974202,
          -1.9106494770833462,
          -1.212102180027225,
          -0.7757931969671343,
          -0.38744488026458784,
          -0.9463586424105409,
          1.6727887899650369,
          0.7217853129625886,
          -0.3313144221162863,
          0.6960026389981161,
          -0.6648173991171903,
          -0.8112860943469768,
          0.18082540347147127,
          1.3919630873733102,
          0.46382781671231865,
          -0.4115516140752952,
          0.9607193536511318,
          0.4855991638247819,
          -0.21715498311319506,
          -0.7347433916366071,
          0.9092951485461442,
          -2.0243405611992284,
          -1.225125636319877,
          -1.203029999997798,
          -0.6922336491755662,
          0.7660882197370672,
          0.11924644243358365,
          -1.088168686653994,
          1.1392452652594254,
          0.8146955230795004,
          -0.42734587533719665,
          1.2324680519582198,
          -1.1320953576596426,
          -0.30882776595725697,
          1.3663297636529603,
          0.37183579662600236,
          -1.1194792770930226,
          1.8284249216869883,
          1.3609247420075428,
          0.07122539323985272,
          -0.14829238264489364,
          -1.668889594574335,
          0.8066878771001542,
          0.7748156562794538,
          0.6497469973121999,
          2.1398027883949355,
          -1.0978266962978387,
          0.2281853014743535,
          -0.14931126628854363,
          1.4221579843061756,
          0.6914847803397621,
          0.1499341952277375,
          1.012089635627416,
          1.0610786107361148,
          0.8914013131752377,
          0.01231561343508519,
          0.26446277258881523,
          1.5752184579993507,
          -0.8798468402860836,
          1.745915075941031,
          2.15336063842221,
          -0.8801911033186313,
          1.1694085578453528,
          0.4981842791617605,
          0.2074732217252558,
          -0.8480967148262764,
          0.23707951484827536
         ],
         "xaxis": "x",
         "yaxis": "y"
        },
        {
         "line": {
          "color": "rgba(128, 128, 128, 1.0)",
          "dash": "solid",
          "shape": "linear",
          "width": 1.3
         },
         "marker": {
          "size": 2,
          "symbol": "circle"
         },
         "mode": "markers",
         "name": "A",
         "text": "",
         "type": "scatter",
         "x": [
          0.8556222288772496,
          -1.1273622610670195,
          -0.5269197553913275,
          -0.8054128781960725,
          -0.749068993151881,
          -1.3687859711329016,
          -0.5042087221215136,
          -0.10130817826066009,
          -0.19672410054208153,
          -0.6313557524089218,
          -1.4581007687375886,
          -1.6956715563044404,
          -0.6112438274023329,
          -0.5268826820818268,
          0.5051994695613479,
          0.8618708710073752,
          -0.4135652030449454,
          -0.7663539466374012,
          1.50407379417061,
          0.7581608221640876,
          0.627991625692652,
          0.5931741531110601,
          0.09454493355746088,
          -0.8700879836882897,
          1.5117944092355777,
          -0.9630717128935331,
          -1.6411006462755617,
          1.3077103851146104,
          0.8233511952419196,
          -0.5280582049795407,
          0.8130476880764101,
          1.952823474239663,
          -0.4683803044118759,
          -0.5235830298669955,
          -0.6842373146647192,
          1.2599932417420376,
          0.9045451435286472,
          0.8549122829220845,
          -1.2775836958876516,
          0.4333838865818812,
          0.01778947470583882,
          -0.09587610120673787,
          0.38128282520588874,
          2.245220942650822,
          -0.9482111767861034,
          -0.05824052572964152,
          0.5347356830229034,
          -3.2400736597966344,
          -0.45206527994377643,
          0.7486285793305874,
          0.7835336662405054,
          -0.16950682209101647,
          -0.2981146972584054,
          1.0210105761818091,
          0.5308830103579464,
          -0.6372186261129612,
          0.3825112899765546,
          -0.7920259017206817,
          0.9322434623218389,
          1.174222380990123,
          -0.09076164508268218,
          -0.2022479825572514,
          0.7230756394862698,
          0.7442097710794263,
          -2.2075109136116877,
          -0.980508554544525,
          -2.8428325330334707,
          1.8479259257597307,
          1.8510240121847856,
          0.49212184258917113,
          1.0625009684563536,
          0.024116607246121757,
          2.6502942145892296,
          2.637770977442213,
          -0.09862430633368902,
          -1.0035638170949084,
          -0.9339655766328269,
          1.456452510783111,
          1.4216849583929372,
          0.23597280549678476,
          -0.4808159398342157,
          -0.22865142773097336,
          0.36234353424371957,
          0.8729717061340367,
          0.28167948888950806,
          -0.415352323234306,
          -1.8463120604056424,
          0.6308806029970968,
          0.44399560562281554,
          0.14489948233936506,
          0.8482594018266639,
          0.8515618449616275,
          -2.5298432102411237,
          1.5630078810335475,
          0.4019441930096172,
          0.8480716100037919,
          -0.7089320124676023,
          0.3912621113405365,
          2.230966454744648,
          0.8791439133705296
         ],
         "xaxis": "x2",
         "y": [
          -0.00575823250580768,
          0.6357526536260791,
          1.2078823963791712,
          -0.4284366096975284,
          1.014145002542919,
          0.7054570499036387,
          -0.831478411217752,
          0.7728642327825064,
          0.7004697184507643,
          -1.231776416875097,
          -0.41401563481878434,
          1.1322856480346852,
          -0.39318595015558194,
          0.5263569154400487,
          0.3180291798716228,
          -0.22261827109346366,
          -1.6724197269192995,
          1.2783835503365846,
          -0.23993427251882554,
          -1.2484416732220707,
          0.5976488349424885,
          0.385677861181226,
          0.2560357823013782,
          -0.24619265351844694,
          2.2568470203373674,
          -2.15083769218194,
          1.5485306040937072,
          2.208994013492354,
          -1.499416587196466,
          1.1062623038209496,
          2.044744563145898,
          2.248361168621705,
          -0.6932520400964282,
          -0.12777423865974202,
          -1.9106494770833462,
          -1.212102180027225,
          -0.7757931969671343,
          -0.38744488026458784,
          -0.9463586424105409,
          1.6727887899650369,
          0.7217853129625886,
          -0.3313144221162863,
          0.6960026389981161,
          -0.6648173991171903,
          -0.8112860943469768,
          0.18082540347147127,
          1.3919630873733102,
          0.46382781671231865,
          -0.4115516140752952,
          0.9607193536511318,
          0.4855991638247819,
          -0.21715498311319506,
          -0.7347433916366071,
          0.9092951485461442,
          -2.0243405611992284,
          -1.225125636319877,
          -1.203029999997798,
          -0.6922336491755662,
          0.7660882197370672,
          0.11924644243358365,
          -1.088168686653994,
          1.1392452652594254,
          0.8146955230795004,
          -0.42734587533719665,
          1.2324680519582198,
          -1.1320953576596426,
          -0.30882776595725697,
          1.3663297636529603,
          0.37183579662600236,
          -1.1194792770930226,
          1.8284249216869883,
          1.3609247420075428,
          0.07122539323985272,
          -0.14829238264489364,
          -1.668889594574335,
          0.8066878771001542,
          0.7748156562794538,
          0.6497469973121999,
          2.1398027883949355,
          -1.0978266962978387,
          0.2281853014743535,
          -0.14931126628854363,
          1.4221579843061756,
          0.6914847803397621,
          0.1499341952277375,
          1.012089635627416,
          1.0610786107361148,
          0.8914013131752377,
          0.01231561343508519,
          0.26446277258881523,
          1.5752184579993507,
          -0.8798468402860836,
          1.745915075941031,
          2.15336063842221,
          -0.8801911033186313,
          1.1694085578453528,
          0.4981842791617605,
          0.2074732217252558,
          -0.8480967148262764,
          0.23707951484827536
         ],
         "yaxis": "y2"
        },
        {
         "line": {
          "color": "rgba(128, 128, 128, 1.0)",
          "dash": "solid",
          "shape": "linear",
          "width": 1.3
         },
         "marker": {
          "size": 2,
          "symbol": "circle"
         },
         "mode": "markers",
         "name": "A",
         "text": "",
         "type": "scatter",
         "x": [
          0.2875230902704165,
          0.7144551764076076,
          -0.26373937309965895,
          0.15453370145811182,
          -2.272460489767835,
          -0.9202091236216271,
          -0.6206782009732357,
          -1.1812667157832835,
          2.7919040278254097,
          0.7310137714432254,
          0.4256853657269252,
          0.05392814708787436,
          -0.0974086583996873,
          0.9408653025587447,
          0.8324660742534052,
          0.8228990445082776,
          -0.3649543187972734,
          0.06829129860687892,
          -0.3523405628702323,
          1.5235670120970195,
          -0.0658489381632977,
          1.8305139148808192,
          -0.07524422160917033,
          1.2310677809670822,
          -0.8962624327502261,
          -1.2107645828239735,
          0.5692048248697585,
          0.037030880907862454,
          -2.5520013599137603,
          1.0127452862706037,
          2.677919935694347,
          -0.191808975491193,
          -0.13949424857943263,
          -0.21168701268500553,
          -0.6718188437190941,
          -0.09649659207560592,
          0.4617663690059929,
          -0.46406168261294384,
          0.5489039510288141,
          -0.6841180843945812,
          0.053878504423162756,
          -1.9838483312730033,
          -0.3597936723613456,
          -0.7106725963646878,
          -1.3258128086026235,
          -2.616942350857831,
          0.8107843697988363,
          0.1854880589464085,
          0.1437574340873547,
          -1.6846226622794245,
          -0.025905535861105645,
          -0.588694190784461,
          0.16130675088873025,
          1.3709630895256617,
          -1.3101517359256105,
          -1.4724328145971546,
          -0.8783671193102046,
          2.500096199936014,
          -0.14113851117071863,
          0.6235004597398874,
          -1.7061505853499135,
          0.14043314241679744,
          0.7730112759549945,
          1.713587891654579,
          -0.20176636230519202,
          0.9352064937523854,
          -0.6029558023561434,
          0.4088772308962657,
          0.385095412850809,
          -0.27307356592312776,
          -0.6231219706414931,
          0.723239802124104,
          -0.16989036545644434,
          1.9887370471006218,
          -0.18846156651695695,
          -1.8067467652782028,
          -1.0148676546193147,
          -0.2663724727484411,
          -0.71051102974763,
          -0.8318146341379324,
          -0.6241221323772533,
          1.3671817390323795,
          1.1235262799562347,
          -1.6668006762079057,
          -0.4790339578295775,
          -0.43259277236664184,
          1.700460465295679,
          -2.0994436476299043,
          -0.3663173172542101,
          0.16524785035489334,
          -0.3923425880295725,
          -0.03391520438375921,
          -0.5565256070872344,
          -0.7500510373676693,
          -0.3697969151967694,
          1.458597845540889,
          0.8292688953720019,
          -0.43315697046388035,
          -1.1894029023161081,
          0.41700444057904584
         ],
         "xaxis": "x3",
         "y": [
          -0.00575823250580768,
          0.6357526536260791,
          1.2078823963791712,
          -0.4284366096975284,
          1.014145002542919,
          0.7054570499036387,
          -0.831478411217752,
          0.7728642327825064,
          0.7004697184507643,
          -1.231776416875097,
          -0.41401563481878434,
          1.1322856480346852,
          -0.39318595015558194,
          0.5263569154400487,
          0.3180291798716228,
          -0.22261827109346366,
          -1.6724197269192995,
          1.2783835503365846,
          -0.23993427251882554,
          -1.2484416732220707,
          0.5976488349424885,
          0.385677861181226,
          0.2560357823013782,
          -0.24619265351844694,
          2.2568470203373674,
          -2.15083769218194,
          1.5485306040937072,
          2.208994013492354,
          -1.499416587196466,
          1.1062623038209496,
          2.044744563145898,
          2.248361168621705,
          -0.6932520400964282,
          -0.12777423865974202,
          -1.9106494770833462,
          -1.212102180027225,
          -0.7757931969671343,
          -0.38744488026458784,
          -0.9463586424105409,
          1.6727887899650369,
          0.7217853129625886,
          -0.3313144221162863,
          0.6960026389981161,
          -0.6648173991171903,
          -0.8112860943469768,
          0.18082540347147127,
          1.3919630873733102,
          0.46382781671231865,
          -0.4115516140752952,
          0.9607193536511318,
          0.4855991638247819,
          -0.21715498311319506,
          -0.7347433916366071,
          0.9092951485461442,
          -2.0243405611992284,
          -1.225125636319877,
          -1.203029999997798,
          -0.6922336491755662,
          0.7660882197370672,
          0.11924644243358365,
          -1.088168686653994,
          1.1392452652594254,
          0.8146955230795004,
          -0.42734587533719665,
          1.2324680519582198,
          -1.1320953576596426,
          -0.30882776595725697,
          1.3663297636529603,
          0.37183579662600236,
          -1.1194792770930226,
          1.8284249216869883,
          1.3609247420075428,
          0.07122539323985272,
          -0.14829238264489364,
          -1.668889594574335,
          0.8066878771001542,
          0.7748156562794538,
          0.6497469973121999,
          2.1398027883949355,
          -1.0978266962978387,
          0.2281853014743535,
          -0.14931126628854363,
          1.4221579843061756,
          0.6914847803397621,
          0.1499341952277375,
          1.012089635627416,
          1.0610786107361148,
          0.8914013131752377,
          0.01231561343508519,
          0.26446277258881523,
          1.5752184579993507,
          -0.8798468402860836,
          1.745915075941031,
          2.15336063842221,
          -0.8801911033186313,
          1.1694085578453528,
          0.4981842791617605,
          0.2074732217252558,
          -0.8480967148262764,
          0.23707951484827536
         ],
         "yaxis": "y3"
        },
        {
         "line": {
          "color": "rgba(128, 128, 128, 1.0)",
          "dash": "solid",
          "shape": "linear",
          "width": 1.3
         },
         "marker": {
          "size": 2,
          "symbol": "circle"
         },
         "mode": "markers",
         "name": "A",
         "text": "",
         "type": "scatter",
         "x": [
          0.49831588430906937,
          -0.7235038268767632,
          -0.19908633958507851,
          -0.2754390444806026,
          1.7685927979099847,
          -1.259696371883114,
          0.5563611634463861,
          0.9248211590735165,
          0.4212259555469513,
          0.4846234009416616,
          1.0597921430117188,
          -0.2925003284745853,
          2.303056953728043,
          0.5249191896310468,
          -2.109272310397259,
          -0.7992687250163971,
          -1.0407741637071959,
          0.015596406410107443,
          2.353855274863578,
          1.754396650682535,
          0.7127535111699759,
          -0.07410488789727092,
          0.6760586702090022,
          -1.417933641572086,
          0.7973675213056064,
          0.2443727882911371,
          -0.5804437703391563,
          1.863633767044503,
          0.20297799852874407,
          0.09491158191092101,
          1.129039036267022,
          0.055188386864763926,
          -0.031448036577972543,
          0.9899245497935543,
          -0.8773372622519309,
          0.4102587494933926,
          -1.1579541074048647,
          0.21155812933810664,
          -1.5041523248454534,
          -1.2851898217991646,
          -2.735329818561617,
          -0.5467656108492137,
          -2.013469643569477,
          -0.17341243555935112,
          -0.33030972013752347,
          -1.6770609897240745,
          -0.029631159207978073,
          -0.7064601987786423,
          -1.2656208954837023,
          -0.46961915490041006,
          -0.617099492318239,
          0.06061649110428425,
          -0.7561586377783462,
          2.0628248035466377,
          0.6380114005658614,
          -0.9535431688724288,
          -0.5701526124793378,
          0.32599042957947244,
          0.3646544010905983,
          -0.15354805490208603,
          0.682630870046837,
          0.08650373562728984,
          -0.5992172329859129,
          0.17411704252751653,
          2.046294501275606,
          0.19732575727193682,
          1.1221926518318792,
          -0.09534130522144674,
          -0.6105076916942559,
          2.118660425841574,
          0.13723407475958918,
          -1.62651918139627,
          0.7841085955713709,
          -0.9652201975436723,
          1.4646677595435906,
          -1.7465528798122336,
          -1.318860053271632,
          -1.8160111050623335,
          -0.8646624630037903,
          1.5071076372892311,
          1.242116581214999,
          1.7496499043875162,
          1.2637316877945737,
          0.5849093345996091,
          0.44801670543112526,
          0.9326512384042261,
          0.20172343385404465,
          0.42691411019877096,
          -0.12283203968538749,
          0.03985489094344529,
          0.17734216454604754,
          -1.9432020122343785,
          -1.0058812366034295,
          -1.7146744278597892,
          0.008044755271902978,
          1.4176332510507221,
          -0.23722410139262268,
          0.5765595597331339,
          -0.5295606383341808,
          -1.0671617581387909
         ],
         "xaxis": "x4",
         "y": [
          -0.00575823250580768,
          0.6357526536260791,
          1.2078823963791712,
          -0.4284366096975284,
          1.014145002542919,
          0.7054570499036387,
          -0.831478411217752,
          0.7728642327825064,
          0.7004697184507643,
          -1.231776416875097,
          -0.41401563481878434,
          1.1322856480346852,
          -0.39318595015558194,
          0.5263569154400487,
          0.3180291798716228,
          -0.22261827109346366,
          -1.6724197269192995,
          1.2783835503365846,
          -0.23993427251882554,
          -1.2484416732220707,
          0.5976488349424885,
          0.385677861181226,
          0.2560357823013782,
          -0.24619265351844694,
          2.2568470203373674,
          -2.15083769218194,
          1.5485306040937072,
          2.208994013492354,
          -1.499416587196466,
          1.1062623038209496,
          2.044744563145898,
          2.248361168621705,
          -0.6932520400964282,
          -0.12777423865974202,
          -1.9106494770833462,
          -1.212102180027225,
          -0.7757931969671343,
          -0.38744488026458784,
          -0.9463586424105409,
          1.6727887899650369,
          0.7217853129625886,
          -0.3313144221162863,
          0.6960026389981161,
          -0.6648173991171903,
          -0.8112860943469768,
          0.18082540347147127,
          1.3919630873733102,
          0.46382781671231865,
          -0.4115516140752952,
          0.9607193536511318,
          0.4855991638247819,
          -0.21715498311319506,
          -0.7347433916366071,
          0.9092951485461442,
          -2.0243405611992284,
          -1.225125636319877,
          -1.203029999997798,
          -0.6922336491755662,
          0.7660882197370672,
          0.11924644243358365,
          -1.088168686653994,
          1.1392452652594254,
          0.8146955230795004,
          -0.42734587533719665,
          1.2324680519582198,
          -1.1320953576596426,
          -0.30882776595725697,
          1.3663297636529603,
          0.37183579662600236,
          -1.1194792770930226,
          1.8284249216869883,
          1.3609247420075428,
          0.07122539323985272,
          -0.14829238264489364,
          -1.668889594574335,
          0.8066878771001542,
          0.7748156562794538,
          0.6497469973121999,
          2.1398027883949355,
          -1.0978266962978387,
          0.2281853014743535,
          -0.14931126628854363,
          1.4221579843061756,
          0.6914847803397621,
          0.1499341952277375,
          1.012089635627416,
          1.0610786107361148,
          0.8914013131752377,
          0.01231561343508519,
          0.26446277258881523,
          1.5752184579993507,
          -0.8798468402860836,
          1.745915075941031,
          2.15336063842221,
          -0.8801911033186313,
          1.1694085578453528,
          0.4981842791617605,
          0.2074732217252558,
          -0.8480967148262764,
          0.23707951484827536
         ],
         "yaxis": "y4"
        },
        {
         "line": {
          "color": "rgba(128, 128, 128, 1.0)",
          "dash": "solid",
          "shape": "linear",
          "width": 1.3
         },
         "marker": {
          "size": 2,
          "symbol": "circle"
         },
         "mode": "markers",
         "name": "B",
         "text": "",
         "type": "scatter",
         "x": [
          -0.00575823250580768,
          0.6357526536260791,
          1.2078823963791712,
          -0.4284366096975284,
          1.014145002542919,
          0.7054570499036387,
          -0.831478411217752,
          0.7728642327825064,
          0.7004697184507643,
          -1.231776416875097,
          -0.41401563481878434,
          1.1322856480346852,
          -0.39318595015558194,
          0.5263569154400487,
          0.3180291798716228,
          -0.22261827109346366,
          -1.6724197269192995,
          1.2783835503365846,
          -0.23993427251882554,
          -1.2484416732220707,
          0.5976488349424885,
          0.385677861181226,
          0.2560357823013782,
          -0.24619265351844694,
          2.2568470203373674,
          -2.15083769218194,
          1.5485306040937072,
          2.208994013492354,
          -1.499416587196466,
          1.1062623038209496,
          2.044744563145898,
          2.248361168621705,
          -0.6932520400964282,
          -0.12777423865974202,
          -1.9106494770833462,
          -1.212102180027225,
          -0.7757931969671343,
          -0.38744488026458784,
          -0.9463586424105409,
          1.6727887899650369,
          0.7217853129625886,
          -0.3313144221162863,
          0.6960026389981161,
          -0.6648173991171903,
          -0.8112860943469768,
          0.18082540347147127,
          1.3919630873733102,
          0.46382781671231865,
          -0.4115516140752952,
          0.9607193536511318,
          0.4855991638247819,
          -0.21715498311319506,
          -0.7347433916366071,
          0.9092951485461442,
          -2.0243405611992284,
          -1.225125636319877,
          -1.203029999997798,
          -0.6922336491755662,
          0.7660882197370672,
          0.11924644243358365,
          -1.088168686653994,
          1.1392452652594254,
          0.8146955230795004,
          -0.42734587533719665,
          1.2324680519582198,
          -1.1320953576596426,
          -0.30882776595725697,
          1.3663297636529603,
          0.37183579662600236,
          -1.1194792770930226,
          1.8284249216869883,
          1.3609247420075428,
          0.07122539323985272,
          -0.14829238264489364,
          -1.668889594574335,
          0.8066878771001542,
          0.7748156562794538,
          0.6497469973121999,
          2.1398027883949355,
          -1.0978266962978387,
          0.2281853014743535,
          -0.14931126628854363,
          1.4221579843061756,
          0.6914847803397621,
          0.1499341952277375,
          1.012089635627416,
          1.0610786107361148,
          0.8914013131752377,
          0.01231561343508519,
          0.26446277258881523,
          1.5752184579993507,
          -0.8798468402860836,
          1.745915075941031,
          2.15336063842221,
          -0.8801911033186313,
          1.1694085578453528,
          0.4981842791617605,
          0.2074732217252558,
          -0.8480967148262764,
          0.23707951484827536
         ],
         "xaxis": "x5",
         "y": [
          0.8556222288772496,
          -1.1273622610670195,
          -0.5269197553913275,
          -0.8054128781960725,
          -0.749068993151881,
          -1.3687859711329016,
          -0.5042087221215136,
          -0.10130817826066009,
          -0.19672410054208153,
          -0.6313557524089218,
          -1.4581007687375886,
          -1.6956715563044404,
          -0.6112438274023329,
          -0.5268826820818268,
          0.5051994695613479,
          0.8618708710073752,
          -0.4135652030449454,
          -0.7663539466374012,
          1.50407379417061,
          0.7581608221640876,
          0.627991625692652,
          0.5931741531110601,
          0.09454493355746088,
          -0.8700879836882897,
          1.5117944092355777,
          -0.9630717128935331,
          -1.6411006462755617,
          1.3077103851146104,
          0.8233511952419196,
          -0.5280582049795407,
          0.8130476880764101,
          1.952823474239663,
          -0.4683803044118759,
          -0.5235830298669955,
          -0.6842373146647192,
          1.2599932417420376,
          0.9045451435286472,
          0.8549122829220845,
          -1.2775836958876516,
          0.4333838865818812,
          0.01778947470583882,
          -0.09587610120673787,
          0.38128282520588874,
          2.245220942650822,
          -0.9482111767861034,
          -0.05824052572964152,
          0.5347356830229034,
          -3.2400736597966344,
          -0.45206527994377643,
          0.7486285793305874,
          0.7835336662405054,
          -0.16950682209101647,
          -0.2981146972584054,
          1.0210105761818091,
          0.5308830103579464,
          -0.6372186261129612,
          0.3825112899765546,
          -0.7920259017206817,
          0.9322434623218389,
          1.174222380990123,
          -0.09076164508268218,
          -0.2022479825572514,
          0.7230756394862698,
          0.7442097710794263,
          -2.2075109136116877,
          -0.980508554544525,
          -2.8428325330334707,
          1.8479259257597307,
          1.8510240121847856,
          0.49212184258917113,
          1.0625009684563536,
          0.024116607246121757,
          2.6502942145892296,
          2.637770977442213,
          -0.09862430633368902,
          -1.0035638170949084,
          -0.9339655766328269,
          1.456452510783111,
          1.4216849583929372,
          0.23597280549678476,
          -0.4808159398342157,
          -0.22865142773097336,
          0.36234353424371957,
          0.8729717061340367,
          0.28167948888950806,
          -0.415352323234306,
          -1.8463120604056424,
          0.6308806029970968,
          0.44399560562281554,
          0.14489948233936506,
          0.8482594018266639,
          0.8515618449616275,
          -2.5298432102411237,
          1.5630078810335475,
          0.4019441930096172,
          0.8480716100037919,
          -0.7089320124676023,
          0.3912621113405365,
          2.230966454744648,
          0.8791439133705296
         ],
         "yaxis": "y5"
        },
        {
         "histfunc": "count",
         "histnorm": "",
         "marker": {
          "color": "rgba(55, 128, 191, 1.0)",
          "line": {
           "color": "#4D5663",
           "width": 1.3
          }
         },
         "name": "B",
         "nbinsx": 10,
         "opacity": 0.8,
         "orientation": "v",
         "type": "histogram",
         "x": [
          0.8556222288772496,
          -1.1273622610670195,
          -0.5269197553913275,
          -0.8054128781960725,
          -0.749068993151881,
          -1.3687859711329016,
          -0.5042087221215136,
          -0.10130817826066009,
          -0.19672410054208153,
          -0.6313557524089218,
          -1.4581007687375886,
          -1.6956715563044404,
          -0.6112438274023329,
          -0.5268826820818268,
          0.5051994695613479,
          0.8618708710073752,
          -0.4135652030449454,
          -0.7663539466374012,
          1.50407379417061,
          0.7581608221640876,
          0.627991625692652,
          0.5931741531110601,
          0.09454493355746088,
          -0.8700879836882897,
          1.5117944092355777,
          -0.9630717128935331,
          -1.6411006462755617,
          1.3077103851146104,
          0.8233511952419196,
          -0.5280582049795407,
          0.8130476880764101,
          1.952823474239663,
          -0.4683803044118759,
          -0.5235830298669955,
          -0.6842373146647192,
          1.2599932417420376,
          0.9045451435286472,
          0.8549122829220845,
          -1.2775836958876516,
          0.4333838865818812,
          0.01778947470583882,
          -0.09587610120673787,
          0.38128282520588874,
          2.245220942650822,
          -0.9482111767861034,
          -0.05824052572964152,
          0.5347356830229034,
          -3.2400736597966344,
          -0.45206527994377643,
          0.7486285793305874,
          0.7835336662405054,
          -0.16950682209101647,
          -0.2981146972584054,
          1.0210105761818091,
          0.5308830103579464,
          -0.6372186261129612,
          0.3825112899765546,
          -0.7920259017206817,
          0.9322434623218389,
          1.174222380990123,
          -0.09076164508268218,
          -0.2022479825572514,
          0.7230756394862698,
          0.7442097710794263,
          -2.2075109136116877,
          -0.980508554544525,
          -2.8428325330334707,
          1.8479259257597307,
          1.8510240121847856,
          0.49212184258917113,
          1.0625009684563536,
          0.024116607246121757,
          2.6502942145892296,
          2.637770977442213,
          -0.09862430633368902,
          -1.0035638170949084,
          -0.9339655766328269,
          1.456452510783111,
          1.4216849583929372,
          0.23597280549678476,
          -0.4808159398342157,
          -0.22865142773097336,
          0.36234353424371957,
          0.8729717061340367,
          0.28167948888950806,
          -0.415352323234306,
          -1.8463120604056424,
          0.6308806029970968,
          0.44399560562281554,
          0.14489948233936506,
          0.8482594018266639,
          0.8515618449616275,
          -2.5298432102411237,
          1.5630078810335475,
          0.4019441930096172,
          0.8480716100037919,
          -0.7089320124676023,
          0.3912621113405365,
          2.230966454744648,
          0.8791439133705296
         ],
         "xaxis": "x6",
         "yaxis": "y6"
        },
        {
         "line": {
          "color": "rgba(128, 128, 128, 1.0)",
          "dash": "solid",
          "shape": "linear",
          "width": 1.3
         },
         "marker": {
          "size": 2,
          "symbol": "circle"
         },
         "mode": "markers",
         "name": "B",
         "text": "",
         "type": "scatter",
         "x": [
          0.2875230902704165,
          0.7144551764076076,
          -0.26373937309965895,
          0.15453370145811182,
          -2.272460489767835,
          -0.9202091236216271,
          -0.6206782009732357,
          -1.1812667157832835,
          2.7919040278254097,
          0.7310137714432254,
          0.4256853657269252,
          0.05392814708787436,
          -0.0974086583996873,
          0.9408653025587447,
          0.8324660742534052,
          0.8228990445082776,
          -0.3649543187972734,
          0.06829129860687892,
          -0.3523405628702323,
          1.5235670120970195,
          -0.0658489381632977,
          1.8305139148808192,
          -0.07524422160917033,
          1.2310677809670822,
          -0.8962624327502261,
          -1.2107645828239735,
          0.5692048248697585,
          0.037030880907862454,
          -2.5520013599137603,
          1.0127452862706037,
          2.677919935694347,
          -0.191808975491193,
          -0.13949424857943263,
          -0.21168701268500553,
          -0.6718188437190941,
          -0.09649659207560592,
          0.4617663690059929,
          -0.46406168261294384,
          0.5489039510288141,
          -0.6841180843945812,
          0.053878504423162756,
          -1.9838483312730033,
          -0.3597936723613456,
          -0.7106725963646878,
          -1.3258128086026235,
          -2.616942350857831,
          0.8107843697988363,
          0.1854880589464085,
          0.1437574340873547,
          -1.6846226622794245,
          -0.025905535861105645,
          -0.588694190784461,
          0.16130675088873025,
          1.3709630895256617,
          -1.3101517359256105,
          -1.4724328145971546,
          -0.8783671193102046,
          2.500096199936014,
          -0.14113851117071863,
          0.6235004597398874,
          -1.7061505853499135,
          0.14043314241679744,
          0.7730112759549945,
          1.713587891654579,
          -0.20176636230519202,
          0.9352064937523854,
          -0.6029558023561434,
          0.4088772308962657,
          0.385095412850809,
          -0.27307356592312776,
          -0.6231219706414931,
          0.723239802124104,
          -0.16989036545644434,
          1.9887370471006218,
          -0.18846156651695695,
          -1.8067467652782028,
          -1.0148676546193147,
          -0.2663724727484411,
          -0.71051102974763,
          -0.8318146341379324,
          -0.6241221323772533,
          1.3671817390323795,
          1.1235262799562347,
          -1.6668006762079057,
          -0.4790339578295775,
          -0.43259277236664184,
          1.700460465295679,
          -2.0994436476299043,
          -0.3663173172542101,
          0.16524785035489334,
          -0.3923425880295725,
          -0.03391520438375921,
          -0.5565256070872344,
          -0.7500510373676693,
          -0.3697969151967694,
          1.458597845540889,
          0.8292688953720019,
          -0.43315697046388035,
          -1.1894029023161081,
          0.41700444057904584
         ],
         "xaxis": "x7",
         "y": [
          0.8556222288772496,
          -1.1273622610670195,
          -0.5269197553913275,
          -0.8054128781960725,
          -0.749068993151881,
          -1.3687859711329016,
          -0.5042087221215136,
          -0.10130817826066009,
          -0.19672410054208153,
          -0.6313557524089218,
          -1.4581007687375886,
          -1.6956715563044404,
          -0.6112438274023329,
          -0.5268826820818268,
          0.5051994695613479,
          0.8618708710073752,
          -0.4135652030449454,
          -0.7663539466374012,
          1.50407379417061,
          0.7581608221640876,
          0.627991625692652,
          0.5931741531110601,
          0.09454493355746088,
          -0.8700879836882897,
          1.5117944092355777,
          -0.9630717128935331,
          -1.6411006462755617,
          1.3077103851146104,
          0.8233511952419196,
          -0.5280582049795407,
          0.8130476880764101,
          1.952823474239663,
          -0.4683803044118759,
          -0.5235830298669955,
          -0.6842373146647192,
          1.2599932417420376,
          0.9045451435286472,
          0.8549122829220845,
          -1.2775836958876516,
          0.4333838865818812,
          0.01778947470583882,
          -0.09587610120673787,
          0.38128282520588874,
          2.245220942650822,
          -0.9482111767861034,
          -0.05824052572964152,
          0.5347356830229034,
          -3.2400736597966344,
          -0.45206527994377643,
          0.7486285793305874,
          0.7835336662405054,
          -0.16950682209101647,
          -0.2981146972584054,
          1.0210105761818091,
          0.5308830103579464,
          -0.6372186261129612,
          0.3825112899765546,
          -0.7920259017206817,
          0.9322434623218389,
          1.174222380990123,
          -0.09076164508268218,
          -0.2022479825572514,
          0.7230756394862698,
          0.7442097710794263,
          -2.2075109136116877,
          -0.980508554544525,
          -2.8428325330334707,
          1.8479259257597307,
          1.8510240121847856,
          0.49212184258917113,
          1.0625009684563536,
          0.024116607246121757,
          2.6502942145892296,
          2.637770977442213,
          -0.09862430633368902,
          -1.0035638170949084,
          -0.9339655766328269,
          1.456452510783111,
          1.4216849583929372,
          0.23597280549678476,
          -0.4808159398342157,
          -0.22865142773097336,
          0.36234353424371957,
          0.8729717061340367,
          0.28167948888950806,
          -0.415352323234306,
          -1.8463120604056424,
          0.6308806029970968,
          0.44399560562281554,
          0.14489948233936506,
          0.8482594018266639,
          0.8515618449616275,
          -2.5298432102411237,
          1.5630078810335475,
          0.4019441930096172,
          0.8480716100037919,
          -0.7089320124676023,
          0.3912621113405365,
          2.230966454744648,
          0.8791439133705296
         ],
         "yaxis": "y7"
        },
        {
         "line": {
          "color": "rgba(128, 128, 128, 1.0)",
          "dash": "solid",
          "shape": "linear",
          "width": 1.3
         },
         "marker": {
          "size": 2,
          "symbol": "circle"
         },
         "mode": "markers",
         "name": "B",
         "text": "",
         "type": "scatter",
         "x": [
          0.49831588430906937,
          -0.7235038268767632,
          -0.19908633958507851,
          -0.2754390444806026,
          1.7685927979099847,
          -1.259696371883114,
          0.5563611634463861,
          0.9248211590735165,
          0.4212259555469513,
          0.4846234009416616,
          1.0597921430117188,
          -0.2925003284745853,
          2.303056953728043,
          0.5249191896310468,
          -2.109272310397259,
          -0.7992687250163971,
          -1.0407741637071959,
          0.015596406410107443,
          2.353855274863578,
          1.754396650682535,
          0.7127535111699759,
          -0.07410488789727092,
          0.6760586702090022,
          -1.417933641572086,
          0.7973675213056064,
          0.2443727882911371,
          -0.5804437703391563,
          1.863633767044503,
          0.20297799852874407,
          0.09491158191092101,
          1.129039036267022,
          0.055188386864763926,
          -0.031448036577972543,
          0.9899245497935543,
          -0.8773372622519309,
          0.4102587494933926,
          -1.1579541074048647,
          0.21155812933810664,
          -1.5041523248454534,
          -1.2851898217991646,
          -2.735329818561617,
          -0.5467656108492137,
          -2.013469643569477,
          -0.17341243555935112,
          -0.33030972013752347,
          -1.6770609897240745,
          -0.029631159207978073,
          -0.7064601987786423,
          -1.2656208954837023,
          -0.46961915490041006,
          -0.617099492318239,
          0.06061649110428425,
          -0.7561586377783462,
          2.0628248035466377,
          0.6380114005658614,
          -0.9535431688724288,
          -0.5701526124793378,
          0.32599042957947244,
          0.3646544010905983,
          -0.15354805490208603,
          0.682630870046837,
          0.08650373562728984,
          -0.5992172329859129,
          0.17411704252751653,
          2.046294501275606,
          0.19732575727193682,
          1.1221926518318792,
          -0.09534130522144674,
          -0.6105076916942559,
          2.118660425841574,
          0.13723407475958918,
          -1.62651918139627,
          0.7841085955713709,
          -0.9652201975436723,
          1.4646677595435906,
          -1.7465528798122336,
          -1.318860053271632,
          -1.8160111050623335,
          -0.8646624630037903,
          1.5071076372892311,
          1.242116581214999,
          1.7496499043875162,
          1.2637316877945737,
          0.5849093345996091,
          0.44801670543112526,
          0.9326512384042261,
          0.20172343385404465,
          0.42691411019877096,
          -0.12283203968538749,
          0.03985489094344529,
          0.17734216454604754,
          -1.9432020122343785,
          -1.0058812366034295,
          -1.7146744278597892,
          0.008044755271902978,
          1.4176332510507221,
          -0.23722410139262268,
          0.5765595597331339,
          -0.5295606383341808,
          -1.0671617581387909
         ],
         "xaxis": "x8",
         "y": [
          0.8556222288772496,
          -1.1273622610670195,
          -0.5269197553913275,
          -0.8054128781960725,
          -0.749068993151881,
          -1.3687859711329016,
          -0.5042087221215136,
          -0.10130817826066009,
          -0.19672410054208153,
          -0.6313557524089218,
          -1.4581007687375886,
          -1.6956715563044404,
          -0.6112438274023329,
          -0.5268826820818268,
          0.5051994695613479,
          0.8618708710073752,
          -0.4135652030449454,
          -0.7663539466374012,
          1.50407379417061,
          0.7581608221640876,
          0.627991625692652,
          0.5931741531110601,
          0.09454493355746088,
          -0.8700879836882897,
          1.5117944092355777,
          -0.9630717128935331,
          -1.6411006462755617,
          1.3077103851146104,
          0.8233511952419196,
          -0.5280582049795407,
          0.8130476880764101,
          1.952823474239663,
          -0.4683803044118759,
          -0.5235830298669955,
          -0.6842373146647192,
          1.2599932417420376,
          0.9045451435286472,
          0.8549122829220845,
          -1.2775836958876516,
          0.4333838865818812,
          0.01778947470583882,
          -0.09587610120673787,
          0.38128282520588874,
          2.245220942650822,
          -0.9482111767861034,
          -0.05824052572964152,
          0.5347356830229034,
          -3.2400736597966344,
          -0.45206527994377643,
          0.7486285793305874,
          0.7835336662405054,
          -0.16950682209101647,
          -0.2981146972584054,
          1.0210105761818091,
          0.5308830103579464,
          -0.6372186261129612,
          0.3825112899765546,
          -0.7920259017206817,
          0.9322434623218389,
          1.174222380990123,
          -0.09076164508268218,
          -0.2022479825572514,
          0.7230756394862698,
          0.7442097710794263,
          -2.2075109136116877,
          -0.980508554544525,
          -2.8428325330334707,
          1.8479259257597307,
          1.8510240121847856,
          0.49212184258917113,
          1.0625009684563536,
          0.024116607246121757,
          2.6502942145892296,
          2.637770977442213,
          -0.09862430633368902,
          -1.0035638170949084,
          -0.9339655766328269,
          1.456452510783111,
          1.4216849583929372,
          0.23597280549678476,
          -0.4808159398342157,
          -0.22865142773097336,
          0.36234353424371957,
          0.8729717061340367,
          0.28167948888950806,
          -0.415352323234306,
          -1.8463120604056424,
          0.6308806029970968,
          0.44399560562281554,
          0.14489948233936506,
          0.8482594018266639,
          0.8515618449616275,
          -2.5298432102411237,
          1.5630078810335475,
          0.4019441930096172,
          0.8480716100037919,
          -0.7089320124676023,
          0.3912621113405365,
          2.230966454744648,
          0.8791439133705296
         ],
         "yaxis": "y8"
        },
        {
         "line": {
          "color": "rgba(128, 128, 128, 1.0)",
          "dash": "solid",
          "shape": "linear",
          "width": 1.3
         },
         "marker": {
          "size": 2,
          "symbol": "circle"
         },
         "mode": "markers",
         "name": "C",
         "text": "",
         "type": "scatter",
         "x": [
          -0.00575823250580768,
          0.6357526536260791,
          1.2078823963791712,
          -0.4284366096975284,
          1.014145002542919,
          0.7054570499036387,
          -0.831478411217752,
          0.7728642327825064,
          0.7004697184507643,
          -1.231776416875097,
          -0.41401563481878434,
          1.1322856480346852,
          -0.39318595015558194,
          0.5263569154400487,
          0.3180291798716228,
          -0.22261827109346366,
          -1.6724197269192995,
          1.2783835503365846,
          -0.23993427251882554,
          -1.2484416732220707,
          0.5976488349424885,
          0.385677861181226,
          0.2560357823013782,
          -0.24619265351844694,
          2.2568470203373674,
          -2.15083769218194,
          1.5485306040937072,
          2.208994013492354,
          -1.499416587196466,
          1.1062623038209496,
          2.044744563145898,
          2.248361168621705,
          -0.6932520400964282,
          -0.12777423865974202,
          -1.9106494770833462,
          -1.212102180027225,
          -0.7757931969671343,
          -0.38744488026458784,
          -0.9463586424105409,
          1.6727887899650369,
          0.7217853129625886,
          -0.3313144221162863,
          0.6960026389981161,
          -0.6648173991171903,
          -0.8112860943469768,
          0.18082540347147127,
          1.3919630873733102,
          0.46382781671231865,
          -0.4115516140752952,
          0.9607193536511318,
          0.4855991638247819,
          -0.21715498311319506,
          -0.7347433916366071,
          0.9092951485461442,
          -2.0243405611992284,
          -1.225125636319877,
          -1.203029999997798,
          -0.6922336491755662,
          0.7660882197370672,
          0.11924644243358365,
          -1.088168686653994,
          1.1392452652594254,
          0.8146955230795004,
          -0.42734587533719665,
          1.2324680519582198,
          -1.1320953576596426,
          -0.30882776595725697,
          1.3663297636529603,
          0.37183579662600236,
          -1.1194792770930226,
          1.8284249216869883,
          1.3609247420075428,
          0.07122539323985272,
          -0.14829238264489364,
          -1.668889594574335,
          0.8066878771001542,
          0.7748156562794538,
          0.6497469973121999,
          2.1398027883949355,
          -1.0978266962978387,
          0.2281853014743535,
          -0.14931126628854363,
          1.4221579843061756,
          0.6914847803397621,
          0.1499341952277375,
          1.012089635627416,
          1.0610786107361148,
          0.8914013131752377,
          0.01231561343508519,
          0.26446277258881523,
          1.5752184579993507,
          -0.8798468402860836,
          1.745915075941031,
          2.15336063842221,
          -0.8801911033186313,
          1.1694085578453528,
          0.4981842791617605,
          0.2074732217252558,
          -0.8480967148262764,
          0.23707951484827536
         ],
         "xaxis": "x9",
         "y": [
          0.2875230902704165,
          0.7144551764076076,
          -0.26373937309965895,
          0.15453370145811182,
          -2.272460489767835,
          -0.9202091236216271,
          -0.6206782009732357,
          -1.1812667157832835,
          2.7919040278254097,
          0.7310137714432254,
          0.4256853657269252,
          0.05392814708787436,
          -0.0974086583996873,
          0.9408653025587447,
          0.8324660742534052,
          0.8228990445082776,
          -0.3649543187972734,
          0.06829129860687892,
          -0.3523405628702323,
          1.5235670120970195,
          -0.0658489381632977,
          1.8305139148808192,
          -0.07524422160917033,
          1.2310677809670822,
          -0.8962624327502261,
          -1.2107645828239735,
          0.5692048248697585,
          0.037030880907862454,
          -2.5520013599137603,
          1.0127452862706037,
          2.677919935694347,
          -0.191808975491193,
          -0.13949424857943263,
          -0.21168701268500553,
          -0.6718188437190941,
          -0.09649659207560592,
          0.4617663690059929,
          -0.46406168261294384,
          0.5489039510288141,
          -0.6841180843945812,
          0.053878504423162756,
          -1.9838483312730033,
          -0.3597936723613456,
          -0.7106725963646878,
          -1.3258128086026235,
          -2.616942350857831,
          0.8107843697988363,
          0.1854880589464085,
          0.1437574340873547,
          -1.6846226622794245,
          -0.025905535861105645,
          -0.588694190784461,
          0.16130675088873025,
          1.3709630895256617,
          -1.3101517359256105,
          -1.4724328145971546,
          -0.8783671193102046,
          2.500096199936014,
          -0.14113851117071863,
          0.6235004597398874,
          -1.7061505853499135,
          0.14043314241679744,
          0.7730112759549945,
          1.713587891654579,
          -0.20176636230519202,
          0.9352064937523854,
          -0.6029558023561434,
          0.4088772308962657,
          0.385095412850809,
          -0.27307356592312776,
          -0.6231219706414931,
          0.723239802124104,
          -0.16989036545644434,
          1.9887370471006218,
          -0.18846156651695695,
          -1.8067467652782028,
          -1.0148676546193147,
          -0.2663724727484411,
          -0.71051102974763,
          -0.8318146341379324,
          -0.6241221323772533,
          1.3671817390323795,
          1.1235262799562347,
          -1.6668006762079057,
          -0.4790339578295775,
          -0.43259277236664184,
          1.700460465295679,
          -2.0994436476299043,
          -0.3663173172542101,
          0.16524785035489334,
          -0.3923425880295725,
          -0.03391520438375921,
          -0.5565256070872344,
          -0.7500510373676693,
          -0.3697969151967694,
          1.458597845540889,
          0.8292688953720019,
          -0.43315697046388035,
          -1.1894029023161081,
          0.41700444057904584
         ],
         "yaxis": "y9"
        },
        {
         "line": {
          "color": "rgba(128, 128, 128, 1.0)",
          "dash": "solid",
          "shape": "linear",
          "width": 1.3
         },
         "marker": {
          "size": 2,
          "symbol": "circle"
         },
         "mode": "markers",
         "name": "C",
         "text": "",
         "type": "scatter",
         "x": [
          0.8556222288772496,
          -1.1273622610670195,
          -0.5269197553913275,
          -0.8054128781960725,
          -0.749068993151881,
          -1.3687859711329016,
          -0.5042087221215136,
          -0.10130817826066009,
          -0.19672410054208153,
          -0.6313557524089218,
          -1.4581007687375886,
          -1.6956715563044404,
          -0.6112438274023329,
          -0.5268826820818268,
          0.5051994695613479,
          0.8618708710073752,
          -0.4135652030449454,
          -0.7663539466374012,
          1.50407379417061,
          0.7581608221640876,
          0.627991625692652,
          0.5931741531110601,
          0.09454493355746088,
          -0.8700879836882897,
          1.5117944092355777,
          -0.9630717128935331,
          -1.6411006462755617,
          1.3077103851146104,
          0.8233511952419196,
          -0.5280582049795407,
          0.8130476880764101,
          1.952823474239663,
          -0.4683803044118759,
          -0.5235830298669955,
          -0.6842373146647192,
          1.2599932417420376,
          0.9045451435286472,
          0.8549122829220845,
          -1.2775836958876516,
          0.4333838865818812,
          0.01778947470583882,
          -0.09587610120673787,
          0.38128282520588874,
          2.245220942650822,
          -0.9482111767861034,
          -0.05824052572964152,
          0.5347356830229034,
          -3.2400736597966344,
          -0.45206527994377643,
          0.7486285793305874,
          0.7835336662405054,
          -0.16950682209101647,
          -0.2981146972584054,
          1.0210105761818091,
          0.5308830103579464,
          -0.6372186261129612,
          0.3825112899765546,
          -0.7920259017206817,
          0.9322434623218389,
          1.174222380990123,
          -0.09076164508268218,
          -0.2022479825572514,
          0.7230756394862698,
          0.7442097710794263,
          -2.2075109136116877,
          -0.980508554544525,
          -2.8428325330334707,
          1.8479259257597307,
          1.8510240121847856,
          0.49212184258917113,
          1.0625009684563536,
          0.024116607246121757,
          2.6502942145892296,
          2.637770977442213,
          -0.09862430633368902,
          -1.0035638170949084,
          -0.9339655766328269,
          1.456452510783111,
          1.4216849583929372,
          0.23597280549678476,
          -0.4808159398342157,
          -0.22865142773097336,
          0.36234353424371957,
          0.8729717061340367,
          0.28167948888950806,
          -0.415352323234306,
          -1.8463120604056424,
          0.6308806029970968,
          0.44399560562281554,
          0.14489948233936506,
          0.8482594018266639,
          0.8515618449616275,
          -2.5298432102411237,
          1.5630078810335475,
          0.4019441930096172,
          0.8480716100037919,
          -0.7089320124676023,
          0.3912621113405365,
          2.230966454744648,
          0.8791439133705296
         ],
         "xaxis": "x10",
         "y": [
          0.2875230902704165,
          0.7144551764076076,
          -0.26373937309965895,
          0.15453370145811182,
          -2.272460489767835,
          -0.9202091236216271,
          -0.6206782009732357,
          -1.1812667157832835,
          2.7919040278254097,
          0.7310137714432254,
          0.4256853657269252,
          0.05392814708787436,
          -0.0974086583996873,
          0.9408653025587447,
          0.8324660742534052,
          0.8228990445082776,
          -0.3649543187972734,
          0.06829129860687892,
          -0.3523405628702323,
          1.5235670120970195,
          -0.0658489381632977,
          1.8305139148808192,
          -0.07524422160917033,
          1.2310677809670822,
          -0.8962624327502261,
          -1.2107645828239735,
          0.5692048248697585,
          0.037030880907862454,
          -2.5520013599137603,
          1.0127452862706037,
          2.677919935694347,
          -0.191808975491193,
          -0.13949424857943263,
          -0.21168701268500553,
          -0.6718188437190941,
          -0.09649659207560592,
          0.4617663690059929,
          -0.46406168261294384,
          0.5489039510288141,
          -0.6841180843945812,
          0.053878504423162756,
          -1.9838483312730033,
          -0.3597936723613456,
          -0.7106725963646878,
          -1.3258128086026235,
          -2.616942350857831,
          0.8107843697988363,
          0.1854880589464085,
          0.1437574340873547,
          -1.6846226622794245,
          -0.025905535861105645,
          -0.588694190784461,
          0.16130675088873025,
          1.3709630895256617,
          -1.3101517359256105,
          -1.4724328145971546,
          -0.8783671193102046,
          2.500096199936014,
          -0.14113851117071863,
          0.6235004597398874,
          -1.7061505853499135,
          0.14043314241679744,
          0.7730112759549945,
          1.713587891654579,
          -0.20176636230519202,
          0.9352064937523854,
          -0.6029558023561434,
          0.4088772308962657,
          0.385095412850809,
          -0.27307356592312776,
          -0.6231219706414931,
          0.723239802124104,
          -0.16989036545644434,
          1.9887370471006218,
          -0.18846156651695695,
          -1.8067467652782028,
          -1.0148676546193147,
          -0.2663724727484411,
          -0.71051102974763,
          -0.8318146341379324,
          -0.6241221323772533,
          1.3671817390323795,
          1.1235262799562347,
          -1.6668006762079057,
          -0.4790339578295775,
          -0.43259277236664184,
          1.700460465295679,
          -2.0994436476299043,
          -0.3663173172542101,
          0.16524785035489334,
          -0.3923425880295725,
          -0.03391520438375921,
          -0.5565256070872344,
          -0.7500510373676693,
          -0.3697969151967694,
          1.458597845540889,
          0.8292688953720019,
          -0.43315697046388035,
          -1.1894029023161081,
          0.41700444057904584
         ],
         "yaxis": "y10"
        },
        {
         "histfunc": "count",
         "histnorm": "",
         "marker": {
          "color": "rgba(50, 171, 96, 1.0)",
          "line": {
           "color": "#4D5663",
           "width": 1.3
          }
         },
         "name": "C",
         "nbinsx": 10,
         "opacity": 0.8,
         "orientation": "v",
         "type": "histogram",
         "x": [
          0.2875230902704165,
          0.7144551764076076,
          -0.26373937309965895,
          0.15453370145811182,
          -2.272460489767835,
          -0.9202091236216271,
          -0.6206782009732357,
          -1.1812667157832835,
          2.7919040278254097,
          0.7310137714432254,
          0.4256853657269252,
          0.05392814708787436,
          -0.0974086583996873,
          0.9408653025587447,
          0.8324660742534052,
          0.8228990445082776,
          -0.3649543187972734,
          0.06829129860687892,
          -0.3523405628702323,
          1.5235670120970195,
          -0.0658489381632977,
          1.8305139148808192,
          -0.07524422160917033,
          1.2310677809670822,
          -0.8962624327502261,
          -1.2107645828239735,
          0.5692048248697585,
          0.037030880907862454,
          -2.5520013599137603,
          1.0127452862706037,
          2.677919935694347,
          -0.191808975491193,
          -0.13949424857943263,
          -0.21168701268500553,
          -0.6718188437190941,
          -0.09649659207560592,
          0.4617663690059929,
          -0.46406168261294384,
          0.5489039510288141,
          -0.6841180843945812,
          0.053878504423162756,
          -1.9838483312730033,
          -0.3597936723613456,
          -0.7106725963646878,
          -1.3258128086026235,
          -2.616942350857831,
          0.8107843697988363,
          0.1854880589464085,
          0.1437574340873547,
          -1.6846226622794245,
          -0.025905535861105645,
          -0.588694190784461,
          0.16130675088873025,
          1.3709630895256617,
          -1.3101517359256105,
          -1.4724328145971546,
          -0.8783671193102046,
          2.500096199936014,
          -0.14113851117071863,
          0.6235004597398874,
          -1.7061505853499135,
          0.14043314241679744,
          0.7730112759549945,
          1.713587891654579,
          -0.20176636230519202,
          0.9352064937523854,
          -0.6029558023561434,
          0.4088772308962657,
          0.385095412850809,
          -0.27307356592312776,
          -0.6231219706414931,
          0.723239802124104,
          -0.16989036545644434,
          1.9887370471006218,
          -0.18846156651695695,
          -1.8067467652782028,
          -1.0148676546193147,
          -0.2663724727484411,
          -0.71051102974763,
          -0.8318146341379324,
          -0.6241221323772533,
          1.3671817390323795,
          1.1235262799562347,
          -1.6668006762079057,
          -0.4790339578295775,
          -0.43259277236664184,
          1.700460465295679,
          -2.0994436476299043,
          -0.3663173172542101,
          0.16524785035489334,
          -0.3923425880295725,
          -0.03391520438375921,
          -0.5565256070872344,
          -0.7500510373676693,
          -0.3697969151967694,
          1.458597845540889,
          0.8292688953720019,
          -0.43315697046388035,
          -1.1894029023161081,
          0.41700444057904584
         ],
         "xaxis": "x11",
         "yaxis": "y11"
        },
        {
         "line": {
          "color": "rgba(128, 128, 128, 1.0)",
          "dash": "solid",
          "shape": "linear",
          "width": 1.3
         },
         "marker": {
          "size": 2,
          "symbol": "circle"
         },
         "mode": "markers",
         "name": "C",
         "text": "",
         "type": "scatter",
         "x": [
          0.49831588430906937,
          -0.7235038268767632,
          -0.19908633958507851,
          -0.2754390444806026,
          1.7685927979099847,
          -1.259696371883114,
          0.5563611634463861,
          0.9248211590735165,
          0.4212259555469513,
          0.4846234009416616,
          1.0597921430117188,
          -0.2925003284745853,
          2.303056953728043,
          0.5249191896310468,
          -2.109272310397259,
          -0.7992687250163971,
          -1.0407741637071959,
          0.015596406410107443,
          2.353855274863578,
          1.754396650682535,
          0.7127535111699759,
          -0.07410488789727092,
          0.6760586702090022,
          -1.417933641572086,
          0.7973675213056064,
          0.2443727882911371,
          -0.5804437703391563,
          1.863633767044503,
          0.20297799852874407,
          0.09491158191092101,
          1.129039036267022,
          0.055188386864763926,
          -0.031448036577972543,
          0.9899245497935543,
          -0.8773372622519309,
          0.4102587494933926,
          -1.1579541074048647,
          0.21155812933810664,
          -1.5041523248454534,
          -1.2851898217991646,
          -2.735329818561617,
          -0.5467656108492137,
          -2.013469643569477,
          -0.17341243555935112,
          -0.33030972013752347,
          -1.6770609897240745,
          -0.029631159207978073,
          -0.7064601987786423,
          -1.2656208954837023,
          -0.46961915490041006,
          -0.617099492318239,
          0.06061649110428425,
          -0.7561586377783462,
          2.0628248035466377,
          0.6380114005658614,
          -0.9535431688724288,
          -0.5701526124793378,
          0.32599042957947244,
          0.3646544010905983,
          -0.15354805490208603,
          0.682630870046837,
          0.08650373562728984,
          -0.5992172329859129,
          0.17411704252751653,
          2.046294501275606,
          0.19732575727193682,
          1.1221926518318792,
          -0.09534130522144674,
          -0.6105076916942559,
          2.118660425841574,
          0.13723407475958918,
          -1.62651918139627,
          0.7841085955713709,
          -0.9652201975436723,
          1.4646677595435906,
          -1.7465528798122336,
          -1.318860053271632,
          -1.8160111050623335,
          -0.8646624630037903,
          1.5071076372892311,
          1.242116581214999,
          1.7496499043875162,
          1.2637316877945737,
          0.5849093345996091,
          0.44801670543112526,
          0.9326512384042261,
          0.20172343385404465,
          0.42691411019877096,
          -0.12283203968538749,
          0.03985489094344529,
          0.17734216454604754,
          -1.9432020122343785,
          -1.0058812366034295,
          -1.7146744278597892,
          0.008044755271902978,
          1.4176332510507221,
          -0.23722410139262268,
          0.5765595597331339,
          -0.5295606383341808,
          -1.0671617581387909
         ],
         "xaxis": "x12",
         "y": [
          0.2875230902704165,
          0.7144551764076076,
          -0.26373937309965895,
          0.15453370145811182,
          -2.272460489767835,
          -0.9202091236216271,
          -0.6206782009732357,
          -1.1812667157832835,
          2.7919040278254097,
          0.7310137714432254,
          0.4256853657269252,
          0.05392814708787436,
          -0.0974086583996873,
          0.9408653025587447,
          0.8324660742534052,
          0.8228990445082776,
          -0.3649543187972734,
          0.06829129860687892,
          -0.3523405628702323,
          1.5235670120970195,
          -0.0658489381632977,
          1.8305139148808192,
          -0.07524422160917033,
          1.2310677809670822,
          -0.8962624327502261,
          -1.2107645828239735,
          0.5692048248697585,
          0.037030880907862454,
          -2.5520013599137603,
          1.0127452862706037,
          2.677919935694347,
          -0.191808975491193,
          -0.13949424857943263,
          -0.21168701268500553,
          -0.6718188437190941,
          -0.09649659207560592,
          0.4617663690059929,
          -0.46406168261294384,
          0.5489039510288141,
          -0.6841180843945812,
          0.053878504423162756,
          -1.9838483312730033,
          -0.3597936723613456,
          -0.7106725963646878,
          -1.3258128086026235,
          -2.616942350857831,
          0.8107843697988363,
          0.1854880589464085,
          0.1437574340873547,
          -1.6846226622794245,
          -0.025905535861105645,
          -0.588694190784461,
          0.16130675088873025,
          1.3709630895256617,
          -1.3101517359256105,
          -1.4724328145971546,
          -0.8783671193102046,
          2.500096199936014,
          -0.14113851117071863,
          0.6235004597398874,
          -1.7061505853499135,
          0.14043314241679744,
          0.7730112759549945,
          1.713587891654579,
          -0.20176636230519202,
          0.9352064937523854,
          -0.6029558023561434,
          0.4088772308962657,
          0.385095412850809,
          -0.27307356592312776,
          -0.6231219706414931,
          0.723239802124104,
          -0.16989036545644434,
          1.9887370471006218,
          -0.18846156651695695,
          -1.8067467652782028,
          -1.0148676546193147,
          -0.2663724727484411,
          -0.71051102974763,
          -0.8318146341379324,
          -0.6241221323772533,
          1.3671817390323795,
          1.1235262799562347,
          -1.6668006762079057,
          -0.4790339578295775,
          -0.43259277236664184,
          1.700460465295679,
          -2.0994436476299043,
          -0.3663173172542101,
          0.16524785035489334,
          -0.3923425880295725,
          -0.03391520438375921,
          -0.5565256070872344,
          -0.7500510373676693,
          -0.3697969151967694,
          1.458597845540889,
          0.8292688953720019,
          -0.43315697046388035,
          -1.1894029023161081,
          0.41700444057904584
         ],
         "yaxis": "y12"
        },
        {
         "line": {
          "color": "rgba(128, 128, 128, 1.0)",
          "dash": "solid",
          "shape": "linear",
          "width": 1.3
         },
         "marker": {
          "size": 2,
          "symbol": "circle"
         },
         "mode": "markers",
         "name": "D",
         "text": "",
         "type": "scatter",
         "x": [
          -0.00575823250580768,
          0.6357526536260791,
          1.2078823963791712,
          -0.4284366096975284,
          1.014145002542919,
          0.7054570499036387,
          -0.831478411217752,
          0.7728642327825064,
          0.7004697184507643,
          -1.231776416875097,
          -0.41401563481878434,
          1.1322856480346852,
          -0.39318595015558194,
          0.5263569154400487,
          0.3180291798716228,
          -0.22261827109346366,
          -1.6724197269192995,
          1.2783835503365846,
          -0.23993427251882554,
          -1.2484416732220707,
          0.5976488349424885,
          0.385677861181226,
          0.2560357823013782,
          -0.24619265351844694,
          2.2568470203373674,
          -2.15083769218194,
          1.5485306040937072,
          2.208994013492354,
          -1.499416587196466,
          1.1062623038209496,
          2.044744563145898,
          2.248361168621705,
          -0.6932520400964282,
          -0.12777423865974202,
          -1.9106494770833462,
          -1.212102180027225,
          -0.7757931969671343,
          -0.38744488026458784,
          -0.9463586424105409,
          1.6727887899650369,
          0.7217853129625886,
          -0.3313144221162863,
          0.6960026389981161,
          -0.6648173991171903,
          -0.8112860943469768,
          0.18082540347147127,
          1.3919630873733102,
          0.46382781671231865,
          -0.4115516140752952,
          0.9607193536511318,
          0.4855991638247819,
          -0.21715498311319506,
          -0.7347433916366071,
          0.9092951485461442,
          -2.0243405611992284,
          -1.225125636319877,
          -1.203029999997798,
          -0.6922336491755662,
          0.7660882197370672,
          0.11924644243358365,
          -1.088168686653994,
          1.1392452652594254,
          0.8146955230795004,
          -0.42734587533719665,
          1.2324680519582198,
          -1.1320953576596426,
          -0.30882776595725697,
          1.3663297636529603,
          0.37183579662600236,
          -1.1194792770930226,
          1.8284249216869883,
          1.3609247420075428,
          0.07122539323985272,
          -0.14829238264489364,
          -1.668889594574335,
          0.8066878771001542,
          0.7748156562794538,
          0.6497469973121999,
          2.1398027883949355,
          -1.0978266962978387,
          0.2281853014743535,
          -0.14931126628854363,
          1.4221579843061756,
          0.6914847803397621,
          0.1499341952277375,
          1.012089635627416,
          1.0610786107361148,
          0.8914013131752377,
          0.01231561343508519,
          0.26446277258881523,
          1.5752184579993507,
          -0.8798468402860836,
          1.745915075941031,
          2.15336063842221,
          -0.8801911033186313,
          1.1694085578453528,
          0.4981842791617605,
          0.2074732217252558,
          -0.8480967148262764,
          0.23707951484827536
         ],
         "xaxis": "x13",
         "y": [
          0.49831588430906937,
          -0.7235038268767632,
          -0.19908633958507851,
          -0.2754390444806026,
          1.7685927979099847,
          -1.259696371883114,
          0.5563611634463861,
          0.9248211590735165,
          0.4212259555469513,
          0.4846234009416616,
          1.0597921430117188,
          -0.2925003284745853,
          2.303056953728043,
          0.5249191896310468,
          -2.109272310397259,
          -0.7992687250163971,
          -1.0407741637071959,
          0.015596406410107443,
          2.353855274863578,
          1.754396650682535,
          0.7127535111699759,
          -0.07410488789727092,
          0.6760586702090022,
          -1.417933641572086,
          0.7973675213056064,
          0.2443727882911371,
          -0.5804437703391563,
          1.863633767044503,
          0.20297799852874407,
          0.09491158191092101,
          1.129039036267022,
          0.055188386864763926,
          -0.031448036577972543,
          0.9899245497935543,
          -0.8773372622519309,
          0.4102587494933926,
          -1.1579541074048647,
          0.21155812933810664,
          -1.5041523248454534,
          -1.2851898217991646,
          -2.735329818561617,
          -0.5467656108492137,
          -2.013469643569477,
          -0.17341243555935112,
          -0.33030972013752347,
          -1.6770609897240745,
          -0.029631159207978073,
          -0.7064601987786423,
          -1.2656208954837023,
          -0.46961915490041006,
          -0.617099492318239,
          0.06061649110428425,
          -0.7561586377783462,
          2.0628248035466377,
          0.6380114005658614,
          -0.9535431688724288,
          -0.5701526124793378,
          0.32599042957947244,
          0.3646544010905983,
          -0.15354805490208603,
          0.682630870046837,
          0.08650373562728984,
          -0.5992172329859129,
          0.17411704252751653,
          2.046294501275606,
          0.19732575727193682,
          1.1221926518318792,
          -0.09534130522144674,
          -0.6105076916942559,
          2.118660425841574,
          0.13723407475958918,
          -1.62651918139627,
          0.7841085955713709,
          -0.9652201975436723,
          1.4646677595435906,
          -1.7465528798122336,
          -1.318860053271632,
          -1.8160111050623335,
          -0.8646624630037903,
          1.5071076372892311,
          1.242116581214999,
          1.7496499043875162,
          1.2637316877945737,
          0.5849093345996091,
          0.44801670543112526,
          0.9326512384042261,
          0.20172343385404465,
          0.42691411019877096,
          -0.12283203968538749,
          0.03985489094344529,
          0.17734216454604754,
          -1.9432020122343785,
          -1.0058812366034295,
          -1.7146744278597892,
          0.008044755271902978,
          1.4176332510507221,
          -0.23722410139262268,
          0.5765595597331339,
          -0.5295606383341808,
          -1.0671617581387909
         ],
         "yaxis": "y13"
        },
        {
         "line": {
          "color": "rgba(128, 128, 128, 1.0)",
          "dash": "solid",
          "shape": "linear",
          "width": 1.3
         },
         "marker": {
          "size": 2,
          "symbol": "circle"
         },
         "mode": "markers",
         "name": "D",
         "text": "",
         "type": "scatter",
         "x": [
          0.8556222288772496,
          -1.1273622610670195,
          -0.5269197553913275,
          -0.8054128781960725,
          -0.749068993151881,
          -1.3687859711329016,
          -0.5042087221215136,
          -0.10130817826066009,
          -0.19672410054208153,
          -0.6313557524089218,
          -1.4581007687375886,
          -1.6956715563044404,
          -0.6112438274023329,
          -0.5268826820818268,
          0.5051994695613479,
          0.8618708710073752,
          -0.4135652030449454,
          -0.7663539466374012,
          1.50407379417061,
          0.7581608221640876,
          0.627991625692652,
          0.5931741531110601,
          0.09454493355746088,
          -0.8700879836882897,
          1.5117944092355777,
          -0.9630717128935331,
          -1.6411006462755617,
          1.3077103851146104,
          0.8233511952419196,
          -0.5280582049795407,
          0.8130476880764101,
          1.952823474239663,
          -0.4683803044118759,
          -0.5235830298669955,
          -0.6842373146647192,
          1.2599932417420376,
          0.9045451435286472,
          0.8549122829220845,
          -1.2775836958876516,
          0.4333838865818812,
          0.01778947470583882,
          -0.09587610120673787,
          0.38128282520588874,
          2.245220942650822,
          -0.9482111767861034,
          -0.05824052572964152,
          0.5347356830229034,
          -3.2400736597966344,
          -0.45206527994377643,
          0.7486285793305874,
          0.7835336662405054,
          -0.16950682209101647,
          -0.2981146972584054,
          1.0210105761818091,
          0.5308830103579464,
          -0.6372186261129612,
          0.3825112899765546,
          -0.7920259017206817,
          0.9322434623218389,
          1.174222380990123,
          -0.09076164508268218,
          -0.2022479825572514,
          0.7230756394862698,
          0.7442097710794263,
          -2.2075109136116877,
          -0.980508554544525,
          -2.8428325330334707,
          1.8479259257597307,
          1.8510240121847856,
          0.49212184258917113,
          1.0625009684563536,
          0.024116607246121757,
          2.6502942145892296,
          2.637770977442213,
          -0.09862430633368902,
          -1.0035638170949084,
          -0.9339655766328269,
          1.456452510783111,
          1.4216849583929372,
          0.23597280549678476,
          -0.4808159398342157,
          -0.22865142773097336,
          0.36234353424371957,
          0.8729717061340367,
          0.28167948888950806,
          -0.415352323234306,
          -1.8463120604056424,
          0.6308806029970968,
          0.44399560562281554,
          0.14489948233936506,
          0.8482594018266639,
          0.8515618449616275,
          -2.5298432102411237,
          1.5630078810335475,
          0.4019441930096172,
          0.8480716100037919,
          -0.7089320124676023,
          0.3912621113405365,
          2.230966454744648,
          0.8791439133705296
         ],
         "xaxis": "x14",
         "y": [
          0.49831588430906937,
          -0.7235038268767632,
          -0.19908633958507851,
          -0.2754390444806026,
          1.7685927979099847,
          -1.259696371883114,
          0.5563611634463861,
          0.9248211590735165,
          0.4212259555469513,
          0.4846234009416616,
          1.0597921430117188,
          -0.2925003284745853,
          2.303056953728043,
          0.5249191896310468,
          -2.109272310397259,
          -0.7992687250163971,
          -1.0407741637071959,
          0.015596406410107443,
          2.353855274863578,
          1.754396650682535,
          0.7127535111699759,
          -0.07410488789727092,
          0.6760586702090022,
          -1.417933641572086,
          0.7973675213056064,
          0.2443727882911371,
          -0.5804437703391563,
          1.863633767044503,
          0.20297799852874407,
          0.09491158191092101,
          1.129039036267022,
          0.055188386864763926,
          -0.031448036577972543,
          0.9899245497935543,
          -0.8773372622519309,
          0.4102587494933926,
          -1.1579541074048647,
          0.21155812933810664,
          -1.5041523248454534,
          -1.2851898217991646,
          -2.735329818561617,
          -0.5467656108492137,
          -2.013469643569477,
          -0.17341243555935112,
          -0.33030972013752347,
          -1.6770609897240745,
          -0.029631159207978073,
          -0.7064601987786423,
          -1.2656208954837023,
          -0.46961915490041006,
          -0.617099492318239,
          0.06061649110428425,
          -0.7561586377783462,
          2.0628248035466377,
          0.6380114005658614,
          -0.9535431688724288,
          -0.5701526124793378,
          0.32599042957947244,
          0.3646544010905983,
          -0.15354805490208603,
          0.682630870046837,
          0.08650373562728984,
          -0.5992172329859129,
          0.17411704252751653,
          2.046294501275606,
          0.19732575727193682,
          1.1221926518318792,
          -0.09534130522144674,
          -0.6105076916942559,
          2.118660425841574,
          0.13723407475958918,
          -1.62651918139627,
          0.7841085955713709,
          -0.9652201975436723,
          1.4646677595435906,
          -1.7465528798122336,
          -1.318860053271632,
          -1.8160111050623335,
          -0.8646624630037903,
          1.5071076372892311,
          1.242116581214999,
          1.7496499043875162,
          1.2637316877945737,
          0.5849093345996091,
          0.44801670543112526,
          0.9326512384042261,
          0.20172343385404465,
          0.42691411019877096,
          -0.12283203968538749,
          0.03985489094344529,
          0.17734216454604754,
          -1.9432020122343785,
          -1.0058812366034295,
          -1.7146744278597892,
          0.008044755271902978,
          1.4176332510507221,
          -0.23722410139262268,
          0.5765595597331339,
          -0.5295606383341808,
          -1.0671617581387909
         ],
         "yaxis": "y14"
        },
        {
         "line": {
          "color": "rgba(128, 128, 128, 1.0)",
          "dash": "solid",
          "shape": "linear",
          "width": 1.3
         },
         "marker": {
          "size": 2,
          "symbol": "circle"
         },
         "mode": "markers",
         "name": "D",
         "text": "",
         "type": "scatter",
         "x": [
          0.2875230902704165,
          0.7144551764076076,
          -0.26373937309965895,
          0.15453370145811182,
          -2.272460489767835,
          -0.9202091236216271,
          -0.6206782009732357,
          -1.1812667157832835,
          2.7919040278254097,
          0.7310137714432254,
          0.4256853657269252,
          0.05392814708787436,
          -0.0974086583996873,
          0.9408653025587447,
          0.8324660742534052,
          0.8228990445082776,
          -0.3649543187972734,
          0.06829129860687892,
          -0.3523405628702323,
          1.5235670120970195,
          -0.0658489381632977,
          1.8305139148808192,
          -0.07524422160917033,
          1.2310677809670822,
          -0.8962624327502261,
          -1.2107645828239735,
          0.5692048248697585,
          0.037030880907862454,
          -2.5520013599137603,
          1.0127452862706037,
          2.677919935694347,
          -0.191808975491193,
          -0.13949424857943263,
          -0.21168701268500553,
          -0.6718188437190941,
          -0.09649659207560592,
          0.4617663690059929,
          -0.46406168261294384,
          0.5489039510288141,
          -0.6841180843945812,
          0.053878504423162756,
          -1.9838483312730033,
          -0.3597936723613456,
          -0.7106725963646878,
          -1.3258128086026235,
          -2.616942350857831,
          0.8107843697988363,
          0.1854880589464085,
          0.1437574340873547,
          -1.6846226622794245,
          -0.025905535861105645,
          -0.588694190784461,
          0.16130675088873025,
          1.3709630895256617,
          -1.3101517359256105,
          -1.4724328145971546,
          -0.8783671193102046,
          2.500096199936014,
          -0.14113851117071863,
          0.6235004597398874,
          -1.7061505853499135,
          0.14043314241679744,
          0.7730112759549945,
          1.713587891654579,
          -0.20176636230519202,
          0.9352064937523854,
          -0.6029558023561434,
          0.4088772308962657,
          0.385095412850809,
          -0.27307356592312776,
          -0.6231219706414931,
          0.723239802124104,
          -0.16989036545644434,
          1.9887370471006218,
          -0.18846156651695695,
          -1.8067467652782028,
          -1.0148676546193147,
          -0.2663724727484411,
          -0.71051102974763,
          -0.8318146341379324,
          -0.6241221323772533,
          1.3671817390323795,
          1.1235262799562347,
          -1.6668006762079057,
          -0.4790339578295775,
          -0.43259277236664184,
          1.700460465295679,
          -2.0994436476299043,
          -0.3663173172542101,
          0.16524785035489334,
          -0.3923425880295725,
          -0.03391520438375921,
          -0.5565256070872344,
          -0.7500510373676693,
          -0.3697969151967694,
          1.458597845540889,
          0.8292688953720019,
          -0.43315697046388035,
          -1.1894029023161081,
          0.41700444057904584
         ],
         "xaxis": "x15",
         "y": [
          0.49831588430906937,
          -0.7235038268767632,
          -0.19908633958507851,
          -0.2754390444806026,
          1.7685927979099847,
          -1.259696371883114,
          0.5563611634463861,
          0.9248211590735165,
          0.4212259555469513,
          0.4846234009416616,
          1.0597921430117188,
          -0.2925003284745853,
          2.303056953728043,
          0.5249191896310468,
          -2.109272310397259,
          -0.7992687250163971,
          -1.0407741637071959,
          0.015596406410107443,
          2.353855274863578,
          1.754396650682535,
          0.7127535111699759,
          -0.07410488789727092,
          0.6760586702090022,
          -1.417933641572086,
          0.7973675213056064,
          0.2443727882911371,
          -0.5804437703391563,
          1.863633767044503,
          0.20297799852874407,
          0.09491158191092101,
          1.129039036267022,
          0.055188386864763926,
          -0.031448036577972543,
          0.9899245497935543,
          -0.8773372622519309,
          0.4102587494933926,
          -1.1579541074048647,
          0.21155812933810664,
          -1.5041523248454534,
          -1.2851898217991646,
          -2.735329818561617,
          -0.5467656108492137,
          -2.013469643569477,
          -0.17341243555935112,
          -0.33030972013752347,
          -1.6770609897240745,
          -0.029631159207978073,
          -0.7064601987786423,
          -1.2656208954837023,
          -0.46961915490041006,
          -0.617099492318239,
          0.06061649110428425,
          -0.7561586377783462,
          2.0628248035466377,
          0.6380114005658614,
          -0.9535431688724288,
          -0.5701526124793378,
          0.32599042957947244,
          0.3646544010905983,
          -0.15354805490208603,
          0.682630870046837,
          0.08650373562728984,
          -0.5992172329859129,
          0.17411704252751653,
          2.046294501275606,
          0.19732575727193682,
          1.1221926518318792,
          -0.09534130522144674,
          -0.6105076916942559,
          2.118660425841574,
          0.13723407475958918,
          -1.62651918139627,
          0.7841085955713709,
          -0.9652201975436723,
          1.4646677595435906,
          -1.7465528798122336,
          -1.318860053271632,
          -1.8160111050623335,
          -0.8646624630037903,
          1.5071076372892311,
          1.242116581214999,
          1.7496499043875162,
          1.2637316877945737,
          0.5849093345996091,
          0.44801670543112526,
          0.9326512384042261,
          0.20172343385404465,
          0.42691411019877096,
          -0.12283203968538749,
          0.03985489094344529,
          0.17734216454604754,
          -1.9432020122343785,
          -1.0058812366034295,
          -1.7146744278597892,
          0.008044755271902978,
          1.4176332510507221,
          -0.23722410139262268,
          0.5765595597331339,
          -0.5295606383341808,
          -1.0671617581387909
         ],
         "yaxis": "y15"
        },
        {
         "histfunc": "count",
         "histnorm": "",
         "marker": {
          "color": "rgba(128, 0, 128, 1.0)",
          "line": {
           "color": "#4D5663",
           "width": 1.3
          }
         },
         "name": "D",
         "nbinsx": 10,
         "opacity": 0.8,
         "orientation": "v",
         "type": "histogram",
         "x": [
          0.49831588430906937,
          -0.7235038268767632,
          -0.19908633958507851,
          -0.2754390444806026,
          1.7685927979099847,
          -1.259696371883114,
          0.5563611634463861,
          0.9248211590735165,
          0.4212259555469513,
          0.4846234009416616,
          1.0597921430117188,
          -0.2925003284745853,
          2.303056953728043,
          0.5249191896310468,
          -2.109272310397259,
          -0.7992687250163971,
          -1.0407741637071959,
          0.015596406410107443,
          2.353855274863578,
          1.754396650682535,
          0.7127535111699759,
          -0.07410488789727092,
          0.6760586702090022,
          -1.417933641572086,
          0.7973675213056064,
          0.2443727882911371,
          -0.5804437703391563,
          1.863633767044503,
          0.20297799852874407,
          0.09491158191092101,
          1.129039036267022,
          0.055188386864763926,
          -0.031448036577972543,
          0.9899245497935543,
          -0.8773372622519309,
          0.4102587494933926,
          -1.1579541074048647,
          0.21155812933810664,
          -1.5041523248454534,
          -1.2851898217991646,
          -2.735329818561617,
          -0.5467656108492137,
          -2.013469643569477,
          -0.17341243555935112,
          -0.33030972013752347,
          -1.6770609897240745,
          -0.029631159207978073,
          -0.7064601987786423,
          -1.2656208954837023,
          -0.46961915490041006,
          -0.617099492318239,
          0.06061649110428425,
          -0.7561586377783462,
          2.0628248035466377,
          0.6380114005658614,
          -0.9535431688724288,
          -0.5701526124793378,
          0.32599042957947244,
          0.3646544010905983,
          -0.15354805490208603,
          0.682630870046837,
          0.08650373562728984,
          -0.5992172329859129,
          0.17411704252751653,
          2.046294501275606,
          0.19732575727193682,
          1.1221926518318792,
          -0.09534130522144674,
          -0.6105076916942559,
          2.118660425841574,
          0.13723407475958918,
          -1.62651918139627,
          0.7841085955713709,
          -0.9652201975436723,
          1.4646677595435906,
          -1.7465528798122336,
          -1.318860053271632,
          -1.8160111050623335,
          -0.8646624630037903,
          1.5071076372892311,
          1.242116581214999,
          1.7496499043875162,
          1.2637316877945737,
          0.5849093345996091,
          0.44801670543112526,
          0.9326512384042261,
          0.20172343385404465,
          0.42691411019877096,
          -0.12283203968538749,
          0.03985489094344529,
          0.17734216454604754,
          -1.9432020122343785,
          -1.0058812366034295,
          -1.7146744278597892,
          0.008044755271902978,
          1.4176332510507221,
          -0.23722410139262268,
          0.5765595597331339,
          -0.5295606383341808,
          -1.0671617581387909
         ],
         "xaxis": "x16",
         "yaxis": "y16"
        }
       ],
       "layout": {
        "bargap": 0.02,
        "legend": {
         "bgcolor": "#F5F6F9",
         "font": {
          "color": "#4D5663"
         }
        },
        "paper_bgcolor": "#F5F6F9",
        "plot_bgcolor": "#F5F6F9",
        "showlegend": false,
        "template": {
         "data": {
          "bar": [
           {
            "error_x": {
             "color": "#2a3f5f"
            },
            "error_y": {
             "color": "#2a3f5f"
            },
            "marker": {
             "line": {
              "color": "#E5ECF6",
              "width": 0.5
             },
             "pattern": {
              "fillmode": "overlay",
              "size": 10,
              "solidity": 0.2
             }
            },
            "type": "bar"
           }
          ],
          "barpolar": [
           {
            "marker": {
             "line": {
              "color": "#E5ECF6",
              "width": 0.5
             },
             "pattern": {
              "fillmode": "overlay",
              "size": 10,
              "solidity": 0.2
             }
            },
            "type": "barpolar"
           }
          ],
          "carpet": [
           {
            "aaxis": {
             "endlinecolor": "#2a3f5f",
             "gridcolor": "white",
             "linecolor": "white",
             "minorgridcolor": "white",
             "startlinecolor": "#2a3f5f"
            },
            "baxis": {
             "endlinecolor": "#2a3f5f",
             "gridcolor": "white",
             "linecolor": "white",
             "minorgridcolor": "white",
             "startlinecolor": "#2a3f5f"
            },
            "type": "carpet"
           }
          ],
          "choropleth": [
           {
            "colorbar": {
             "outlinewidth": 0,
             "ticks": ""
            },
            "type": "choropleth"
           }
          ],
          "contour": [
           {
            "colorbar": {
             "outlinewidth": 0,
             "ticks": ""
            },
            "colorscale": [
             [
              0,
              "#0d0887"
             ],
             [
              0.1111111111111111,
              "#46039f"
             ],
             [
              0.2222222222222222,
              "#7201a8"
             ],
             [
              0.3333333333333333,
              "#9c179e"
             ],
             [
              0.4444444444444444,
              "#bd3786"
             ],
             [
              0.5555555555555556,
              "#d8576b"
             ],
             [
              0.6666666666666666,
              "#ed7953"
             ],
             [
              0.7777777777777778,
              "#fb9f3a"
             ],
             [
              0.8888888888888888,
              "#fdca26"
             ],
             [
              1,
              "#f0f921"
             ]
            ],
            "type": "contour"
           }
          ],
          "contourcarpet": [
           {
            "colorbar": {
             "outlinewidth": 0,
             "ticks": ""
            },
            "type": "contourcarpet"
           }
          ],
          "heatmap": [
           {
            "colorbar": {
             "outlinewidth": 0,
             "ticks": ""
            },
            "colorscale": [
             [
              0,
              "#0d0887"
             ],
             [
              0.1111111111111111,
              "#46039f"
             ],
             [
              0.2222222222222222,
              "#7201a8"
             ],
             [
              0.3333333333333333,
              "#9c179e"
             ],
             [
              0.4444444444444444,
              "#bd3786"
             ],
             [
              0.5555555555555556,
              "#d8576b"
             ],
             [
              0.6666666666666666,
              "#ed7953"
             ],
             [
              0.7777777777777778,
              "#fb9f3a"
             ],
             [
              0.8888888888888888,
              "#fdca26"
             ],
             [
              1,
              "#f0f921"
             ]
            ],
            "type": "heatmap"
           }
          ],
          "heatmapgl": [
           {
            "colorbar": {
             "outlinewidth": 0,
             "ticks": ""
            },
            "colorscale": [
             [
              0,
              "#0d0887"
             ],
             [
              0.1111111111111111,
              "#46039f"
             ],
             [
              0.2222222222222222,
              "#7201a8"
             ],
             [
              0.3333333333333333,
              "#9c179e"
             ],
             [
              0.4444444444444444,
              "#bd3786"
             ],
             [
              0.5555555555555556,
              "#d8576b"
             ],
             [
              0.6666666666666666,
              "#ed7953"
             ],
             [
              0.7777777777777778,
              "#fb9f3a"
             ],
             [
              0.8888888888888888,
              "#fdca26"
             ],
             [
              1,
              "#f0f921"
             ]
            ],
            "type": "heatmapgl"
           }
          ],
          "histogram": [
           {
            "marker": {
             "pattern": {
              "fillmode": "overlay",
              "size": 10,
              "solidity": 0.2
             }
            },
            "type": "histogram"
           }
          ],
          "histogram2d": [
           {
            "colorbar": {
             "outlinewidth": 0,
             "ticks": ""
            },
            "colorscale": [
             [
              0,
              "#0d0887"
             ],
             [
              0.1111111111111111,
              "#46039f"
             ],
             [
              0.2222222222222222,
              "#7201a8"
             ],
             [
              0.3333333333333333,
              "#9c179e"
             ],
             [
              0.4444444444444444,
              "#bd3786"
             ],
             [
              0.5555555555555556,
              "#d8576b"
             ],
             [
              0.6666666666666666,
              "#ed7953"
             ],
             [
              0.7777777777777778,
              "#fb9f3a"
             ],
             [
              0.8888888888888888,
              "#fdca26"
             ],
             [
              1,
              "#f0f921"
             ]
            ],
            "type": "histogram2d"
           }
          ],
          "histogram2dcontour": [
           {
            "colorbar": {
             "outlinewidth": 0,
             "ticks": ""
            },
            "colorscale": [
             [
              0,
              "#0d0887"
             ],
             [
              0.1111111111111111,
              "#46039f"
             ],
             [
              0.2222222222222222,
              "#7201a8"
             ],
             [
              0.3333333333333333,
              "#9c179e"
             ],
             [
              0.4444444444444444,
              "#bd3786"
             ],
             [
              0.5555555555555556,
              "#d8576b"
             ],
             [
              0.6666666666666666,
              "#ed7953"
             ],
             [
              0.7777777777777778,
              "#fb9f3a"
             ],
             [
              0.8888888888888888,
              "#fdca26"
             ],
             [
              1,
              "#f0f921"
             ]
            ],
            "type": "histogram2dcontour"
           }
          ],
          "mesh3d": [
           {
            "colorbar": {
             "outlinewidth": 0,
             "ticks": ""
            },
            "type": "mesh3d"
           }
          ],
          "parcoords": [
           {
            "line": {
             "colorbar": {
              "outlinewidth": 0,
              "ticks": ""
             }
            },
            "type": "parcoords"
           }
          ],
          "pie": [
           {
            "automargin": true,
            "type": "pie"
           }
          ],
          "scatter": [
           {
            "marker": {
             "colorbar": {
              "outlinewidth": 0,
              "ticks": ""
             }
            },
            "type": "scatter"
           }
          ],
          "scatter3d": [
           {
            "line": {
             "colorbar": {
              "outlinewidth": 0,
              "ticks": ""
             }
            },
            "marker": {
             "colorbar": {
              "outlinewidth": 0,
              "ticks": ""
             }
            },
            "type": "scatter3d"
           }
          ],
          "scattercarpet": [
           {
            "marker": {
             "colorbar": {
              "outlinewidth": 0,
              "ticks": ""
             }
            },
            "type": "scattercarpet"
           }
          ],
          "scattergeo": [
           {
            "marker": {
             "colorbar": {
              "outlinewidth": 0,
              "ticks": ""
             }
            },
            "type": "scattergeo"
           }
          ],
          "scattergl": [
           {
            "marker": {
             "colorbar": {
              "outlinewidth": 0,
              "ticks": ""
             }
            },
            "type": "scattergl"
           }
          ],
          "scattermapbox": [
           {
            "marker": {
             "colorbar": {
              "outlinewidth": 0,
              "ticks": ""
             }
            },
            "type": "scattermapbox"
           }
          ],
          "scatterpolar": [
           {
            "marker": {
             "colorbar": {
              "outlinewidth": 0,
              "ticks": ""
             }
            },
            "type": "scatterpolar"
           }
          ],
          "scatterpolargl": [
           {
            "marker": {
             "colorbar": {
              "outlinewidth": 0,
              "ticks": ""
             }
            },
            "type": "scatterpolargl"
           }
          ],
          "scatterternary": [
           {
            "marker": {
             "colorbar": {
              "outlinewidth": 0,
              "ticks": ""
             }
            },
            "type": "scatterternary"
           }
          ],
          "surface": [
           {
            "colorbar": {
             "outlinewidth": 0,
             "ticks": ""
            },
            "colorscale": [
             [
              0,
              "#0d0887"
             ],
             [
              0.1111111111111111,
              "#46039f"
             ],
             [
              0.2222222222222222,
              "#7201a8"
             ],
             [
              0.3333333333333333,
              "#9c179e"
             ],
             [
              0.4444444444444444,
              "#bd3786"
             ],
             [
              0.5555555555555556,
              "#d8576b"
             ],
             [
              0.6666666666666666,
              "#ed7953"
             ],
             [
              0.7777777777777778,
              "#fb9f3a"
             ],
             [
              0.8888888888888888,
              "#fdca26"
             ],
             [
              1,
              "#f0f921"
             ]
            ],
            "type": "surface"
           }
          ],
          "table": [
           {
            "cells": {
             "fill": {
              "color": "#EBF0F8"
             },
             "line": {
              "color": "white"
             }
            },
            "header": {
             "fill": {
              "color": "#C8D4E3"
             },
             "line": {
              "color": "white"
             }
            },
            "type": "table"
           }
          ]
         },
         "layout": {
          "annotationdefaults": {
           "arrowcolor": "#2a3f5f",
           "arrowhead": 0,
           "arrowwidth": 1
          },
          "autotypenumbers": "strict",
          "coloraxis": {
           "colorbar": {
            "outlinewidth": 0,
            "ticks": ""
           }
          },
          "colorscale": {
           "diverging": [
            [
             0,
             "#8e0152"
            ],
            [
             0.1,
             "#c51b7d"
            ],
            [
             0.2,
             "#de77ae"
            ],
            [
             0.3,
             "#f1b6da"
            ],
            [
             0.4,
             "#fde0ef"
            ],
            [
             0.5,
             "#f7f7f7"
            ],
            [
             0.6,
             "#e6f5d0"
            ],
            [
             0.7,
             "#b8e186"
            ],
            [
             0.8,
             "#7fbc41"
            ],
            [
             0.9,
             "#4d9221"
            ],
            [
             1,
             "#276419"
            ]
           ],
           "sequential": [
            [
             0,
             "#0d0887"
            ],
            [
             0.1111111111111111,
             "#46039f"
            ],
            [
             0.2222222222222222,
             "#7201a8"
            ],
            [
             0.3333333333333333,
             "#9c179e"
            ],
            [
             0.4444444444444444,
             "#bd3786"
            ],
            [
             0.5555555555555556,
             "#d8576b"
            ],
            [
             0.6666666666666666,
             "#ed7953"
            ],
            [
             0.7777777777777778,
             "#fb9f3a"
            ],
            [
             0.8888888888888888,
             "#fdca26"
            ],
            [
             1,
             "#f0f921"
            ]
           ],
           "sequentialminus": [
            [
             0,
             "#0d0887"
            ],
            [
             0.1111111111111111,
             "#46039f"
            ],
            [
             0.2222222222222222,
             "#7201a8"
            ],
            [
             0.3333333333333333,
             "#9c179e"
            ],
            [
             0.4444444444444444,
             "#bd3786"
            ],
            [
             0.5555555555555556,
             "#d8576b"
            ],
            [
             0.6666666666666666,
             "#ed7953"
            ],
            [
             0.7777777777777778,
             "#fb9f3a"
            ],
            [
             0.8888888888888888,
             "#fdca26"
            ],
            [
             1,
             "#f0f921"
            ]
           ]
          },
          "colorway": [
           "#636efa",
           "#EF553B",
           "#00cc96",
           "#ab63fa",
           "#FFA15A",
           "#19d3f3",
           "#FF6692",
           "#B6E880",
           "#FF97FF",
           "#FECB52"
          ],
          "font": {
           "color": "#2a3f5f"
          },
          "geo": {
           "bgcolor": "white",
           "lakecolor": "white",
           "landcolor": "#E5ECF6",
           "showlakes": true,
           "showland": true,
           "subunitcolor": "white"
          },
          "hoverlabel": {
           "align": "left"
          },
          "hovermode": "closest",
          "mapbox": {
           "style": "light"
          },
          "paper_bgcolor": "white",
          "plot_bgcolor": "#E5ECF6",
          "polar": {
           "angularaxis": {
            "gridcolor": "white",
            "linecolor": "white",
            "ticks": ""
           },
           "bgcolor": "#E5ECF6",
           "radialaxis": {
            "gridcolor": "white",
            "linecolor": "white",
            "ticks": ""
           }
          },
          "scene": {
           "xaxis": {
            "backgroundcolor": "#E5ECF6",
            "gridcolor": "white",
            "gridwidth": 2,
            "linecolor": "white",
            "showbackground": true,
            "ticks": "",
            "zerolinecolor": "white"
           },
           "yaxis": {
            "backgroundcolor": "#E5ECF6",
            "gridcolor": "white",
            "gridwidth": 2,
            "linecolor": "white",
            "showbackground": true,
            "ticks": "",
            "zerolinecolor": "white"
           },
           "zaxis": {
            "backgroundcolor": "#E5ECF6",
            "gridcolor": "white",
            "gridwidth": 2,
            "linecolor": "white",
            "showbackground": true,
            "ticks": "",
            "zerolinecolor": "white"
           }
          },
          "shapedefaults": {
           "line": {
            "color": "#2a3f5f"
           }
          },
          "ternary": {
           "aaxis": {
            "gridcolor": "white",
            "linecolor": "white",
            "ticks": ""
           },
           "baxis": {
            "gridcolor": "white",
            "linecolor": "white",
            "ticks": ""
           },
           "bgcolor": "#E5ECF6",
           "caxis": {
            "gridcolor": "white",
            "linecolor": "white",
            "ticks": ""
           }
          },
          "title": {
           "x": 0.05
          },
          "xaxis": {
           "automargin": true,
           "gridcolor": "white",
           "linecolor": "white",
           "ticks": "",
           "title": {
            "standoff": 15
           },
           "zerolinecolor": "white",
           "zerolinewidth": 2
          },
          "yaxis": {
           "automargin": true,
           "gridcolor": "white",
           "linecolor": "white",
           "ticks": "",
           "title": {
            "standoff": 15
           },
           "zerolinecolor": "white",
           "zerolinewidth": 2
          }
         }
        },
        "title": {
         "font": {
          "color": "#4D5663"
         }
        },
        "xaxis": {
         "anchor": "y",
         "domain": [
          0,
          0.2125
         ],
         "gridcolor": "#E1E5ED",
         "showgrid": false,
         "tickfont": {
          "color": "#4D5663"
         },
         "title": {
          "font": {
           "color": "#4D5663"
          },
          "text": ""
         },
         "zerolinecolor": "#E1E5ED"
        },
        "xaxis10": {
         "anchor": "y10",
         "domain": [
          0.2625,
          0.475
         ],
         "gridcolor": "#E1E5ED",
         "showgrid": false,
         "tickfont": {
          "color": "#4D5663"
         },
         "title": {
          "font": {
           "color": "#4D5663"
          },
          "text": ""
         },
         "zerolinecolor": "#E1E5ED"
        },
        "xaxis11": {
         "anchor": "y11",
         "domain": [
          0.525,
          0.7375
         ],
         "gridcolor": "#E1E5ED",
         "showgrid": false,
         "tickfont": {
          "color": "#4D5663"
         },
         "title": {
          "font": {
           "color": "#4D5663"
          },
          "text": ""
         },
         "zerolinecolor": "#E1E5ED"
        },
        "xaxis12": {
         "anchor": "y12",
         "domain": [
          0.7875,
          1
         ],
         "gridcolor": "#E1E5ED",
         "showgrid": false,
         "tickfont": {
          "color": "#4D5663"
         },
         "title": {
          "font": {
           "color": "#4D5663"
          },
          "text": ""
         },
         "zerolinecolor": "#E1E5ED"
        },
        "xaxis13": {
         "anchor": "y13",
         "domain": [
          0,
          0.2125
         ],
         "gridcolor": "#E1E5ED",
         "showgrid": false,
         "tickfont": {
          "color": "#4D5663"
         },
         "title": {
          "font": {
           "color": "#4D5663"
          },
          "text": ""
         },
         "zerolinecolor": "#E1E5ED"
        },
        "xaxis14": {
         "anchor": "y14",
         "domain": [
          0.2625,
          0.475
         ],
         "gridcolor": "#E1E5ED",
         "showgrid": false,
         "tickfont": {
          "color": "#4D5663"
         },
         "title": {
          "font": {
           "color": "#4D5663"
          },
          "text": ""
         },
         "zerolinecolor": "#E1E5ED"
        },
        "xaxis15": {
         "anchor": "y15",
         "domain": [
          0.525,
          0.7375
         ],
         "gridcolor": "#E1E5ED",
         "showgrid": false,
         "tickfont": {
          "color": "#4D5663"
         },
         "title": {
          "font": {
           "color": "#4D5663"
          },
          "text": ""
         },
         "zerolinecolor": "#E1E5ED"
        },
        "xaxis16": {
         "anchor": "y16",
         "domain": [
          0.7875,
          1
         ],
         "gridcolor": "#E1E5ED",
         "showgrid": false,
         "tickfont": {
          "color": "#4D5663"
         },
         "title": {
          "font": {
           "color": "#4D5663"
          },
          "text": ""
         },
         "zerolinecolor": "#E1E5ED"
        },
        "xaxis2": {
         "anchor": "y2",
         "domain": [
          0.2625,
          0.475
         ],
         "gridcolor": "#E1E5ED",
         "showgrid": false,
         "tickfont": {
          "color": "#4D5663"
         },
         "title": {
          "font": {
           "color": "#4D5663"
          },
          "text": ""
         },
         "zerolinecolor": "#E1E5ED"
        },
        "xaxis3": {
         "anchor": "y3",
         "domain": [
          0.525,
          0.7375
         ],
         "gridcolor": "#E1E5ED",
         "showgrid": false,
         "tickfont": {
          "color": "#4D5663"
         },
         "title": {
          "font": {
           "color": "#4D5663"
          },
          "text": ""
         },
         "zerolinecolor": "#E1E5ED"
        },
        "xaxis4": {
         "anchor": "y4",
         "domain": [
          0.7875,
          1
         ],
         "gridcolor": "#E1E5ED",
         "showgrid": false,
         "tickfont": {
          "color": "#4D5663"
         },
         "title": {
          "font": {
           "color": "#4D5663"
          },
          "text": ""
         },
         "zerolinecolor": "#E1E5ED"
        },
        "xaxis5": {
         "anchor": "y5",
         "domain": [
          0,
          0.2125
         ],
         "gridcolor": "#E1E5ED",
         "showgrid": false,
         "tickfont": {
          "color": "#4D5663"
         },
         "title": {
          "font": {
           "color": "#4D5663"
          },
          "text": ""
         },
         "zerolinecolor": "#E1E5ED"
        },
        "xaxis6": {
         "anchor": "y6",
         "domain": [
          0.2625,
          0.475
         ],
         "gridcolor": "#E1E5ED",
         "showgrid": false,
         "tickfont": {
          "color": "#4D5663"
         },
         "title": {
          "font": {
           "color": "#4D5663"
          },
          "text": ""
         },
         "zerolinecolor": "#E1E5ED"
        },
        "xaxis7": {
         "anchor": "y7",
         "domain": [
          0.525,
          0.7375
         ],
         "gridcolor": "#E1E5ED",
         "showgrid": false,
         "tickfont": {
          "color": "#4D5663"
         },
         "title": {
          "font": {
           "color": "#4D5663"
          },
          "text": ""
         },
         "zerolinecolor": "#E1E5ED"
        },
        "xaxis8": {
         "anchor": "y8",
         "domain": [
          0.7875,
          1
         ],
         "gridcolor": "#E1E5ED",
         "showgrid": false,
         "tickfont": {
          "color": "#4D5663"
         },
         "title": {
          "font": {
           "color": "#4D5663"
          },
          "text": ""
         },
         "zerolinecolor": "#E1E5ED"
        },
        "xaxis9": {
         "anchor": "y9",
         "domain": [
          0,
          0.2125
         ],
         "gridcolor": "#E1E5ED",
         "showgrid": false,
         "tickfont": {
          "color": "#4D5663"
         },
         "title": {
          "font": {
           "color": "#4D5663"
          },
          "text": ""
         },
         "zerolinecolor": "#E1E5ED"
        },
        "yaxis": {
         "anchor": "x",
         "domain": [
          0.8025,
          1
         ],
         "gridcolor": "#E1E5ED",
         "showgrid": false,
         "tickfont": {
          "color": "#4D5663"
         },
         "title": {
          "font": {
           "color": "#4D5663"
          },
          "text": ""
         },
         "zerolinecolor": "#E1E5ED"
        },
        "yaxis10": {
         "anchor": "x10",
         "domain": [
          0.2675,
          0.465
         ],
         "gridcolor": "#E1E5ED",
         "showgrid": false,
         "tickfont": {
          "color": "#4D5663"
         },
         "title": {
          "font": {
           "color": "#4D5663"
          },
          "text": ""
         },
         "zerolinecolor": "#E1E5ED"
        },
        "yaxis11": {
         "anchor": "x11",
         "domain": [
          0.2675,
          0.465
         ],
         "gridcolor": "#E1E5ED",
         "showgrid": false,
         "tickfont": {
          "color": "#4D5663"
         },
         "title": {
          "font": {
           "color": "#4D5663"
          },
          "text": ""
         },
         "zerolinecolor": "#E1E5ED"
        },
        "yaxis12": {
         "anchor": "x12",
         "domain": [
          0.2675,
          0.465
         ],
         "gridcolor": "#E1E5ED",
         "showgrid": false,
         "tickfont": {
          "color": "#4D5663"
         },
         "title": {
          "font": {
           "color": "#4D5663"
          },
          "text": ""
         },
         "zerolinecolor": "#E1E5ED"
        },
        "yaxis13": {
         "anchor": "x13",
         "domain": [
          0,
          0.1975
         ],
         "gridcolor": "#E1E5ED",
         "showgrid": false,
         "tickfont": {
          "color": "#4D5663"
         },
         "title": {
          "font": {
           "color": "#4D5663"
          },
          "text": ""
         },
         "zerolinecolor": "#E1E5ED"
        },
        "yaxis14": {
         "anchor": "x14",
         "domain": [
          0,
          0.1975
         ],
         "gridcolor": "#E1E5ED",
         "showgrid": false,
         "tickfont": {
          "color": "#4D5663"
         },
         "title": {
          "font": {
           "color": "#4D5663"
          },
          "text": ""
         },
         "zerolinecolor": "#E1E5ED"
        },
        "yaxis15": {
         "anchor": "x15",
         "domain": [
          0,
          0.1975
         ],
         "gridcolor": "#E1E5ED",
         "showgrid": false,
         "tickfont": {
          "color": "#4D5663"
         },
         "title": {
          "font": {
           "color": "#4D5663"
          },
          "text": ""
         },
         "zerolinecolor": "#E1E5ED"
        },
        "yaxis16": {
         "anchor": "x16",
         "domain": [
          0,
          0.1975
         ],
         "gridcolor": "#E1E5ED",
         "showgrid": false,
         "tickfont": {
          "color": "#4D5663"
         },
         "title": {
          "font": {
           "color": "#4D5663"
          },
          "text": ""
         },
         "zerolinecolor": "#E1E5ED"
        },
        "yaxis2": {
         "anchor": "x2",
         "domain": [
          0.8025,
          1
         ],
         "gridcolor": "#E1E5ED",
         "showgrid": false,
         "tickfont": {
          "color": "#4D5663"
         },
         "title": {
          "font": {
           "color": "#4D5663"
          },
          "text": ""
         },
         "zerolinecolor": "#E1E5ED"
        },
        "yaxis3": {
         "anchor": "x3",
         "domain": [
          0.8025,
          1
         ],
         "gridcolor": "#E1E5ED",
         "showgrid": false,
         "tickfont": {
          "color": "#4D5663"
         },
         "title": {
          "font": {
           "color": "#4D5663"
          },
          "text": ""
         },
         "zerolinecolor": "#E1E5ED"
        },
        "yaxis4": {
         "anchor": "x4",
         "domain": [
          0.8025,
          1
         ],
         "gridcolor": "#E1E5ED",
         "showgrid": false,
         "tickfont": {
          "color": "#4D5663"
         },
         "title": {
          "font": {
           "color": "#4D5663"
          },
          "text": ""
         },
         "zerolinecolor": "#E1E5ED"
        },
        "yaxis5": {
         "anchor": "x5",
         "domain": [
          0.535,
          0.7325
         ],
         "gridcolor": "#E1E5ED",
         "showgrid": false,
         "tickfont": {
          "color": "#4D5663"
         },
         "title": {
          "font": {
           "color": "#4D5663"
          },
          "text": ""
         },
         "zerolinecolor": "#E1E5ED"
        },
        "yaxis6": {
         "anchor": "x6",
         "domain": [
          0.535,
          0.7325
         ],
         "gridcolor": "#E1E5ED",
         "showgrid": false,
         "tickfont": {
          "color": "#4D5663"
         },
         "title": {
          "font": {
           "color": "#4D5663"
          },
          "text": ""
         },
         "zerolinecolor": "#E1E5ED"
        },
        "yaxis7": {
         "anchor": "x7",
         "domain": [
          0.535,
          0.7325
         ],
         "gridcolor": "#E1E5ED",
         "showgrid": false,
         "tickfont": {
          "color": "#4D5663"
         },
         "title": {
          "font": {
           "color": "#4D5663"
          },
          "text": ""
         },
         "zerolinecolor": "#E1E5ED"
        },
        "yaxis8": {
         "anchor": "x8",
         "domain": [
          0.535,
          0.7325
         ],
         "gridcolor": "#E1E5ED",
         "showgrid": false,
         "tickfont": {
          "color": "#4D5663"
         },
         "title": {
          "font": {
           "color": "#4D5663"
          },
          "text": ""
         },
         "zerolinecolor": "#E1E5ED"
        },
        "yaxis9": {
         "anchor": "x9",
         "domain": [
          0.2675,
          0.465
         ],
         "gridcolor": "#E1E5ED",
         "showgrid": false,
         "tickfont": {
          "color": "#4D5663"
         },
         "title": {
          "font": {
           "color": "#4D5663"
          },
          "text": ""
         },
         "zerolinecolor": "#E1E5ED"
        }
       }
      },
      "text/html": [
       "<div>                            <div id=\"d522c628-79ca-40d9-9f9c-b0ea14356483\" class=\"plotly-graph-div\" style=\"height:525px; width:100%;\"></div>            <script type=\"text/javascript\">                require([\"plotly\"], function(Plotly) {                    window.PLOTLYENV=window.PLOTLYENV || {};\n",
       "                    window.PLOTLYENV.BASE_URL='https://plot.ly';                                    if (document.getElementById(\"d522c628-79ca-40d9-9f9c-b0ea14356483\")) {                    Plotly.newPlot(                        \"d522c628-79ca-40d9-9f9c-b0ea14356483\",                        [{\"histfunc\":\"count\",\"histnorm\":\"\",\"marker\":{\"color\":\"rgba(255, 153, 51, 1.0)\",\"line\":{\"color\":\"#4D5663\",\"width\":1.3}},\"name\":\"A\",\"nbinsx\":10,\"opacity\":0.8,\"orientation\":\"v\",\"type\":\"histogram\",\"x\":[-0.00575823250580768,0.6357526536260791,1.2078823963791712,-0.4284366096975284,1.014145002542919,0.7054570499036387,-0.831478411217752,0.7728642327825064,0.7004697184507643,-1.231776416875097,-0.41401563481878434,1.1322856480346852,-0.39318595015558194,0.5263569154400487,0.3180291798716228,-0.22261827109346366,-1.6724197269192995,1.2783835503365846,-0.23993427251882554,-1.2484416732220707,0.5976488349424885,0.385677861181226,0.2560357823013782,-0.24619265351844694,2.2568470203373674,-2.15083769218194,1.5485306040937072,2.208994013492354,-1.499416587196466,1.1062623038209496,2.044744563145898,2.248361168621705,-0.6932520400964282,-0.12777423865974202,-1.9106494770833462,-1.212102180027225,-0.7757931969671343,-0.38744488026458784,-0.9463586424105409,1.6727887899650369,0.7217853129625886,-0.3313144221162863,0.6960026389981161,-0.6648173991171903,-0.8112860943469768,0.18082540347147127,1.3919630873733102,0.46382781671231865,-0.4115516140752952,0.9607193536511318,0.4855991638247819,-0.21715498311319506,-0.7347433916366071,0.9092951485461442,-2.0243405611992284,-1.225125636319877,-1.203029999997798,-0.6922336491755662,0.7660882197370672,0.11924644243358365,-1.088168686653994,1.1392452652594254,0.8146955230795004,-0.42734587533719665,1.2324680519582198,-1.1320953576596426,-0.30882776595725697,1.3663297636529603,0.37183579662600236,-1.1194792770930226,1.8284249216869883,1.3609247420075428,0.07122539323985272,-0.14829238264489364,-1.668889594574335,0.8066878771001542,0.7748156562794538,0.6497469973121999,2.1398027883949355,-1.0978266962978387,0.2281853014743535,-0.14931126628854363,1.4221579843061756,0.6914847803397621,0.1499341952277375,1.012089635627416,1.0610786107361148,0.8914013131752377,0.01231561343508519,0.26446277258881523,1.5752184579993507,-0.8798468402860836,1.745915075941031,2.15336063842221,-0.8801911033186313,1.1694085578453528,0.4981842791617605,0.2074732217252558,-0.8480967148262764,0.23707951484827536],\"xaxis\":\"x\",\"yaxis\":\"y\"},{\"line\":{\"color\":\"rgba(128, 128, 128, 1.0)\",\"dash\":\"solid\",\"shape\":\"linear\",\"width\":1.3},\"marker\":{\"size\":2,\"symbol\":\"circle\"},\"mode\":\"markers\",\"name\":\"A\",\"text\":\"\",\"type\":\"scatter\",\"x\":[0.8556222288772496,-1.1273622610670195,-0.5269197553913275,-0.8054128781960725,-0.749068993151881,-1.3687859711329016,-0.5042087221215136,-0.10130817826066009,-0.19672410054208153,-0.6313557524089218,-1.4581007687375886,-1.6956715563044404,-0.6112438274023329,-0.5268826820818268,0.5051994695613479,0.8618708710073752,-0.4135652030449454,-0.7663539466374012,1.50407379417061,0.7581608221640876,0.627991625692652,0.5931741531110601,0.09454493355746088,-0.8700879836882897,1.5117944092355777,-0.9630717128935331,-1.6411006462755617,1.3077103851146104,0.8233511952419196,-0.5280582049795407,0.8130476880764101,1.952823474239663,-0.4683803044118759,-0.5235830298669955,-0.6842373146647192,1.2599932417420376,0.9045451435286472,0.8549122829220845,-1.2775836958876516,0.4333838865818812,0.01778947470583882,-0.09587610120673787,0.38128282520588874,2.245220942650822,-0.9482111767861034,-0.05824052572964152,0.5347356830229034,-3.2400736597966344,-0.45206527994377643,0.7486285793305874,0.7835336662405054,-0.16950682209101647,-0.2981146972584054,1.0210105761818091,0.5308830103579464,-0.6372186261129612,0.3825112899765546,-0.7920259017206817,0.9322434623218389,1.174222380990123,-0.09076164508268218,-0.2022479825572514,0.7230756394862698,0.7442097710794263,-2.2075109136116877,-0.980508554544525,-2.8428325330334707,1.8479259257597307,1.8510240121847856,0.49212184258917113,1.0625009684563536,0.024116607246121757,2.6502942145892296,2.637770977442213,-0.09862430633368902,-1.0035638170949084,-0.9339655766328269,1.456452510783111,1.4216849583929372,0.23597280549678476,-0.4808159398342157,-0.22865142773097336,0.36234353424371957,0.8729717061340367,0.28167948888950806,-0.415352323234306,-1.8463120604056424,0.6308806029970968,0.44399560562281554,0.14489948233936506,0.8482594018266639,0.8515618449616275,-2.5298432102411237,1.5630078810335475,0.4019441930096172,0.8480716100037919,-0.7089320124676023,0.3912621113405365,2.230966454744648,0.8791439133705296],\"xaxis\":\"x2\",\"y\":[-0.00575823250580768,0.6357526536260791,1.2078823963791712,-0.4284366096975284,1.014145002542919,0.7054570499036387,-0.831478411217752,0.7728642327825064,0.7004697184507643,-1.231776416875097,-0.41401563481878434,1.1322856480346852,-0.39318595015558194,0.5263569154400487,0.3180291798716228,-0.22261827109346366,-1.6724197269192995,1.2783835503365846,-0.23993427251882554,-1.2484416732220707,0.5976488349424885,0.385677861181226,0.2560357823013782,-0.24619265351844694,2.2568470203373674,-2.15083769218194,1.5485306040937072,2.208994013492354,-1.499416587196466,1.1062623038209496,2.044744563145898,2.248361168621705,-0.6932520400964282,-0.12777423865974202,-1.9106494770833462,-1.212102180027225,-0.7757931969671343,-0.38744488026458784,-0.9463586424105409,1.6727887899650369,0.7217853129625886,-0.3313144221162863,0.6960026389981161,-0.6648173991171903,-0.8112860943469768,0.18082540347147127,1.3919630873733102,0.46382781671231865,-0.4115516140752952,0.9607193536511318,0.4855991638247819,-0.21715498311319506,-0.7347433916366071,0.9092951485461442,-2.0243405611992284,-1.225125636319877,-1.203029999997798,-0.6922336491755662,0.7660882197370672,0.11924644243358365,-1.088168686653994,1.1392452652594254,0.8146955230795004,-0.42734587533719665,1.2324680519582198,-1.1320953576596426,-0.30882776595725697,1.3663297636529603,0.37183579662600236,-1.1194792770930226,1.8284249216869883,1.3609247420075428,0.07122539323985272,-0.14829238264489364,-1.668889594574335,0.8066878771001542,0.7748156562794538,0.6497469973121999,2.1398027883949355,-1.0978266962978387,0.2281853014743535,-0.14931126628854363,1.4221579843061756,0.6914847803397621,0.1499341952277375,1.012089635627416,1.0610786107361148,0.8914013131752377,0.01231561343508519,0.26446277258881523,1.5752184579993507,-0.8798468402860836,1.745915075941031,2.15336063842221,-0.8801911033186313,1.1694085578453528,0.4981842791617605,0.2074732217252558,-0.8480967148262764,0.23707951484827536],\"yaxis\":\"y2\"},{\"line\":{\"color\":\"rgba(128, 128, 128, 1.0)\",\"dash\":\"solid\",\"shape\":\"linear\",\"width\":1.3},\"marker\":{\"size\":2,\"symbol\":\"circle\"},\"mode\":\"markers\",\"name\":\"A\",\"text\":\"\",\"type\":\"scatter\",\"x\":[0.2875230902704165,0.7144551764076076,-0.26373937309965895,0.15453370145811182,-2.272460489767835,-0.9202091236216271,-0.6206782009732357,-1.1812667157832835,2.7919040278254097,0.7310137714432254,0.4256853657269252,0.05392814708787436,-0.0974086583996873,0.9408653025587447,0.8324660742534052,0.8228990445082776,-0.3649543187972734,0.06829129860687892,-0.3523405628702323,1.5235670120970195,-0.0658489381632977,1.8305139148808192,-0.07524422160917033,1.2310677809670822,-0.8962624327502261,-1.2107645828239735,0.5692048248697585,0.037030880907862454,-2.5520013599137603,1.0127452862706037,2.677919935694347,-0.191808975491193,-0.13949424857943263,-0.21168701268500553,-0.6718188437190941,-0.09649659207560592,0.4617663690059929,-0.46406168261294384,0.5489039510288141,-0.6841180843945812,0.053878504423162756,-1.9838483312730033,-0.3597936723613456,-0.7106725963646878,-1.3258128086026235,-2.616942350857831,0.8107843697988363,0.1854880589464085,0.1437574340873547,-1.6846226622794245,-0.025905535861105645,-0.588694190784461,0.16130675088873025,1.3709630895256617,-1.3101517359256105,-1.4724328145971546,-0.8783671193102046,2.500096199936014,-0.14113851117071863,0.6235004597398874,-1.7061505853499135,0.14043314241679744,0.7730112759549945,1.713587891654579,-0.20176636230519202,0.9352064937523854,-0.6029558023561434,0.4088772308962657,0.385095412850809,-0.27307356592312776,-0.6231219706414931,0.723239802124104,-0.16989036545644434,1.9887370471006218,-0.18846156651695695,-1.8067467652782028,-1.0148676546193147,-0.2663724727484411,-0.71051102974763,-0.8318146341379324,-0.6241221323772533,1.3671817390323795,1.1235262799562347,-1.6668006762079057,-0.4790339578295775,-0.43259277236664184,1.700460465295679,-2.0994436476299043,-0.3663173172542101,0.16524785035489334,-0.3923425880295725,-0.03391520438375921,-0.5565256070872344,-0.7500510373676693,-0.3697969151967694,1.458597845540889,0.8292688953720019,-0.43315697046388035,-1.1894029023161081,0.41700444057904584],\"xaxis\":\"x3\",\"y\":[-0.00575823250580768,0.6357526536260791,1.2078823963791712,-0.4284366096975284,1.014145002542919,0.7054570499036387,-0.831478411217752,0.7728642327825064,0.7004697184507643,-1.231776416875097,-0.41401563481878434,1.1322856480346852,-0.39318595015558194,0.5263569154400487,0.3180291798716228,-0.22261827109346366,-1.6724197269192995,1.2783835503365846,-0.23993427251882554,-1.2484416732220707,0.5976488349424885,0.385677861181226,0.2560357823013782,-0.24619265351844694,2.2568470203373674,-2.15083769218194,1.5485306040937072,2.208994013492354,-1.499416587196466,1.1062623038209496,2.044744563145898,2.248361168621705,-0.6932520400964282,-0.12777423865974202,-1.9106494770833462,-1.212102180027225,-0.7757931969671343,-0.38744488026458784,-0.9463586424105409,1.6727887899650369,0.7217853129625886,-0.3313144221162863,0.6960026389981161,-0.6648173991171903,-0.8112860943469768,0.18082540347147127,1.3919630873733102,0.46382781671231865,-0.4115516140752952,0.9607193536511318,0.4855991638247819,-0.21715498311319506,-0.7347433916366071,0.9092951485461442,-2.0243405611992284,-1.225125636319877,-1.203029999997798,-0.6922336491755662,0.7660882197370672,0.11924644243358365,-1.088168686653994,1.1392452652594254,0.8146955230795004,-0.42734587533719665,1.2324680519582198,-1.1320953576596426,-0.30882776595725697,1.3663297636529603,0.37183579662600236,-1.1194792770930226,1.8284249216869883,1.3609247420075428,0.07122539323985272,-0.14829238264489364,-1.668889594574335,0.8066878771001542,0.7748156562794538,0.6497469973121999,2.1398027883949355,-1.0978266962978387,0.2281853014743535,-0.14931126628854363,1.4221579843061756,0.6914847803397621,0.1499341952277375,1.012089635627416,1.0610786107361148,0.8914013131752377,0.01231561343508519,0.26446277258881523,1.5752184579993507,-0.8798468402860836,1.745915075941031,2.15336063842221,-0.8801911033186313,1.1694085578453528,0.4981842791617605,0.2074732217252558,-0.8480967148262764,0.23707951484827536],\"yaxis\":\"y3\"},{\"line\":{\"color\":\"rgba(128, 128, 128, 1.0)\",\"dash\":\"solid\",\"shape\":\"linear\",\"width\":1.3},\"marker\":{\"size\":2,\"symbol\":\"circle\"},\"mode\":\"markers\",\"name\":\"A\",\"text\":\"\",\"type\":\"scatter\",\"x\":[0.49831588430906937,-0.7235038268767632,-0.19908633958507851,-0.2754390444806026,1.7685927979099847,-1.259696371883114,0.5563611634463861,0.9248211590735165,0.4212259555469513,0.4846234009416616,1.0597921430117188,-0.2925003284745853,2.303056953728043,0.5249191896310468,-2.109272310397259,-0.7992687250163971,-1.0407741637071959,0.015596406410107443,2.353855274863578,1.754396650682535,0.7127535111699759,-0.07410488789727092,0.6760586702090022,-1.417933641572086,0.7973675213056064,0.2443727882911371,-0.5804437703391563,1.863633767044503,0.20297799852874407,0.09491158191092101,1.129039036267022,0.055188386864763926,-0.031448036577972543,0.9899245497935543,-0.8773372622519309,0.4102587494933926,-1.1579541074048647,0.21155812933810664,-1.5041523248454534,-1.2851898217991646,-2.735329818561617,-0.5467656108492137,-2.013469643569477,-0.17341243555935112,-0.33030972013752347,-1.6770609897240745,-0.029631159207978073,-0.7064601987786423,-1.2656208954837023,-0.46961915490041006,-0.617099492318239,0.06061649110428425,-0.7561586377783462,2.0628248035466377,0.6380114005658614,-0.9535431688724288,-0.5701526124793378,0.32599042957947244,0.3646544010905983,-0.15354805490208603,0.682630870046837,0.08650373562728984,-0.5992172329859129,0.17411704252751653,2.046294501275606,0.19732575727193682,1.1221926518318792,-0.09534130522144674,-0.6105076916942559,2.118660425841574,0.13723407475958918,-1.62651918139627,0.7841085955713709,-0.9652201975436723,1.4646677595435906,-1.7465528798122336,-1.318860053271632,-1.8160111050623335,-0.8646624630037903,1.5071076372892311,1.242116581214999,1.7496499043875162,1.2637316877945737,0.5849093345996091,0.44801670543112526,0.9326512384042261,0.20172343385404465,0.42691411019877096,-0.12283203968538749,0.03985489094344529,0.17734216454604754,-1.9432020122343785,-1.0058812366034295,-1.7146744278597892,0.008044755271902978,1.4176332510507221,-0.23722410139262268,0.5765595597331339,-0.5295606383341808,-1.0671617581387909],\"xaxis\":\"x4\",\"y\":[-0.00575823250580768,0.6357526536260791,1.2078823963791712,-0.4284366096975284,1.014145002542919,0.7054570499036387,-0.831478411217752,0.7728642327825064,0.7004697184507643,-1.231776416875097,-0.41401563481878434,1.1322856480346852,-0.39318595015558194,0.5263569154400487,0.3180291798716228,-0.22261827109346366,-1.6724197269192995,1.2783835503365846,-0.23993427251882554,-1.2484416732220707,0.5976488349424885,0.385677861181226,0.2560357823013782,-0.24619265351844694,2.2568470203373674,-2.15083769218194,1.5485306040937072,2.208994013492354,-1.499416587196466,1.1062623038209496,2.044744563145898,2.248361168621705,-0.6932520400964282,-0.12777423865974202,-1.9106494770833462,-1.212102180027225,-0.7757931969671343,-0.38744488026458784,-0.9463586424105409,1.6727887899650369,0.7217853129625886,-0.3313144221162863,0.6960026389981161,-0.6648173991171903,-0.8112860943469768,0.18082540347147127,1.3919630873733102,0.46382781671231865,-0.4115516140752952,0.9607193536511318,0.4855991638247819,-0.21715498311319506,-0.7347433916366071,0.9092951485461442,-2.0243405611992284,-1.225125636319877,-1.203029999997798,-0.6922336491755662,0.7660882197370672,0.11924644243358365,-1.088168686653994,1.1392452652594254,0.8146955230795004,-0.42734587533719665,1.2324680519582198,-1.1320953576596426,-0.30882776595725697,1.3663297636529603,0.37183579662600236,-1.1194792770930226,1.8284249216869883,1.3609247420075428,0.07122539323985272,-0.14829238264489364,-1.668889594574335,0.8066878771001542,0.7748156562794538,0.6497469973121999,2.1398027883949355,-1.0978266962978387,0.2281853014743535,-0.14931126628854363,1.4221579843061756,0.6914847803397621,0.1499341952277375,1.012089635627416,1.0610786107361148,0.8914013131752377,0.01231561343508519,0.26446277258881523,1.5752184579993507,-0.8798468402860836,1.745915075941031,2.15336063842221,-0.8801911033186313,1.1694085578453528,0.4981842791617605,0.2074732217252558,-0.8480967148262764,0.23707951484827536],\"yaxis\":\"y4\"},{\"line\":{\"color\":\"rgba(128, 128, 128, 1.0)\",\"dash\":\"solid\",\"shape\":\"linear\",\"width\":1.3},\"marker\":{\"size\":2,\"symbol\":\"circle\"},\"mode\":\"markers\",\"name\":\"B\",\"text\":\"\",\"type\":\"scatter\",\"x\":[-0.00575823250580768,0.6357526536260791,1.2078823963791712,-0.4284366096975284,1.014145002542919,0.7054570499036387,-0.831478411217752,0.7728642327825064,0.7004697184507643,-1.231776416875097,-0.41401563481878434,1.1322856480346852,-0.39318595015558194,0.5263569154400487,0.3180291798716228,-0.22261827109346366,-1.6724197269192995,1.2783835503365846,-0.23993427251882554,-1.2484416732220707,0.5976488349424885,0.385677861181226,0.2560357823013782,-0.24619265351844694,2.2568470203373674,-2.15083769218194,1.5485306040937072,2.208994013492354,-1.499416587196466,1.1062623038209496,2.044744563145898,2.248361168621705,-0.6932520400964282,-0.12777423865974202,-1.9106494770833462,-1.212102180027225,-0.7757931969671343,-0.38744488026458784,-0.9463586424105409,1.6727887899650369,0.7217853129625886,-0.3313144221162863,0.6960026389981161,-0.6648173991171903,-0.8112860943469768,0.18082540347147127,1.3919630873733102,0.46382781671231865,-0.4115516140752952,0.9607193536511318,0.4855991638247819,-0.21715498311319506,-0.7347433916366071,0.9092951485461442,-2.0243405611992284,-1.225125636319877,-1.203029999997798,-0.6922336491755662,0.7660882197370672,0.11924644243358365,-1.088168686653994,1.1392452652594254,0.8146955230795004,-0.42734587533719665,1.2324680519582198,-1.1320953576596426,-0.30882776595725697,1.3663297636529603,0.37183579662600236,-1.1194792770930226,1.8284249216869883,1.3609247420075428,0.07122539323985272,-0.14829238264489364,-1.668889594574335,0.8066878771001542,0.7748156562794538,0.6497469973121999,2.1398027883949355,-1.0978266962978387,0.2281853014743535,-0.14931126628854363,1.4221579843061756,0.6914847803397621,0.1499341952277375,1.012089635627416,1.0610786107361148,0.8914013131752377,0.01231561343508519,0.26446277258881523,1.5752184579993507,-0.8798468402860836,1.745915075941031,2.15336063842221,-0.8801911033186313,1.1694085578453528,0.4981842791617605,0.2074732217252558,-0.8480967148262764,0.23707951484827536],\"xaxis\":\"x5\",\"y\":[0.8556222288772496,-1.1273622610670195,-0.5269197553913275,-0.8054128781960725,-0.749068993151881,-1.3687859711329016,-0.5042087221215136,-0.10130817826066009,-0.19672410054208153,-0.6313557524089218,-1.4581007687375886,-1.6956715563044404,-0.6112438274023329,-0.5268826820818268,0.5051994695613479,0.8618708710073752,-0.4135652030449454,-0.7663539466374012,1.50407379417061,0.7581608221640876,0.627991625692652,0.5931741531110601,0.09454493355746088,-0.8700879836882897,1.5117944092355777,-0.9630717128935331,-1.6411006462755617,1.3077103851146104,0.8233511952419196,-0.5280582049795407,0.8130476880764101,1.952823474239663,-0.4683803044118759,-0.5235830298669955,-0.6842373146647192,1.2599932417420376,0.9045451435286472,0.8549122829220845,-1.2775836958876516,0.4333838865818812,0.01778947470583882,-0.09587610120673787,0.38128282520588874,2.245220942650822,-0.9482111767861034,-0.05824052572964152,0.5347356830229034,-3.2400736597966344,-0.45206527994377643,0.7486285793305874,0.7835336662405054,-0.16950682209101647,-0.2981146972584054,1.0210105761818091,0.5308830103579464,-0.6372186261129612,0.3825112899765546,-0.7920259017206817,0.9322434623218389,1.174222380990123,-0.09076164508268218,-0.2022479825572514,0.7230756394862698,0.7442097710794263,-2.2075109136116877,-0.980508554544525,-2.8428325330334707,1.8479259257597307,1.8510240121847856,0.49212184258917113,1.0625009684563536,0.024116607246121757,2.6502942145892296,2.637770977442213,-0.09862430633368902,-1.0035638170949084,-0.9339655766328269,1.456452510783111,1.4216849583929372,0.23597280549678476,-0.4808159398342157,-0.22865142773097336,0.36234353424371957,0.8729717061340367,0.28167948888950806,-0.415352323234306,-1.8463120604056424,0.6308806029970968,0.44399560562281554,0.14489948233936506,0.8482594018266639,0.8515618449616275,-2.5298432102411237,1.5630078810335475,0.4019441930096172,0.8480716100037919,-0.7089320124676023,0.3912621113405365,2.230966454744648,0.8791439133705296],\"yaxis\":\"y5\"},{\"histfunc\":\"count\",\"histnorm\":\"\",\"marker\":{\"color\":\"rgba(55, 128, 191, 1.0)\",\"line\":{\"color\":\"#4D5663\",\"width\":1.3}},\"name\":\"B\",\"nbinsx\":10,\"opacity\":0.8,\"orientation\":\"v\",\"type\":\"histogram\",\"x\":[0.8556222288772496,-1.1273622610670195,-0.5269197553913275,-0.8054128781960725,-0.749068993151881,-1.3687859711329016,-0.5042087221215136,-0.10130817826066009,-0.19672410054208153,-0.6313557524089218,-1.4581007687375886,-1.6956715563044404,-0.6112438274023329,-0.5268826820818268,0.5051994695613479,0.8618708710073752,-0.4135652030449454,-0.7663539466374012,1.50407379417061,0.7581608221640876,0.627991625692652,0.5931741531110601,0.09454493355746088,-0.8700879836882897,1.5117944092355777,-0.9630717128935331,-1.6411006462755617,1.3077103851146104,0.8233511952419196,-0.5280582049795407,0.8130476880764101,1.952823474239663,-0.4683803044118759,-0.5235830298669955,-0.6842373146647192,1.2599932417420376,0.9045451435286472,0.8549122829220845,-1.2775836958876516,0.4333838865818812,0.01778947470583882,-0.09587610120673787,0.38128282520588874,2.245220942650822,-0.9482111767861034,-0.05824052572964152,0.5347356830229034,-3.2400736597966344,-0.45206527994377643,0.7486285793305874,0.7835336662405054,-0.16950682209101647,-0.2981146972584054,1.0210105761818091,0.5308830103579464,-0.6372186261129612,0.3825112899765546,-0.7920259017206817,0.9322434623218389,1.174222380990123,-0.09076164508268218,-0.2022479825572514,0.7230756394862698,0.7442097710794263,-2.2075109136116877,-0.980508554544525,-2.8428325330334707,1.8479259257597307,1.8510240121847856,0.49212184258917113,1.0625009684563536,0.024116607246121757,2.6502942145892296,2.637770977442213,-0.09862430633368902,-1.0035638170949084,-0.9339655766328269,1.456452510783111,1.4216849583929372,0.23597280549678476,-0.4808159398342157,-0.22865142773097336,0.36234353424371957,0.8729717061340367,0.28167948888950806,-0.415352323234306,-1.8463120604056424,0.6308806029970968,0.44399560562281554,0.14489948233936506,0.8482594018266639,0.8515618449616275,-2.5298432102411237,1.5630078810335475,0.4019441930096172,0.8480716100037919,-0.7089320124676023,0.3912621113405365,2.230966454744648,0.8791439133705296],\"xaxis\":\"x6\",\"yaxis\":\"y6\"},{\"line\":{\"color\":\"rgba(128, 128, 128, 1.0)\",\"dash\":\"solid\",\"shape\":\"linear\",\"width\":1.3},\"marker\":{\"size\":2,\"symbol\":\"circle\"},\"mode\":\"markers\",\"name\":\"B\",\"text\":\"\",\"type\":\"scatter\",\"x\":[0.2875230902704165,0.7144551764076076,-0.26373937309965895,0.15453370145811182,-2.272460489767835,-0.9202091236216271,-0.6206782009732357,-1.1812667157832835,2.7919040278254097,0.7310137714432254,0.4256853657269252,0.05392814708787436,-0.0974086583996873,0.9408653025587447,0.8324660742534052,0.8228990445082776,-0.3649543187972734,0.06829129860687892,-0.3523405628702323,1.5235670120970195,-0.0658489381632977,1.8305139148808192,-0.07524422160917033,1.2310677809670822,-0.8962624327502261,-1.2107645828239735,0.5692048248697585,0.037030880907862454,-2.5520013599137603,1.0127452862706037,2.677919935694347,-0.191808975491193,-0.13949424857943263,-0.21168701268500553,-0.6718188437190941,-0.09649659207560592,0.4617663690059929,-0.46406168261294384,0.5489039510288141,-0.6841180843945812,0.053878504423162756,-1.9838483312730033,-0.3597936723613456,-0.7106725963646878,-1.3258128086026235,-2.616942350857831,0.8107843697988363,0.1854880589464085,0.1437574340873547,-1.6846226622794245,-0.025905535861105645,-0.588694190784461,0.16130675088873025,1.3709630895256617,-1.3101517359256105,-1.4724328145971546,-0.8783671193102046,2.500096199936014,-0.14113851117071863,0.6235004597398874,-1.7061505853499135,0.14043314241679744,0.7730112759549945,1.713587891654579,-0.20176636230519202,0.9352064937523854,-0.6029558023561434,0.4088772308962657,0.385095412850809,-0.27307356592312776,-0.6231219706414931,0.723239802124104,-0.16989036545644434,1.9887370471006218,-0.18846156651695695,-1.8067467652782028,-1.0148676546193147,-0.2663724727484411,-0.71051102974763,-0.8318146341379324,-0.6241221323772533,1.3671817390323795,1.1235262799562347,-1.6668006762079057,-0.4790339578295775,-0.43259277236664184,1.700460465295679,-2.0994436476299043,-0.3663173172542101,0.16524785035489334,-0.3923425880295725,-0.03391520438375921,-0.5565256070872344,-0.7500510373676693,-0.3697969151967694,1.458597845540889,0.8292688953720019,-0.43315697046388035,-1.1894029023161081,0.41700444057904584],\"xaxis\":\"x7\",\"y\":[0.8556222288772496,-1.1273622610670195,-0.5269197553913275,-0.8054128781960725,-0.749068993151881,-1.3687859711329016,-0.5042087221215136,-0.10130817826066009,-0.19672410054208153,-0.6313557524089218,-1.4581007687375886,-1.6956715563044404,-0.6112438274023329,-0.5268826820818268,0.5051994695613479,0.8618708710073752,-0.4135652030449454,-0.7663539466374012,1.50407379417061,0.7581608221640876,0.627991625692652,0.5931741531110601,0.09454493355746088,-0.8700879836882897,1.5117944092355777,-0.9630717128935331,-1.6411006462755617,1.3077103851146104,0.8233511952419196,-0.5280582049795407,0.8130476880764101,1.952823474239663,-0.4683803044118759,-0.5235830298669955,-0.6842373146647192,1.2599932417420376,0.9045451435286472,0.8549122829220845,-1.2775836958876516,0.4333838865818812,0.01778947470583882,-0.09587610120673787,0.38128282520588874,2.245220942650822,-0.9482111767861034,-0.05824052572964152,0.5347356830229034,-3.2400736597966344,-0.45206527994377643,0.7486285793305874,0.7835336662405054,-0.16950682209101647,-0.2981146972584054,1.0210105761818091,0.5308830103579464,-0.6372186261129612,0.3825112899765546,-0.7920259017206817,0.9322434623218389,1.174222380990123,-0.09076164508268218,-0.2022479825572514,0.7230756394862698,0.7442097710794263,-2.2075109136116877,-0.980508554544525,-2.8428325330334707,1.8479259257597307,1.8510240121847856,0.49212184258917113,1.0625009684563536,0.024116607246121757,2.6502942145892296,2.637770977442213,-0.09862430633368902,-1.0035638170949084,-0.9339655766328269,1.456452510783111,1.4216849583929372,0.23597280549678476,-0.4808159398342157,-0.22865142773097336,0.36234353424371957,0.8729717061340367,0.28167948888950806,-0.415352323234306,-1.8463120604056424,0.6308806029970968,0.44399560562281554,0.14489948233936506,0.8482594018266639,0.8515618449616275,-2.5298432102411237,1.5630078810335475,0.4019441930096172,0.8480716100037919,-0.7089320124676023,0.3912621113405365,2.230966454744648,0.8791439133705296],\"yaxis\":\"y7\"},{\"line\":{\"color\":\"rgba(128, 128, 128, 1.0)\",\"dash\":\"solid\",\"shape\":\"linear\",\"width\":1.3},\"marker\":{\"size\":2,\"symbol\":\"circle\"},\"mode\":\"markers\",\"name\":\"B\",\"text\":\"\",\"type\":\"scatter\",\"x\":[0.49831588430906937,-0.7235038268767632,-0.19908633958507851,-0.2754390444806026,1.7685927979099847,-1.259696371883114,0.5563611634463861,0.9248211590735165,0.4212259555469513,0.4846234009416616,1.0597921430117188,-0.2925003284745853,2.303056953728043,0.5249191896310468,-2.109272310397259,-0.7992687250163971,-1.0407741637071959,0.015596406410107443,2.353855274863578,1.754396650682535,0.7127535111699759,-0.07410488789727092,0.6760586702090022,-1.417933641572086,0.7973675213056064,0.2443727882911371,-0.5804437703391563,1.863633767044503,0.20297799852874407,0.09491158191092101,1.129039036267022,0.055188386864763926,-0.031448036577972543,0.9899245497935543,-0.8773372622519309,0.4102587494933926,-1.1579541074048647,0.21155812933810664,-1.5041523248454534,-1.2851898217991646,-2.735329818561617,-0.5467656108492137,-2.013469643569477,-0.17341243555935112,-0.33030972013752347,-1.6770609897240745,-0.029631159207978073,-0.7064601987786423,-1.2656208954837023,-0.46961915490041006,-0.617099492318239,0.06061649110428425,-0.7561586377783462,2.0628248035466377,0.6380114005658614,-0.9535431688724288,-0.5701526124793378,0.32599042957947244,0.3646544010905983,-0.15354805490208603,0.682630870046837,0.08650373562728984,-0.5992172329859129,0.17411704252751653,2.046294501275606,0.19732575727193682,1.1221926518318792,-0.09534130522144674,-0.6105076916942559,2.118660425841574,0.13723407475958918,-1.62651918139627,0.7841085955713709,-0.9652201975436723,1.4646677595435906,-1.7465528798122336,-1.318860053271632,-1.8160111050623335,-0.8646624630037903,1.5071076372892311,1.242116581214999,1.7496499043875162,1.2637316877945737,0.5849093345996091,0.44801670543112526,0.9326512384042261,0.20172343385404465,0.42691411019877096,-0.12283203968538749,0.03985489094344529,0.17734216454604754,-1.9432020122343785,-1.0058812366034295,-1.7146744278597892,0.008044755271902978,1.4176332510507221,-0.23722410139262268,0.5765595597331339,-0.5295606383341808,-1.0671617581387909],\"xaxis\":\"x8\",\"y\":[0.8556222288772496,-1.1273622610670195,-0.5269197553913275,-0.8054128781960725,-0.749068993151881,-1.3687859711329016,-0.5042087221215136,-0.10130817826066009,-0.19672410054208153,-0.6313557524089218,-1.4581007687375886,-1.6956715563044404,-0.6112438274023329,-0.5268826820818268,0.5051994695613479,0.8618708710073752,-0.4135652030449454,-0.7663539466374012,1.50407379417061,0.7581608221640876,0.627991625692652,0.5931741531110601,0.09454493355746088,-0.8700879836882897,1.5117944092355777,-0.9630717128935331,-1.6411006462755617,1.3077103851146104,0.8233511952419196,-0.5280582049795407,0.8130476880764101,1.952823474239663,-0.4683803044118759,-0.5235830298669955,-0.6842373146647192,1.2599932417420376,0.9045451435286472,0.8549122829220845,-1.2775836958876516,0.4333838865818812,0.01778947470583882,-0.09587610120673787,0.38128282520588874,2.245220942650822,-0.9482111767861034,-0.05824052572964152,0.5347356830229034,-3.2400736597966344,-0.45206527994377643,0.7486285793305874,0.7835336662405054,-0.16950682209101647,-0.2981146972584054,1.0210105761818091,0.5308830103579464,-0.6372186261129612,0.3825112899765546,-0.7920259017206817,0.9322434623218389,1.174222380990123,-0.09076164508268218,-0.2022479825572514,0.7230756394862698,0.7442097710794263,-2.2075109136116877,-0.980508554544525,-2.8428325330334707,1.8479259257597307,1.8510240121847856,0.49212184258917113,1.0625009684563536,0.024116607246121757,2.6502942145892296,2.637770977442213,-0.09862430633368902,-1.0035638170949084,-0.9339655766328269,1.456452510783111,1.4216849583929372,0.23597280549678476,-0.4808159398342157,-0.22865142773097336,0.36234353424371957,0.8729717061340367,0.28167948888950806,-0.415352323234306,-1.8463120604056424,0.6308806029970968,0.44399560562281554,0.14489948233936506,0.8482594018266639,0.8515618449616275,-2.5298432102411237,1.5630078810335475,0.4019441930096172,0.8480716100037919,-0.7089320124676023,0.3912621113405365,2.230966454744648,0.8791439133705296],\"yaxis\":\"y8\"},{\"line\":{\"color\":\"rgba(128, 128, 128, 1.0)\",\"dash\":\"solid\",\"shape\":\"linear\",\"width\":1.3},\"marker\":{\"size\":2,\"symbol\":\"circle\"},\"mode\":\"markers\",\"name\":\"C\",\"text\":\"\",\"type\":\"scatter\",\"x\":[-0.00575823250580768,0.6357526536260791,1.2078823963791712,-0.4284366096975284,1.014145002542919,0.7054570499036387,-0.831478411217752,0.7728642327825064,0.7004697184507643,-1.231776416875097,-0.41401563481878434,1.1322856480346852,-0.39318595015558194,0.5263569154400487,0.3180291798716228,-0.22261827109346366,-1.6724197269192995,1.2783835503365846,-0.23993427251882554,-1.2484416732220707,0.5976488349424885,0.385677861181226,0.2560357823013782,-0.24619265351844694,2.2568470203373674,-2.15083769218194,1.5485306040937072,2.208994013492354,-1.499416587196466,1.1062623038209496,2.044744563145898,2.248361168621705,-0.6932520400964282,-0.12777423865974202,-1.9106494770833462,-1.212102180027225,-0.7757931969671343,-0.38744488026458784,-0.9463586424105409,1.6727887899650369,0.7217853129625886,-0.3313144221162863,0.6960026389981161,-0.6648173991171903,-0.8112860943469768,0.18082540347147127,1.3919630873733102,0.46382781671231865,-0.4115516140752952,0.9607193536511318,0.4855991638247819,-0.21715498311319506,-0.7347433916366071,0.9092951485461442,-2.0243405611992284,-1.225125636319877,-1.203029999997798,-0.6922336491755662,0.7660882197370672,0.11924644243358365,-1.088168686653994,1.1392452652594254,0.8146955230795004,-0.42734587533719665,1.2324680519582198,-1.1320953576596426,-0.30882776595725697,1.3663297636529603,0.37183579662600236,-1.1194792770930226,1.8284249216869883,1.3609247420075428,0.07122539323985272,-0.14829238264489364,-1.668889594574335,0.8066878771001542,0.7748156562794538,0.6497469973121999,2.1398027883949355,-1.0978266962978387,0.2281853014743535,-0.14931126628854363,1.4221579843061756,0.6914847803397621,0.1499341952277375,1.012089635627416,1.0610786107361148,0.8914013131752377,0.01231561343508519,0.26446277258881523,1.5752184579993507,-0.8798468402860836,1.745915075941031,2.15336063842221,-0.8801911033186313,1.1694085578453528,0.4981842791617605,0.2074732217252558,-0.8480967148262764,0.23707951484827536],\"xaxis\":\"x9\",\"y\":[0.2875230902704165,0.7144551764076076,-0.26373937309965895,0.15453370145811182,-2.272460489767835,-0.9202091236216271,-0.6206782009732357,-1.1812667157832835,2.7919040278254097,0.7310137714432254,0.4256853657269252,0.05392814708787436,-0.0974086583996873,0.9408653025587447,0.8324660742534052,0.8228990445082776,-0.3649543187972734,0.06829129860687892,-0.3523405628702323,1.5235670120970195,-0.0658489381632977,1.8305139148808192,-0.07524422160917033,1.2310677809670822,-0.8962624327502261,-1.2107645828239735,0.5692048248697585,0.037030880907862454,-2.5520013599137603,1.0127452862706037,2.677919935694347,-0.191808975491193,-0.13949424857943263,-0.21168701268500553,-0.6718188437190941,-0.09649659207560592,0.4617663690059929,-0.46406168261294384,0.5489039510288141,-0.6841180843945812,0.053878504423162756,-1.9838483312730033,-0.3597936723613456,-0.7106725963646878,-1.3258128086026235,-2.616942350857831,0.8107843697988363,0.1854880589464085,0.1437574340873547,-1.6846226622794245,-0.025905535861105645,-0.588694190784461,0.16130675088873025,1.3709630895256617,-1.3101517359256105,-1.4724328145971546,-0.8783671193102046,2.500096199936014,-0.14113851117071863,0.6235004597398874,-1.7061505853499135,0.14043314241679744,0.7730112759549945,1.713587891654579,-0.20176636230519202,0.9352064937523854,-0.6029558023561434,0.4088772308962657,0.385095412850809,-0.27307356592312776,-0.6231219706414931,0.723239802124104,-0.16989036545644434,1.9887370471006218,-0.18846156651695695,-1.8067467652782028,-1.0148676546193147,-0.2663724727484411,-0.71051102974763,-0.8318146341379324,-0.6241221323772533,1.3671817390323795,1.1235262799562347,-1.6668006762079057,-0.4790339578295775,-0.43259277236664184,1.700460465295679,-2.0994436476299043,-0.3663173172542101,0.16524785035489334,-0.3923425880295725,-0.03391520438375921,-0.5565256070872344,-0.7500510373676693,-0.3697969151967694,1.458597845540889,0.8292688953720019,-0.43315697046388035,-1.1894029023161081,0.41700444057904584],\"yaxis\":\"y9\"},{\"line\":{\"color\":\"rgba(128, 128, 128, 1.0)\",\"dash\":\"solid\",\"shape\":\"linear\",\"width\":1.3},\"marker\":{\"size\":2,\"symbol\":\"circle\"},\"mode\":\"markers\",\"name\":\"C\",\"text\":\"\",\"type\":\"scatter\",\"x\":[0.8556222288772496,-1.1273622610670195,-0.5269197553913275,-0.8054128781960725,-0.749068993151881,-1.3687859711329016,-0.5042087221215136,-0.10130817826066009,-0.19672410054208153,-0.6313557524089218,-1.4581007687375886,-1.6956715563044404,-0.6112438274023329,-0.5268826820818268,0.5051994695613479,0.8618708710073752,-0.4135652030449454,-0.7663539466374012,1.50407379417061,0.7581608221640876,0.627991625692652,0.5931741531110601,0.09454493355746088,-0.8700879836882897,1.5117944092355777,-0.9630717128935331,-1.6411006462755617,1.3077103851146104,0.8233511952419196,-0.5280582049795407,0.8130476880764101,1.952823474239663,-0.4683803044118759,-0.5235830298669955,-0.6842373146647192,1.2599932417420376,0.9045451435286472,0.8549122829220845,-1.2775836958876516,0.4333838865818812,0.01778947470583882,-0.09587610120673787,0.38128282520588874,2.245220942650822,-0.9482111767861034,-0.05824052572964152,0.5347356830229034,-3.2400736597966344,-0.45206527994377643,0.7486285793305874,0.7835336662405054,-0.16950682209101647,-0.2981146972584054,1.0210105761818091,0.5308830103579464,-0.6372186261129612,0.3825112899765546,-0.7920259017206817,0.9322434623218389,1.174222380990123,-0.09076164508268218,-0.2022479825572514,0.7230756394862698,0.7442097710794263,-2.2075109136116877,-0.980508554544525,-2.8428325330334707,1.8479259257597307,1.8510240121847856,0.49212184258917113,1.0625009684563536,0.024116607246121757,2.6502942145892296,2.637770977442213,-0.09862430633368902,-1.0035638170949084,-0.9339655766328269,1.456452510783111,1.4216849583929372,0.23597280549678476,-0.4808159398342157,-0.22865142773097336,0.36234353424371957,0.8729717061340367,0.28167948888950806,-0.415352323234306,-1.8463120604056424,0.6308806029970968,0.44399560562281554,0.14489948233936506,0.8482594018266639,0.8515618449616275,-2.5298432102411237,1.5630078810335475,0.4019441930096172,0.8480716100037919,-0.7089320124676023,0.3912621113405365,2.230966454744648,0.8791439133705296],\"xaxis\":\"x10\",\"y\":[0.2875230902704165,0.7144551764076076,-0.26373937309965895,0.15453370145811182,-2.272460489767835,-0.9202091236216271,-0.6206782009732357,-1.1812667157832835,2.7919040278254097,0.7310137714432254,0.4256853657269252,0.05392814708787436,-0.0974086583996873,0.9408653025587447,0.8324660742534052,0.8228990445082776,-0.3649543187972734,0.06829129860687892,-0.3523405628702323,1.5235670120970195,-0.0658489381632977,1.8305139148808192,-0.07524422160917033,1.2310677809670822,-0.8962624327502261,-1.2107645828239735,0.5692048248697585,0.037030880907862454,-2.5520013599137603,1.0127452862706037,2.677919935694347,-0.191808975491193,-0.13949424857943263,-0.21168701268500553,-0.6718188437190941,-0.09649659207560592,0.4617663690059929,-0.46406168261294384,0.5489039510288141,-0.6841180843945812,0.053878504423162756,-1.9838483312730033,-0.3597936723613456,-0.7106725963646878,-1.3258128086026235,-2.616942350857831,0.8107843697988363,0.1854880589464085,0.1437574340873547,-1.6846226622794245,-0.025905535861105645,-0.588694190784461,0.16130675088873025,1.3709630895256617,-1.3101517359256105,-1.4724328145971546,-0.8783671193102046,2.500096199936014,-0.14113851117071863,0.6235004597398874,-1.7061505853499135,0.14043314241679744,0.7730112759549945,1.713587891654579,-0.20176636230519202,0.9352064937523854,-0.6029558023561434,0.4088772308962657,0.385095412850809,-0.27307356592312776,-0.6231219706414931,0.723239802124104,-0.16989036545644434,1.9887370471006218,-0.18846156651695695,-1.8067467652782028,-1.0148676546193147,-0.2663724727484411,-0.71051102974763,-0.8318146341379324,-0.6241221323772533,1.3671817390323795,1.1235262799562347,-1.6668006762079057,-0.4790339578295775,-0.43259277236664184,1.700460465295679,-2.0994436476299043,-0.3663173172542101,0.16524785035489334,-0.3923425880295725,-0.03391520438375921,-0.5565256070872344,-0.7500510373676693,-0.3697969151967694,1.458597845540889,0.8292688953720019,-0.43315697046388035,-1.1894029023161081,0.41700444057904584],\"yaxis\":\"y10\"},{\"histfunc\":\"count\",\"histnorm\":\"\",\"marker\":{\"color\":\"rgba(50, 171, 96, 1.0)\",\"line\":{\"color\":\"#4D5663\",\"width\":1.3}},\"name\":\"C\",\"nbinsx\":10,\"opacity\":0.8,\"orientation\":\"v\",\"type\":\"histogram\",\"x\":[0.2875230902704165,0.7144551764076076,-0.26373937309965895,0.15453370145811182,-2.272460489767835,-0.9202091236216271,-0.6206782009732357,-1.1812667157832835,2.7919040278254097,0.7310137714432254,0.4256853657269252,0.05392814708787436,-0.0974086583996873,0.9408653025587447,0.8324660742534052,0.8228990445082776,-0.3649543187972734,0.06829129860687892,-0.3523405628702323,1.5235670120970195,-0.0658489381632977,1.8305139148808192,-0.07524422160917033,1.2310677809670822,-0.8962624327502261,-1.2107645828239735,0.5692048248697585,0.037030880907862454,-2.5520013599137603,1.0127452862706037,2.677919935694347,-0.191808975491193,-0.13949424857943263,-0.21168701268500553,-0.6718188437190941,-0.09649659207560592,0.4617663690059929,-0.46406168261294384,0.5489039510288141,-0.6841180843945812,0.053878504423162756,-1.9838483312730033,-0.3597936723613456,-0.7106725963646878,-1.3258128086026235,-2.616942350857831,0.8107843697988363,0.1854880589464085,0.1437574340873547,-1.6846226622794245,-0.025905535861105645,-0.588694190784461,0.16130675088873025,1.3709630895256617,-1.3101517359256105,-1.4724328145971546,-0.8783671193102046,2.500096199936014,-0.14113851117071863,0.6235004597398874,-1.7061505853499135,0.14043314241679744,0.7730112759549945,1.713587891654579,-0.20176636230519202,0.9352064937523854,-0.6029558023561434,0.4088772308962657,0.385095412850809,-0.27307356592312776,-0.6231219706414931,0.723239802124104,-0.16989036545644434,1.9887370471006218,-0.18846156651695695,-1.8067467652782028,-1.0148676546193147,-0.2663724727484411,-0.71051102974763,-0.8318146341379324,-0.6241221323772533,1.3671817390323795,1.1235262799562347,-1.6668006762079057,-0.4790339578295775,-0.43259277236664184,1.700460465295679,-2.0994436476299043,-0.3663173172542101,0.16524785035489334,-0.3923425880295725,-0.03391520438375921,-0.5565256070872344,-0.7500510373676693,-0.3697969151967694,1.458597845540889,0.8292688953720019,-0.43315697046388035,-1.1894029023161081,0.41700444057904584],\"xaxis\":\"x11\",\"yaxis\":\"y11\"},{\"line\":{\"color\":\"rgba(128, 128, 128, 1.0)\",\"dash\":\"solid\",\"shape\":\"linear\",\"width\":1.3},\"marker\":{\"size\":2,\"symbol\":\"circle\"},\"mode\":\"markers\",\"name\":\"C\",\"text\":\"\",\"type\":\"scatter\",\"x\":[0.49831588430906937,-0.7235038268767632,-0.19908633958507851,-0.2754390444806026,1.7685927979099847,-1.259696371883114,0.5563611634463861,0.9248211590735165,0.4212259555469513,0.4846234009416616,1.0597921430117188,-0.2925003284745853,2.303056953728043,0.5249191896310468,-2.109272310397259,-0.7992687250163971,-1.0407741637071959,0.015596406410107443,2.353855274863578,1.754396650682535,0.7127535111699759,-0.07410488789727092,0.6760586702090022,-1.417933641572086,0.7973675213056064,0.2443727882911371,-0.5804437703391563,1.863633767044503,0.20297799852874407,0.09491158191092101,1.129039036267022,0.055188386864763926,-0.031448036577972543,0.9899245497935543,-0.8773372622519309,0.4102587494933926,-1.1579541074048647,0.21155812933810664,-1.5041523248454534,-1.2851898217991646,-2.735329818561617,-0.5467656108492137,-2.013469643569477,-0.17341243555935112,-0.33030972013752347,-1.6770609897240745,-0.029631159207978073,-0.7064601987786423,-1.2656208954837023,-0.46961915490041006,-0.617099492318239,0.06061649110428425,-0.7561586377783462,2.0628248035466377,0.6380114005658614,-0.9535431688724288,-0.5701526124793378,0.32599042957947244,0.3646544010905983,-0.15354805490208603,0.682630870046837,0.08650373562728984,-0.5992172329859129,0.17411704252751653,2.046294501275606,0.19732575727193682,1.1221926518318792,-0.09534130522144674,-0.6105076916942559,2.118660425841574,0.13723407475958918,-1.62651918139627,0.7841085955713709,-0.9652201975436723,1.4646677595435906,-1.7465528798122336,-1.318860053271632,-1.8160111050623335,-0.8646624630037903,1.5071076372892311,1.242116581214999,1.7496499043875162,1.2637316877945737,0.5849093345996091,0.44801670543112526,0.9326512384042261,0.20172343385404465,0.42691411019877096,-0.12283203968538749,0.03985489094344529,0.17734216454604754,-1.9432020122343785,-1.0058812366034295,-1.7146744278597892,0.008044755271902978,1.4176332510507221,-0.23722410139262268,0.5765595597331339,-0.5295606383341808,-1.0671617581387909],\"xaxis\":\"x12\",\"y\":[0.2875230902704165,0.7144551764076076,-0.26373937309965895,0.15453370145811182,-2.272460489767835,-0.9202091236216271,-0.6206782009732357,-1.1812667157832835,2.7919040278254097,0.7310137714432254,0.4256853657269252,0.05392814708787436,-0.0974086583996873,0.9408653025587447,0.8324660742534052,0.8228990445082776,-0.3649543187972734,0.06829129860687892,-0.3523405628702323,1.5235670120970195,-0.0658489381632977,1.8305139148808192,-0.07524422160917033,1.2310677809670822,-0.8962624327502261,-1.2107645828239735,0.5692048248697585,0.037030880907862454,-2.5520013599137603,1.0127452862706037,2.677919935694347,-0.191808975491193,-0.13949424857943263,-0.21168701268500553,-0.6718188437190941,-0.09649659207560592,0.4617663690059929,-0.46406168261294384,0.5489039510288141,-0.6841180843945812,0.053878504423162756,-1.9838483312730033,-0.3597936723613456,-0.7106725963646878,-1.3258128086026235,-2.616942350857831,0.8107843697988363,0.1854880589464085,0.1437574340873547,-1.6846226622794245,-0.025905535861105645,-0.588694190784461,0.16130675088873025,1.3709630895256617,-1.3101517359256105,-1.4724328145971546,-0.8783671193102046,2.500096199936014,-0.14113851117071863,0.6235004597398874,-1.7061505853499135,0.14043314241679744,0.7730112759549945,1.713587891654579,-0.20176636230519202,0.9352064937523854,-0.6029558023561434,0.4088772308962657,0.385095412850809,-0.27307356592312776,-0.6231219706414931,0.723239802124104,-0.16989036545644434,1.9887370471006218,-0.18846156651695695,-1.8067467652782028,-1.0148676546193147,-0.2663724727484411,-0.71051102974763,-0.8318146341379324,-0.6241221323772533,1.3671817390323795,1.1235262799562347,-1.6668006762079057,-0.4790339578295775,-0.43259277236664184,1.700460465295679,-2.0994436476299043,-0.3663173172542101,0.16524785035489334,-0.3923425880295725,-0.03391520438375921,-0.5565256070872344,-0.7500510373676693,-0.3697969151967694,1.458597845540889,0.8292688953720019,-0.43315697046388035,-1.1894029023161081,0.41700444057904584],\"yaxis\":\"y12\"},{\"line\":{\"color\":\"rgba(128, 128, 128, 1.0)\",\"dash\":\"solid\",\"shape\":\"linear\",\"width\":1.3},\"marker\":{\"size\":2,\"symbol\":\"circle\"},\"mode\":\"markers\",\"name\":\"D\",\"text\":\"\",\"type\":\"scatter\",\"x\":[-0.00575823250580768,0.6357526536260791,1.2078823963791712,-0.4284366096975284,1.014145002542919,0.7054570499036387,-0.831478411217752,0.7728642327825064,0.7004697184507643,-1.231776416875097,-0.41401563481878434,1.1322856480346852,-0.39318595015558194,0.5263569154400487,0.3180291798716228,-0.22261827109346366,-1.6724197269192995,1.2783835503365846,-0.23993427251882554,-1.2484416732220707,0.5976488349424885,0.385677861181226,0.2560357823013782,-0.24619265351844694,2.2568470203373674,-2.15083769218194,1.5485306040937072,2.208994013492354,-1.499416587196466,1.1062623038209496,2.044744563145898,2.248361168621705,-0.6932520400964282,-0.12777423865974202,-1.9106494770833462,-1.212102180027225,-0.7757931969671343,-0.38744488026458784,-0.9463586424105409,1.6727887899650369,0.7217853129625886,-0.3313144221162863,0.6960026389981161,-0.6648173991171903,-0.8112860943469768,0.18082540347147127,1.3919630873733102,0.46382781671231865,-0.4115516140752952,0.9607193536511318,0.4855991638247819,-0.21715498311319506,-0.7347433916366071,0.9092951485461442,-2.0243405611992284,-1.225125636319877,-1.203029999997798,-0.6922336491755662,0.7660882197370672,0.11924644243358365,-1.088168686653994,1.1392452652594254,0.8146955230795004,-0.42734587533719665,1.2324680519582198,-1.1320953576596426,-0.30882776595725697,1.3663297636529603,0.37183579662600236,-1.1194792770930226,1.8284249216869883,1.3609247420075428,0.07122539323985272,-0.14829238264489364,-1.668889594574335,0.8066878771001542,0.7748156562794538,0.6497469973121999,2.1398027883949355,-1.0978266962978387,0.2281853014743535,-0.14931126628854363,1.4221579843061756,0.6914847803397621,0.1499341952277375,1.012089635627416,1.0610786107361148,0.8914013131752377,0.01231561343508519,0.26446277258881523,1.5752184579993507,-0.8798468402860836,1.745915075941031,2.15336063842221,-0.8801911033186313,1.1694085578453528,0.4981842791617605,0.2074732217252558,-0.8480967148262764,0.23707951484827536],\"xaxis\":\"x13\",\"y\":[0.49831588430906937,-0.7235038268767632,-0.19908633958507851,-0.2754390444806026,1.7685927979099847,-1.259696371883114,0.5563611634463861,0.9248211590735165,0.4212259555469513,0.4846234009416616,1.0597921430117188,-0.2925003284745853,2.303056953728043,0.5249191896310468,-2.109272310397259,-0.7992687250163971,-1.0407741637071959,0.015596406410107443,2.353855274863578,1.754396650682535,0.7127535111699759,-0.07410488789727092,0.6760586702090022,-1.417933641572086,0.7973675213056064,0.2443727882911371,-0.5804437703391563,1.863633767044503,0.20297799852874407,0.09491158191092101,1.129039036267022,0.055188386864763926,-0.031448036577972543,0.9899245497935543,-0.8773372622519309,0.4102587494933926,-1.1579541074048647,0.21155812933810664,-1.5041523248454534,-1.2851898217991646,-2.735329818561617,-0.5467656108492137,-2.013469643569477,-0.17341243555935112,-0.33030972013752347,-1.6770609897240745,-0.029631159207978073,-0.7064601987786423,-1.2656208954837023,-0.46961915490041006,-0.617099492318239,0.06061649110428425,-0.7561586377783462,2.0628248035466377,0.6380114005658614,-0.9535431688724288,-0.5701526124793378,0.32599042957947244,0.3646544010905983,-0.15354805490208603,0.682630870046837,0.08650373562728984,-0.5992172329859129,0.17411704252751653,2.046294501275606,0.19732575727193682,1.1221926518318792,-0.09534130522144674,-0.6105076916942559,2.118660425841574,0.13723407475958918,-1.62651918139627,0.7841085955713709,-0.9652201975436723,1.4646677595435906,-1.7465528798122336,-1.318860053271632,-1.8160111050623335,-0.8646624630037903,1.5071076372892311,1.242116581214999,1.7496499043875162,1.2637316877945737,0.5849093345996091,0.44801670543112526,0.9326512384042261,0.20172343385404465,0.42691411019877096,-0.12283203968538749,0.03985489094344529,0.17734216454604754,-1.9432020122343785,-1.0058812366034295,-1.7146744278597892,0.008044755271902978,1.4176332510507221,-0.23722410139262268,0.5765595597331339,-0.5295606383341808,-1.0671617581387909],\"yaxis\":\"y13\"},{\"line\":{\"color\":\"rgba(128, 128, 128, 1.0)\",\"dash\":\"solid\",\"shape\":\"linear\",\"width\":1.3},\"marker\":{\"size\":2,\"symbol\":\"circle\"},\"mode\":\"markers\",\"name\":\"D\",\"text\":\"\",\"type\":\"scatter\",\"x\":[0.8556222288772496,-1.1273622610670195,-0.5269197553913275,-0.8054128781960725,-0.749068993151881,-1.3687859711329016,-0.5042087221215136,-0.10130817826066009,-0.19672410054208153,-0.6313557524089218,-1.4581007687375886,-1.6956715563044404,-0.6112438274023329,-0.5268826820818268,0.5051994695613479,0.8618708710073752,-0.4135652030449454,-0.7663539466374012,1.50407379417061,0.7581608221640876,0.627991625692652,0.5931741531110601,0.09454493355746088,-0.8700879836882897,1.5117944092355777,-0.9630717128935331,-1.6411006462755617,1.3077103851146104,0.8233511952419196,-0.5280582049795407,0.8130476880764101,1.952823474239663,-0.4683803044118759,-0.5235830298669955,-0.6842373146647192,1.2599932417420376,0.9045451435286472,0.8549122829220845,-1.2775836958876516,0.4333838865818812,0.01778947470583882,-0.09587610120673787,0.38128282520588874,2.245220942650822,-0.9482111767861034,-0.05824052572964152,0.5347356830229034,-3.2400736597966344,-0.45206527994377643,0.7486285793305874,0.7835336662405054,-0.16950682209101647,-0.2981146972584054,1.0210105761818091,0.5308830103579464,-0.6372186261129612,0.3825112899765546,-0.7920259017206817,0.9322434623218389,1.174222380990123,-0.09076164508268218,-0.2022479825572514,0.7230756394862698,0.7442097710794263,-2.2075109136116877,-0.980508554544525,-2.8428325330334707,1.8479259257597307,1.8510240121847856,0.49212184258917113,1.0625009684563536,0.024116607246121757,2.6502942145892296,2.637770977442213,-0.09862430633368902,-1.0035638170949084,-0.9339655766328269,1.456452510783111,1.4216849583929372,0.23597280549678476,-0.4808159398342157,-0.22865142773097336,0.36234353424371957,0.8729717061340367,0.28167948888950806,-0.415352323234306,-1.8463120604056424,0.6308806029970968,0.44399560562281554,0.14489948233936506,0.8482594018266639,0.8515618449616275,-2.5298432102411237,1.5630078810335475,0.4019441930096172,0.8480716100037919,-0.7089320124676023,0.3912621113405365,2.230966454744648,0.8791439133705296],\"xaxis\":\"x14\",\"y\":[0.49831588430906937,-0.7235038268767632,-0.19908633958507851,-0.2754390444806026,1.7685927979099847,-1.259696371883114,0.5563611634463861,0.9248211590735165,0.4212259555469513,0.4846234009416616,1.0597921430117188,-0.2925003284745853,2.303056953728043,0.5249191896310468,-2.109272310397259,-0.7992687250163971,-1.0407741637071959,0.015596406410107443,2.353855274863578,1.754396650682535,0.7127535111699759,-0.07410488789727092,0.6760586702090022,-1.417933641572086,0.7973675213056064,0.2443727882911371,-0.5804437703391563,1.863633767044503,0.20297799852874407,0.09491158191092101,1.129039036267022,0.055188386864763926,-0.031448036577972543,0.9899245497935543,-0.8773372622519309,0.4102587494933926,-1.1579541074048647,0.21155812933810664,-1.5041523248454534,-1.2851898217991646,-2.735329818561617,-0.5467656108492137,-2.013469643569477,-0.17341243555935112,-0.33030972013752347,-1.6770609897240745,-0.029631159207978073,-0.7064601987786423,-1.2656208954837023,-0.46961915490041006,-0.617099492318239,0.06061649110428425,-0.7561586377783462,2.0628248035466377,0.6380114005658614,-0.9535431688724288,-0.5701526124793378,0.32599042957947244,0.3646544010905983,-0.15354805490208603,0.682630870046837,0.08650373562728984,-0.5992172329859129,0.17411704252751653,2.046294501275606,0.19732575727193682,1.1221926518318792,-0.09534130522144674,-0.6105076916942559,2.118660425841574,0.13723407475958918,-1.62651918139627,0.7841085955713709,-0.9652201975436723,1.4646677595435906,-1.7465528798122336,-1.318860053271632,-1.8160111050623335,-0.8646624630037903,1.5071076372892311,1.242116581214999,1.7496499043875162,1.2637316877945737,0.5849093345996091,0.44801670543112526,0.9326512384042261,0.20172343385404465,0.42691411019877096,-0.12283203968538749,0.03985489094344529,0.17734216454604754,-1.9432020122343785,-1.0058812366034295,-1.7146744278597892,0.008044755271902978,1.4176332510507221,-0.23722410139262268,0.5765595597331339,-0.5295606383341808,-1.0671617581387909],\"yaxis\":\"y14\"},{\"line\":{\"color\":\"rgba(128, 128, 128, 1.0)\",\"dash\":\"solid\",\"shape\":\"linear\",\"width\":1.3},\"marker\":{\"size\":2,\"symbol\":\"circle\"},\"mode\":\"markers\",\"name\":\"D\",\"text\":\"\",\"type\":\"scatter\",\"x\":[0.2875230902704165,0.7144551764076076,-0.26373937309965895,0.15453370145811182,-2.272460489767835,-0.9202091236216271,-0.6206782009732357,-1.1812667157832835,2.7919040278254097,0.7310137714432254,0.4256853657269252,0.05392814708787436,-0.0974086583996873,0.9408653025587447,0.8324660742534052,0.8228990445082776,-0.3649543187972734,0.06829129860687892,-0.3523405628702323,1.5235670120970195,-0.0658489381632977,1.8305139148808192,-0.07524422160917033,1.2310677809670822,-0.8962624327502261,-1.2107645828239735,0.5692048248697585,0.037030880907862454,-2.5520013599137603,1.0127452862706037,2.677919935694347,-0.191808975491193,-0.13949424857943263,-0.21168701268500553,-0.6718188437190941,-0.09649659207560592,0.4617663690059929,-0.46406168261294384,0.5489039510288141,-0.6841180843945812,0.053878504423162756,-1.9838483312730033,-0.3597936723613456,-0.7106725963646878,-1.3258128086026235,-2.616942350857831,0.8107843697988363,0.1854880589464085,0.1437574340873547,-1.6846226622794245,-0.025905535861105645,-0.588694190784461,0.16130675088873025,1.3709630895256617,-1.3101517359256105,-1.4724328145971546,-0.8783671193102046,2.500096199936014,-0.14113851117071863,0.6235004597398874,-1.7061505853499135,0.14043314241679744,0.7730112759549945,1.713587891654579,-0.20176636230519202,0.9352064937523854,-0.6029558023561434,0.4088772308962657,0.385095412850809,-0.27307356592312776,-0.6231219706414931,0.723239802124104,-0.16989036545644434,1.9887370471006218,-0.18846156651695695,-1.8067467652782028,-1.0148676546193147,-0.2663724727484411,-0.71051102974763,-0.8318146341379324,-0.6241221323772533,1.3671817390323795,1.1235262799562347,-1.6668006762079057,-0.4790339578295775,-0.43259277236664184,1.700460465295679,-2.0994436476299043,-0.3663173172542101,0.16524785035489334,-0.3923425880295725,-0.03391520438375921,-0.5565256070872344,-0.7500510373676693,-0.3697969151967694,1.458597845540889,0.8292688953720019,-0.43315697046388035,-1.1894029023161081,0.41700444057904584],\"xaxis\":\"x15\",\"y\":[0.49831588430906937,-0.7235038268767632,-0.19908633958507851,-0.2754390444806026,1.7685927979099847,-1.259696371883114,0.5563611634463861,0.9248211590735165,0.4212259555469513,0.4846234009416616,1.0597921430117188,-0.2925003284745853,2.303056953728043,0.5249191896310468,-2.109272310397259,-0.7992687250163971,-1.0407741637071959,0.015596406410107443,2.353855274863578,1.754396650682535,0.7127535111699759,-0.07410488789727092,0.6760586702090022,-1.417933641572086,0.7973675213056064,0.2443727882911371,-0.5804437703391563,1.863633767044503,0.20297799852874407,0.09491158191092101,1.129039036267022,0.055188386864763926,-0.031448036577972543,0.9899245497935543,-0.8773372622519309,0.4102587494933926,-1.1579541074048647,0.21155812933810664,-1.5041523248454534,-1.2851898217991646,-2.735329818561617,-0.5467656108492137,-2.013469643569477,-0.17341243555935112,-0.33030972013752347,-1.6770609897240745,-0.029631159207978073,-0.7064601987786423,-1.2656208954837023,-0.46961915490041006,-0.617099492318239,0.06061649110428425,-0.7561586377783462,2.0628248035466377,0.6380114005658614,-0.9535431688724288,-0.5701526124793378,0.32599042957947244,0.3646544010905983,-0.15354805490208603,0.682630870046837,0.08650373562728984,-0.5992172329859129,0.17411704252751653,2.046294501275606,0.19732575727193682,1.1221926518318792,-0.09534130522144674,-0.6105076916942559,2.118660425841574,0.13723407475958918,-1.62651918139627,0.7841085955713709,-0.9652201975436723,1.4646677595435906,-1.7465528798122336,-1.318860053271632,-1.8160111050623335,-0.8646624630037903,1.5071076372892311,1.242116581214999,1.7496499043875162,1.2637316877945737,0.5849093345996091,0.44801670543112526,0.9326512384042261,0.20172343385404465,0.42691411019877096,-0.12283203968538749,0.03985489094344529,0.17734216454604754,-1.9432020122343785,-1.0058812366034295,-1.7146744278597892,0.008044755271902978,1.4176332510507221,-0.23722410139262268,0.5765595597331339,-0.5295606383341808,-1.0671617581387909],\"yaxis\":\"y15\"},{\"histfunc\":\"count\",\"histnorm\":\"\",\"marker\":{\"color\":\"rgba(128, 0, 128, 1.0)\",\"line\":{\"color\":\"#4D5663\",\"width\":1.3}},\"name\":\"D\",\"nbinsx\":10,\"opacity\":0.8,\"orientation\":\"v\",\"type\":\"histogram\",\"x\":[0.49831588430906937,-0.7235038268767632,-0.19908633958507851,-0.2754390444806026,1.7685927979099847,-1.259696371883114,0.5563611634463861,0.9248211590735165,0.4212259555469513,0.4846234009416616,1.0597921430117188,-0.2925003284745853,2.303056953728043,0.5249191896310468,-2.109272310397259,-0.7992687250163971,-1.0407741637071959,0.015596406410107443,2.353855274863578,1.754396650682535,0.7127535111699759,-0.07410488789727092,0.6760586702090022,-1.417933641572086,0.7973675213056064,0.2443727882911371,-0.5804437703391563,1.863633767044503,0.20297799852874407,0.09491158191092101,1.129039036267022,0.055188386864763926,-0.031448036577972543,0.9899245497935543,-0.8773372622519309,0.4102587494933926,-1.1579541074048647,0.21155812933810664,-1.5041523248454534,-1.2851898217991646,-2.735329818561617,-0.5467656108492137,-2.013469643569477,-0.17341243555935112,-0.33030972013752347,-1.6770609897240745,-0.029631159207978073,-0.7064601987786423,-1.2656208954837023,-0.46961915490041006,-0.617099492318239,0.06061649110428425,-0.7561586377783462,2.0628248035466377,0.6380114005658614,-0.9535431688724288,-0.5701526124793378,0.32599042957947244,0.3646544010905983,-0.15354805490208603,0.682630870046837,0.08650373562728984,-0.5992172329859129,0.17411704252751653,2.046294501275606,0.19732575727193682,1.1221926518318792,-0.09534130522144674,-0.6105076916942559,2.118660425841574,0.13723407475958918,-1.62651918139627,0.7841085955713709,-0.9652201975436723,1.4646677595435906,-1.7465528798122336,-1.318860053271632,-1.8160111050623335,-0.8646624630037903,1.5071076372892311,1.242116581214999,1.7496499043875162,1.2637316877945737,0.5849093345996091,0.44801670543112526,0.9326512384042261,0.20172343385404465,0.42691411019877096,-0.12283203968538749,0.03985489094344529,0.17734216454604754,-1.9432020122343785,-1.0058812366034295,-1.7146744278597892,0.008044755271902978,1.4176332510507221,-0.23722410139262268,0.5765595597331339,-0.5295606383341808,-1.0671617581387909],\"xaxis\":\"x16\",\"yaxis\":\"y16\"}],                        {\"bargap\":0.02,\"legend\":{\"bgcolor\":\"#F5F6F9\",\"font\":{\"color\":\"#4D5663\"}},\"paper_bgcolor\":\"#F5F6F9\",\"plot_bgcolor\":\"#F5F6F9\",\"showlegend\":false,\"template\":{\"data\":{\"bar\":[{\"error_x\":{\"color\":\"#2a3f5f\"},\"error_y\":{\"color\":\"#2a3f5f\"},\"marker\":{\"line\":{\"color\":\"#E5ECF6\",\"width\":0.5},\"pattern\":{\"fillmode\":\"overlay\",\"size\":10,\"solidity\":0.2}},\"type\":\"bar\"}],\"barpolar\":[{\"marker\":{\"line\":{\"color\":\"#E5ECF6\",\"width\":0.5},\"pattern\":{\"fillmode\":\"overlay\",\"size\":10,\"solidity\":0.2}},\"type\":\"barpolar\"}],\"carpet\":[{\"aaxis\":{\"endlinecolor\":\"#2a3f5f\",\"gridcolor\":\"white\",\"linecolor\":\"white\",\"minorgridcolor\":\"white\",\"startlinecolor\":\"#2a3f5f\"},\"baxis\":{\"endlinecolor\":\"#2a3f5f\",\"gridcolor\":\"white\",\"linecolor\":\"white\",\"minorgridcolor\":\"white\",\"startlinecolor\":\"#2a3f5f\"},\"type\":\"carpet\"}],\"choropleth\":[{\"colorbar\":{\"outlinewidth\":0,\"ticks\":\"\"},\"type\":\"choropleth\"}],\"contour\":[{\"colorbar\":{\"outlinewidth\":0,\"ticks\":\"\"},\"colorscale\":[[0.0,\"#0d0887\"],[0.1111111111111111,\"#46039f\"],[0.2222222222222222,\"#7201a8\"],[0.3333333333333333,\"#9c179e\"],[0.4444444444444444,\"#bd3786\"],[0.5555555555555556,\"#d8576b\"],[0.6666666666666666,\"#ed7953\"],[0.7777777777777778,\"#fb9f3a\"],[0.8888888888888888,\"#fdca26\"],[1.0,\"#f0f921\"]],\"type\":\"contour\"}],\"contourcarpet\":[{\"colorbar\":{\"outlinewidth\":0,\"ticks\":\"\"},\"type\":\"contourcarpet\"}],\"heatmap\":[{\"colorbar\":{\"outlinewidth\":0,\"ticks\":\"\"},\"colorscale\":[[0.0,\"#0d0887\"],[0.1111111111111111,\"#46039f\"],[0.2222222222222222,\"#7201a8\"],[0.3333333333333333,\"#9c179e\"],[0.4444444444444444,\"#bd3786\"],[0.5555555555555556,\"#d8576b\"],[0.6666666666666666,\"#ed7953\"],[0.7777777777777778,\"#fb9f3a\"],[0.8888888888888888,\"#fdca26\"],[1.0,\"#f0f921\"]],\"type\":\"heatmap\"}],\"heatmapgl\":[{\"colorbar\":{\"outlinewidth\":0,\"ticks\":\"\"},\"colorscale\":[[0.0,\"#0d0887\"],[0.1111111111111111,\"#46039f\"],[0.2222222222222222,\"#7201a8\"],[0.3333333333333333,\"#9c179e\"],[0.4444444444444444,\"#bd3786\"],[0.5555555555555556,\"#d8576b\"],[0.6666666666666666,\"#ed7953\"],[0.7777777777777778,\"#fb9f3a\"],[0.8888888888888888,\"#fdca26\"],[1.0,\"#f0f921\"]],\"type\":\"heatmapgl\"}],\"histogram\":[{\"marker\":{\"pattern\":{\"fillmode\":\"overlay\",\"size\":10,\"solidity\":0.2}},\"type\":\"histogram\"}],\"histogram2d\":[{\"colorbar\":{\"outlinewidth\":0,\"ticks\":\"\"},\"colorscale\":[[0.0,\"#0d0887\"],[0.1111111111111111,\"#46039f\"],[0.2222222222222222,\"#7201a8\"],[0.3333333333333333,\"#9c179e\"],[0.4444444444444444,\"#bd3786\"],[0.5555555555555556,\"#d8576b\"],[0.6666666666666666,\"#ed7953\"],[0.7777777777777778,\"#fb9f3a\"],[0.8888888888888888,\"#fdca26\"],[1.0,\"#f0f921\"]],\"type\":\"histogram2d\"}],\"histogram2dcontour\":[{\"colorbar\":{\"outlinewidth\":0,\"ticks\":\"\"},\"colorscale\":[[0.0,\"#0d0887\"],[0.1111111111111111,\"#46039f\"],[0.2222222222222222,\"#7201a8\"],[0.3333333333333333,\"#9c179e\"],[0.4444444444444444,\"#bd3786\"],[0.5555555555555556,\"#d8576b\"],[0.6666666666666666,\"#ed7953\"],[0.7777777777777778,\"#fb9f3a\"],[0.8888888888888888,\"#fdca26\"],[1.0,\"#f0f921\"]],\"type\":\"histogram2dcontour\"}],\"mesh3d\":[{\"colorbar\":{\"outlinewidth\":0,\"ticks\":\"\"},\"type\":\"mesh3d\"}],\"parcoords\":[{\"line\":{\"colorbar\":{\"outlinewidth\":0,\"ticks\":\"\"}},\"type\":\"parcoords\"}],\"pie\":[{\"automargin\":true,\"type\":\"pie\"}],\"scatter\":[{\"marker\":{\"colorbar\":{\"outlinewidth\":0,\"ticks\":\"\"}},\"type\":\"scatter\"}],\"scatter3d\":[{\"line\":{\"colorbar\":{\"outlinewidth\":0,\"ticks\":\"\"}},\"marker\":{\"colorbar\":{\"outlinewidth\":0,\"ticks\":\"\"}},\"type\":\"scatter3d\"}],\"scattercarpet\":[{\"marker\":{\"colorbar\":{\"outlinewidth\":0,\"ticks\":\"\"}},\"type\":\"scattercarpet\"}],\"scattergeo\":[{\"marker\":{\"colorbar\":{\"outlinewidth\":0,\"ticks\":\"\"}},\"type\":\"scattergeo\"}],\"scattergl\":[{\"marker\":{\"colorbar\":{\"outlinewidth\":0,\"ticks\":\"\"}},\"type\":\"scattergl\"}],\"scattermapbox\":[{\"marker\":{\"colorbar\":{\"outlinewidth\":0,\"ticks\":\"\"}},\"type\":\"scattermapbox\"}],\"scatterpolar\":[{\"marker\":{\"colorbar\":{\"outlinewidth\":0,\"ticks\":\"\"}},\"type\":\"scatterpolar\"}],\"scatterpolargl\":[{\"marker\":{\"colorbar\":{\"outlinewidth\":0,\"ticks\":\"\"}},\"type\":\"scatterpolargl\"}],\"scatterternary\":[{\"marker\":{\"colorbar\":{\"outlinewidth\":0,\"ticks\":\"\"}},\"type\":\"scatterternary\"}],\"surface\":[{\"colorbar\":{\"outlinewidth\":0,\"ticks\":\"\"},\"colorscale\":[[0.0,\"#0d0887\"],[0.1111111111111111,\"#46039f\"],[0.2222222222222222,\"#7201a8\"],[0.3333333333333333,\"#9c179e\"],[0.4444444444444444,\"#bd3786\"],[0.5555555555555556,\"#d8576b\"],[0.6666666666666666,\"#ed7953\"],[0.7777777777777778,\"#fb9f3a\"],[0.8888888888888888,\"#fdca26\"],[1.0,\"#f0f921\"]],\"type\":\"surface\"}],\"table\":[{\"cells\":{\"fill\":{\"color\":\"#EBF0F8\"},\"line\":{\"color\":\"white\"}},\"header\":{\"fill\":{\"color\":\"#C8D4E3\"},\"line\":{\"color\":\"white\"}},\"type\":\"table\"}]},\"layout\":{\"annotationdefaults\":{\"arrowcolor\":\"#2a3f5f\",\"arrowhead\":0,\"arrowwidth\":1},\"autotypenumbers\":\"strict\",\"coloraxis\":{\"colorbar\":{\"outlinewidth\":0,\"ticks\":\"\"}},\"colorscale\":{\"diverging\":[[0,\"#8e0152\"],[0.1,\"#c51b7d\"],[0.2,\"#de77ae\"],[0.3,\"#f1b6da\"],[0.4,\"#fde0ef\"],[0.5,\"#f7f7f7\"],[0.6,\"#e6f5d0\"],[0.7,\"#b8e186\"],[0.8,\"#7fbc41\"],[0.9,\"#4d9221\"],[1,\"#276419\"]],\"sequential\":[[0.0,\"#0d0887\"],[0.1111111111111111,\"#46039f\"],[0.2222222222222222,\"#7201a8\"],[0.3333333333333333,\"#9c179e\"],[0.4444444444444444,\"#bd3786\"],[0.5555555555555556,\"#d8576b\"],[0.6666666666666666,\"#ed7953\"],[0.7777777777777778,\"#fb9f3a\"],[0.8888888888888888,\"#fdca26\"],[1.0,\"#f0f921\"]],\"sequentialminus\":[[0.0,\"#0d0887\"],[0.1111111111111111,\"#46039f\"],[0.2222222222222222,\"#7201a8\"],[0.3333333333333333,\"#9c179e\"],[0.4444444444444444,\"#bd3786\"],[0.5555555555555556,\"#d8576b\"],[0.6666666666666666,\"#ed7953\"],[0.7777777777777778,\"#fb9f3a\"],[0.8888888888888888,\"#fdca26\"],[1.0,\"#f0f921\"]]},\"colorway\":[\"#636efa\",\"#EF553B\",\"#00cc96\",\"#ab63fa\",\"#FFA15A\",\"#19d3f3\",\"#FF6692\",\"#B6E880\",\"#FF97FF\",\"#FECB52\"],\"font\":{\"color\":\"#2a3f5f\"},\"geo\":{\"bgcolor\":\"white\",\"lakecolor\":\"white\",\"landcolor\":\"#E5ECF6\",\"showlakes\":true,\"showland\":true,\"subunitcolor\":\"white\"},\"hoverlabel\":{\"align\":\"left\"},\"hovermode\":\"closest\",\"mapbox\":{\"style\":\"light\"},\"paper_bgcolor\":\"white\",\"plot_bgcolor\":\"#E5ECF6\",\"polar\":{\"angularaxis\":{\"gridcolor\":\"white\",\"linecolor\":\"white\",\"ticks\":\"\"},\"bgcolor\":\"#E5ECF6\",\"radialaxis\":{\"gridcolor\":\"white\",\"linecolor\":\"white\",\"ticks\":\"\"}},\"scene\":{\"xaxis\":{\"backgroundcolor\":\"#E5ECF6\",\"gridcolor\":\"white\",\"gridwidth\":2,\"linecolor\":\"white\",\"showbackground\":true,\"ticks\":\"\",\"zerolinecolor\":\"white\"},\"yaxis\":{\"backgroundcolor\":\"#E5ECF6\",\"gridcolor\":\"white\",\"gridwidth\":2,\"linecolor\":\"white\",\"showbackground\":true,\"ticks\":\"\",\"zerolinecolor\":\"white\"},\"zaxis\":{\"backgroundcolor\":\"#E5ECF6\",\"gridcolor\":\"white\",\"gridwidth\":2,\"linecolor\":\"white\",\"showbackground\":true,\"ticks\":\"\",\"zerolinecolor\":\"white\"}},\"shapedefaults\":{\"line\":{\"color\":\"#2a3f5f\"}},\"ternary\":{\"aaxis\":{\"gridcolor\":\"white\",\"linecolor\":\"white\",\"ticks\":\"\"},\"baxis\":{\"gridcolor\":\"white\",\"linecolor\":\"white\",\"ticks\":\"\"},\"bgcolor\":\"#E5ECF6\",\"caxis\":{\"gridcolor\":\"white\",\"linecolor\":\"white\",\"ticks\":\"\"}},\"title\":{\"x\":0.05},\"xaxis\":{\"automargin\":true,\"gridcolor\":\"white\",\"linecolor\":\"white\",\"ticks\":\"\",\"title\":{\"standoff\":15},\"zerolinecolor\":\"white\",\"zerolinewidth\":2},\"yaxis\":{\"automargin\":true,\"gridcolor\":\"white\",\"linecolor\":\"white\",\"ticks\":\"\",\"title\":{\"standoff\":15},\"zerolinecolor\":\"white\",\"zerolinewidth\":2}}},\"title\":{\"font\":{\"color\":\"#4D5663\"}},\"xaxis\":{\"anchor\":\"y\",\"domain\":[0.0,0.2125],\"gridcolor\":\"#E1E5ED\",\"showgrid\":false,\"tickfont\":{\"color\":\"#4D5663\"},\"title\":{\"font\":{\"color\":\"#4D5663\"},\"text\":\"\"},\"zerolinecolor\":\"#E1E5ED\"},\"xaxis10\":{\"anchor\":\"y10\",\"domain\":[0.2625,0.475],\"gridcolor\":\"#E1E5ED\",\"showgrid\":false,\"tickfont\":{\"color\":\"#4D5663\"},\"title\":{\"font\":{\"color\":\"#4D5663\"},\"text\":\"\"},\"zerolinecolor\":\"#E1E5ED\"},\"xaxis11\":{\"anchor\":\"y11\",\"domain\":[0.525,0.7375],\"gridcolor\":\"#E1E5ED\",\"showgrid\":false,\"tickfont\":{\"color\":\"#4D5663\"},\"title\":{\"font\":{\"color\":\"#4D5663\"},\"text\":\"\"},\"zerolinecolor\":\"#E1E5ED\"},\"xaxis12\":{\"anchor\":\"y12\",\"domain\":[0.7875,1.0],\"gridcolor\":\"#E1E5ED\",\"showgrid\":false,\"tickfont\":{\"color\":\"#4D5663\"},\"title\":{\"font\":{\"color\":\"#4D5663\"},\"text\":\"\"},\"zerolinecolor\":\"#E1E5ED\"},\"xaxis13\":{\"anchor\":\"y13\",\"domain\":[0.0,0.2125],\"gridcolor\":\"#E1E5ED\",\"showgrid\":false,\"tickfont\":{\"color\":\"#4D5663\"},\"title\":{\"font\":{\"color\":\"#4D5663\"},\"text\":\"\"},\"zerolinecolor\":\"#E1E5ED\"},\"xaxis14\":{\"anchor\":\"y14\",\"domain\":[0.2625,0.475],\"gridcolor\":\"#E1E5ED\",\"showgrid\":false,\"tickfont\":{\"color\":\"#4D5663\"},\"title\":{\"font\":{\"color\":\"#4D5663\"},\"text\":\"\"},\"zerolinecolor\":\"#E1E5ED\"},\"xaxis15\":{\"anchor\":\"y15\",\"domain\":[0.525,0.7375],\"gridcolor\":\"#E1E5ED\",\"showgrid\":false,\"tickfont\":{\"color\":\"#4D5663\"},\"title\":{\"font\":{\"color\":\"#4D5663\"},\"text\":\"\"},\"zerolinecolor\":\"#E1E5ED\"},\"xaxis16\":{\"anchor\":\"y16\",\"domain\":[0.7875,1.0],\"gridcolor\":\"#E1E5ED\",\"showgrid\":false,\"tickfont\":{\"color\":\"#4D5663\"},\"title\":{\"font\":{\"color\":\"#4D5663\"},\"text\":\"\"},\"zerolinecolor\":\"#E1E5ED\"},\"xaxis2\":{\"anchor\":\"y2\",\"domain\":[0.2625,0.475],\"gridcolor\":\"#E1E5ED\",\"showgrid\":false,\"tickfont\":{\"color\":\"#4D5663\"},\"title\":{\"font\":{\"color\":\"#4D5663\"},\"text\":\"\"},\"zerolinecolor\":\"#E1E5ED\"},\"xaxis3\":{\"anchor\":\"y3\",\"domain\":[0.525,0.7375],\"gridcolor\":\"#E1E5ED\",\"showgrid\":false,\"tickfont\":{\"color\":\"#4D5663\"},\"title\":{\"font\":{\"color\":\"#4D5663\"},\"text\":\"\"},\"zerolinecolor\":\"#E1E5ED\"},\"xaxis4\":{\"anchor\":\"y4\",\"domain\":[0.7875,1.0],\"gridcolor\":\"#E1E5ED\",\"showgrid\":false,\"tickfont\":{\"color\":\"#4D5663\"},\"title\":{\"font\":{\"color\":\"#4D5663\"},\"text\":\"\"},\"zerolinecolor\":\"#E1E5ED\"},\"xaxis5\":{\"anchor\":\"y5\",\"domain\":[0.0,0.2125],\"gridcolor\":\"#E1E5ED\",\"showgrid\":false,\"tickfont\":{\"color\":\"#4D5663\"},\"title\":{\"font\":{\"color\":\"#4D5663\"},\"text\":\"\"},\"zerolinecolor\":\"#E1E5ED\"},\"xaxis6\":{\"anchor\":\"y6\",\"domain\":[0.2625,0.475],\"gridcolor\":\"#E1E5ED\",\"showgrid\":false,\"tickfont\":{\"color\":\"#4D5663\"},\"title\":{\"font\":{\"color\":\"#4D5663\"},\"text\":\"\"},\"zerolinecolor\":\"#E1E5ED\"},\"xaxis7\":{\"anchor\":\"y7\",\"domain\":[0.525,0.7375],\"gridcolor\":\"#E1E5ED\",\"showgrid\":false,\"tickfont\":{\"color\":\"#4D5663\"},\"title\":{\"font\":{\"color\":\"#4D5663\"},\"text\":\"\"},\"zerolinecolor\":\"#E1E5ED\"},\"xaxis8\":{\"anchor\":\"y8\",\"domain\":[0.7875,1.0],\"gridcolor\":\"#E1E5ED\",\"showgrid\":false,\"tickfont\":{\"color\":\"#4D5663\"},\"title\":{\"font\":{\"color\":\"#4D5663\"},\"text\":\"\"},\"zerolinecolor\":\"#E1E5ED\"},\"xaxis9\":{\"anchor\":\"y9\",\"domain\":[0.0,0.2125],\"gridcolor\":\"#E1E5ED\",\"showgrid\":false,\"tickfont\":{\"color\":\"#4D5663\"},\"title\":{\"font\":{\"color\":\"#4D5663\"},\"text\":\"\"},\"zerolinecolor\":\"#E1E5ED\"},\"yaxis\":{\"anchor\":\"x\",\"domain\":[0.8025,1.0],\"gridcolor\":\"#E1E5ED\",\"showgrid\":false,\"tickfont\":{\"color\":\"#4D5663\"},\"title\":{\"font\":{\"color\":\"#4D5663\"},\"text\":\"\"},\"zerolinecolor\":\"#E1E5ED\"},\"yaxis10\":{\"anchor\":\"x10\",\"domain\":[0.2675,0.465],\"gridcolor\":\"#E1E5ED\",\"showgrid\":false,\"tickfont\":{\"color\":\"#4D5663\"},\"title\":{\"font\":{\"color\":\"#4D5663\"},\"text\":\"\"},\"zerolinecolor\":\"#E1E5ED\"},\"yaxis11\":{\"anchor\":\"x11\",\"domain\":[0.2675,0.465],\"gridcolor\":\"#E1E5ED\",\"showgrid\":false,\"tickfont\":{\"color\":\"#4D5663\"},\"title\":{\"font\":{\"color\":\"#4D5663\"},\"text\":\"\"},\"zerolinecolor\":\"#E1E5ED\"},\"yaxis12\":{\"anchor\":\"x12\",\"domain\":[0.2675,0.465],\"gridcolor\":\"#E1E5ED\",\"showgrid\":false,\"tickfont\":{\"color\":\"#4D5663\"},\"title\":{\"font\":{\"color\":\"#4D5663\"},\"text\":\"\"},\"zerolinecolor\":\"#E1E5ED\"},\"yaxis13\":{\"anchor\":\"x13\",\"domain\":[0.0,0.1975],\"gridcolor\":\"#E1E5ED\",\"showgrid\":false,\"tickfont\":{\"color\":\"#4D5663\"},\"title\":{\"font\":{\"color\":\"#4D5663\"},\"text\":\"\"},\"zerolinecolor\":\"#E1E5ED\"},\"yaxis14\":{\"anchor\":\"x14\",\"domain\":[0.0,0.1975],\"gridcolor\":\"#E1E5ED\",\"showgrid\":false,\"tickfont\":{\"color\":\"#4D5663\"},\"title\":{\"font\":{\"color\":\"#4D5663\"},\"text\":\"\"},\"zerolinecolor\":\"#E1E5ED\"},\"yaxis15\":{\"anchor\":\"x15\",\"domain\":[0.0,0.1975],\"gridcolor\":\"#E1E5ED\",\"showgrid\":false,\"tickfont\":{\"color\":\"#4D5663\"},\"title\":{\"font\":{\"color\":\"#4D5663\"},\"text\":\"\"},\"zerolinecolor\":\"#E1E5ED\"},\"yaxis16\":{\"anchor\":\"x16\",\"domain\":[0.0,0.1975],\"gridcolor\":\"#E1E5ED\",\"showgrid\":false,\"tickfont\":{\"color\":\"#4D5663\"},\"title\":{\"font\":{\"color\":\"#4D5663\"},\"text\":\"\"},\"zerolinecolor\":\"#E1E5ED\"},\"yaxis2\":{\"anchor\":\"x2\",\"domain\":[0.8025,1.0],\"gridcolor\":\"#E1E5ED\",\"showgrid\":false,\"tickfont\":{\"color\":\"#4D5663\"},\"title\":{\"font\":{\"color\":\"#4D5663\"},\"text\":\"\"},\"zerolinecolor\":\"#E1E5ED\"},\"yaxis3\":{\"anchor\":\"x3\",\"domain\":[0.8025,1.0],\"gridcolor\":\"#E1E5ED\",\"showgrid\":false,\"tickfont\":{\"color\":\"#4D5663\"},\"title\":{\"font\":{\"color\":\"#4D5663\"},\"text\":\"\"},\"zerolinecolor\":\"#E1E5ED\"},\"yaxis4\":{\"anchor\":\"x4\",\"domain\":[0.8025,1.0],\"gridcolor\":\"#E1E5ED\",\"showgrid\":false,\"tickfont\":{\"color\":\"#4D5663\"},\"title\":{\"font\":{\"color\":\"#4D5663\"},\"text\":\"\"},\"zerolinecolor\":\"#E1E5ED\"},\"yaxis5\":{\"anchor\":\"x5\",\"domain\":[0.535,0.7325],\"gridcolor\":\"#E1E5ED\",\"showgrid\":false,\"tickfont\":{\"color\":\"#4D5663\"},\"title\":{\"font\":{\"color\":\"#4D5663\"},\"text\":\"\"},\"zerolinecolor\":\"#E1E5ED\"},\"yaxis6\":{\"anchor\":\"x6\",\"domain\":[0.535,0.7325],\"gridcolor\":\"#E1E5ED\",\"showgrid\":false,\"tickfont\":{\"color\":\"#4D5663\"},\"title\":{\"font\":{\"color\":\"#4D5663\"},\"text\":\"\"},\"zerolinecolor\":\"#E1E5ED\"},\"yaxis7\":{\"anchor\":\"x7\",\"domain\":[0.535,0.7325],\"gridcolor\":\"#E1E5ED\",\"showgrid\":false,\"tickfont\":{\"color\":\"#4D5663\"},\"title\":{\"font\":{\"color\":\"#4D5663\"},\"text\":\"\"},\"zerolinecolor\":\"#E1E5ED\"},\"yaxis8\":{\"anchor\":\"x8\",\"domain\":[0.535,0.7325],\"gridcolor\":\"#E1E5ED\",\"showgrid\":false,\"tickfont\":{\"color\":\"#4D5663\"},\"title\":{\"font\":{\"color\":\"#4D5663\"},\"text\":\"\"},\"zerolinecolor\":\"#E1E5ED\"},\"yaxis9\":{\"anchor\":\"x9\",\"domain\":[0.2675,0.465],\"gridcolor\":\"#E1E5ED\",\"showgrid\":false,\"tickfont\":{\"color\":\"#4D5663\"},\"title\":{\"font\":{\"color\":\"#4D5663\"},\"text\":\"\"},\"zerolinecolor\":\"#E1E5ED\"}},                        {\"showLink\": true, \"linkText\": \"Export to plot.ly\", \"plotlyServerURL\": \"https://plot.ly\", \"responsive\": true}                    ).then(function(){\n",
       "                            \n",
       "var gd = document.getElementById('d522c628-79ca-40d9-9f9c-b0ea14356483');\n",
       "var x = new MutationObserver(function (mutations, observer) {{\n",
       "        var display = window.getComputedStyle(gd).display;\n",
       "        if (!display || display === 'none') {{\n",
       "            console.log([gd, 'removed!']);\n",
       "            Plotly.purge(gd);\n",
       "            observer.disconnect();\n",
       "        }}\n",
       "}});\n",
       "\n",
       "// Listen for the removal of the full notebook cells\n",
       "var notebookContainer = gd.closest('#notebook-container');\n",
       "if (notebookContainer) {{\n",
       "    x.observe(notebookContainer, {childList: true});\n",
       "}}\n",
       "\n",
       "// Listen for the clearing of the current output cell\n",
       "var outputEl = gd.closest('.output');\n",
       "if (outputEl) {{\n",
       "    x.observe(outputEl, {childList: true});\n",
       "}}\n",
       "\n",
       "                        })                };                });            </script>        </div>"
      ]
     },
     "metadata": {},
     "output_type": "display_data"
    }
   ],
   "source": [
    "df.scatter_matrix()"
   ]
  },
  {
   "cell_type": "markdown",
   "metadata": {
    "collapsed": true
   },
   "source": [
    "# Choropleth Maps (Helps to identify Global or national scale senario)\n",
    "\n",
    "Welcome to the Choropleth Maps Exercise! In this exercise we will give you some simple datasets and ask you to create Choropleth Maps from them. Due to the Nature of Plotly we can't show you examples embedded inside the notebook.\n",
    "\n",
    "[Full Documentation Reference](https://plot.ly/python/reference/#choropleth)\n",
    "\n",
    "**Create 2 variable Data variable and Layout Variable**"
   ]
  },
  {
   "cell_type": "code",
   "execution_count": 20,
   "metadata": {},
   "outputs": [],
   "source": [
    "import chart_studio.plotly as py\n",
    "import plotly.graph_objs as go \n",
    "from plotly.offline import download_plotlyjs, init_notebook_mode, plot, iplot"
   ]
  },
  {
   "cell_type": "markdown",
   "metadata": {},
   "source": [
    "Now we need to begin to build our data dictionary. Easiest way to do this is to use the **dict()** function of the general form:\n",
    "\n",
    "* type = 'choropleth', (what type of geographical plot are you doing)\n",
    "* locations = list of states\n",
    "* locationmode = 'USA-states'\n",
    "* colorscale= \n",
    "\n",
    "Either a predefined string:\n",
    "\n",
    "    'pairs' | 'Greys' | 'Greens' | 'Bluered' | 'Hot' | 'Picnic' | 'Portland' | 'Jet' | 'RdBu' | 'Blackbody' | 'Earth' | 'Electric' | 'YIOrRd' | 'YIGnBu'\n",
    "\n",
    "or create a [custom colorscale](https://plot.ly/python/heatmap-and-contour-colorscales/)\n",
    "\n",
    "* text= list or array of text to display per point\n",
    "* z= array of values on z axis (color of state)\n",
    "* colorbar = {'title':'Colorbar Title'})\n"
   ]
  },
  {
   "cell_type": "code",
   "execution_count": 21,
   "metadata": {},
   "outputs": [],
   "source": [
    "data = dict(type = 'choropleth',\n",
    "            locations = ['AZ','CA','NY'],\n",
    "            locationmode = 'USA-states',\n",
    "            colorscale= 'Portland',\n",
    "            text= ['text1','text2','text3'],\n",
    "            z=[1.0,2.0,3.0], # Color bar properties\n",
    "            colorbar = {'title':'Colorbar Title'})"
   ]
  },
  {
   "cell_type": "code",
   "execution_count": 22,
   "metadata": {},
   "outputs": [],
   "source": [
    "layout = dict(geo = {'scope':'usa'})"
   ]
  },
  {
   "cell_type": "code",
   "execution_count": 23,
   "metadata": {},
   "outputs": [
    {
     "data": {
      "application/vnd.plotly.v1+json": {
       "config": {
        "linkText": "Export to plot.ly",
        "plotlyServerURL": "https://plot.ly",
        "showLink": false
       },
       "data": [
        {
         "colorbar": {
          "title": {
           "text": "Colorbar Title"
          }
         },
         "colorscale": [
          [
           0,
           "rgb(12,51,131)"
          ],
          [
           0.25,
           "rgb(10,136,186)"
          ],
          [
           0.5,
           "rgb(242,211,56)"
          ],
          [
           0.75,
           "rgb(242,143,56)"
          ],
          [
           1,
           "rgb(217,30,30)"
          ]
         ],
         "locationmode": "USA-states",
         "locations": [
          "AZ",
          "CA",
          "NY"
         ],
         "text": [
          "text1",
          "text2",
          "text3"
         ],
         "type": "choropleth",
         "z": [
          1,
          2,
          3
         ]
        }
       ],
       "layout": {
        "geo": {
         "scope": "usa"
        },
        "template": {
         "data": {
          "bar": [
           {
            "error_x": {
             "color": "#2a3f5f"
            },
            "error_y": {
             "color": "#2a3f5f"
            },
            "marker": {
             "line": {
              "color": "#E5ECF6",
              "width": 0.5
             },
             "pattern": {
              "fillmode": "overlay",
              "size": 10,
              "solidity": 0.2
             }
            },
            "type": "bar"
           }
          ],
          "barpolar": [
           {
            "marker": {
             "line": {
              "color": "#E5ECF6",
              "width": 0.5
             },
             "pattern": {
              "fillmode": "overlay",
              "size": 10,
              "solidity": 0.2
             }
            },
            "type": "barpolar"
           }
          ],
          "carpet": [
           {
            "aaxis": {
             "endlinecolor": "#2a3f5f",
             "gridcolor": "white",
             "linecolor": "white",
             "minorgridcolor": "white",
             "startlinecolor": "#2a3f5f"
            },
            "baxis": {
             "endlinecolor": "#2a3f5f",
             "gridcolor": "white",
             "linecolor": "white",
             "minorgridcolor": "white",
             "startlinecolor": "#2a3f5f"
            },
            "type": "carpet"
           }
          ],
          "choropleth": [
           {
            "colorbar": {
             "outlinewidth": 0,
             "ticks": ""
            },
            "type": "choropleth"
           }
          ],
          "contour": [
           {
            "colorbar": {
             "outlinewidth": 0,
             "ticks": ""
            },
            "colorscale": [
             [
              0,
              "#0d0887"
             ],
             [
              0.1111111111111111,
              "#46039f"
             ],
             [
              0.2222222222222222,
              "#7201a8"
             ],
             [
              0.3333333333333333,
              "#9c179e"
             ],
             [
              0.4444444444444444,
              "#bd3786"
             ],
             [
              0.5555555555555556,
              "#d8576b"
             ],
             [
              0.6666666666666666,
              "#ed7953"
             ],
             [
              0.7777777777777778,
              "#fb9f3a"
             ],
             [
              0.8888888888888888,
              "#fdca26"
             ],
             [
              1,
              "#f0f921"
             ]
            ],
            "type": "contour"
           }
          ],
          "contourcarpet": [
           {
            "colorbar": {
             "outlinewidth": 0,
             "ticks": ""
            },
            "type": "contourcarpet"
           }
          ],
          "heatmap": [
           {
            "colorbar": {
             "outlinewidth": 0,
             "ticks": ""
            },
            "colorscale": [
             [
              0,
              "#0d0887"
             ],
             [
              0.1111111111111111,
              "#46039f"
             ],
             [
              0.2222222222222222,
              "#7201a8"
             ],
             [
              0.3333333333333333,
              "#9c179e"
             ],
             [
              0.4444444444444444,
              "#bd3786"
             ],
             [
              0.5555555555555556,
              "#d8576b"
             ],
             [
              0.6666666666666666,
              "#ed7953"
             ],
             [
              0.7777777777777778,
              "#fb9f3a"
             ],
             [
              0.8888888888888888,
              "#fdca26"
             ],
             [
              1,
              "#f0f921"
             ]
            ],
            "type": "heatmap"
           }
          ],
          "heatmapgl": [
           {
            "colorbar": {
             "outlinewidth": 0,
             "ticks": ""
            },
            "colorscale": [
             [
              0,
              "#0d0887"
             ],
             [
              0.1111111111111111,
              "#46039f"
             ],
             [
              0.2222222222222222,
              "#7201a8"
             ],
             [
              0.3333333333333333,
              "#9c179e"
             ],
             [
              0.4444444444444444,
              "#bd3786"
             ],
             [
              0.5555555555555556,
              "#d8576b"
             ],
             [
              0.6666666666666666,
              "#ed7953"
             ],
             [
              0.7777777777777778,
              "#fb9f3a"
             ],
             [
              0.8888888888888888,
              "#fdca26"
             ],
             [
              1,
              "#f0f921"
             ]
            ],
            "type": "heatmapgl"
           }
          ],
          "histogram": [
           {
            "marker": {
             "pattern": {
              "fillmode": "overlay",
              "size": 10,
              "solidity": 0.2
             }
            },
            "type": "histogram"
           }
          ],
          "histogram2d": [
           {
            "colorbar": {
             "outlinewidth": 0,
             "ticks": ""
            },
            "colorscale": [
             [
              0,
              "#0d0887"
             ],
             [
              0.1111111111111111,
              "#46039f"
             ],
             [
              0.2222222222222222,
              "#7201a8"
             ],
             [
              0.3333333333333333,
              "#9c179e"
             ],
             [
              0.4444444444444444,
              "#bd3786"
             ],
             [
              0.5555555555555556,
              "#d8576b"
             ],
             [
              0.6666666666666666,
              "#ed7953"
             ],
             [
              0.7777777777777778,
              "#fb9f3a"
             ],
             [
              0.8888888888888888,
              "#fdca26"
             ],
             [
              1,
              "#f0f921"
             ]
            ],
            "type": "histogram2d"
           }
          ],
          "histogram2dcontour": [
           {
            "colorbar": {
             "outlinewidth": 0,
             "ticks": ""
            },
            "colorscale": [
             [
              0,
              "#0d0887"
             ],
             [
              0.1111111111111111,
              "#46039f"
             ],
             [
              0.2222222222222222,
              "#7201a8"
             ],
             [
              0.3333333333333333,
              "#9c179e"
             ],
             [
              0.4444444444444444,
              "#bd3786"
             ],
             [
              0.5555555555555556,
              "#d8576b"
             ],
             [
              0.6666666666666666,
              "#ed7953"
             ],
             [
              0.7777777777777778,
              "#fb9f3a"
             ],
             [
              0.8888888888888888,
              "#fdca26"
             ],
             [
              1,
              "#f0f921"
             ]
            ],
            "type": "histogram2dcontour"
           }
          ],
          "mesh3d": [
           {
            "colorbar": {
             "outlinewidth": 0,
             "ticks": ""
            },
            "type": "mesh3d"
           }
          ],
          "parcoords": [
           {
            "line": {
             "colorbar": {
              "outlinewidth": 0,
              "ticks": ""
             }
            },
            "type": "parcoords"
           }
          ],
          "pie": [
           {
            "automargin": true,
            "type": "pie"
           }
          ],
          "scatter": [
           {
            "marker": {
             "colorbar": {
              "outlinewidth": 0,
              "ticks": ""
             }
            },
            "type": "scatter"
           }
          ],
          "scatter3d": [
           {
            "line": {
             "colorbar": {
              "outlinewidth": 0,
              "ticks": ""
             }
            },
            "marker": {
             "colorbar": {
              "outlinewidth": 0,
              "ticks": ""
             }
            },
            "type": "scatter3d"
           }
          ],
          "scattercarpet": [
           {
            "marker": {
             "colorbar": {
              "outlinewidth": 0,
              "ticks": ""
             }
            },
            "type": "scattercarpet"
           }
          ],
          "scattergeo": [
           {
            "marker": {
             "colorbar": {
              "outlinewidth": 0,
              "ticks": ""
             }
            },
            "type": "scattergeo"
           }
          ],
          "scattergl": [
           {
            "marker": {
             "colorbar": {
              "outlinewidth": 0,
              "ticks": ""
             }
            },
            "type": "scattergl"
           }
          ],
          "scattermapbox": [
           {
            "marker": {
             "colorbar": {
              "outlinewidth": 0,
              "ticks": ""
             }
            },
            "type": "scattermapbox"
           }
          ],
          "scatterpolar": [
           {
            "marker": {
             "colorbar": {
              "outlinewidth": 0,
              "ticks": ""
             }
            },
            "type": "scatterpolar"
           }
          ],
          "scatterpolargl": [
           {
            "marker": {
             "colorbar": {
              "outlinewidth": 0,
              "ticks": ""
             }
            },
            "type": "scatterpolargl"
           }
          ],
          "scatterternary": [
           {
            "marker": {
             "colorbar": {
              "outlinewidth": 0,
              "ticks": ""
             }
            },
            "type": "scatterternary"
           }
          ],
          "surface": [
           {
            "colorbar": {
             "outlinewidth": 0,
             "ticks": ""
            },
            "colorscale": [
             [
              0,
              "#0d0887"
             ],
             [
              0.1111111111111111,
              "#46039f"
             ],
             [
              0.2222222222222222,
              "#7201a8"
             ],
             [
              0.3333333333333333,
              "#9c179e"
             ],
             [
              0.4444444444444444,
              "#bd3786"
             ],
             [
              0.5555555555555556,
              "#d8576b"
             ],
             [
              0.6666666666666666,
              "#ed7953"
             ],
             [
              0.7777777777777778,
              "#fb9f3a"
             ],
             [
              0.8888888888888888,
              "#fdca26"
             ],
             [
              1,
              "#f0f921"
             ]
            ],
            "type": "surface"
           }
          ],
          "table": [
           {
            "cells": {
             "fill": {
              "color": "#EBF0F8"
             },
             "line": {
              "color": "white"
             }
            },
            "header": {
             "fill": {
              "color": "#C8D4E3"
             },
             "line": {
              "color": "white"
             }
            },
            "type": "table"
           }
          ]
         },
         "layout": {
          "annotationdefaults": {
           "arrowcolor": "#2a3f5f",
           "arrowhead": 0,
           "arrowwidth": 1
          },
          "autotypenumbers": "strict",
          "coloraxis": {
           "colorbar": {
            "outlinewidth": 0,
            "ticks": ""
           }
          },
          "colorscale": {
           "diverging": [
            [
             0,
             "#8e0152"
            ],
            [
             0.1,
             "#c51b7d"
            ],
            [
             0.2,
             "#de77ae"
            ],
            [
             0.3,
             "#f1b6da"
            ],
            [
             0.4,
             "#fde0ef"
            ],
            [
             0.5,
             "#f7f7f7"
            ],
            [
             0.6,
             "#e6f5d0"
            ],
            [
             0.7,
             "#b8e186"
            ],
            [
             0.8,
             "#7fbc41"
            ],
            [
             0.9,
             "#4d9221"
            ],
            [
             1,
             "#276419"
            ]
           ],
           "sequential": [
            [
             0,
             "#0d0887"
            ],
            [
             0.1111111111111111,
             "#46039f"
            ],
            [
             0.2222222222222222,
             "#7201a8"
            ],
            [
             0.3333333333333333,
             "#9c179e"
            ],
            [
             0.4444444444444444,
             "#bd3786"
            ],
            [
             0.5555555555555556,
             "#d8576b"
            ],
            [
             0.6666666666666666,
             "#ed7953"
            ],
            [
             0.7777777777777778,
             "#fb9f3a"
            ],
            [
             0.8888888888888888,
             "#fdca26"
            ],
            [
             1,
             "#f0f921"
            ]
           ],
           "sequentialminus": [
            [
             0,
             "#0d0887"
            ],
            [
             0.1111111111111111,
             "#46039f"
            ],
            [
             0.2222222222222222,
             "#7201a8"
            ],
            [
             0.3333333333333333,
             "#9c179e"
            ],
            [
             0.4444444444444444,
             "#bd3786"
            ],
            [
             0.5555555555555556,
             "#d8576b"
            ],
            [
             0.6666666666666666,
             "#ed7953"
            ],
            [
             0.7777777777777778,
             "#fb9f3a"
            ],
            [
             0.8888888888888888,
             "#fdca26"
            ],
            [
             1,
             "#f0f921"
            ]
           ]
          },
          "colorway": [
           "#636efa",
           "#EF553B",
           "#00cc96",
           "#ab63fa",
           "#FFA15A",
           "#19d3f3",
           "#FF6692",
           "#B6E880",
           "#FF97FF",
           "#FECB52"
          ],
          "font": {
           "color": "#2a3f5f"
          },
          "geo": {
           "bgcolor": "white",
           "lakecolor": "white",
           "landcolor": "#E5ECF6",
           "showlakes": true,
           "showland": true,
           "subunitcolor": "white"
          },
          "hoverlabel": {
           "align": "left"
          },
          "hovermode": "closest",
          "mapbox": {
           "style": "light"
          },
          "paper_bgcolor": "white",
          "plot_bgcolor": "#E5ECF6",
          "polar": {
           "angularaxis": {
            "gridcolor": "white",
            "linecolor": "white",
            "ticks": ""
           },
           "bgcolor": "#E5ECF6",
           "radialaxis": {
            "gridcolor": "white",
            "linecolor": "white",
            "ticks": ""
           }
          },
          "scene": {
           "xaxis": {
            "backgroundcolor": "#E5ECF6",
            "gridcolor": "white",
            "gridwidth": 2,
            "linecolor": "white",
            "showbackground": true,
            "ticks": "",
            "zerolinecolor": "white"
           },
           "yaxis": {
            "backgroundcolor": "#E5ECF6",
            "gridcolor": "white",
            "gridwidth": 2,
            "linecolor": "white",
            "showbackground": true,
            "ticks": "",
            "zerolinecolor": "white"
           },
           "zaxis": {
            "backgroundcolor": "#E5ECF6",
            "gridcolor": "white",
            "gridwidth": 2,
            "linecolor": "white",
            "showbackground": true,
            "ticks": "",
            "zerolinecolor": "white"
           }
          },
          "shapedefaults": {
           "line": {
            "color": "#2a3f5f"
           }
          },
          "ternary": {
           "aaxis": {
            "gridcolor": "white",
            "linecolor": "white",
            "ticks": ""
           },
           "baxis": {
            "gridcolor": "white",
            "linecolor": "white",
            "ticks": ""
           },
           "bgcolor": "#E5ECF6",
           "caxis": {
            "gridcolor": "white",
            "linecolor": "white",
            "ticks": ""
           }
          },
          "title": {
           "x": 0.05
          },
          "xaxis": {
           "automargin": true,
           "gridcolor": "white",
           "linecolor": "white",
           "ticks": "",
           "title": {
            "standoff": 15
           },
           "zerolinecolor": "white",
           "zerolinewidth": 2
          },
          "yaxis": {
           "automargin": true,
           "gridcolor": "white",
           "linecolor": "white",
           "ticks": "",
           "title": {
            "standoff": 15
           },
           "zerolinecolor": "white",
           "zerolinewidth": 2
          }
         }
        }
       }
      },
      "text/html": [
       "<div>                            <div id=\"bf40f9c2-1ab1-4c2b-bbd7-16a0cd1ca47f\" class=\"plotly-graph-div\" style=\"height:525px; width:100%;\"></div>            <script type=\"text/javascript\">                require([\"plotly\"], function(Plotly) {                    window.PLOTLYENV=window.PLOTLYENV || {};                                    if (document.getElementById(\"bf40f9c2-1ab1-4c2b-bbd7-16a0cd1ca47f\")) {                    Plotly.newPlot(                        \"bf40f9c2-1ab1-4c2b-bbd7-16a0cd1ca47f\",                        [{\"colorbar\":{\"title\":{\"text\":\"Colorbar Title\"}},\"colorscale\":[[0.0,\"rgb(12,51,131)\"],[0.25,\"rgb(10,136,186)\"],[0.5,\"rgb(242,211,56)\"],[0.75,\"rgb(242,143,56)\"],[1.0,\"rgb(217,30,30)\"]],\"locationmode\":\"USA-states\",\"locations\":[\"AZ\",\"CA\",\"NY\"],\"text\":[\"text1\",\"text2\",\"text3\"],\"type\":\"choropleth\",\"z\":[1.0,2.0,3.0]}],                        {\"geo\":{\"scope\":\"usa\"},\"template\":{\"data\":{\"bar\":[{\"error_x\":{\"color\":\"#2a3f5f\"},\"error_y\":{\"color\":\"#2a3f5f\"},\"marker\":{\"line\":{\"color\":\"#E5ECF6\",\"width\":0.5},\"pattern\":{\"fillmode\":\"overlay\",\"size\":10,\"solidity\":0.2}},\"type\":\"bar\"}],\"barpolar\":[{\"marker\":{\"line\":{\"color\":\"#E5ECF6\",\"width\":0.5},\"pattern\":{\"fillmode\":\"overlay\",\"size\":10,\"solidity\":0.2}},\"type\":\"barpolar\"}],\"carpet\":[{\"aaxis\":{\"endlinecolor\":\"#2a3f5f\",\"gridcolor\":\"white\",\"linecolor\":\"white\",\"minorgridcolor\":\"white\",\"startlinecolor\":\"#2a3f5f\"},\"baxis\":{\"endlinecolor\":\"#2a3f5f\",\"gridcolor\":\"white\",\"linecolor\":\"white\",\"minorgridcolor\":\"white\",\"startlinecolor\":\"#2a3f5f\"},\"type\":\"carpet\"}],\"choropleth\":[{\"colorbar\":{\"outlinewidth\":0,\"ticks\":\"\"},\"type\":\"choropleth\"}],\"contour\":[{\"colorbar\":{\"outlinewidth\":0,\"ticks\":\"\"},\"colorscale\":[[0.0,\"#0d0887\"],[0.1111111111111111,\"#46039f\"],[0.2222222222222222,\"#7201a8\"],[0.3333333333333333,\"#9c179e\"],[0.4444444444444444,\"#bd3786\"],[0.5555555555555556,\"#d8576b\"],[0.6666666666666666,\"#ed7953\"],[0.7777777777777778,\"#fb9f3a\"],[0.8888888888888888,\"#fdca26\"],[1.0,\"#f0f921\"]],\"type\":\"contour\"}],\"contourcarpet\":[{\"colorbar\":{\"outlinewidth\":0,\"ticks\":\"\"},\"type\":\"contourcarpet\"}],\"heatmap\":[{\"colorbar\":{\"outlinewidth\":0,\"ticks\":\"\"},\"colorscale\":[[0.0,\"#0d0887\"],[0.1111111111111111,\"#46039f\"],[0.2222222222222222,\"#7201a8\"],[0.3333333333333333,\"#9c179e\"],[0.4444444444444444,\"#bd3786\"],[0.5555555555555556,\"#d8576b\"],[0.6666666666666666,\"#ed7953\"],[0.7777777777777778,\"#fb9f3a\"],[0.8888888888888888,\"#fdca26\"],[1.0,\"#f0f921\"]],\"type\":\"heatmap\"}],\"heatmapgl\":[{\"colorbar\":{\"outlinewidth\":0,\"ticks\":\"\"},\"colorscale\":[[0.0,\"#0d0887\"],[0.1111111111111111,\"#46039f\"],[0.2222222222222222,\"#7201a8\"],[0.3333333333333333,\"#9c179e\"],[0.4444444444444444,\"#bd3786\"],[0.5555555555555556,\"#d8576b\"],[0.6666666666666666,\"#ed7953\"],[0.7777777777777778,\"#fb9f3a\"],[0.8888888888888888,\"#fdca26\"],[1.0,\"#f0f921\"]],\"type\":\"heatmapgl\"}],\"histogram\":[{\"marker\":{\"pattern\":{\"fillmode\":\"overlay\",\"size\":10,\"solidity\":0.2}},\"type\":\"histogram\"}],\"histogram2d\":[{\"colorbar\":{\"outlinewidth\":0,\"ticks\":\"\"},\"colorscale\":[[0.0,\"#0d0887\"],[0.1111111111111111,\"#46039f\"],[0.2222222222222222,\"#7201a8\"],[0.3333333333333333,\"#9c179e\"],[0.4444444444444444,\"#bd3786\"],[0.5555555555555556,\"#d8576b\"],[0.6666666666666666,\"#ed7953\"],[0.7777777777777778,\"#fb9f3a\"],[0.8888888888888888,\"#fdca26\"],[1.0,\"#f0f921\"]],\"type\":\"histogram2d\"}],\"histogram2dcontour\":[{\"colorbar\":{\"outlinewidth\":0,\"ticks\":\"\"},\"colorscale\":[[0.0,\"#0d0887\"],[0.1111111111111111,\"#46039f\"],[0.2222222222222222,\"#7201a8\"],[0.3333333333333333,\"#9c179e\"],[0.4444444444444444,\"#bd3786\"],[0.5555555555555556,\"#d8576b\"],[0.6666666666666666,\"#ed7953\"],[0.7777777777777778,\"#fb9f3a\"],[0.8888888888888888,\"#fdca26\"],[1.0,\"#f0f921\"]],\"type\":\"histogram2dcontour\"}],\"mesh3d\":[{\"colorbar\":{\"outlinewidth\":0,\"ticks\":\"\"},\"type\":\"mesh3d\"}],\"parcoords\":[{\"line\":{\"colorbar\":{\"outlinewidth\":0,\"ticks\":\"\"}},\"type\":\"parcoords\"}],\"pie\":[{\"automargin\":true,\"type\":\"pie\"}],\"scatter\":[{\"marker\":{\"colorbar\":{\"outlinewidth\":0,\"ticks\":\"\"}},\"type\":\"scatter\"}],\"scatter3d\":[{\"line\":{\"colorbar\":{\"outlinewidth\":0,\"ticks\":\"\"}},\"marker\":{\"colorbar\":{\"outlinewidth\":0,\"ticks\":\"\"}},\"type\":\"scatter3d\"}],\"scattercarpet\":[{\"marker\":{\"colorbar\":{\"outlinewidth\":0,\"ticks\":\"\"}},\"type\":\"scattercarpet\"}],\"scattergeo\":[{\"marker\":{\"colorbar\":{\"outlinewidth\":0,\"ticks\":\"\"}},\"type\":\"scattergeo\"}],\"scattergl\":[{\"marker\":{\"colorbar\":{\"outlinewidth\":0,\"ticks\":\"\"}},\"type\":\"scattergl\"}],\"scattermapbox\":[{\"marker\":{\"colorbar\":{\"outlinewidth\":0,\"ticks\":\"\"}},\"type\":\"scattermapbox\"}],\"scatterpolar\":[{\"marker\":{\"colorbar\":{\"outlinewidth\":0,\"ticks\":\"\"}},\"type\":\"scatterpolar\"}],\"scatterpolargl\":[{\"marker\":{\"colorbar\":{\"outlinewidth\":0,\"ticks\":\"\"}},\"type\":\"scatterpolargl\"}],\"scatterternary\":[{\"marker\":{\"colorbar\":{\"outlinewidth\":0,\"ticks\":\"\"}},\"type\":\"scatterternary\"}],\"surface\":[{\"colorbar\":{\"outlinewidth\":0,\"ticks\":\"\"},\"colorscale\":[[0.0,\"#0d0887\"],[0.1111111111111111,\"#46039f\"],[0.2222222222222222,\"#7201a8\"],[0.3333333333333333,\"#9c179e\"],[0.4444444444444444,\"#bd3786\"],[0.5555555555555556,\"#d8576b\"],[0.6666666666666666,\"#ed7953\"],[0.7777777777777778,\"#fb9f3a\"],[0.8888888888888888,\"#fdca26\"],[1.0,\"#f0f921\"]],\"type\":\"surface\"}],\"table\":[{\"cells\":{\"fill\":{\"color\":\"#EBF0F8\"},\"line\":{\"color\":\"white\"}},\"header\":{\"fill\":{\"color\":\"#C8D4E3\"},\"line\":{\"color\":\"white\"}},\"type\":\"table\"}]},\"layout\":{\"annotationdefaults\":{\"arrowcolor\":\"#2a3f5f\",\"arrowhead\":0,\"arrowwidth\":1},\"autotypenumbers\":\"strict\",\"coloraxis\":{\"colorbar\":{\"outlinewidth\":0,\"ticks\":\"\"}},\"colorscale\":{\"diverging\":[[0,\"#8e0152\"],[0.1,\"#c51b7d\"],[0.2,\"#de77ae\"],[0.3,\"#f1b6da\"],[0.4,\"#fde0ef\"],[0.5,\"#f7f7f7\"],[0.6,\"#e6f5d0\"],[0.7,\"#b8e186\"],[0.8,\"#7fbc41\"],[0.9,\"#4d9221\"],[1,\"#276419\"]],\"sequential\":[[0.0,\"#0d0887\"],[0.1111111111111111,\"#46039f\"],[0.2222222222222222,\"#7201a8\"],[0.3333333333333333,\"#9c179e\"],[0.4444444444444444,\"#bd3786\"],[0.5555555555555556,\"#d8576b\"],[0.6666666666666666,\"#ed7953\"],[0.7777777777777778,\"#fb9f3a\"],[0.8888888888888888,\"#fdca26\"],[1.0,\"#f0f921\"]],\"sequentialminus\":[[0.0,\"#0d0887\"],[0.1111111111111111,\"#46039f\"],[0.2222222222222222,\"#7201a8\"],[0.3333333333333333,\"#9c179e\"],[0.4444444444444444,\"#bd3786\"],[0.5555555555555556,\"#d8576b\"],[0.6666666666666666,\"#ed7953\"],[0.7777777777777778,\"#fb9f3a\"],[0.8888888888888888,\"#fdca26\"],[1.0,\"#f0f921\"]]},\"colorway\":[\"#636efa\",\"#EF553B\",\"#00cc96\",\"#ab63fa\",\"#FFA15A\",\"#19d3f3\",\"#FF6692\",\"#B6E880\",\"#FF97FF\",\"#FECB52\"],\"font\":{\"color\":\"#2a3f5f\"},\"geo\":{\"bgcolor\":\"white\",\"lakecolor\":\"white\",\"landcolor\":\"#E5ECF6\",\"showlakes\":true,\"showland\":true,\"subunitcolor\":\"white\"},\"hoverlabel\":{\"align\":\"left\"},\"hovermode\":\"closest\",\"mapbox\":{\"style\":\"light\"},\"paper_bgcolor\":\"white\",\"plot_bgcolor\":\"#E5ECF6\",\"polar\":{\"angularaxis\":{\"gridcolor\":\"white\",\"linecolor\":\"white\",\"ticks\":\"\"},\"bgcolor\":\"#E5ECF6\",\"radialaxis\":{\"gridcolor\":\"white\",\"linecolor\":\"white\",\"ticks\":\"\"}},\"scene\":{\"xaxis\":{\"backgroundcolor\":\"#E5ECF6\",\"gridcolor\":\"white\",\"gridwidth\":2,\"linecolor\":\"white\",\"showbackground\":true,\"ticks\":\"\",\"zerolinecolor\":\"white\"},\"yaxis\":{\"backgroundcolor\":\"#E5ECF6\",\"gridcolor\":\"white\",\"gridwidth\":2,\"linecolor\":\"white\",\"showbackground\":true,\"ticks\":\"\",\"zerolinecolor\":\"white\"},\"zaxis\":{\"backgroundcolor\":\"#E5ECF6\",\"gridcolor\":\"white\",\"gridwidth\":2,\"linecolor\":\"white\",\"showbackground\":true,\"ticks\":\"\",\"zerolinecolor\":\"white\"}},\"shapedefaults\":{\"line\":{\"color\":\"#2a3f5f\"}},\"ternary\":{\"aaxis\":{\"gridcolor\":\"white\",\"linecolor\":\"white\",\"ticks\":\"\"},\"baxis\":{\"gridcolor\":\"white\",\"linecolor\":\"white\",\"ticks\":\"\"},\"bgcolor\":\"#E5ECF6\",\"caxis\":{\"gridcolor\":\"white\",\"linecolor\":\"white\",\"ticks\":\"\"}},\"title\":{\"x\":0.05},\"xaxis\":{\"automargin\":true,\"gridcolor\":\"white\",\"linecolor\":\"white\",\"ticks\":\"\",\"title\":{\"standoff\":15},\"zerolinecolor\":\"white\",\"zerolinewidth\":2},\"yaxis\":{\"automargin\":true,\"gridcolor\":\"white\",\"linecolor\":\"white\",\"ticks\":\"\",\"title\":{\"standoff\":15},\"zerolinecolor\":\"white\",\"zerolinewidth\":2}}}},                        {\"responsive\": true}                    ).then(function(){\n",
       "                            \n",
       "var gd = document.getElementById('bf40f9c2-1ab1-4c2b-bbd7-16a0cd1ca47f');\n",
       "var x = new MutationObserver(function (mutations, observer) {{\n",
       "        var display = window.getComputedStyle(gd).display;\n",
       "        if (!display || display === 'none') {{\n",
       "            console.log([gd, 'removed!']);\n",
       "            Plotly.purge(gd);\n",
       "            observer.disconnect();\n",
       "        }}\n",
       "}});\n",
       "\n",
       "// Listen for the removal of the full notebook cells\n",
       "var notebookContainer = gd.closest('#notebook-container');\n",
       "if (notebookContainer) {{\n",
       "    x.observe(notebookContainer, {childList: true});\n",
       "}}\n",
       "\n",
       "// Listen for the clearing of the current output cell\n",
       "var outputEl = gd.closest('.output');\n",
       "if (outputEl) {{\n",
       "    x.observe(outputEl, {childList: true});\n",
       "}}\n",
       "\n",
       "                        })                };                });            </script>        </div>"
      ]
     },
     "metadata": {},
     "output_type": "display_data"
    }
   ],
   "source": [
    "choromap = go.Figure(data = [data],layout = layout)\n",
    "iplot(choromap)"
   ]
  },
  {
   "cell_type": "markdown",
   "metadata": {},
   "source": [
    "###### Another Example with real data (Remember to Create 2 variable Data variable and Layout Variable)"
   ]
  },
  {
   "cell_type": "code",
   "execution_count": 24,
   "metadata": {},
   "outputs": [
    {
     "data": {
      "text/html": [
       "<div>\n",
       "<style scoped>\n",
       "    .dataframe tbody tr th:only-of-type {\n",
       "        vertical-align: middle;\n",
       "    }\n",
       "\n",
       "    .dataframe tbody tr th {\n",
       "        vertical-align: top;\n",
       "    }\n",
       "\n",
       "    .dataframe thead th {\n",
       "        text-align: right;\n",
       "    }\n",
       "</style>\n",
       "<table border=\"1\" class=\"dataframe\">\n",
       "  <thead>\n",
       "    <tr style=\"text-align: right;\">\n",
       "      <th></th>\n",
       "      <th>code</th>\n",
       "      <th>state</th>\n",
       "      <th>category</th>\n",
       "      <th>total exports</th>\n",
       "      <th>beef</th>\n",
       "      <th>pork</th>\n",
       "      <th>poultry</th>\n",
       "      <th>dairy</th>\n",
       "      <th>fruits fresh</th>\n",
       "      <th>fruits proc</th>\n",
       "      <th>total fruits</th>\n",
       "      <th>veggies fresh</th>\n",
       "      <th>veggies proc</th>\n",
       "      <th>total veggies</th>\n",
       "      <th>corn</th>\n",
       "      <th>wheat</th>\n",
       "      <th>cotton</th>\n",
       "      <th>text</th>\n",
       "    </tr>\n",
       "  </thead>\n",
       "  <tbody>\n",
       "    <tr>\n",
       "      <th>0</th>\n",
       "      <td>AL</td>\n",
       "      <td>Alabama</td>\n",
       "      <td>state</td>\n",
       "      <td>1390.63</td>\n",
       "      <td>34.4</td>\n",
       "      <td>10.6</td>\n",
       "      <td>481.0</td>\n",
       "      <td>4.06</td>\n",
       "      <td>8.0</td>\n",
       "      <td>17.1</td>\n",
       "      <td>25.11</td>\n",
       "      <td>5.5</td>\n",
       "      <td>8.9</td>\n",
       "      <td>14.33</td>\n",
       "      <td>34.9</td>\n",
       "      <td>70.0</td>\n",
       "      <td>317.61</td>\n",
       "      <td>Alabama&lt;br&gt;Beef 34.4 Dairy 4.06&lt;br&gt;Fruits 25.1...</td>\n",
       "    </tr>\n",
       "    <tr>\n",
       "      <th>1</th>\n",
       "      <td>AK</td>\n",
       "      <td>Alaska</td>\n",
       "      <td>state</td>\n",
       "      <td>13.31</td>\n",
       "      <td>0.2</td>\n",
       "      <td>0.1</td>\n",
       "      <td>0.0</td>\n",
       "      <td>0.19</td>\n",
       "      <td>0.0</td>\n",
       "      <td>0.0</td>\n",
       "      <td>0.00</td>\n",
       "      <td>0.6</td>\n",
       "      <td>1.0</td>\n",
       "      <td>1.56</td>\n",
       "      <td>0.0</td>\n",
       "      <td>0.0</td>\n",
       "      <td>0.00</td>\n",
       "      <td>Alaska&lt;br&gt;Beef 0.2 Dairy 0.19&lt;br&gt;Fruits 0.0 Ve...</td>\n",
       "    </tr>\n",
       "    <tr>\n",
       "      <th>2</th>\n",
       "      <td>AZ</td>\n",
       "      <td>Arizona</td>\n",
       "      <td>state</td>\n",
       "      <td>1463.17</td>\n",
       "      <td>71.3</td>\n",
       "      <td>17.9</td>\n",
       "      <td>0.0</td>\n",
       "      <td>105.48</td>\n",
       "      <td>19.3</td>\n",
       "      <td>41.0</td>\n",
       "      <td>60.27</td>\n",
       "      <td>147.5</td>\n",
       "      <td>239.4</td>\n",
       "      <td>386.91</td>\n",
       "      <td>7.3</td>\n",
       "      <td>48.7</td>\n",
       "      <td>423.95</td>\n",
       "      <td>Arizona&lt;br&gt;Beef 71.3 Dairy 105.48&lt;br&gt;Fruits 60...</td>\n",
       "    </tr>\n",
       "    <tr>\n",
       "      <th>3</th>\n",
       "      <td>AR</td>\n",
       "      <td>Arkansas</td>\n",
       "      <td>state</td>\n",
       "      <td>3586.02</td>\n",
       "      <td>53.2</td>\n",
       "      <td>29.4</td>\n",
       "      <td>562.9</td>\n",
       "      <td>3.53</td>\n",
       "      <td>2.2</td>\n",
       "      <td>4.7</td>\n",
       "      <td>6.88</td>\n",
       "      <td>4.4</td>\n",
       "      <td>7.1</td>\n",
       "      <td>11.45</td>\n",
       "      <td>69.5</td>\n",
       "      <td>114.5</td>\n",
       "      <td>665.44</td>\n",
       "      <td>Arkansas&lt;br&gt;Beef 53.2 Dairy 3.53&lt;br&gt;Fruits 6.8...</td>\n",
       "    </tr>\n",
       "    <tr>\n",
       "      <th>4</th>\n",
       "      <td>CA</td>\n",
       "      <td>California</td>\n",
       "      <td>state</td>\n",
       "      <td>16472.88</td>\n",
       "      <td>228.7</td>\n",
       "      <td>11.1</td>\n",
       "      <td>225.4</td>\n",
       "      <td>929.95</td>\n",
       "      <td>2791.8</td>\n",
       "      <td>5944.6</td>\n",
       "      <td>8736.40</td>\n",
       "      <td>803.2</td>\n",
       "      <td>1303.5</td>\n",
       "      <td>2106.79</td>\n",
       "      <td>34.6</td>\n",
       "      <td>249.3</td>\n",
       "      <td>1064.95</td>\n",
       "      <td>California&lt;br&gt;Beef 228.7 Dairy 929.95&lt;br&gt;Frui...</td>\n",
       "    </tr>\n",
       "  </tbody>\n",
       "</table>\n",
       "</div>"
      ],
      "text/plain": [
       "  code        state category  total exports   beef  pork  poultry   dairy  \\\n",
       "0   AL      Alabama    state        1390.63   34.4  10.6    481.0    4.06   \n",
       "1   AK       Alaska    state          13.31    0.2   0.1      0.0    0.19   \n",
       "2   AZ      Arizona    state        1463.17   71.3  17.9      0.0  105.48   \n",
       "3   AR     Arkansas    state        3586.02   53.2  29.4    562.9    3.53   \n",
       "4   CA   California    state       16472.88  228.7  11.1    225.4  929.95   \n",
       "\n",
       "   fruits fresh  fruits proc  total fruits  veggies fresh  veggies proc  \\\n",
       "0           8.0         17.1         25.11            5.5           8.9   \n",
       "1           0.0          0.0          0.00            0.6           1.0   \n",
       "2          19.3         41.0         60.27          147.5         239.4   \n",
       "3           2.2          4.7          6.88            4.4           7.1   \n",
       "4        2791.8       5944.6       8736.40          803.2        1303.5   \n",
       "\n",
       "   total veggies  corn  wheat   cotton  \\\n",
       "0          14.33  34.9   70.0   317.61   \n",
       "1           1.56   0.0    0.0     0.00   \n",
       "2         386.91   7.3   48.7   423.95   \n",
       "3          11.45  69.5  114.5   665.44   \n",
       "4        2106.79  34.6  249.3  1064.95   \n",
       "\n",
       "                                                text  \n",
       "0  Alabama<br>Beef 34.4 Dairy 4.06<br>Fruits 25.1...  \n",
       "1  Alaska<br>Beef 0.2 Dairy 0.19<br>Fruits 0.0 Ve...  \n",
       "2  Arizona<br>Beef 71.3 Dairy 105.48<br>Fruits 60...  \n",
       "3  Arkansas<br>Beef 53.2 Dairy 3.53<br>Fruits 6.8...  \n",
       "4   California<br>Beef 228.7 Dairy 929.95<br>Frui...  "
      ]
     },
     "execution_count": 24,
     "metadata": {},
     "output_type": "execute_result"
    }
   ],
   "source": [
    "df = pd.read_csv('07 Visualization (Plotly and Cufflinks) 2011_US_AGRI_Exports.csv')\n",
    "df.head()"
   ]
  },
  {
   "cell_type": "code",
   "execution_count": 25,
   "metadata": {},
   "outputs": [],
   "source": [
    "data = dict(type='choropleth',\n",
    "            #colorscale = 'YIOrRd',\n",
    "            locations = df['code'],\n",
    "            z = df['total exports'],\n",
    "            locationmode = 'USA-states',\n",
    "            text = df['text'],\n",
    "            marker = dict(line = dict(color = 'rgb(255,255,255)',width = 2)),\n",
    "            colorbar = {'title':\"Millions USD\"}\n",
    "            ) "
   ]
  },
  {
   "cell_type": "code",
   "execution_count": 26,
   "metadata": {},
   "outputs": [],
   "source": [
    "layout = dict(title = '2011 US Agriculture Exports by State', \n",
    "              geo = dict(scope='usa', \n",
    "                         showlakes = True, \n",
    "                         lakecolor = 'rgb(85,173,240)'))"
   ]
  },
  {
   "cell_type": "code",
   "execution_count": 27,
   "metadata": {},
   "outputs": [
    {
     "data": {
      "application/vnd.plotly.v1+json": {
       "config": {
        "linkText": "Export to plot.ly",
        "plotlyServerURL": "https://plot.ly",
        "showLink": false
       },
       "data": [
        {
         "colorbar": {
          "title": {
           "text": "Millions USD"
          }
         },
         "locationmode": "USA-states",
         "locations": [
          "AL",
          "AK",
          "AZ",
          "AR",
          "CA",
          "CO",
          "CT",
          "DE",
          "FL",
          "GA",
          "HI",
          "ID",
          "IL",
          "IN",
          "IA",
          "KS",
          "KY",
          "LA",
          "ME",
          "MD",
          "MA",
          "MI",
          "MN",
          "MS",
          "MO",
          "MT",
          "NE",
          "NV",
          "NH",
          "NJ",
          "NM",
          "NY",
          "NC",
          "ND",
          "OH",
          "OK",
          "OR",
          "PA",
          "RI",
          "SC",
          "SD",
          "TN",
          "TX",
          "UT",
          "VT",
          "VA",
          "WA",
          "WV",
          "WI",
          "WY"
         ],
         "marker": {
          "line": {
           "color": "rgb(255,255,255)",
           "width": 2
          }
         },
         "text": [
          "Alabama<br>Beef 34.4 Dairy 4.06<br>Fruits 25.11 Veggies 14.33<br>Wheat 70.0 Corn 34.9",
          "Alaska<br>Beef 0.2 Dairy 0.19<br>Fruits 0.0 Veggies 1.56<br>Wheat 0.0 Corn 0.0",
          "Arizona<br>Beef 71.3 Dairy 105.48<br>Fruits 60.27 Veggies 386.91<br>Wheat 48.7 Corn 7.3",
          "Arkansas<br>Beef 53.2 Dairy 3.53<br>Fruits 6.88 Veggies 11.45<br>Wheat 114.5 Corn 69.5",
          " California<br>Beef 228.7 Dairy 929.95<br>Fruits 8736.4 Veggies 2106.79<br>Wheat 249.3 Corn 34.6",
          "Colorado<br>Beef 261.4 Dairy 71.94<br>Fruits 17.99 Veggies 118.27<br>Wheat 400.5 Corn 183.2",
          "Connecticut<br>Beef 1.1 Dairy 9.49<br>Fruits 13.1 Veggies 11.16<br>Wheat 0.0 Corn 0.0",
          "Delaware<br>Beef 0.4 Dairy 2.3<br>Fruits 1.53 Veggies 20.03<br>Wheat 22.9 Corn 26.9",
          "Florida<br>Beef 42.6 Dairy 66.31<br>Fruits 1371.36 Veggies 450.86<br>Wheat 1.8 Corn 3.5",
          "Georgia<br>Beef 31.0 Dairy 38.38<br>Fruits 233.51 Veggies 154.77<br>Wheat 65.4 Corn 57.8",
          "Hawaii<br>Beef 4.0 Dairy 1.16<br>Fruits 55.51 Veggies 24.83<br>Wheat 0.0 Corn 0.0",
          "Idaho<br>Beef 119.8 Dairy 294.6<br>Fruits 21.64 Veggies 319.19<br>Wheat 568.2 Corn 24.0",
          "Illinois<br>Beef 53.7 Dairy 45.82<br>Fruits 12.53 Veggies 39.95<br>Wheat 223.8 Corn 2228.5",
          "Indiana<br>Beef 21.9 Dairy 89.7<br>Fruits 12.98 Veggies 37.89<br>Wheat 114.0 Corn 1123.2",
          "Iowa<br>Beef 289.8 Dairy 107.0<br>Fruits 3.24 Veggies 7.1<br>Wheat 3.1 Corn 2529.8",
          "Kansas<br>Beef 659.3 Dairy 65.45<br>Fruits 3.11 Veggies 9.32<br>Wheat 1426.5 Corn 457.3",
          "Kentucky<br>Beef 54.8 Dairy 28.27<br>Fruits 6.6 Veggies 0.0<br>Wheat 149.3 Corn 179.1",
          "Louisiana<br>Beef 19.8 Dairy 6.02<br>Fruits 17.83 Veggies 17.25<br>Wheat 78.7 Corn 91.4",
          "Maine<br>Beef 1.4 Dairy 16.18<br>Fruits 52.01 Veggies 62.9<br>Wheat 0.0 Corn 0.0",
          "Maryland<br>Beef 5.6 Dairy 24.81<br>Fruits 12.9 Veggies 20.43<br>Wheat 55.8 Corn 54.1",
          "Massachusetts<br>Beef 0.6 Dairy 5.81<br>Fruits 80.83 Veggies 21.13<br>Wheat 0.0 Corn 0.0",
          "Michigan<br>Beef 37.7 Dairy 214.82<br>Fruits 257.69 Veggies 189.96<br>Wheat 247.0 Corn 381.5",
          "Minnesota<br>Beef 112.3 Dairy 218.05<br>Fruits 7.91 Veggies 120.37<br>Wheat 538.1 Corn 1264.3",
          "Mississippi<br>Beef 12.8 Dairy 5.45<br>Fruits 17.04 Veggies 27.87<br>Wheat 102.2 Corn 110.0",
          "Missouri<br>Beef 137.2 Dairy 34.26<br>Fruits 13.18 Veggies 17.9<br>Wheat 161.7 Corn 428.8",
          "Montana<br>Beef 105.0 Dairy 6.82<br>Fruits 3.3 Veggies 45.27<br>Wheat 1198.1 Corn 5.4",
          "Nebraska<br>Beef 762.2 Dairy 30.07<br>Fruits 2.16 Veggies 53.5<br>Wheat 292.3 Corn 1735.9",
          "Nevada<br>Beef 21.8 Dairy 16.57<br>Fruits 1.19 Veggies 27.93<br>Wheat 5.4 Corn 0.0",
          "New Hampshire<br>Beef 0.6 Dairy 7.46<br>Fruits 7.98 Veggies 4.5<br>Wheat 0.0 Corn 0.0",
          "New Jersey<br>Beef 0.8 Dairy 3.37<br>Fruits 109.45 Veggies 56.54<br>Wheat 6.7 Corn 10.1",
          "New Mexico<br>Beef 117.2 Dairy 191.01<br>Fruits 101.9 Veggies 43.88<br>Wheat 13.9 Corn 11.2",
          "New York<br>Beef 22.2 Dairy 331.8<br>Fruits 202.56 Veggies 143.37<br>Wheat 29.9 Corn 106.1",
          "North Carolina<br>Beef 24.8 Dairy 24.9<br>Fruits 74.47 Veggies 150.45<br>Wheat 200.3 Corn 92.2",
          "North Dakota<br>Beef 78.5 Dairy 8.14<br>Fruits 0.25 Veggies 130.79<br>Wheat 1664.5 Corn 236.1",
          "Ohio<br>Beef 36.2 Dairy 134.57<br>Fruits 27.21 Veggies 53.53<br>Wheat 207.4 Corn 535.1",
          "Oklahoma<br>Beef 337.6 Dairy 24.35<br>Fruits 9.24 Veggies 8.9<br>Wheat 324.8 Corn 27.5",
          "Oregon<br>Beef 58.8 Dairy 63.66<br>Fruits 315.04 Veggies 126.5<br>Wheat 320.3 Corn 11.7",
          "Pennsylvania<br>Beef 50.9 Dairy 280.87<br>Fruits 89.48 Veggies 38.26<br>Wheat 41.0 Corn 112.1",
          "Rhode Island<br>Beef 0.1 Dairy 0.52<br>Fruits 2.83 Veggies 3.02<br>Wheat 0.0 Corn 0.0",
          "South Carolina<br>Beef 15.2 Dairy 7.62<br>Fruits 53.45 Veggies 42.66<br>Wheat 55.3 Corn 32.1",
          "South Dakota<br>Beef 193.5 Dairy 46.77<br>Fruits 0.8 Veggies 4.06<br>Wheat 704.5 Corn 643.6",
          "Tennessee<br>Beef 51.1 Dairy 21.18<br>Fruits 6.23 Veggies 24.67<br>Wheat 100.0 Corn 88.8",
          "Texas<br>Beef 961.0 Dairy 240.55<br>Fruits 99.9 Veggies 115.23<br>Wheat 309.7 Corn 167.2",
          "Utah<br>Beef 27.9 Dairy 48.6<br>Fruits 12.34 Veggies 6.6<br>Wheat 42.8 Corn 5.3",
          "Vermont<br>Beef 6.2 Dairy 65.98<br>Fruits 8.01 Veggies 4.05<br>Wheat 0.0 Corn 0.0",
          "Virginia<br>Beef 39.5 Dairy 47.85<br>Fruits 36.48 Veggies 27.25<br>Wheat 77.5 Corn 39.5",
          "Washington<br>Beef 59.2 Dairy 154.18<br>Fruits 1738.57 Veggies 363.79<br>Wheat 786.3 Corn 29.5",
          "West Virginia<br>Beef 12.0 Dairy 3.9<br>Fruits 11.54 Veggies 0.0<br>Wheat 1.6 Corn 3.5",
          "Wisconsin<br>Beef 107.3 Dairy 633.6<br>Fruits 133.8 Veggies 148.99<br>Wheat 96.7 Corn 460.5",
          "Wyoming<br>Beef 75.1 Dairy 2.89<br>Fruits 0.17 Veggies 10.23<br>Wheat 20.7 Corn 9.0"
         ],
         "type": "choropleth",
         "z": [
          1390.63,
          13.31,
          1463.17,
          3586.02,
          16472.88,
          1851.33,
          259.62,
          282.19,
          3764.09,
          2860.84,
          401.84,
          2078.89,
          8709.48,
          5050.23,
          11273.76,
          4589.01,
          1889.15,
          1914.23,
          278.37,
          692.75,
          248.65,
          3164.16,
          7192.33,
          2170.8,
          3933.42,
          1718,
          7114.13,
          139.89,
          73.06,
          500.4,
          751.58,
          1488.9,
          3806.05,
          3761.96,
          3979.79,
          1646.41,
          1794.57,
          1969.87,
          31.59,
          929.93,
          3770.19,
          1535.13,
          6648.22,
          453.39,
          180.14,
          1146.48,
          3894.81,
          138.89,
          3090.23,
          349.69
         ]
        }
       ],
       "layout": {
        "geo": {
         "lakecolor": "rgb(85,173,240)",
         "scope": "usa",
         "showlakes": true
        },
        "template": {
         "data": {
          "bar": [
           {
            "error_x": {
             "color": "#2a3f5f"
            },
            "error_y": {
             "color": "#2a3f5f"
            },
            "marker": {
             "line": {
              "color": "#E5ECF6",
              "width": 0.5
             },
             "pattern": {
              "fillmode": "overlay",
              "size": 10,
              "solidity": 0.2
             }
            },
            "type": "bar"
           }
          ],
          "barpolar": [
           {
            "marker": {
             "line": {
              "color": "#E5ECF6",
              "width": 0.5
             },
             "pattern": {
              "fillmode": "overlay",
              "size": 10,
              "solidity": 0.2
             }
            },
            "type": "barpolar"
           }
          ],
          "carpet": [
           {
            "aaxis": {
             "endlinecolor": "#2a3f5f",
             "gridcolor": "white",
             "linecolor": "white",
             "minorgridcolor": "white",
             "startlinecolor": "#2a3f5f"
            },
            "baxis": {
             "endlinecolor": "#2a3f5f",
             "gridcolor": "white",
             "linecolor": "white",
             "minorgridcolor": "white",
             "startlinecolor": "#2a3f5f"
            },
            "type": "carpet"
           }
          ],
          "choropleth": [
           {
            "colorbar": {
             "outlinewidth": 0,
             "ticks": ""
            },
            "type": "choropleth"
           }
          ],
          "contour": [
           {
            "colorbar": {
             "outlinewidth": 0,
             "ticks": ""
            },
            "colorscale": [
             [
              0,
              "#0d0887"
             ],
             [
              0.1111111111111111,
              "#46039f"
             ],
             [
              0.2222222222222222,
              "#7201a8"
             ],
             [
              0.3333333333333333,
              "#9c179e"
             ],
             [
              0.4444444444444444,
              "#bd3786"
             ],
             [
              0.5555555555555556,
              "#d8576b"
             ],
             [
              0.6666666666666666,
              "#ed7953"
             ],
             [
              0.7777777777777778,
              "#fb9f3a"
             ],
             [
              0.8888888888888888,
              "#fdca26"
             ],
             [
              1,
              "#f0f921"
             ]
            ],
            "type": "contour"
           }
          ],
          "contourcarpet": [
           {
            "colorbar": {
             "outlinewidth": 0,
             "ticks": ""
            },
            "type": "contourcarpet"
           }
          ],
          "heatmap": [
           {
            "colorbar": {
             "outlinewidth": 0,
             "ticks": ""
            },
            "colorscale": [
             [
              0,
              "#0d0887"
             ],
             [
              0.1111111111111111,
              "#46039f"
             ],
             [
              0.2222222222222222,
              "#7201a8"
             ],
             [
              0.3333333333333333,
              "#9c179e"
             ],
             [
              0.4444444444444444,
              "#bd3786"
             ],
             [
              0.5555555555555556,
              "#d8576b"
             ],
             [
              0.6666666666666666,
              "#ed7953"
             ],
             [
              0.7777777777777778,
              "#fb9f3a"
             ],
             [
              0.8888888888888888,
              "#fdca26"
             ],
             [
              1,
              "#f0f921"
             ]
            ],
            "type": "heatmap"
           }
          ],
          "heatmapgl": [
           {
            "colorbar": {
             "outlinewidth": 0,
             "ticks": ""
            },
            "colorscale": [
             [
              0,
              "#0d0887"
             ],
             [
              0.1111111111111111,
              "#46039f"
             ],
             [
              0.2222222222222222,
              "#7201a8"
             ],
             [
              0.3333333333333333,
              "#9c179e"
             ],
             [
              0.4444444444444444,
              "#bd3786"
             ],
             [
              0.5555555555555556,
              "#d8576b"
             ],
             [
              0.6666666666666666,
              "#ed7953"
             ],
             [
              0.7777777777777778,
              "#fb9f3a"
             ],
             [
              0.8888888888888888,
              "#fdca26"
             ],
             [
              1,
              "#f0f921"
             ]
            ],
            "type": "heatmapgl"
           }
          ],
          "histogram": [
           {
            "marker": {
             "pattern": {
              "fillmode": "overlay",
              "size": 10,
              "solidity": 0.2
             }
            },
            "type": "histogram"
           }
          ],
          "histogram2d": [
           {
            "colorbar": {
             "outlinewidth": 0,
             "ticks": ""
            },
            "colorscale": [
             [
              0,
              "#0d0887"
             ],
             [
              0.1111111111111111,
              "#46039f"
             ],
             [
              0.2222222222222222,
              "#7201a8"
             ],
             [
              0.3333333333333333,
              "#9c179e"
             ],
             [
              0.4444444444444444,
              "#bd3786"
             ],
             [
              0.5555555555555556,
              "#d8576b"
             ],
             [
              0.6666666666666666,
              "#ed7953"
             ],
             [
              0.7777777777777778,
              "#fb9f3a"
             ],
             [
              0.8888888888888888,
              "#fdca26"
             ],
             [
              1,
              "#f0f921"
             ]
            ],
            "type": "histogram2d"
           }
          ],
          "histogram2dcontour": [
           {
            "colorbar": {
             "outlinewidth": 0,
             "ticks": ""
            },
            "colorscale": [
             [
              0,
              "#0d0887"
             ],
             [
              0.1111111111111111,
              "#46039f"
             ],
             [
              0.2222222222222222,
              "#7201a8"
             ],
             [
              0.3333333333333333,
              "#9c179e"
             ],
             [
              0.4444444444444444,
              "#bd3786"
             ],
             [
              0.5555555555555556,
              "#d8576b"
             ],
             [
              0.6666666666666666,
              "#ed7953"
             ],
             [
              0.7777777777777778,
              "#fb9f3a"
             ],
             [
              0.8888888888888888,
              "#fdca26"
             ],
             [
              1,
              "#f0f921"
             ]
            ],
            "type": "histogram2dcontour"
           }
          ],
          "mesh3d": [
           {
            "colorbar": {
             "outlinewidth": 0,
             "ticks": ""
            },
            "type": "mesh3d"
           }
          ],
          "parcoords": [
           {
            "line": {
             "colorbar": {
              "outlinewidth": 0,
              "ticks": ""
             }
            },
            "type": "parcoords"
           }
          ],
          "pie": [
           {
            "automargin": true,
            "type": "pie"
           }
          ],
          "scatter": [
           {
            "marker": {
             "colorbar": {
              "outlinewidth": 0,
              "ticks": ""
             }
            },
            "type": "scatter"
           }
          ],
          "scatter3d": [
           {
            "line": {
             "colorbar": {
              "outlinewidth": 0,
              "ticks": ""
             }
            },
            "marker": {
             "colorbar": {
              "outlinewidth": 0,
              "ticks": ""
             }
            },
            "type": "scatter3d"
           }
          ],
          "scattercarpet": [
           {
            "marker": {
             "colorbar": {
              "outlinewidth": 0,
              "ticks": ""
             }
            },
            "type": "scattercarpet"
           }
          ],
          "scattergeo": [
           {
            "marker": {
             "colorbar": {
              "outlinewidth": 0,
              "ticks": ""
             }
            },
            "type": "scattergeo"
           }
          ],
          "scattergl": [
           {
            "marker": {
             "colorbar": {
              "outlinewidth": 0,
              "ticks": ""
             }
            },
            "type": "scattergl"
           }
          ],
          "scattermapbox": [
           {
            "marker": {
             "colorbar": {
              "outlinewidth": 0,
              "ticks": ""
             }
            },
            "type": "scattermapbox"
           }
          ],
          "scatterpolar": [
           {
            "marker": {
             "colorbar": {
              "outlinewidth": 0,
              "ticks": ""
             }
            },
            "type": "scatterpolar"
           }
          ],
          "scatterpolargl": [
           {
            "marker": {
             "colorbar": {
              "outlinewidth": 0,
              "ticks": ""
             }
            },
            "type": "scatterpolargl"
           }
          ],
          "scatterternary": [
           {
            "marker": {
             "colorbar": {
              "outlinewidth": 0,
              "ticks": ""
             }
            },
            "type": "scatterternary"
           }
          ],
          "surface": [
           {
            "colorbar": {
             "outlinewidth": 0,
             "ticks": ""
            },
            "colorscale": [
             [
              0,
              "#0d0887"
             ],
             [
              0.1111111111111111,
              "#46039f"
             ],
             [
              0.2222222222222222,
              "#7201a8"
             ],
             [
              0.3333333333333333,
              "#9c179e"
             ],
             [
              0.4444444444444444,
              "#bd3786"
             ],
             [
              0.5555555555555556,
              "#d8576b"
             ],
             [
              0.6666666666666666,
              "#ed7953"
             ],
             [
              0.7777777777777778,
              "#fb9f3a"
             ],
             [
              0.8888888888888888,
              "#fdca26"
             ],
             [
              1,
              "#f0f921"
             ]
            ],
            "type": "surface"
           }
          ],
          "table": [
           {
            "cells": {
             "fill": {
              "color": "#EBF0F8"
             },
             "line": {
              "color": "white"
             }
            },
            "header": {
             "fill": {
              "color": "#C8D4E3"
             },
             "line": {
              "color": "white"
             }
            },
            "type": "table"
           }
          ]
         },
         "layout": {
          "annotationdefaults": {
           "arrowcolor": "#2a3f5f",
           "arrowhead": 0,
           "arrowwidth": 1
          },
          "autotypenumbers": "strict",
          "coloraxis": {
           "colorbar": {
            "outlinewidth": 0,
            "ticks": ""
           }
          },
          "colorscale": {
           "diverging": [
            [
             0,
             "#8e0152"
            ],
            [
             0.1,
             "#c51b7d"
            ],
            [
             0.2,
             "#de77ae"
            ],
            [
             0.3,
             "#f1b6da"
            ],
            [
             0.4,
             "#fde0ef"
            ],
            [
             0.5,
             "#f7f7f7"
            ],
            [
             0.6,
             "#e6f5d0"
            ],
            [
             0.7,
             "#b8e186"
            ],
            [
             0.8,
             "#7fbc41"
            ],
            [
             0.9,
             "#4d9221"
            ],
            [
             1,
             "#276419"
            ]
           ],
           "sequential": [
            [
             0,
             "#0d0887"
            ],
            [
             0.1111111111111111,
             "#46039f"
            ],
            [
             0.2222222222222222,
             "#7201a8"
            ],
            [
             0.3333333333333333,
             "#9c179e"
            ],
            [
             0.4444444444444444,
             "#bd3786"
            ],
            [
             0.5555555555555556,
             "#d8576b"
            ],
            [
             0.6666666666666666,
             "#ed7953"
            ],
            [
             0.7777777777777778,
             "#fb9f3a"
            ],
            [
             0.8888888888888888,
             "#fdca26"
            ],
            [
             1,
             "#f0f921"
            ]
           ],
           "sequentialminus": [
            [
             0,
             "#0d0887"
            ],
            [
             0.1111111111111111,
             "#46039f"
            ],
            [
             0.2222222222222222,
             "#7201a8"
            ],
            [
             0.3333333333333333,
             "#9c179e"
            ],
            [
             0.4444444444444444,
             "#bd3786"
            ],
            [
             0.5555555555555556,
             "#d8576b"
            ],
            [
             0.6666666666666666,
             "#ed7953"
            ],
            [
             0.7777777777777778,
             "#fb9f3a"
            ],
            [
             0.8888888888888888,
             "#fdca26"
            ],
            [
             1,
             "#f0f921"
            ]
           ]
          },
          "colorway": [
           "#636efa",
           "#EF553B",
           "#00cc96",
           "#ab63fa",
           "#FFA15A",
           "#19d3f3",
           "#FF6692",
           "#B6E880",
           "#FF97FF",
           "#FECB52"
          ],
          "font": {
           "color": "#2a3f5f"
          },
          "geo": {
           "bgcolor": "white",
           "lakecolor": "white",
           "landcolor": "#E5ECF6",
           "showlakes": true,
           "showland": true,
           "subunitcolor": "white"
          },
          "hoverlabel": {
           "align": "left"
          },
          "hovermode": "closest",
          "mapbox": {
           "style": "light"
          },
          "paper_bgcolor": "white",
          "plot_bgcolor": "#E5ECF6",
          "polar": {
           "angularaxis": {
            "gridcolor": "white",
            "linecolor": "white",
            "ticks": ""
           },
           "bgcolor": "#E5ECF6",
           "radialaxis": {
            "gridcolor": "white",
            "linecolor": "white",
            "ticks": ""
           }
          },
          "scene": {
           "xaxis": {
            "backgroundcolor": "#E5ECF6",
            "gridcolor": "white",
            "gridwidth": 2,
            "linecolor": "white",
            "showbackground": true,
            "ticks": "",
            "zerolinecolor": "white"
           },
           "yaxis": {
            "backgroundcolor": "#E5ECF6",
            "gridcolor": "white",
            "gridwidth": 2,
            "linecolor": "white",
            "showbackground": true,
            "ticks": "",
            "zerolinecolor": "white"
           },
           "zaxis": {
            "backgroundcolor": "#E5ECF6",
            "gridcolor": "white",
            "gridwidth": 2,
            "linecolor": "white",
            "showbackground": true,
            "ticks": "",
            "zerolinecolor": "white"
           }
          },
          "shapedefaults": {
           "line": {
            "color": "#2a3f5f"
           }
          },
          "ternary": {
           "aaxis": {
            "gridcolor": "white",
            "linecolor": "white",
            "ticks": ""
           },
           "baxis": {
            "gridcolor": "white",
            "linecolor": "white",
            "ticks": ""
           },
           "bgcolor": "#E5ECF6",
           "caxis": {
            "gridcolor": "white",
            "linecolor": "white",
            "ticks": ""
           }
          },
          "title": {
           "x": 0.05
          },
          "xaxis": {
           "automargin": true,
           "gridcolor": "white",
           "linecolor": "white",
           "ticks": "",
           "title": {
            "standoff": 15
           },
           "zerolinecolor": "white",
           "zerolinewidth": 2
          },
          "yaxis": {
           "automargin": true,
           "gridcolor": "white",
           "linecolor": "white",
           "ticks": "",
           "title": {
            "standoff": 15
           },
           "zerolinecolor": "white",
           "zerolinewidth": 2
          }
         }
        },
        "title": {
         "text": "2011 US Agriculture Exports by State"
        }
       }
      },
      "text/html": [
       "<div>                            <div id=\"3605f57f-6a18-44e8-bc30-5c343aeed829\" class=\"plotly-graph-div\" style=\"height:525px; width:100%;\"></div>            <script type=\"text/javascript\">                require([\"plotly\"], function(Plotly) {                    window.PLOTLYENV=window.PLOTLYENV || {};                                    if (document.getElementById(\"3605f57f-6a18-44e8-bc30-5c343aeed829\")) {                    Plotly.newPlot(                        \"3605f57f-6a18-44e8-bc30-5c343aeed829\",                        [{\"colorbar\":{\"title\":{\"text\":\"Millions USD\"}},\"locationmode\":\"USA-states\",\"locations\":[\"AL\",\"AK\",\"AZ\",\"AR\",\"CA\",\"CO\",\"CT\",\"DE\",\"FL\",\"GA\",\"HI\",\"ID\",\"IL\",\"IN\",\"IA\",\"KS\",\"KY\",\"LA\",\"ME\",\"MD\",\"MA\",\"MI\",\"MN\",\"MS\",\"MO\",\"MT\",\"NE\",\"NV\",\"NH\",\"NJ\",\"NM\",\"NY\",\"NC\",\"ND\",\"OH\",\"OK\",\"OR\",\"PA\",\"RI\",\"SC\",\"SD\",\"TN\",\"TX\",\"UT\",\"VT\",\"VA\",\"WA\",\"WV\",\"WI\",\"WY\"],\"marker\":{\"line\":{\"color\":\"rgb(255,255,255)\",\"width\":2}},\"text\":[\"Alabama<br>Beef 34.4 Dairy 4.06<br>Fruits 25.11 Veggies 14.33<br>Wheat 70.0 Corn 34.9\",\"Alaska<br>Beef 0.2 Dairy 0.19<br>Fruits 0.0 Veggies 1.56<br>Wheat 0.0 Corn 0.0\",\"Arizona<br>Beef 71.3 Dairy 105.48<br>Fruits 60.27 Veggies 386.91<br>Wheat 48.7 Corn 7.3\",\"Arkansas<br>Beef 53.2 Dairy 3.53<br>Fruits 6.88 Veggies 11.45<br>Wheat 114.5 Corn 69.5\",\" California<br>Beef 228.7 Dairy 929.95<br>Fruits 8736.4 Veggies 2106.79<br>Wheat 249.3 Corn 34.6\",\"Colorado<br>Beef 261.4 Dairy 71.94<br>Fruits 17.99 Veggies 118.27<br>Wheat 400.5 Corn 183.2\",\"Connecticut<br>Beef 1.1 Dairy 9.49<br>Fruits 13.1 Veggies 11.16<br>Wheat 0.0 Corn 0.0\",\"Delaware<br>Beef 0.4 Dairy 2.3<br>Fruits 1.53 Veggies 20.03<br>Wheat 22.9 Corn 26.9\",\"Florida<br>Beef 42.6 Dairy 66.31<br>Fruits 1371.36 Veggies 450.86<br>Wheat 1.8 Corn 3.5\",\"Georgia<br>Beef 31.0 Dairy 38.38<br>Fruits 233.51 Veggies 154.77<br>Wheat 65.4 Corn 57.8\",\"Hawaii<br>Beef 4.0 Dairy 1.16<br>Fruits 55.51 Veggies 24.83<br>Wheat 0.0 Corn 0.0\",\"Idaho<br>Beef 119.8 Dairy 294.6<br>Fruits 21.64 Veggies 319.19<br>Wheat 568.2 Corn 24.0\",\"Illinois<br>Beef 53.7 Dairy 45.82<br>Fruits 12.53 Veggies 39.95<br>Wheat 223.8 Corn 2228.5\",\"Indiana<br>Beef 21.9 Dairy 89.7<br>Fruits 12.98 Veggies 37.89<br>Wheat 114.0 Corn 1123.2\",\"Iowa<br>Beef 289.8 Dairy 107.0<br>Fruits 3.24 Veggies 7.1<br>Wheat 3.1 Corn 2529.8\",\"Kansas<br>Beef 659.3 Dairy 65.45<br>Fruits 3.11 Veggies 9.32<br>Wheat 1426.5 Corn 457.3\",\"Kentucky<br>Beef 54.8 Dairy 28.27<br>Fruits 6.6 Veggies 0.0<br>Wheat 149.3 Corn 179.1\",\"Louisiana<br>Beef 19.8 Dairy 6.02<br>Fruits 17.83 Veggies 17.25<br>Wheat 78.7 Corn 91.4\",\"Maine<br>Beef 1.4 Dairy 16.18<br>Fruits 52.01 Veggies 62.9<br>Wheat 0.0 Corn 0.0\",\"Maryland<br>Beef 5.6 Dairy 24.81<br>Fruits 12.9 Veggies 20.43<br>Wheat 55.8 Corn 54.1\",\"Massachusetts<br>Beef 0.6 Dairy 5.81<br>Fruits 80.83 Veggies 21.13<br>Wheat 0.0 Corn 0.0\",\"Michigan<br>Beef 37.7 Dairy 214.82<br>Fruits 257.69 Veggies 189.96<br>Wheat 247.0 Corn 381.5\",\"Minnesota<br>Beef 112.3 Dairy 218.05<br>Fruits 7.91 Veggies 120.37<br>Wheat 538.1 Corn 1264.3\",\"Mississippi<br>Beef 12.8 Dairy 5.45<br>Fruits 17.04 Veggies 27.87<br>Wheat 102.2 Corn 110.0\",\"Missouri<br>Beef 137.2 Dairy 34.26<br>Fruits 13.18 Veggies 17.9<br>Wheat 161.7 Corn 428.8\",\"Montana<br>Beef 105.0 Dairy 6.82<br>Fruits 3.3 Veggies 45.27<br>Wheat 1198.1 Corn 5.4\",\"Nebraska<br>Beef 762.2 Dairy 30.07<br>Fruits 2.16 Veggies 53.5<br>Wheat 292.3 Corn 1735.9\",\"Nevada<br>Beef 21.8 Dairy 16.57<br>Fruits 1.19 Veggies 27.93<br>Wheat 5.4 Corn 0.0\",\"New Hampshire<br>Beef 0.6 Dairy 7.46<br>Fruits 7.98 Veggies 4.5<br>Wheat 0.0 Corn 0.0\",\"New Jersey<br>Beef 0.8 Dairy 3.37<br>Fruits 109.45 Veggies 56.54<br>Wheat 6.7 Corn 10.1\",\"New Mexico<br>Beef 117.2 Dairy 191.01<br>Fruits 101.9 Veggies 43.88<br>Wheat 13.9 Corn 11.2\",\"New York<br>Beef 22.2 Dairy 331.8<br>Fruits 202.56 Veggies 143.37<br>Wheat 29.9 Corn 106.1\",\"North Carolina<br>Beef 24.8 Dairy 24.9<br>Fruits 74.47 Veggies 150.45<br>Wheat 200.3 Corn 92.2\",\"North Dakota<br>Beef 78.5 Dairy 8.14<br>Fruits 0.25 Veggies 130.79<br>Wheat 1664.5 Corn 236.1\",\"Ohio<br>Beef 36.2 Dairy 134.57<br>Fruits 27.21 Veggies 53.53<br>Wheat 207.4 Corn 535.1\",\"Oklahoma<br>Beef 337.6 Dairy 24.35<br>Fruits 9.24 Veggies 8.9<br>Wheat 324.8 Corn 27.5\",\"Oregon<br>Beef 58.8 Dairy 63.66<br>Fruits 315.04 Veggies 126.5<br>Wheat 320.3 Corn 11.7\",\"Pennsylvania<br>Beef 50.9 Dairy 280.87<br>Fruits 89.48 Veggies 38.26<br>Wheat 41.0 Corn 112.1\",\"Rhode Island<br>Beef 0.1 Dairy 0.52<br>Fruits 2.83 Veggies 3.02<br>Wheat 0.0 Corn 0.0\",\"South Carolina<br>Beef 15.2 Dairy 7.62<br>Fruits 53.45 Veggies 42.66<br>Wheat 55.3 Corn 32.1\",\"South Dakota<br>Beef 193.5 Dairy 46.77<br>Fruits 0.8 Veggies 4.06<br>Wheat 704.5 Corn 643.6\",\"Tennessee<br>Beef 51.1 Dairy 21.18<br>Fruits 6.23 Veggies 24.67<br>Wheat 100.0 Corn 88.8\",\"Texas<br>Beef 961.0 Dairy 240.55<br>Fruits 99.9 Veggies 115.23<br>Wheat 309.7 Corn 167.2\",\"Utah<br>Beef 27.9 Dairy 48.6<br>Fruits 12.34 Veggies 6.6<br>Wheat 42.8 Corn 5.3\",\"Vermont<br>Beef 6.2 Dairy 65.98<br>Fruits 8.01 Veggies 4.05<br>Wheat 0.0 Corn 0.0\",\"Virginia<br>Beef 39.5 Dairy 47.85<br>Fruits 36.48 Veggies 27.25<br>Wheat 77.5 Corn 39.5\",\"Washington<br>Beef 59.2 Dairy 154.18<br>Fruits 1738.57 Veggies 363.79<br>Wheat 786.3 Corn 29.5\",\"West Virginia<br>Beef 12.0 Dairy 3.9<br>Fruits 11.54 Veggies 0.0<br>Wheat 1.6 Corn 3.5\",\"Wisconsin<br>Beef 107.3 Dairy 633.6<br>Fruits 133.8 Veggies 148.99<br>Wheat 96.7 Corn 460.5\",\"Wyoming<br>Beef 75.1 Dairy 2.89<br>Fruits 0.17 Veggies 10.23<br>Wheat 20.7 Corn 9.0\"],\"type\":\"choropleth\",\"z\":[1390.63,13.31,1463.17,3586.02,16472.88,1851.33,259.62,282.19,3764.09,2860.84,401.84,2078.89,8709.48,5050.23,11273.76,4589.01,1889.15,1914.23,278.37,692.75,248.65,3164.16,7192.33,2170.8,3933.42,1718.0,7114.13,139.89,73.06,500.4,751.58,1488.9,3806.05,3761.96,3979.79,1646.41,1794.57,1969.87,31.59,929.93,3770.19,1535.13,6648.22,453.39,180.14,1146.48,3894.81,138.89,3090.23,349.69]}],                        {\"geo\":{\"lakecolor\":\"rgb(85,173,240)\",\"scope\":\"usa\",\"showlakes\":true},\"template\":{\"data\":{\"bar\":[{\"error_x\":{\"color\":\"#2a3f5f\"},\"error_y\":{\"color\":\"#2a3f5f\"},\"marker\":{\"line\":{\"color\":\"#E5ECF6\",\"width\":0.5},\"pattern\":{\"fillmode\":\"overlay\",\"size\":10,\"solidity\":0.2}},\"type\":\"bar\"}],\"barpolar\":[{\"marker\":{\"line\":{\"color\":\"#E5ECF6\",\"width\":0.5},\"pattern\":{\"fillmode\":\"overlay\",\"size\":10,\"solidity\":0.2}},\"type\":\"barpolar\"}],\"carpet\":[{\"aaxis\":{\"endlinecolor\":\"#2a3f5f\",\"gridcolor\":\"white\",\"linecolor\":\"white\",\"minorgridcolor\":\"white\",\"startlinecolor\":\"#2a3f5f\"},\"baxis\":{\"endlinecolor\":\"#2a3f5f\",\"gridcolor\":\"white\",\"linecolor\":\"white\",\"minorgridcolor\":\"white\",\"startlinecolor\":\"#2a3f5f\"},\"type\":\"carpet\"}],\"choropleth\":[{\"colorbar\":{\"outlinewidth\":0,\"ticks\":\"\"},\"type\":\"choropleth\"}],\"contour\":[{\"colorbar\":{\"outlinewidth\":0,\"ticks\":\"\"},\"colorscale\":[[0.0,\"#0d0887\"],[0.1111111111111111,\"#46039f\"],[0.2222222222222222,\"#7201a8\"],[0.3333333333333333,\"#9c179e\"],[0.4444444444444444,\"#bd3786\"],[0.5555555555555556,\"#d8576b\"],[0.6666666666666666,\"#ed7953\"],[0.7777777777777778,\"#fb9f3a\"],[0.8888888888888888,\"#fdca26\"],[1.0,\"#f0f921\"]],\"type\":\"contour\"}],\"contourcarpet\":[{\"colorbar\":{\"outlinewidth\":0,\"ticks\":\"\"},\"type\":\"contourcarpet\"}],\"heatmap\":[{\"colorbar\":{\"outlinewidth\":0,\"ticks\":\"\"},\"colorscale\":[[0.0,\"#0d0887\"],[0.1111111111111111,\"#46039f\"],[0.2222222222222222,\"#7201a8\"],[0.3333333333333333,\"#9c179e\"],[0.4444444444444444,\"#bd3786\"],[0.5555555555555556,\"#d8576b\"],[0.6666666666666666,\"#ed7953\"],[0.7777777777777778,\"#fb9f3a\"],[0.8888888888888888,\"#fdca26\"],[1.0,\"#f0f921\"]],\"type\":\"heatmap\"}],\"heatmapgl\":[{\"colorbar\":{\"outlinewidth\":0,\"ticks\":\"\"},\"colorscale\":[[0.0,\"#0d0887\"],[0.1111111111111111,\"#46039f\"],[0.2222222222222222,\"#7201a8\"],[0.3333333333333333,\"#9c179e\"],[0.4444444444444444,\"#bd3786\"],[0.5555555555555556,\"#d8576b\"],[0.6666666666666666,\"#ed7953\"],[0.7777777777777778,\"#fb9f3a\"],[0.8888888888888888,\"#fdca26\"],[1.0,\"#f0f921\"]],\"type\":\"heatmapgl\"}],\"histogram\":[{\"marker\":{\"pattern\":{\"fillmode\":\"overlay\",\"size\":10,\"solidity\":0.2}},\"type\":\"histogram\"}],\"histogram2d\":[{\"colorbar\":{\"outlinewidth\":0,\"ticks\":\"\"},\"colorscale\":[[0.0,\"#0d0887\"],[0.1111111111111111,\"#46039f\"],[0.2222222222222222,\"#7201a8\"],[0.3333333333333333,\"#9c179e\"],[0.4444444444444444,\"#bd3786\"],[0.5555555555555556,\"#d8576b\"],[0.6666666666666666,\"#ed7953\"],[0.7777777777777778,\"#fb9f3a\"],[0.8888888888888888,\"#fdca26\"],[1.0,\"#f0f921\"]],\"type\":\"histogram2d\"}],\"histogram2dcontour\":[{\"colorbar\":{\"outlinewidth\":0,\"ticks\":\"\"},\"colorscale\":[[0.0,\"#0d0887\"],[0.1111111111111111,\"#46039f\"],[0.2222222222222222,\"#7201a8\"],[0.3333333333333333,\"#9c179e\"],[0.4444444444444444,\"#bd3786\"],[0.5555555555555556,\"#d8576b\"],[0.6666666666666666,\"#ed7953\"],[0.7777777777777778,\"#fb9f3a\"],[0.8888888888888888,\"#fdca26\"],[1.0,\"#f0f921\"]],\"type\":\"histogram2dcontour\"}],\"mesh3d\":[{\"colorbar\":{\"outlinewidth\":0,\"ticks\":\"\"},\"type\":\"mesh3d\"}],\"parcoords\":[{\"line\":{\"colorbar\":{\"outlinewidth\":0,\"ticks\":\"\"}},\"type\":\"parcoords\"}],\"pie\":[{\"automargin\":true,\"type\":\"pie\"}],\"scatter\":[{\"marker\":{\"colorbar\":{\"outlinewidth\":0,\"ticks\":\"\"}},\"type\":\"scatter\"}],\"scatter3d\":[{\"line\":{\"colorbar\":{\"outlinewidth\":0,\"ticks\":\"\"}},\"marker\":{\"colorbar\":{\"outlinewidth\":0,\"ticks\":\"\"}},\"type\":\"scatter3d\"}],\"scattercarpet\":[{\"marker\":{\"colorbar\":{\"outlinewidth\":0,\"ticks\":\"\"}},\"type\":\"scattercarpet\"}],\"scattergeo\":[{\"marker\":{\"colorbar\":{\"outlinewidth\":0,\"ticks\":\"\"}},\"type\":\"scattergeo\"}],\"scattergl\":[{\"marker\":{\"colorbar\":{\"outlinewidth\":0,\"ticks\":\"\"}},\"type\":\"scattergl\"}],\"scattermapbox\":[{\"marker\":{\"colorbar\":{\"outlinewidth\":0,\"ticks\":\"\"}},\"type\":\"scattermapbox\"}],\"scatterpolar\":[{\"marker\":{\"colorbar\":{\"outlinewidth\":0,\"ticks\":\"\"}},\"type\":\"scatterpolar\"}],\"scatterpolargl\":[{\"marker\":{\"colorbar\":{\"outlinewidth\":0,\"ticks\":\"\"}},\"type\":\"scatterpolargl\"}],\"scatterternary\":[{\"marker\":{\"colorbar\":{\"outlinewidth\":0,\"ticks\":\"\"}},\"type\":\"scatterternary\"}],\"surface\":[{\"colorbar\":{\"outlinewidth\":0,\"ticks\":\"\"},\"colorscale\":[[0.0,\"#0d0887\"],[0.1111111111111111,\"#46039f\"],[0.2222222222222222,\"#7201a8\"],[0.3333333333333333,\"#9c179e\"],[0.4444444444444444,\"#bd3786\"],[0.5555555555555556,\"#d8576b\"],[0.6666666666666666,\"#ed7953\"],[0.7777777777777778,\"#fb9f3a\"],[0.8888888888888888,\"#fdca26\"],[1.0,\"#f0f921\"]],\"type\":\"surface\"}],\"table\":[{\"cells\":{\"fill\":{\"color\":\"#EBF0F8\"},\"line\":{\"color\":\"white\"}},\"header\":{\"fill\":{\"color\":\"#C8D4E3\"},\"line\":{\"color\":\"white\"}},\"type\":\"table\"}]},\"layout\":{\"annotationdefaults\":{\"arrowcolor\":\"#2a3f5f\",\"arrowhead\":0,\"arrowwidth\":1},\"autotypenumbers\":\"strict\",\"coloraxis\":{\"colorbar\":{\"outlinewidth\":0,\"ticks\":\"\"}},\"colorscale\":{\"diverging\":[[0,\"#8e0152\"],[0.1,\"#c51b7d\"],[0.2,\"#de77ae\"],[0.3,\"#f1b6da\"],[0.4,\"#fde0ef\"],[0.5,\"#f7f7f7\"],[0.6,\"#e6f5d0\"],[0.7,\"#b8e186\"],[0.8,\"#7fbc41\"],[0.9,\"#4d9221\"],[1,\"#276419\"]],\"sequential\":[[0.0,\"#0d0887\"],[0.1111111111111111,\"#46039f\"],[0.2222222222222222,\"#7201a8\"],[0.3333333333333333,\"#9c179e\"],[0.4444444444444444,\"#bd3786\"],[0.5555555555555556,\"#d8576b\"],[0.6666666666666666,\"#ed7953\"],[0.7777777777777778,\"#fb9f3a\"],[0.8888888888888888,\"#fdca26\"],[1.0,\"#f0f921\"]],\"sequentialminus\":[[0.0,\"#0d0887\"],[0.1111111111111111,\"#46039f\"],[0.2222222222222222,\"#7201a8\"],[0.3333333333333333,\"#9c179e\"],[0.4444444444444444,\"#bd3786\"],[0.5555555555555556,\"#d8576b\"],[0.6666666666666666,\"#ed7953\"],[0.7777777777777778,\"#fb9f3a\"],[0.8888888888888888,\"#fdca26\"],[1.0,\"#f0f921\"]]},\"colorway\":[\"#636efa\",\"#EF553B\",\"#00cc96\",\"#ab63fa\",\"#FFA15A\",\"#19d3f3\",\"#FF6692\",\"#B6E880\",\"#FF97FF\",\"#FECB52\"],\"font\":{\"color\":\"#2a3f5f\"},\"geo\":{\"bgcolor\":\"white\",\"lakecolor\":\"white\",\"landcolor\":\"#E5ECF6\",\"showlakes\":true,\"showland\":true,\"subunitcolor\":\"white\"},\"hoverlabel\":{\"align\":\"left\"},\"hovermode\":\"closest\",\"mapbox\":{\"style\":\"light\"},\"paper_bgcolor\":\"white\",\"plot_bgcolor\":\"#E5ECF6\",\"polar\":{\"angularaxis\":{\"gridcolor\":\"white\",\"linecolor\":\"white\",\"ticks\":\"\"},\"bgcolor\":\"#E5ECF6\",\"radialaxis\":{\"gridcolor\":\"white\",\"linecolor\":\"white\",\"ticks\":\"\"}},\"scene\":{\"xaxis\":{\"backgroundcolor\":\"#E5ECF6\",\"gridcolor\":\"white\",\"gridwidth\":2,\"linecolor\":\"white\",\"showbackground\":true,\"ticks\":\"\",\"zerolinecolor\":\"white\"},\"yaxis\":{\"backgroundcolor\":\"#E5ECF6\",\"gridcolor\":\"white\",\"gridwidth\":2,\"linecolor\":\"white\",\"showbackground\":true,\"ticks\":\"\",\"zerolinecolor\":\"white\"},\"zaxis\":{\"backgroundcolor\":\"#E5ECF6\",\"gridcolor\":\"white\",\"gridwidth\":2,\"linecolor\":\"white\",\"showbackground\":true,\"ticks\":\"\",\"zerolinecolor\":\"white\"}},\"shapedefaults\":{\"line\":{\"color\":\"#2a3f5f\"}},\"ternary\":{\"aaxis\":{\"gridcolor\":\"white\",\"linecolor\":\"white\",\"ticks\":\"\"},\"baxis\":{\"gridcolor\":\"white\",\"linecolor\":\"white\",\"ticks\":\"\"},\"bgcolor\":\"#E5ECF6\",\"caxis\":{\"gridcolor\":\"white\",\"linecolor\":\"white\",\"ticks\":\"\"}},\"title\":{\"x\":0.05},\"xaxis\":{\"automargin\":true,\"gridcolor\":\"white\",\"linecolor\":\"white\",\"ticks\":\"\",\"title\":{\"standoff\":15},\"zerolinecolor\":\"white\",\"zerolinewidth\":2},\"yaxis\":{\"automargin\":true,\"gridcolor\":\"white\",\"linecolor\":\"white\",\"ticks\":\"\",\"title\":{\"standoff\":15},\"zerolinecolor\":\"white\",\"zerolinewidth\":2}}},\"title\":{\"text\":\"2011 US Agriculture Exports by State\"}},                        {\"responsive\": true}                    ).then(function(){\n",
       "                            \n",
       "var gd = document.getElementById('3605f57f-6a18-44e8-bc30-5c343aeed829');\n",
       "var x = new MutationObserver(function (mutations, observer) {{\n",
       "        var display = window.getComputedStyle(gd).display;\n",
       "        if (!display || display === 'none') {{\n",
       "            console.log([gd, 'removed!']);\n",
       "            Plotly.purge(gd);\n",
       "            observer.disconnect();\n",
       "        }}\n",
       "}});\n",
       "\n",
       "// Listen for the removal of the full notebook cells\n",
       "var notebookContainer = gd.closest('#notebook-container');\n",
       "if (notebookContainer) {{\n",
       "    x.observe(notebookContainer, {childList: true});\n",
       "}}\n",
       "\n",
       "// Listen for the clearing of the current output cell\n",
       "var outputEl = gd.closest('.output');\n",
       "if (outputEl) {{\n",
       "    x.observe(outputEl, {childList: true});\n",
       "}}\n",
       "\n",
       "                        })                };                });            </script>        </div>"
      ]
     },
     "metadata": {},
     "output_type": "display_data"
    }
   ],
   "source": [
    "choromap = go.Figure(data = [data],layout = layout)\n",
    "iplot(choromap)"
   ]
  },
  {
   "cell_type": "markdown",
   "metadata": {},
   "source": [
    "### Another Example with real data (Remember to Create 2 variable Data variable and Layout Variable)"
   ]
  },
  {
   "cell_type": "code",
   "execution_count": 28,
   "metadata": {},
   "outputs": [
    {
     "data": {
      "text/html": [
       "<div>\n",
       "<style scoped>\n",
       "    .dataframe tbody tr th:only-of-type {\n",
       "        vertical-align: middle;\n",
       "    }\n",
       "\n",
       "    .dataframe tbody tr th {\n",
       "        vertical-align: top;\n",
       "    }\n",
       "\n",
       "    .dataframe thead th {\n",
       "        text-align: right;\n",
       "    }\n",
       "</style>\n",
       "<table border=\"1\" class=\"dataframe\">\n",
       "  <thead>\n",
       "    <tr style=\"text-align: right;\">\n",
       "      <th></th>\n",
       "      <th>COUNTRY</th>\n",
       "      <th>GDP (BILLIONS)</th>\n",
       "      <th>CODE</th>\n",
       "    </tr>\n",
       "  </thead>\n",
       "  <tbody>\n",
       "    <tr>\n",
       "      <th>0</th>\n",
       "      <td>Afghanistan</td>\n",
       "      <td>21.71</td>\n",
       "      <td>AFG</td>\n",
       "    </tr>\n",
       "    <tr>\n",
       "      <th>1</th>\n",
       "      <td>Albania</td>\n",
       "      <td>13.40</td>\n",
       "      <td>ALB</td>\n",
       "    </tr>\n",
       "    <tr>\n",
       "      <th>2</th>\n",
       "      <td>Algeria</td>\n",
       "      <td>227.80</td>\n",
       "      <td>DZA</td>\n",
       "    </tr>\n",
       "    <tr>\n",
       "      <th>3</th>\n",
       "      <td>American Samoa</td>\n",
       "      <td>0.75</td>\n",
       "      <td>ASM</td>\n",
       "    </tr>\n",
       "    <tr>\n",
       "      <th>4</th>\n",
       "      <td>Andorra</td>\n",
       "      <td>4.80</td>\n",
       "      <td>AND</td>\n",
       "    </tr>\n",
       "  </tbody>\n",
       "</table>\n",
       "</div>"
      ],
      "text/plain": [
       "          COUNTRY  GDP (BILLIONS) CODE\n",
       "0     Afghanistan           21.71  AFG\n",
       "1         Albania           13.40  ALB\n",
       "2         Algeria          227.80  DZA\n",
       "3  American Samoa            0.75  ASM\n",
       "4         Andorra            4.80  AND"
      ]
     },
     "execution_count": 28,
     "metadata": {},
     "output_type": "execute_result"
    }
   ],
   "source": [
    "df = pd.read_csv('07 Visualization (Plotly and Cufflinks) 2014_World_GDP.csv')\n",
    "df.head()"
   ]
  },
  {
   "cell_type": "code",
   "execution_count": 29,
   "metadata": {},
   "outputs": [],
   "source": [
    "data = dict(\n",
    "        type = 'choropleth',\n",
    "        locations = df['CODE'],\n",
    "        z = df['GDP (BILLIONS)'],\n",
    "        text = df['COUNTRY'],\n",
    "        colorbar = {'title' : 'GDP Billions US'},\n",
    "      ) "
   ]
  },
  {
   "cell_type": "code",
   "execution_count": 30,
   "metadata": {},
   "outputs": [],
   "source": [
    "layout = dict(\n",
    "    title = '2014 Global GDP',\n",
    "    geo = dict(\n",
    "        showframe = False,\n",
    "        #projection = {'type':'Mercator'}\n",
    "    )\n",
    ")"
   ]
  },
  {
   "cell_type": "code",
   "execution_count": 31,
   "metadata": {},
   "outputs": [
    {
     "data": {
      "application/vnd.plotly.v1+json": {
       "config": {
        "linkText": "Export to plot.ly",
        "plotlyServerURL": "https://plot.ly",
        "showLink": false
       },
       "data": [
        {
         "colorbar": {
          "title": {
           "text": "GDP Billions US"
          }
         },
         "locations": [
          "AFG",
          "ALB",
          "DZA",
          "ASM",
          "AND",
          "AGO",
          "AIA",
          "ATG",
          "ARG",
          "ARM",
          "ABW",
          "AUS",
          "AUT",
          "AZE",
          "BHM",
          "BHR",
          "BGD",
          "BRB",
          "BLR",
          "BEL",
          "BLZ",
          "BEN",
          "BMU",
          "BTN",
          "BOL",
          "BIH",
          "BWA",
          "BRA",
          "VGB",
          "BRN",
          "BGR",
          "BFA",
          "MMR",
          "BDI",
          "CPV",
          "KHM",
          "CMR",
          "CAN",
          "CYM",
          "CAF",
          "TCD",
          "CHL",
          "CHN",
          "COL",
          "COM",
          "COD",
          "COG",
          "COK",
          "CRI",
          "CIV",
          "HRV",
          "CUB",
          "CUW",
          "CYP",
          "CZE",
          "DNK",
          "DJI",
          "DMA",
          "DOM",
          "ECU",
          "EGY",
          "SLV",
          "GNQ",
          "ERI",
          "EST",
          "ETH",
          "FLK",
          "FRO",
          "FJI",
          "FIN",
          "FRA",
          "PYF",
          "GAB",
          "GMB",
          "GEO",
          "DEU",
          "GHA",
          "GIB",
          "GRC",
          "GRL",
          "GRD",
          "GUM",
          "GTM",
          "GGY",
          "GNB",
          "GIN",
          "GUY",
          "HTI",
          "HND",
          "HKG",
          "HUN",
          "ISL",
          "IND",
          "IDN",
          "IRN",
          "IRQ",
          "IRL",
          "IMN",
          "ISR",
          "ITA",
          "JAM",
          "JPN",
          "JEY",
          "JOR",
          "KAZ",
          "KEN",
          "KIR",
          "KOR",
          "PRK",
          "KSV",
          "KWT",
          "KGZ",
          "LAO",
          "LVA",
          "LBN",
          "LSO",
          "LBR",
          "LBY",
          "LIE",
          "LTU",
          "LUX",
          "MAC",
          "MKD",
          "MDG",
          "MWI",
          "MYS",
          "MDV",
          "MLI",
          "MLT",
          "MHL",
          "MRT",
          "MUS",
          "MEX",
          "FSM",
          "MDA",
          "MCO",
          "MNG",
          "MNE",
          "MAR",
          "MOZ",
          "NAM",
          "NPL",
          "NLD",
          "NCL",
          "NZL",
          "NIC",
          "NGA",
          "NER",
          "NIU",
          "MNP",
          "NOR",
          "OMN",
          "PAK",
          "PLW",
          "PAN",
          "PNG",
          "PRY",
          "PER",
          "PHL",
          "POL",
          "PRT",
          "PRI",
          "QAT",
          "ROU",
          "RUS",
          "RWA",
          "KNA",
          "LCA",
          "MAF",
          "SPM",
          "VCT",
          "WSM",
          "SMR",
          "STP",
          "SAU",
          "SEN",
          "SRB",
          "SYC",
          "SLE",
          "SGP",
          "SXM",
          "SVK",
          "SVN",
          "SLB",
          "SOM",
          "ZAF",
          "SSD",
          "ESP",
          "LKA",
          "SDN",
          "SUR",
          "SWZ",
          "SWE",
          "CHE",
          "SYR",
          "TWN",
          "TJK",
          "TZA",
          "THA",
          "TLS",
          "TGO",
          "TON",
          "TTO",
          "TUN",
          "TUR",
          "TKM",
          "TUV",
          "UGA",
          "UKR",
          "ARE",
          "GBR",
          "USA",
          "URY",
          "UZB",
          "VUT",
          "VEN",
          "VNM",
          "VGB",
          "WBG",
          "YEM",
          "ZMB",
          "ZWE"
         ],
         "text": [
          "Afghanistan",
          "Albania",
          "Algeria",
          "American Samoa",
          "Andorra",
          "Angola",
          "Anguilla",
          "Antigua and Barbuda",
          "Argentina",
          "Armenia",
          "Aruba",
          "Australia",
          "Austria",
          "Azerbaijan",
          "Bahamas, The",
          "Bahrain",
          "Bangladesh",
          "Barbados",
          "Belarus",
          "Belgium",
          "Belize",
          "Benin",
          "Bermuda",
          "Bhutan",
          "Bolivia",
          "Bosnia and Herzegovina",
          "Botswana",
          "Brazil",
          "British Virgin Islands",
          "Brunei",
          "Bulgaria",
          "Burkina Faso",
          "Burma",
          "Burundi",
          "Cabo Verde",
          "Cambodia",
          "Cameroon",
          "Canada",
          "Cayman Islands",
          "Central African Republic",
          "Chad",
          "Chile",
          "China",
          "Colombia",
          "Comoros",
          "Congo, Democratic Republic of the",
          "Congo, Republic of the",
          "Cook Islands",
          "Costa Rica",
          "Cote d'Ivoire",
          "Croatia",
          "Cuba",
          "Curacao",
          "Cyprus",
          "Czech Republic",
          "Denmark",
          "Djibouti",
          "Dominica",
          "Dominican Republic",
          "Ecuador",
          "Egypt",
          "El Salvador",
          "Equatorial Guinea",
          "Eritrea",
          "Estonia",
          "Ethiopia",
          "Falkland Islands (Islas Malvinas)",
          "Faroe Islands",
          "Fiji",
          "Finland",
          "France",
          "French Polynesia",
          "Gabon",
          "Gambia, The",
          "Georgia",
          "Germany",
          "Ghana",
          "Gibraltar",
          "Greece",
          "Greenland",
          "Grenada",
          "Guam",
          "Guatemala",
          "Guernsey",
          "Guinea-Bissau",
          "Guinea",
          "Guyana",
          "Haiti",
          "Honduras",
          "Hong Kong",
          "Hungary",
          "Iceland",
          "India",
          "Indonesia",
          "Iran",
          "Iraq",
          "Ireland",
          "Isle of Man",
          "Israel",
          "Italy",
          "Jamaica",
          "Japan",
          "Jersey",
          "Jordan",
          "Kazakhstan",
          "Kenya",
          "Kiribati",
          "Korea, North",
          "Korea, South",
          "Kosovo",
          "Kuwait",
          "Kyrgyzstan",
          "Laos",
          "Latvia",
          "Lebanon",
          "Lesotho",
          "Liberia",
          "Libya",
          "Liechtenstein",
          "Lithuania",
          "Luxembourg",
          "Macau",
          "Macedonia",
          "Madagascar",
          "Malawi",
          "Malaysia",
          "Maldives",
          "Mali",
          "Malta",
          "Marshall Islands",
          "Mauritania",
          "Mauritius",
          "Mexico",
          "Micronesia, Federated States of",
          "Moldova",
          "Monaco",
          "Mongolia",
          "Montenegro",
          "Morocco",
          "Mozambique",
          "Namibia",
          "Nepal",
          "Netherlands",
          "New Caledonia",
          "New Zealand",
          "Nicaragua",
          "Nigeria",
          "Niger",
          "Niue",
          "Northern Mariana Islands",
          "Norway",
          "Oman",
          "Pakistan",
          "Palau",
          "Panama",
          "Papua New Guinea",
          "Paraguay",
          "Peru",
          "Philippines",
          "Poland",
          "Portugal",
          "Puerto Rico",
          "Qatar",
          "Romania",
          "Russia",
          "Rwanda",
          "Saint Kitts and Nevis",
          "Saint Lucia",
          "Saint Martin",
          "Saint Pierre and Miquelon",
          "Saint Vincent and the Grenadines",
          "Samoa",
          "San Marino",
          "Sao Tome and Principe",
          "Saudi Arabia",
          "Senegal",
          "Serbia",
          "Seychelles",
          "Sierra Leone",
          "Singapore",
          "Sint Maarten",
          "Slovakia",
          "Slovenia",
          "Solomon Islands",
          "Somalia",
          "South Africa",
          "South Sudan",
          "Spain",
          "Sri Lanka",
          "Sudan",
          "Suriname",
          "Swaziland",
          "Sweden",
          "Switzerland",
          "Syria",
          "Taiwan",
          "Tajikistan",
          "Tanzania",
          "Thailand",
          "Timor-Leste",
          "Togo",
          "Tonga",
          "Trinidad and Tobago",
          "Tunisia",
          "Turkey",
          "Turkmenistan",
          "Tuvalu",
          "Uganda",
          "Ukraine",
          "United Arab Emirates",
          "United Kingdom",
          "United States",
          "Uruguay",
          "Uzbekistan",
          "Vanuatu",
          "Venezuela",
          "Vietnam",
          "Virgin Islands",
          "West Bank",
          "Yemen",
          "Zambia",
          "Zimbabwe"
         ],
         "type": "choropleth",
         "z": [
          21.71,
          13.4,
          227.8,
          0.75,
          4.8,
          131.4,
          0.18,
          1.24,
          536.2,
          10.88,
          2.52,
          1483,
          436.1,
          77.91,
          8.65,
          34.05,
          186.6,
          4.28,
          75.25,
          527.8,
          1.67,
          9.24,
          5.2,
          2.09,
          34.08,
          19.55,
          16.3,
          2244,
          1.1,
          17.43,
          55.08,
          13.38,
          65.29,
          3.04,
          1.98,
          16.9,
          32.16,
          1794,
          2.25,
          1.73,
          15.84,
          264.1,
          10360,
          400.1,
          0.72,
          32.67,
          14.11,
          0.18,
          50.46,
          33.96,
          57.18,
          77.15,
          5.6,
          21.34,
          205.6,
          347.2,
          1.58,
          0.51,
          64.05,
          100.5,
          284.9,
          25.14,
          15.4,
          3.87,
          26.36,
          49.86,
          0.16,
          2.32,
          4.17,
          276.3,
          2902,
          7.15,
          20.68,
          0.92,
          16.13,
          3820,
          35.48,
          1.85,
          246.4,
          2.16,
          0.84,
          4.6,
          58.3,
          2.74,
          1.04,
          6.77,
          3.14,
          8.92,
          19.37,
          292.7,
          129.7,
          16.2,
          2048,
          856.1,
          402.7,
          232.2,
          245.8,
          4.08,
          305,
          2129,
          13.92,
          4770,
          5.77,
          36.55,
          225.6,
          62.72,
          0.16,
          28,
          1410,
          5.99,
          179.3,
          7.65,
          11.71,
          32.82,
          47.5,
          2.46,
          2.07,
          49.34,
          5.11,
          48.72,
          63.93,
          51.68,
          10.92,
          11.19,
          4.41,
          336.9,
          2.41,
          12.04,
          10.57,
          0.18,
          4.29,
          12.72,
          1296,
          0.34,
          7.74,
          6.06,
          11.73,
          4.66,
          112.6,
          16.59,
          13.11,
          19.64,
          880.4,
          11.1,
          201,
          11.85,
          594.3,
          8.29,
          0.01,
          1.23,
          511.6,
          80.54,
          237.5,
          0.65,
          44.69,
          16.1,
          31.3,
          208.2,
          284.6,
          552.2,
          228.2,
          93.52,
          212,
          199,
          2057,
          8,
          0.81,
          1.35,
          0.56,
          0.22,
          0.75,
          0.83,
          1.86,
          0.36,
          777.9,
          15.88,
          42.65,
          1.47,
          5.41,
          307.9,
          304.1,
          99.75,
          49.93,
          1.16,
          2.37,
          341.2,
          11.89,
          1400,
          71.57,
          70.03,
          5.27,
          3.84,
          559.1,
          679,
          64.7,
          529.5,
          9.16,
          36.62,
          373.8,
          4.51,
          4.84,
          0.49,
          29.63,
          49.12,
          813.3,
          43.5,
          0.04,
          26.09,
          134.9,
          416.4,
          2848,
          17420,
          55.6,
          63.08,
          0.82,
          209.2,
          187.8,
          5.08,
          6.64,
          45.45,
          25.61,
          13.74
         ]
        }
       ],
       "layout": {
        "geo": {
         "showframe": false
        },
        "template": {
         "data": {
          "bar": [
           {
            "error_x": {
             "color": "#2a3f5f"
            },
            "error_y": {
             "color": "#2a3f5f"
            },
            "marker": {
             "line": {
              "color": "#E5ECF6",
              "width": 0.5
             },
             "pattern": {
              "fillmode": "overlay",
              "size": 10,
              "solidity": 0.2
             }
            },
            "type": "bar"
           }
          ],
          "barpolar": [
           {
            "marker": {
             "line": {
              "color": "#E5ECF6",
              "width": 0.5
             },
             "pattern": {
              "fillmode": "overlay",
              "size": 10,
              "solidity": 0.2
             }
            },
            "type": "barpolar"
           }
          ],
          "carpet": [
           {
            "aaxis": {
             "endlinecolor": "#2a3f5f",
             "gridcolor": "white",
             "linecolor": "white",
             "minorgridcolor": "white",
             "startlinecolor": "#2a3f5f"
            },
            "baxis": {
             "endlinecolor": "#2a3f5f",
             "gridcolor": "white",
             "linecolor": "white",
             "minorgridcolor": "white",
             "startlinecolor": "#2a3f5f"
            },
            "type": "carpet"
           }
          ],
          "choropleth": [
           {
            "colorbar": {
             "outlinewidth": 0,
             "ticks": ""
            },
            "type": "choropleth"
           }
          ],
          "contour": [
           {
            "colorbar": {
             "outlinewidth": 0,
             "ticks": ""
            },
            "colorscale": [
             [
              0,
              "#0d0887"
             ],
             [
              0.1111111111111111,
              "#46039f"
             ],
             [
              0.2222222222222222,
              "#7201a8"
             ],
             [
              0.3333333333333333,
              "#9c179e"
             ],
             [
              0.4444444444444444,
              "#bd3786"
             ],
             [
              0.5555555555555556,
              "#d8576b"
             ],
             [
              0.6666666666666666,
              "#ed7953"
             ],
             [
              0.7777777777777778,
              "#fb9f3a"
             ],
             [
              0.8888888888888888,
              "#fdca26"
             ],
             [
              1,
              "#f0f921"
             ]
            ],
            "type": "contour"
           }
          ],
          "contourcarpet": [
           {
            "colorbar": {
             "outlinewidth": 0,
             "ticks": ""
            },
            "type": "contourcarpet"
           }
          ],
          "heatmap": [
           {
            "colorbar": {
             "outlinewidth": 0,
             "ticks": ""
            },
            "colorscale": [
             [
              0,
              "#0d0887"
             ],
             [
              0.1111111111111111,
              "#46039f"
             ],
             [
              0.2222222222222222,
              "#7201a8"
             ],
             [
              0.3333333333333333,
              "#9c179e"
             ],
             [
              0.4444444444444444,
              "#bd3786"
             ],
             [
              0.5555555555555556,
              "#d8576b"
             ],
             [
              0.6666666666666666,
              "#ed7953"
             ],
             [
              0.7777777777777778,
              "#fb9f3a"
             ],
             [
              0.8888888888888888,
              "#fdca26"
             ],
             [
              1,
              "#f0f921"
             ]
            ],
            "type": "heatmap"
           }
          ],
          "heatmapgl": [
           {
            "colorbar": {
             "outlinewidth": 0,
             "ticks": ""
            },
            "colorscale": [
             [
              0,
              "#0d0887"
             ],
             [
              0.1111111111111111,
              "#46039f"
             ],
             [
              0.2222222222222222,
              "#7201a8"
             ],
             [
              0.3333333333333333,
              "#9c179e"
             ],
             [
              0.4444444444444444,
              "#bd3786"
             ],
             [
              0.5555555555555556,
              "#d8576b"
             ],
             [
              0.6666666666666666,
              "#ed7953"
             ],
             [
              0.7777777777777778,
              "#fb9f3a"
             ],
             [
              0.8888888888888888,
              "#fdca26"
             ],
             [
              1,
              "#f0f921"
             ]
            ],
            "type": "heatmapgl"
           }
          ],
          "histogram": [
           {
            "marker": {
             "pattern": {
              "fillmode": "overlay",
              "size": 10,
              "solidity": 0.2
             }
            },
            "type": "histogram"
           }
          ],
          "histogram2d": [
           {
            "colorbar": {
             "outlinewidth": 0,
             "ticks": ""
            },
            "colorscale": [
             [
              0,
              "#0d0887"
             ],
             [
              0.1111111111111111,
              "#46039f"
             ],
             [
              0.2222222222222222,
              "#7201a8"
             ],
             [
              0.3333333333333333,
              "#9c179e"
             ],
             [
              0.4444444444444444,
              "#bd3786"
             ],
             [
              0.5555555555555556,
              "#d8576b"
             ],
             [
              0.6666666666666666,
              "#ed7953"
             ],
             [
              0.7777777777777778,
              "#fb9f3a"
             ],
             [
              0.8888888888888888,
              "#fdca26"
             ],
             [
              1,
              "#f0f921"
             ]
            ],
            "type": "histogram2d"
           }
          ],
          "histogram2dcontour": [
           {
            "colorbar": {
             "outlinewidth": 0,
             "ticks": ""
            },
            "colorscale": [
             [
              0,
              "#0d0887"
             ],
             [
              0.1111111111111111,
              "#46039f"
             ],
             [
              0.2222222222222222,
              "#7201a8"
             ],
             [
              0.3333333333333333,
              "#9c179e"
             ],
             [
              0.4444444444444444,
              "#bd3786"
             ],
             [
              0.5555555555555556,
              "#d8576b"
             ],
             [
              0.6666666666666666,
              "#ed7953"
             ],
             [
              0.7777777777777778,
              "#fb9f3a"
             ],
             [
              0.8888888888888888,
              "#fdca26"
             ],
             [
              1,
              "#f0f921"
             ]
            ],
            "type": "histogram2dcontour"
           }
          ],
          "mesh3d": [
           {
            "colorbar": {
             "outlinewidth": 0,
             "ticks": ""
            },
            "type": "mesh3d"
           }
          ],
          "parcoords": [
           {
            "line": {
             "colorbar": {
              "outlinewidth": 0,
              "ticks": ""
             }
            },
            "type": "parcoords"
           }
          ],
          "pie": [
           {
            "automargin": true,
            "type": "pie"
           }
          ],
          "scatter": [
           {
            "marker": {
             "colorbar": {
              "outlinewidth": 0,
              "ticks": ""
             }
            },
            "type": "scatter"
           }
          ],
          "scatter3d": [
           {
            "line": {
             "colorbar": {
              "outlinewidth": 0,
              "ticks": ""
             }
            },
            "marker": {
             "colorbar": {
              "outlinewidth": 0,
              "ticks": ""
             }
            },
            "type": "scatter3d"
           }
          ],
          "scattercarpet": [
           {
            "marker": {
             "colorbar": {
              "outlinewidth": 0,
              "ticks": ""
             }
            },
            "type": "scattercarpet"
           }
          ],
          "scattergeo": [
           {
            "marker": {
             "colorbar": {
              "outlinewidth": 0,
              "ticks": ""
             }
            },
            "type": "scattergeo"
           }
          ],
          "scattergl": [
           {
            "marker": {
             "colorbar": {
              "outlinewidth": 0,
              "ticks": ""
             }
            },
            "type": "scattergl"
           }
          ],
          "scattermapbox": [
           {
            "marker": {
             "colorbar": {
              "outlinewidth": 0,
              "ticks": ""
             }
            },
            "type": "scattermapbox"
           }
          ],
          "scatterpolar": [
           {
            "marker": {
             "colorbar": {
              "outlinewidth": 0,
              "ticks": ""
             }
            },
            "type": "scatterpolar"
           }
          ],
          "scatterpolargl": [
           {
            "marker": {
             "colorbar": {
              "outlinewidth": 0,
              "ticks": ""
             }
            },
            "type": "scatterpolargl"
           }
          ],
          "scatterternary": [
           {
            "marker": {
             "colorbar": {
              "outlinewidth": 0,
              "ticks": ""
             }
            },
            "type": "scatterternary"
           }
          ],
          "surface": [
           {
            "colorbar": {
             "outlinewidth": 0,
             "ticks": ""
            },
            "colorscale": [
             [
              0,
              "#0d0887"
             ],
             [
              0.1111111111111111,
              "#46039f"
             ],
             [
              0.2222222222222222,
              "#7201a8"
             ],
             [
              0.3333333333333333,
              "#9c179e"
             ],
             [
              0.4444444444444444,
              "#bd3786"
             ],
             [
              0.5555555555555556,
              "#d8576b"
             ],
             [
              0.6666666666666666,
              "#ed7953"
             ],
             [
              0.7777777777777778,
              "#fb9f3a"
             ],
             [
              0.8888888888888888,
              "#fdca26"
             ],
             [
              1,
              "#f0f921"
             ]
            ],
            "type": "surface"
           }
          ],
          "table": [
           {
            "cells": {
             "fill": {
              "color": "#EBF0F8"
             },
             "line": {
              "color": "white"
             }
            },
            "header": {
             "fill": {
              "color": "#C8D4E3"
             },
             "line": {
              "color": "white"
             }
            },
            "type": "table"
           }
          ]
         },
         "layout": {
          "annotationdefaults": {
           "arrowcolor": "#2a3f5f",
           "arrowhead": 0,
           "arrowwidth": 1
          },
          "autotypenumbers": "strict",
          "coloraxis": {
           "colorbar": {
            "outlinewidth": 0,
            "ticks": ""
           }
          },
          "colorscale": {
           "diverging": [
            [
             0,
             "#8e0152"
            ],
            [
             0.1,
             "#c51b7d"
            ],
            [
             0.2,
             "#de77ae"
            ],
            [
             0.3,
             "#f1b6da"
            ],
            [
             0.4,
             "#fde0ef"
            ],
            [
             0.5,
             "#f7f7f7"
            ],
            [
             0.6,
             "#e6f5d0"
            ],
            [
             0.7,
             "#b8e186"
            ],
            [
             0.8,
             "#7fbc41"
            ],
            [
             0.9,
             "#4d9221"
            ],
            [
             1,
             "#276419"
            ]
           ],
           "sequential": [
            [
             0,
             "#0d0887"
            ],
            [
             0.1111111111111111,
             "#46039f"
            ],
            [
             0.2222222222222222,
             "#7201a8"
            ],
            [
             0.3333333333333333,
             "#9c179e"
            ],
            [
             0.4444444444444444,
             "#bd3786"
            ],
            [
             0.5555555555555556,
             "#d8576b"
            ],
            [
             0.6666666666666666,
             "#ed7953"
            ],
            [
             0.7777777777777778,
             "#fb9f3a"
            ],
            [
             0.8888888888888888,
             "#fdca26"
            ],
            [
             1,
             "#f0f921"
            ]
           ],
           "sequentialminus": [
            [
             0,
             "#0d0887"
            ],
            [
             0.1111111111111111,
             "#46039f"
            ],
            [
             0.2222222222222222,
             "#7201a8"
            ],
            [
             0.3333333333333333,
             "#9c179e"
            ],
            [
             0.4444444444444444,
             "#bd3786"
            ],
            [
             0.5555555555555556,
             "#d8576b"
            ],
            [
             0.6666666666666666,
             "#ed7953"
            ],
            [
             0.7777777777777778,
             "#fb9f3a"
            ],
            [
             0.8888888888888888,
             "#fdca26"
            ],
            [
             1,
             "#f0f921"
            ]
           ]
          },
          "colorway": [
           "#636efa",
           "#EF553B",
           "#00cc96",
           "#ab63fa",
           "#FFA15A",
           "#19d3f3",
           "#FF6692",
           "#B6E880",
           "#FF97FF",
           "#FECB52"
          ],
          "font": {
           "color": "#2a3f5f"
          },
          "geo": {
           "bgcolor": "white",
           "lakecolor": "white",
           "landcolor": "#E5ECF6",
           "showlakes": true,
           "showland": true,
           "subunitcolor": "white"
          },
          "hoverlabel": {
           "align": "left"
          },
          "hovermode": "closest",
          "mapbox": {
           "style": "light"
          },
          "paper_bgcolor": "white",
          "plot_bgcolor": "#E5ECF6",
          "polar": {
           "angularaxis": {
            "gridcolor": "white",
            "linecolor": "white",
            "ticks": ""
           },
           "bgcolor": "#E5ECF6",
           "radialaxis": {
            "gridcolor": "white",
            "linecolor": "white",
            "ticks": ""
           }
          },
          "scene": {
           "xaxis": {
            "backgroundcolor": "#E5ECF6",
            "gridcolor": "white",
            "gridwidth": 2,
            "linecolor": "white",
            "showbackground": true,
            "ticks": "",
            "zerolinecolor": "white"
           },
           "yaxis": {
            "backgroundcolor": "#E5ECF6",
            "gridcolor": "white",
            "gridwidth": 2,
            "linecolor": "white",
            "showbackground": true,
            "ticks": "",
            "zerolinecolor": "white"
           },
           "zaxis": {
            "backgroundcolor": "#E5ECF6",
            "gridcolor": "white",
            "gridwidth": 2,
            "linecolor": "white",
            "showbackground": true,
            "ticks": "",
            "zerolinecolor": "white"
           }
          },
          "shapedefaults": {
           "line": {
            "color": "#2a3f5f"
           }
          },
          "ternary": {
           "aaxis": {
            "gridcolor": "white",
            "linecolor": "white",
            "ticks": ""
           },
           "baxis": {
            "gridcolor": "white",
            "linecolor": "white",
            "ticks": ""
           },
           "bgcolor": "#E5ECF6",
           "caxis": {
            "gridcolor": "white",
            "linecolor": "white",
            "ticks": ""
           }
          },
          "title": {
           "x": 0.05
          },
          "xaxis": {
           "automargin": true,
           "gridcolor": "white",
           "linecolor": "white",
           "ticks": "",
           "title": {
            "standoff": 15
           },
           "zerolinecolor": "white",
           "zerolinewidth": 2
          },
          "yaxis": {
           "automargin": true,
           "gridcolor": "white",
           "linecolor": "white",
           "ticks": "",
           "title": {
            "standoff": 15
           },
           "zerolinecolor": "white",
           "zerolinewidth": 2
          }
         }
        },
        "title": {
         "text": "2014 Global GDP"
        }
       }
      },
      "text/html": [
       "<div>                            <div id=\"764846ef-de98-42d9-933e-322980d5c517\" class=\"plotly-graph-div\" style=\"height:525px; width:100%;\"></div>            <script type=\"text/javascript\">                require([\"plotly\"], function(Plotly) {                    window.PLOTLYENV=window.PLOTLYENV || {};                                    if (document.getElementById(\"764846ef-de98-42d9-933e-322980d5c517\")) {                    Plotly.newPlot(                        \"764846ef-de98-42d9-933e-322980d5c517\",                        [{\"colorbar\":{\"title\":{\"text\":\"GDP Billions US\"}},\"locations\":[\"AFG\",\"ALB\",\"DZA\",\"ASM\",\"AND\",\"AGO\",\"AIA\",\"ATG\",\"ARG\",\"ARM\",\"ABW\",\"AUS\",\"AUT\",\"AZE\",\"BHM\",\"BHR\",\"BGD\",\"BRB\",\"BLR\",\"BEL\",\"BLZ\",\"BEN\",\"BMU\",\"BTN\",\"BOL\",\"BIH\",\"BWA\",\"BRA\",\"VGB\",\"BRN\",\"BGR\",\"BFA\",\"MMR\",\"BDI\",\"CPV\",\"KHM\",\"CMR\",\"CAN\",\"CYM\",\"CAF\",\"TCD\",\"CHL\",\"CHN\",\"COL\",\"COM\",\"COD\",\"COG\",\"COK\",\"CRI\",\"CIV\",\"HRV\",\"CUB\",\"CUW\",\"CYP\",\"CZE\",\"DNK\",\"DJI\",\"DMA\",\"DOM\",\"ECU\",\"EGY\",\"SLV\",\"GNQ\",\"ERI\",\"EST\",\"ETH\",\"FLK\",\"FRO\",\"FJI\",\"FIN\",\"FRA\",\"PYF\",\"GAB\",\"GMB\",\"GEO\",\"DEU\",\"GHA\",\"GIB\",\"GRC\",\"GRL\",\"GRD\",\"GUM\",\"GTM\",\"GGY\",\"GNB\",\"GIN\",\"GUY\",\"HTI\",\"HND\",\"HKG\",\"HUN\",\"ISL\",\"IND\",\"IDN\",\"IRN\",\"IRQ\",\"IRL\",\"IMN\",\"ISR\",\"ITA\",\"JAM\",\"JPN\",\"JEY\",\"JOR\",\"KAZ\",\"KEN\",\"KIR\",\"KOR\",\"PRK\",\"KSV\",\"KWT\",\"KGZ\",\"LAO\",\"LVA\",\"LBN\",\"LSO\",\"LBR\",\"LBY\",\"LIE\",\"LTU\",\"LUX\",\"MAC\",\"MKD\",\"MDG\",\"MWI\",\"MYS\",\"MDV\",\"MLI\",\"MLT\",\"MHL\",\"MRT\",\"MUS\",\"MEX\",\"FSM\",\"MDA\",\"MCO\",\"MNG\",\"MNE\",\"MAR\",\"MOZ\",\"NAM\",\"NPL\",\"NLD\",\"NCL\",\"NZL\",\"NIC\",\"NGA\",\"NER\",\"NIU\",\"MNP\",\"NOR\",\"OMN\",\"PAK\",\"PLW\",\"PAN\",\"PNG\",\"PRY\",\"PER\",\"PHL\",\"POL\",\"PRT\",\"PRI\",\"QAT\",\"ROU\",\"RUS\",\"RWA\",\"KNA\",\"LCA\",\"MAF\",\"SPM\",\"VCT\",\"WSM\",\"SMR\",\"STP\",\"SAU\",\"SEN\",\"SRB\",\"SYC\",\"SLE\",\"SGP\",\"SXM\",\"SVK\",\"SVN\",\"SLB\",\"SOM\",\"ZAF\",\"SSD\",\"ESP\",\"LKA\",\"SDN\",\"SUR\",\"SWZ\",\"SWE\",\"CHE\",\"SYR\",\"TWN\",\"TJK\",\"TZA\",\"THA\",\"TLS\",\"TGO\",\"TON\",\"TTO\",\"TUN\",\"TUR\",\"TKM\",\"TUV\",\"UGA\",\"UKR\",\"ARE\",\"GBR\",\"USA\",\"URY\",\"UZB\",\"VUT\",\"VEN\",\"VNM\",\"VGB\",\"WBG\",\"YEM\",\"ZMB\",\"ZWE\"],\"text\":[\"Afghanistan\",\"Albania\",\"Algeria\",\"American Samoa\",\"Andorra\",\"Angola\",\"Anguilla\",\"Antigua and Barbuda\",\"Argentina\",\"Armenia\",\"Aruba\",\"Australia\",\"Austria\",\"Azerbaijan\",\"Bahamas, The\",\"Bahrain\",\"Bangladesh\",\"Barbados\",\"Belarus\",\"Belgium\",\"Belize\",\"Benin\",\"Bermuda\",\"Bhutan\",\"Bolivia\",\"Bosnia and Herzegovina\",\"Botswana\",\"Brazil\",\"British Virgin Islands\",\"Brunei\",\"Bulgaria\",\"Burkina Faso\",\"Burma\",\"Burundi\",\"Cabo Verde\",\"Cambodia\",\"Cameroon\",\"Canada\",\"Cayman Islands\",\"Central African Republic\",\"Chad\",\"Chile\",\"China\",\"Colombia\",\"Comoros\",\"Congo, Democratic Republic of the\",\"Congo, Republic of the\",\"Cook Islands\",\"Costa Rica\",\"Cote d'Ivoire\",\"Croatia\",\"Cuba\",\"Curacao\",\"Cyprus\",\"Czech Republic\",\"Denmark\",\"Djibouti\",\"Dominica\",\"Dominican Republic\",\"Ecuador\",\"Egypt\",\"El Salvador\",\"Equatorial Guinea\",\"Eritrea\",\"Estonia\",\"Ethiopia\",\"Falkland Islands (Islas Malvinas)\",\"Faroe Islands\",\"Fiji\",\"Finland\",\"France\",\"French Polynesia\",\"Gabon\",\"Gambia, The\",\"Georgia\",\"Germany\",\"Ghana\",\"Gibraltar\",\"Greece\",\"Greenland\",\"Grenada\",\"Guam\",\"Guatemala\",\"Guernsey\",\"Guinea-Bissau\",\"Guinea\",\"Guyana\",\"Haiti\",\"Honduras\",\"Hong Kong\",\"Hungary\",\"Iceland\",\"India\",\"Indonesia\",\"Iran\",\"Iraq\",\"Ireland\",\"Isle of Man\",\"Israel\",\"Italy\",\"Jamaica\",\"Japan\",\"Jersey\",\"Jordan\",\"Kazakhstan\",\"Kenya\",\"Kiribati\",\"Korea, North\",\"Korea, South\",\"Kosovo\",\"Kuwait\",\"Kyrgyzstan\",\"Laos\",\"Latvia\",\"Lebanon\",\"Lesotho\",\"Liberia\",\"Libya\",\"Liechtenstein\",\"Lithuania\",\"Luxembourg\",\"Macau\",\"Macedonia\",\"Madagascar\",\"Malawi\",\"Malaysia\",\"Maldives\",\"Mali\",\"Malta\",\"Marshall Islands\",\"Mauritania\",\"Mauritius\",\"Mexico\",\"Micronesia, Federated States of\",\"Moldova\",\"Monaco\",\"Mongolia\",\"Montenegro\",\"Morocco\",\"Mozambique\",\"Namibia\",\"Nepal\",\"Netherlands\",\"New Caledonia\",\"New Zealand\",\"Nicaragua\",\"Nigeria\",\"Niger\",\"Niue\",\"Northern Mariana Islands\",\"Norway\",\"Oman\",\"Pakistan\",\"Palau\",\"Panama\",\"Papua New Guinea\",\"Paraguay\",\"Peru\",\"Philippines\",\"Poland\",\"Portugal\",\"Puerto Rico\",\"Qatar\",\"Romania\",\"Russia\",\"Rwanda\",\"Saint Kitts and Nevis\",\"Saint Lucia\",\"Saint Martin\",\"Saint Pierre and Miquelon\",\"Saint Vincent and the Grenadines\",\"Samoa\",\"San Marino\",\"Sao Tome and Principe\",\"Saudi Arabia\",\"Senegal\",\"Serbia\",\"Seychelles\",\"Sierra Leone\",\"Singapore\",\"Sint Maarten\",\"Slovakia\",\"Slovenia\",\"Solomon Islands\",\"Somalia\",\"South Africa\",\"South Sudan\",\"Spain\",\"Sri Lanka\",\"Sudan\",\"Suriname\",\"Swaziland\",\"Sweden\",\"Switzerland\",\"Syria\",\"Taiwan\",\"Tajikistan\",\"Tanzania\",\"Thailand\",\"Timor-Leste\",\"Togo\",\"Tonga\",\"Trinidad and Tobago\",\"Tunisia\",\"Turkey\",\"Turkmenistan\",\"Tuvalu\",\"Uganda\",\"Ukraine\",\"United Arab Emirates\",\"United Kingdom\",\"United States\",\"Uruguay\",\"Uzbekistan\",\"Vanuatu\",\"Venezuela\",\"Vietnam\",\"Virgin Islands\",\"West Bank\",\"Yemen\",\"Zambia\",\"Zimbabwe\"],\"type\":\"choropleth\",\"z\":[21.71,13.4,227.8,0.75,4.8,131.4,0.18,1.24,536.2,10.88,2.52,1483.0,436.1,77.91,8.65,34.05,186.6,4.28,75.25,527.8,1.67,9.24,5.2,2.09,34.08,19.55,16.3,2244.0,1.1,17.43,55.08,13.38,65.29,3.04,1.98,16.9,32.16,1794.0,2.25,1.73,15.84,264.1,10360.0,400.1,0.72,32.67,14.11,0.18,50.46,33.96,57.18,77.15,5.6,21.34,205.6,347.2,1.58,0.51,64.05,100.5,284.9,25.14,15.4,3.87,26.36,49.86,0.16,2.32,4.17,276.3,2902.0,7.15,20.68,0.92,16.13,3820.0,35.48,1.85,246.4,2.16,0.84,4.6,58.3,2.74,1.04,6.77,3.14,8.92,19.37,292.7,129.7,16.2,2048.0,856.1,402.7,232.2,245.8,4.08,305.0,2129.0,13.92,4770.0,5.77,36.55,225.6,62.72,0.16,28.0,1410.0,5.99,179.3,7.65,11.71,32.82,47.5,2.46,2.07,49.34,5.11,48.72,63.93,51.68,10.92,11.19,4.41,336.9,2.41,12.04,10.57,0.18,4.29,12.72,1296.0,0.34,7.74,6.06,11.73,4.66,112.6,16.59,13.11,19.64,880.4,11.1,201.0,11.85,594.3,8.29,0.01,1.23,511.6,80.54,237.5,0.65,44.69,16.1,31.3,208.2,284.6,552.2,228.2,93.52,212.0,199.0,2057.0,8.0,0.81,1.35,0.56,0.22,0.75,0.83,1.86,0.36,777.9,15.88,42.65,1.47,5.41,307.9,304.1,99.75,49.93,1.16,2.37,341.2,11.89,1400.0,71.57,70.03,5.27,3.84,559.1,679.0,64.7,529.5,9.16,36.62,373.8,4.51,4.84,0.49,29.63,49.12,813.3,43.5,0.04,26.09,134.9,416.4,2848.0,17420.0,55.6,63.08,0.82,209.2,187.8,5.08,6.64,45.45,25.61,13.74]}],                        {\"geo\":{\"showframe\":false},\"template\":{\"data\":{\"bar\":[{\"error_x\":{\"color\":\"#2a3f5f\"},\"error_y\":{\"color\":\"#2a3f5f\"},\"marker\":{\"line\":{\"color\":\"#E5ECF6\",\"width\":0.5},\"pattern\":{\"fillmode\":\"overlay\",\"size\":10,\"solidity\":0.2}},\"type\":\"bar\"}],\"barpolar\":[{\"marker\":{\"line\":{\"color\":\"#E5ECF6\",\"width\":0.5},\"pattern\":{\"fillmode\":\"overlay\",\"size\":10,\"solidity\":0.2}},\"type\":\"barpolar\"}],\"carpet\":[{\"aaxis\":{\"endlinecolor\":\"#2a3f5f\",\"gridcolor\":\"white\",\"linecolor\":\"white\",\"minorgridcolor\":\"white\",\"startlinecolor\":\"#2a3f5f\"},\"baxis\":{\"endlinecolor\":\"#2a3f5f\",\"gridcolor\":\"white\",\"linecolor\":\"white\",\"minorgridcolor\":\"white\",\"startlinecolor\":\"#2a3f5f\"},\"type\":\"carpet\"}],\"choropleth\":[{\"colorbar\":{\"outlinewidth\":0,\"ticks\":\"\"},\"type\":\"choropleth\"}],\"contour\":[{\"colorbar\":{\"outlinewidth\":0,\"ticks\":\"\"},\"colorscale\":[[0.0,\"#0d0887\"],[0.1111111111111111,\"#46039f\"],[0.2222222222222222,\"#7201a8\"],[0.3333333333333333,\"#9c179e\"],[0.4444444444444444,\"#bd3786\"],[0.5555555555555556,\"#d8576b\"],[0.6666666666666666,\"#ed7953\"],[0.7777777777777778,\"#fb9f3a\"],[0.8888888888888888,\"#fdca26\"],[1.0,\"#f0f921\"]],\"type\":\"contour\"}],\"contourcarpet\":[{\"colorbar\":{\"outlinewidth\":0,\"ticks\":\"\"},\"type\":\"contourcarpet\"}],\"heatmap\":[{\"colorbar\":{\"outlinewidth\":0,\"ticks\":\"\"},\"colorscale\":[[0.0,\"#0d0887\"],[0.1111111111111111,\"#46039f\"],[0.2222222222222222,\"#7201a8\"],[0.3333333333333333,\"#9c179e\"],[0.4444444444444444,\"#bd3786\"],[0.5555555555555556,\"#d8576b\"],[0.6666666666666666,\"#ed7953\"],[0.7777777777777778,\"#fb9f3a\"],[0.8888888888888888,\"#fdca26\"],[1.0,\"#f0f921\"]],\"type\":\"heatmap\"}],\"heatmapgl\":[{\"colorbar\":{\"outlinewidth\":0,\"ticks\":\"\"},\"colorscale\":[[0.0,\"#0d0887\"],[0.1111111111111111,\"#46039f\"],[0.2222222222222222,\"#7201a8\"],[0.3333333333333333,\"#9c179e\"],[0.4444444444444444,\"#bd3786\"],[0.5555555555555556,\"#d8576b\"],[0.6666666666666666,\"#ed7953\"],[0.7777777777777778,\"#fb9f3a\"],[0.8888888888888888,\"#fdca26\"],[1.0,\"#f0f921\"]],\"type\":\"heatmapgl\"}],\"histogram\":[{\"marker\":{\"pattern\":{\"fillmode\":\"overlay\",\"size\":10,\"solidity\":0.2}},\"type\":\"histogram\"}],\"histogram2d\":[{\"colorbar\":{\"outlinewidth\":0,\"ticks\":\"\"},\"colorscale\":[[0.0,\"#0d0887\"],[0.1111111111111111,\"#46039f\"],[0.2222222222222222,\"#7201a8\"],[0.3333333333333333,\"#9c179e\"],[0.4444444444444444,\"#bd3786\"],[0.5555555555555556,\"#d8576b\"],[0.6666666666666666,\"#ed7953\"],[0.7777777777777778,\"#fb9f3a\"],[0.8888888888888888,\"#fdca26\"],[1.0,\"#f0f921\"]],\"type\":\"histogram2d\"}],\"histogram2dcontour\":[{\"colorbar\":{\"outlinewidth\":0,\"ticks\":\"\"},\"colorscale\":[[0.0,\"#0d0887\"],[0.1111111111111111,\"#46039f\"],[0.2222222222222222,\"#7201a8\"],[0.3333333333333333,\"#9c179e\"],[0.4444444444444444,\"#bd3786\"],[0.5555555555555556,\"#d8576b\"],[0.6666666666666666,\"#ed7953\"],[0.7777777777777778,\"#fb9f3a\"],[0.8888888888888888,\"#fdca26\"],[1.0,\"#f0f921\"]],\"type\":\"histogram2dcontour\"}],\"mesh3d\":[{\"colorbar\":{\"outlinewidth\":0,\"ticks\":\"\"},\"type\":\"mesh3d\"}],\"parcoords\":[{\"line\":{\"colorbar\":{\"outlinewidth\":0,\"ticks\":\"\"}},\"type\":\"parcoords\"}],\"pie\":[{\"automargin\":true,\"type\":\"pie\"}],\"scatter\":[{\"marker\":{\"colorbar\":{\"outlinewidth\":0,\"ticks\":\"\"}},\"type\":\"scatter\"}],\"scatter3d\":[{\"line\":{\"colorbar\":{\"outlinewidth\":0,\"ticks\":\"\"}},\"marker\":{\"colorbar\":{\"outlinewidth\":0,\"ticks\":\"\"}},\"type\":\"scatter3d\"}],\"scattercarpet\":[{\"marker\":{\"colorbar\":{\"outlinewidth\":0,\"ticks\":\"\"}},\"type\":\"scattercarpet\"}],\"scattergeo\":[{\"marker\":{\"colorbar\":{\"outlinewidth\":0,\"ticks\":\"\"}},\"type\":\"scattergeo\"}],\"scattergl\":[{\"marker\":{\"colorbar\":{\"outlinewidth\":0,\"ticks\":\"\"}},\"type\":\"scattergl\"}],\"scattermapbox\":[{\"marker\":{\"colorbar\":{\"outlinewidth\":0,\"ticks\":\"\"}},\"type\":\"scattermapbox\"}],\"scatterpolar\":[{\"marker\":{\"colorbar\":{\"outlinewidth\":0,\"ticks\":\"\"}},\"type\":\"scatterpolar\"}],\"scatterpolargl\":[{\"marker\":{\"colorbar\":{\"outlinewidth\":0,\"ticks\":\"\"}},\"type\":\"scatterpolargl\"}],\"scatterternary\":[{\"marker\":{\"colorbar\":{\"outlinewidth\":0,\"ticks\":\"\"}},\"type\":\"scatterternary\"}],\"surface\":[{\"colorbar\":{\"outlinewidth\":0,\"ticks\":\"\"},\"colorscale\":[[0.0,\"#0d0887\"],[0.1111111111111111,\"#46039f\"],[0.2222222222222222,\"#7201a8\"],[0.3333333333333333,\"#9c179e\"],[0.4444444444444444,\"#bd3786\"],[0.5555555555555556,\"#d8576b\"],[0.6666666666666666,\"#ed7953\"],[0.7777777777777778,\"#fb9f3a\"],[0.8888888888888888,\"#fdca26\"],[1.0,\"#f0f921\"]],\"type\":\"surface\"}],\"table\":[{\"cells\":{\"fill\":{\"color\":\"#EBF0F8\"},\"line\":{\"color\":\"white\"}},\"header\":{\"fill\":{\"color\":\"#C8D4E3\"},\"line\":{\"color\":\"white\"}},\"type\":\"table\"}]},\"layout\":{\"annotationdefaults\":{\"arrowcolor\":\"#2a3f5f\",\"arrowhead\":0,\"arrowwidth\":1},\"autotypenumbers\":\"strict\",\"coloraxis\":{\"colorbar\":{\"outlinewidth\":0,\"ticks\":\"\"}},\"colorscale\":{\"diverging\":[[0,\"#8e0152\"],[0.1,\"#c51b7d\"],[0.2,\"#de77ae\"],[0.3,\"#f1b6da\"],[0.4,\"#fde0ef\"],[0.5,\"#f7f7f7\"],[0.6,\"#e6f5d0\"],[0.7,\"#b8e186\"],[0.8,\"#7fbc41\"],[0.9,\"#4d9221\"],[1,\"#276419\"]],\"sequential\":[[0.0,\"#0d0887\"],[0.1111111111111111,\"#46039f\"],[0.2222222222222222,\"#7201a8\"],[0.3333333333333333,\"#9c179e\"],[0.4444444444444444,\"#bd3786\"],[0.5555555555555556,\"#d8576b\"],[0.6666666666666666,\"#ed7953\"],[0.7777777777777778,\"#fb9f3a\"],[0.8888888888888888,\"#fdca26\"],[1.0,\"#f0f921\"]],\"sequentialminus\":[[0.0,\"#0d0887\"],[0.1111111111111111,\"#46039f\"],[0.2222222222222222,\"#7201a8\"],[0.3333333333333333,\"#9c179e\"],[0.4444444444444444,\"#bd3786\"],[0.5555555555555556,\"#d8576b\"],[0.6666666666666666,\"#ed7953\"],[0.7777777777777778,\"#fb9f3a\"],[0.8888888888888888,\"#fdca26\"],[1.0,\"#f0f921\"]]},\"colorway\":[\"#636efa\",\"#EF553B\",\"#00cc96\",\"#ab63fa\",\"#FFA15A\",\"#19d3f3\",\"#FF6692\",\"#B6E880\",\"#FF97FF\",\"#FECB52\"],\"font\":{\"color\":\"#2a3f5f\"},\"geo\":{\"bgcolor\":\"white\",\"lakecolor\":\"white\",\"landcolor\":\"#E5ECF6\",\"showlakes\":true,\"showland\":true,\"subunitcolor\":\"white\"},\"hoverlabel\":{\"align\":\"left\"},\"hovermode\":\"closest\",\"mapbox\":{\"style\":\"light\"},\"paper_bgcolor\":\"white\",\"plot_bgcolor\":\"#E5ECF6\",\"polar\":{\"angularaxis\":{\"gridcolor\":\"white\",\"linecolor\":\"white\",\"ticks\":\"\"},\"bgcolor\":\"#E5ECF6\",\"radialaxis\":{\"gridcolor\":\"white\",\"linecolor\":\"white\",\"ticks\":\"\"}},\"scene\":{\"xaxis\":{\"backgroundcolor\":\"#E5ECF6\",\"gridcolor\":\"white\",\"gridwidth\":2,\"linecolor\":\"white\",\"showbackground\":true,\"ticks\":\"\",\"zerolinecolor\":\"white\"},\"yaxis\":{\"backgroundcolor\":\"#E5ECF6\",\"gridcolor\":\"white\",\"gridwidth\":2,\"linecolor\":\"white\",\"showbackground\":true,\"ticks\":\"\",\"zerolinecolor\":\"white\"},\"zaxis\":{\"backgroundcolor\":\"#E5ECF6\",\"gridcolor\":\"white\",\"gridwidth\":2,\"linecolor\":\"white\",\"showbackground\":true,\"ticks\":\"\",\"zerolinecolor\":\"white\"}},\"shapedefaults\":{\"line\":{\"color\":\"#2a3f5f\"}},\"ternary\":{\"aaxis\":{\"gridcolor\":\"white\",\"linecolor\":\"white\",\"ticks\":\"\"},\"baxis\":{\"gridcolor\":\"white\",\"linecolor\":\"white\",\"ticks\":\"\"},\"bgcolor\":\"#E5ECF6\",\"caxis\":{\"gridcolor\":\"white\",\"linecolor\":\"white\",\"ticks\":\"\"}},\"title\":{\"x\":0.05},\"xaxis\":{\"automargin\":true,\"gridcolor\":\"white\",\"linecolor\":\"white\",\"ticks\":\"\",\"title\":{\"standoff\":15},\"zerolinecolor\":\"white\",\"zerolinewidth\":2},\"yaxis\":{\"automargin\":true,\"gridcolor\":\"white\",\"linecolor\":\"white\",\"ticks\":\"\",\"title\":{\"standoff\":15},\"zerolinecolor\":\"white\",\"zerolinewidth\":2}}},\"title\":{\"text\":\"2014 Global GDP\"}},                        {\"responsive\": true}                    ).then(function(){\n",
       "                            \n",
       "var gd = document.getElementById('764846ef-de98-42d9-933e-322980d5c517');\n",
       "var x = new MutationObserver(function (mutations, observer) {{\n",
       "        var display = window.getComputedStyle(gd).display;\n",
       "        if (!display || display === 'none') {{\n",
       "            console.log([gd, 'removed!']);\n",
       "            Plotly.purge(gd);\n",
       "            observer.disconnect();\n",
       "        }}\n",
       "}});\n",
       "\n",
       "// Listen for the removal of the full notebook cells\n",
       "var notebookContainer = gd.closest('#notebook-container');\n",
       "if (notebookContainer) {{\n",
       "    x.observe(notebookContainer, {childList: true});\n",
       "}}\n",
       "\n",
       "// Listen for the clearing of the current output cell\n",
       "var outputEl = gd.closest('.output');\n",
       "if (outputEl) {{\n",
       "    x.observe(outputEl, {childList: true});\n",
       "}}\n",
       "\n",
       "                        })                };                });            </script>        </div>"
      ]
     },
     "metadata": {},
     "output_type": "display_data"
    }
   ],
   "source": [
    "choromap = go.Figure(data = [data],layout = layout)\n",
    "iplot(choromap)"
   ]
  },
  {
   "cell_type": "code",
   "execution_count": null,
   "metadata": {},
   "outputs": [],
   "source": []
  }
 ],
 "metadata": {
  "kernelspec": {
   "display_name": "Python 3",
   "language": "python",
   "name": "python3"
  },
  "language_info": {
   "codemirror_mode": {
    "name": "ipython",
    "version": 3
   },
   "file_extension": ".py",
   "mimetype": "text/x-python",
   "name": "python",
   "nbconvert_exporter": "python",
   "pygments_lexer": "ipython3",
   "version": "3.8.8"
  }
 },
 "nbformat": 4,
 "nbformat_minor": 1
}
