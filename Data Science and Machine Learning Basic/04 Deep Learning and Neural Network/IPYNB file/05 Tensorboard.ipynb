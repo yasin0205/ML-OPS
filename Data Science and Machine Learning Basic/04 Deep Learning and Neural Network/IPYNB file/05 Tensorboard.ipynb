{
 "cells": [
  {
   "cell_type": "markdown",
   "metadata": {},
   "source": [
    "<a href=\"https://www.pieriandata.com\"><img src=\"../Pierian_Data_Logo.PNG\"></a>\n",
    "<strong><center>Copyright by Pierian Data Inc.</center></strong> \n",
    "<strong><center>Created by Jose Marcial Portilla.</center></strong>"
   ]
  },
  {
   "cell_type": "markdown",
   "metadata": {},
   "source": [
    "# Tensorboard\n",
    "\n",
    "---\n",
    "\n",
    "Let's explore the built in data visualization capabilities that come with Tensorboard.\n",
    "\n",
    "Full official tutorial available here: https://www.tensorflow.org/tensorboard/get_started\n",
    "\n",
    "## Data"
   ]
  },
  {
   "cell_type": "code",
   "execution_count": 1,
   "metadata": {},
   "outputs": [],
   "source": [
    "import pandas as pd\n",
    "import numpy as np"
   ]
  },
  {
   "cell_type": "code",
   "execution_count": 2,
   "metadata": {},
   "outputs": [],
   "source": [
    "df = pd.read_csv('03 Kera Classification.csv')"
   ]
  },
  {
   "cell_type": "markdown",
   "metadata": {},
   "source": [
    "### Train Test Split"
   ]
  },
  {
   "cell_type": "code",
   "execution_count": 3,
   "metadata": {},
   "outputs": [],
   "source": [
    "X = df.drop('benign_0__mal_1',axis=1).values\n",
    "y = df['benign_0__mal_1'].values"
   ]
  },
  {
   "cell_type": "code",
   "execution_count": 4,
   "metadata": {},
   "outputs": [],
   "source": [
    "from sklearn.model_selection import train_test_split"
   ]
  },
  {
   "cell_type": "code",
   "execution_count": 5,
   "metadata": {},
   "outputs": [],
   "source": [
    "X_train, X_test, y_train, y_test = train_test_split(X,y,test_size=0.25,random_state=101)"
   ]
  },
  {
   "cell_type": "markdown",
   "metadata": {},
   "source": [
    "\n",
    "### Scaling Data"
   ]
  },
  {
   "cell_type": "code",
   "execution_count": 6,
   "metadata": {},
   "outputs": [],
   "source": [
    "from sklearn.preprocessing import MinMaxScaler"
   ]
  },
  {
   "cell_type": "code",
   "execution_count": 7,
   "metadata": {},
   "outputs": [],
   "source": [
    "scaler = MinMaxScaler()"
   ]
  },
  {
   "cell_type": "code",
   "execution_count": 8,
   "metadata": {},
   "outputs": [
    {
     "data": {
      "text/plain": [
       "MinMaxScaler()"
      ]
     },
     "execution_count": 8,
     "metadata": {},
     "output_type": "execute_result"
    }
   ],
   "source": [
    "scaler.fit(X_train)"
   ]
  },
  {
   "cell_type": "code",
   "execution_count": 9,
   "metadata": {},
   "outputs": [],
   "source": [
    "X_train = scaler.transform(X_train)\n",
    "X_test = scaler.transform(X_test)"
   ]
  },
  {
   "cell_type": "markdown",
   "metadata": {},
   "source": [
    "## Creating the Model"
   ]
  },
  {
   "cell_type": "code",
   "execution_count": 10,
   "metadata": {},
   "outputs": [],
   "source": [
    "import tensorflow as tf\n",
    "from tensorflow.keras.models import Sequential\n",
    "from tensorflow.keras.layers import Dense, Activation,Dropout"
   ]
  },
  {
   "cell_type": "code",
   "execution_count": 11,
   "metadata": {},
   "outputs": [],
   "source": [
    "from tensorflow.keras.callbacks import EarlyStopping,TensorBoard"
   ]
  },
  {
   "cell_type": "code",
   "execution_count": 12,
   "metadata": {},
   "outputs": [],
   "source": [
    "early_stop = EarlyStopping(monitor='val_loss', mode='min', verbose=1, patience=25)"
   ]
  },
  {
   "cell_type": "code",
   "execution_count": 13,
   "metadata": {},
   "outputs": [
    {
     "data": {
      "text/plain": [
       "'C:\\\\Users\\\\Yasin\\\\Desktop\\\\Machine Excercise\\\\New folder\\\\Deep Learning and Neural Network'"
      ]
     },
     "execution_count": 13,
     "metadata": {},
     "output_type": "execute_result"
    }
   ],
   "source": [
    "pwd"
   ]
  },
  {
   "cell_type": "markdown",
   "metadata": {},
   "source": [
    "## Creating the Tensorboard Callback\n",
    "\n",
    "TensorBoard is a visualization tool provided with TensorFlow.\n",
    "\n",
    "This callback logs events for TensorBoard, including:\n",
    "* Metrics summary plots\n",
    "* Training graph visualization\n",
    "* Activation histograms\n",
    "* Sampled profiling\n",
    "\n",
    "If you have installed TensorFlow with pip, you should be able\n",
    "to launch TensorBoard from the command line:\n",
    "\n",
    "```sh\n",
    "tensorboard --logdir=path_to_your_logs\n",
    "```\n",
    "\n",
    "You can find more information about TensorBoard\n",
    "[here](https://www.tensorflow.org/tensorboard/).\n",
    "\n",
    "    Arguments:\n",
    "        log_dir: the path of the directory where to save the log files to be\n",
    "          parsed by TensorBoard.\n",
    "        histogram_freq: frequency (in epochs) at which to compute activation and\n",
    "          weight histograms for the layers of the model. If set to 0, histograms\n",
    "          won't be computed. Validation data (or split) must be specified for\n",
    "          histogram visualizations.\n",
    "        write_graph: whether to visualize the graph in TensorBoard. The log file\n",
    "          can become quite large when write_graph is set to True.\n",
    "        write_images: whether to write model weights to visualize as image in\n",
    "          TensorBoard.\n",
    "        update_freq: `'batch'` or `'epoch'` or integer. When using `'batch'`,\n",
    "          writes the losses and metrics to TensorBoard after each batch. The same\n",
    "          applies for `'epoch'`. If using an integer, let's say `1000`, the\n",
    "          callback will write the metrics and losses to TensorBoard every 1000\n",
    "          samples. Note that writing too frequently to TensorBoard can slow down\n",
    "          your training.\n",
    "        profile_batch: Profile the batch to sample compute characteristics. By\n",
    "          default, it will profile the second batch. Set profile_batch=0 to\n",
    "          disable profiling. Must run in TensorFlow eager mode.\n",
    "        embeddings_freq: frequency (in epochs) at which embedding layers will\n",
    "          be visualized. If set to 0, embeddings won't be visualized.\n",
    "       "
   ]
  },
  {
   "cell_type": "code",
   "execution_count": 14,
   "metadata": {},
   "outputs": [],
   "source": [
    "from datetime import datetime"
   ]
  },
  {
   "cell_type": "code",
   "execution_count": 15,
   "metadata": {},
   "outputs": [
    {
     "data": {
      "text/plain": [
       "'2021-09-20--1846'"
      ]
     },
     "execution_count": 15,
     "metadata": {},
     "output_type": "execute_result"
    }
   ],
   "source": [
    "datetime.now().strftime(\"%Y-%m-%d--%H%M\")"
   ]
  },
  {
   "cell_type": "code",
   "execution_count": 16,
   "metadata": {},
   "outputs": [],
   "source": [
    "# WINDOWS: Use \"logs\\\\fit\"\n",
    "# MACOS/LINUX: Use \"logs\\fit\"\n",
    "\n",
    "log_directory = 'logs\\\\fit'\n",
    "\n",
    "# OPTIONAL: ADD A TIMESTAMP FOR UNIQUE FOLDER\n",
    "# timestamp = datetime.now().strftime(\"%Y-%m-%d--%H%M\")\n",
    "# log_directory = log_directory + '\\\\' + timestamp\n",
    "\n",
    "\n",
    "board = TensorBoard(log_dir=log_directory,histogram_freq=1,\n",
    "    write_graph=True,\n",
    "    write_images=True,\n",
    "    update_freq='epoch',\n",
    "    profile_batch=2,\n",
    "    embeddings_freq=1)"
   ]
  },
  {
   "cell_type": "markdown",
   "metadata": {},
   "source": [
    "Now create the model layers:"
   ]
  },
  {
   "cell_type": "code",
   "execution_count": 17,
   "metadata": {},
   "outputs": [],
   "source": [
    "model = Sequential()\n",
    "model.add(Dense(units=30,activation='relu'))\n",
    "model.add(Dropout(0.5))\n",
    "model.add(Dense(units=15,activation='relu'))\n",
    "model.add(Dropout(0.5))\n",
    "model.add(Dense(units=1,activation='sigmoid'))\n",
    "model.compile(loss='binary_crossentropy', optimizer='adam')"
   ]
  },
  {
   "cell_type": "markdown",
   "metadata": {},
   "source": [
    "## Train the Model"
   ]
  },
  {
   "cell_type": "code",
   "execution_count": 18,
   "metadata": {},
   "outputs": [
    {
     "name": "stdout",
     "output_type": "stream",
     "text": [
      "Epoch 1/600\n",
      " 1/14 [=>............................] - ETA: 0s - loss: 0.7480WARNING:tensorflow:From C:\\Users\\Yasin\\anaconda3\\lib\\site-packages\\tensorflow\\python\\ops\\summary_ops_v2.py:1277: stop (from tensorflow.python.eager.profiler) is deprecated and will be removed after 2020-07-01.\n",
      "Instructions for updating:\n",
      "use `tf.profiler.experimental.stop` instead.\n",
      " 2/14 [===>..........................] - ETA: 3s - loss: 0.8036WARNING:tensorflow:Callbacks method `on_train_batch_end` is slow compared to the batch time (batch time: 0.0350s vs `on_train_batch_end` time: 0.4991s). Check your callbacks.\n",
      "14/14 [==============================] - 1s 98ms/step - loss: 0.7412 - val_loss: 0.6886\n",
      "Epoch 2/600\n",
      "14/14 [==============================] - 0s 26ms/step - loss: 0.6822 - val_loss: 0.6621\n",
      "Epoch 3/600\n",
      "14/14 [==============================] - 0s 26ms/step - loss: 0.6791 - val_loss: 0.6441\n",
      "Epoch 4/600\n",
      "14/14 [==============================] - 0s 23ms/step - loss: 0.6405 - val_loss: 0.6227\n",
      "Epoch 5/600\n",
      "14/14 [==============================] - 0s 24ms/step - loss: 0.6325 - val_loss: 0.6006\n",
      "Epoch 6/600\n",
      "14/14 [==============================] - 0s 20ms/step - loss: 0.6045 - val_loss: 0.5683\n",
      "Epoch 7/600\n",
      "14/14 [==============================] - 0s 21ms/step - loss: 0.5800 - val_loss: 0.5366\n",
      "Epoch 8/600\n",
      "14/14 [==============================] - 0s 22ms/step - loss: 0.5666 - val_loss: 0.5114\n",
      "Epoch 9/600\n",
      "14/14 [==============================] - 0s 23ms/step - loss: 0.5538 - val_loss: 0.4860\n",
      "Epoch 10/600\n",
      "14/14 [==============================] - 0s 24ms/step - loss: 0.5227 - val_loss: 0.4564\n",
      "Epoch 11/600\n",
      "14/14 [==============================] - 0s 19ms/step - loss: 0.5255 - val_loss: 0.4340\n",
      "Epoch 12/600\n",
      "14/14 [==============================] - 0s 20ms/step - loss: 0.4899 - val_loss: 0.4141\n",
      "Epoch 13/600\n",
      "14/14 [==============================] - 0s 26ms/step - loss: 0.4763 - val_loss: 0.3910\n",
      "Epoch 14/600\n",
      "14/14 [==============================] - 0s 21ms/step - loss: 0.4380 - val_loss: 0.3699\n",
      "Epoch 15/600\n",
      "14/14 [==============================] - 0s 23ms/step - loss: 0.4219 - val_loss: 0.3505\n",
      "Epoch 16/600\n",
      "14/14 [==============================] - 0s 20ms/step - loss: 0.4121 - val_loss: 0.3308\n",
      "Epoch 17/600\n",
      "14/14 [==============================] - 0s 23ms/step - loss: 0.3850 - val_loss: 0.3162\n",
      "Epoch 18/600\n",
      "14/14 [==============================] - 0s 27ms/step - loss: 0.3619 - val_loss: 0.2977\n",
      "Epoch 19/600\n",
      "14/14 [==============================] - 0s 26ms/step - loss: 0.3614 - val_loss: 0.2812\n",
      "Epoch 20/600\n",
      "14/14 [==============================] - 0s 22ms/step - loss: 0.3750 - val_loss: 0.2689\n",
      "Epoch 21/600\n",
      "14/14 [==============================] - 0s 23ms/step - loss: 0.3531 - val_loss: 0.2569\n",
      "Epoch 22/600\n",
      "14/14 [==============================] - 0s 22ms/step - loss: 0.3345 - val_loss: 0.2512\n",
      "Epoch 23/600\n",
      "14/14 [==============================] - 0s 23ms/step - loss: 0.3085 - val_loss: 0.2369\n",
      "Epoch 24/600\n",
      "14/14 [==============================] - 0s 24ms/step - loss: 0.3182 - val_loss: 0.2291\n",
      "Epoch 25/600\n",
      "14/14 [==============================] - 0s 28ms/step - loss: 0.2944 - val_loss: 0.2244\n",
      "Epoch 26/600\n",
      "14/14 [==============================] - 0s 29ms/step - loss: 0.3110 - val_loss: 0.2126\n",
      "Epoch 27/600\n",
      "14/14 [==============================] - 0s 29ms/step - loss: 0.3029 - val_loss: 0.2031\n",
      "Epoch 28/600\n",
      "14/14 [==============================] - 0s 21ms/step - loss: 0.2818 - val_loss: 0.1994\n",
      "Epoch 29/600\n",
      "14/14 [==============================] - 0s 21ms/step - loss: 0.2746 - val_loss: 0.1948\n",
      "Epoch 30/600\n",
      "14/14 [==============================] - 0s 24ms/step - loss: 0.2764 - val_loss: 0.1838\n",
      "Epoch 31/600\n",
      "14/14 [==============================] - 0s 22ms/step - loss: 0.2409 - val_loss: 0.1787\n",
      "Epoch 32/600\n",
      "14/14 [==============================] - 0s 19ms/step - loss: 0.2367 - val_loss: 0.1730\n",
      "Epoch 33/600\n",
      "14/14 [==============================] - 0s 19ms/step - loss: 0.2654 - val_loss: 0.1724\n",
      "Epoch 34/600\n",
      "14/14 [==============================] - 0s 20ms/step - loss: 0.2487 - val_loss: 0.1686\n",
      "Epoch 35/600\n",
      "14/14 [==============================] - 0s 20ms/step - loss: 0.2662 - val_loss: 0.1646\n",
      "Epoch 36/600\n",
      "14/14 [==============================] - 0s 26ms/step - loss: 0.2284 - val_loss: 0.1643\n",
      "Epoch 37/600\n",
      "14/14 [==============================] - 0s 23ms/step - loss: 0.2476 - val_loss: 0.1604\n",
      "Epoch 38/600\n",
      "14/14 [==============================] - 0s 21ms/step - loss: 0.2079 - val_loss: 0.1538\n",
      "Epoch 39/600\n",
      "14/14 [==============================] - 0s 24ms/step - loss: 0.2514 - val_loss: 0.1561\n",
      "Epoch 40/600\n",
      "14/14 [==============================] - 0s 27ms/step - loss: 0.2026 - val_loss: 0.1522\n",
      "Epoch 41/600\n",
      "14/14 [==============================] - 0s 20ms/step - loss: 0.2201 - val_loss: 0.1518\n",
      "Epoch 42/600\n",
      "14/14 [==============================] - 0s 26ms/step - loss: 0.2115 - val_loss: 0.1449\n",
      "Epoch 43/600\n",
      "14/14 [==============================] - 0s 23ms/step - loss: 0.1741 - val_loss: 0.1424\n",
      "Epoch 44/600\n",
      "14/14 [==============================] - 0s 25ms/step - loss: 0.2182 - val_loss: 0.1396\n",
      "Epoch 45/600\n",
      "14/14 [==============================] - 0s 22ms/step - loss: 0.1773 - val_loss: 0.1375\n",
      "Epoch 46/600\n",
      "14/14 [==============================] - 0s 28ms/step - loss: 0.1979 - val_loss: 0.1490\n",
      "Epoch 47/600\n",
      "14/14 [==============================] - 0s 25ms/step - loss: 0.2142 - val_loss: 0.1379\n",
      "Epoch 48/600\n",
      "14/14 [==============================] - 0s 24ms/step - loss: 0.1838 - val_loss: 0.1344\n",
      "Epoch 49/600\n",
      "14/14 [==============================] - 0s 23ms/step - loss: 0.1863 - val_loss: 0.1329\n",
      "Epoch 50/600\n",
      "14/14 [==============================] - 0s 22ms/step - loss: 0.1827 - val_loss: 0.1345\n",
      "Epoch 51/600\n",
      "14/14 [==============================] - 0s 25ms/step - loss: 0.1739 - val_loss: 0.1296\n",
      "Epoch 52/600\n",
      "14/14 [==============================] - 0s 26ms/step - loss: 0.1666 - val_loss: 0.1278\n",
      "Epoch 53/600\n",
      "14/14 [==============================] - 0s 25ms/step - loss: 0.1704 - val_loss: 0.1325\n",
      "Epoch 54/600\n",
      "14/14 [==============================] - 0s 30ms/step - loss: 0.1965 - val_loss: 0.1247\n",
      "Epoch 55/600\n",
      "14/14 [==============================] - 0s 23ms/step - loss: 0.1539 - val_loss: 0.1245\n",
      "Epoch 56/600\n",
      "14/14 [==============================] - 0s 27ms/step - loss: 0.1551 - val_loss: 0.1231\n",
      "Epoch 57/600\n",
      "14/14 [==============================] - 0s 24ms/step - loss: 0.1394 - val_loss: 0.1215\n",
      "Epoch 58/600\n",
      "14/14 [==============================] - 0s 25ms/step - loss: 0.1511 - val_loss: 0.1267\n",
      "Epoch 59/600\n",
      "14/14 [==============================] - 0s 26ms/step - loss: 0.1669 - val_loss: 0.1283\n",
      "Epoch 60/600\n",
      "14/14 [==============================] - 0s 30ms/step - loss: 0.1501 - val_loss: 0.1185\n",
      "Epoch 61/600\n",
      "14/14 [==============================] - 0s 24ms/step - loss: 0.1751 - val_loss: 0.1197\n",
      "Epoch 62/600\n",
      "14/14 [==============================] - 0s 24ms/step - loss: 0.1287 - val_loss: 0.1207\n",
      "Epoch 63/600\n",
      "14/14 [==============================] - 0s 19ms/step - loss: 0.1548 - val_loss: 0.1153\n",
      "Epoch 64/600\n",
      "14/14 [==============================] - 0s 23ms/step - loss: 0.1449 - val_loss: 0.1177\n",
      "Epoch 65/600\n",
      "14/14 [==============================] - 0s 25ms/step - loss: 0.1782 - val_loss: 0.1147\n",
      "Epoch 66/600\n",
      "14/14 [==============================] - 0s 22ms/step - loss: 0.1456 - val_loss: 0.1165\n",
      "Epoch 67/600\n",
      "14/14 [==============================] - 0s 25ms/step - loss: 0.1142 - val_loss: 0.1143\n",
      "Epoch 68/600\n",
      "14/14 [==============================] - 0s 28ms/step - loss: 0.1300 - val_loss: 0.1206\n",
      "Epoch 69/600\n",
      "14/14 [==============================] - 0s 25ms/step - loss: 0.1413 - val_loss: 0.1169\n",
      "Epoch 70/600\n",
      "14/14 [==============================] - 0s 21ms/step - loss: 0.1335 - val_loss: 0.1154\n",
      "Epoch 71/600\n",
      "14/14 [==============================] - 0s 24ms/step - loss: 0.1230 - val_loss: 0.1089\n",
      "Epoch 72/600\n",
      "14/14 [==============================] - 0s 21ms/step - loss: 0.1362 - val_loss: 0.1177\n",
      "Epoch 73/600\n",
      "14/14 [==============================] - 0s 26ms/step - loss: 0.1401 - val_loss: 0.1155\n",
      "Epoch 74/600\n",
      "14/14 [==============================] - 0s 21ms/step - loss: 0.1228 - val_loss: 0.1142\n",
      "Epoch 75/600\n",
      "14/14 [==============================] - 0s 31ms/step - loss: 0.1465 - val_loss: 0.1107\n",
      "Epoch 76/600\n"
     ]
    },
    {
     "name": "stdout",
     "output_type": "stream",
     "text": [
      "14/14 [==============================] - 0s 25ms/step - loss: 0.1186 - val_loss: 0.1128\n",
      "Epoch 77/600\n",
      "14/14 [==============================] - 0s 21ms/step - loss: 0.1254 - val_loss: 0.1246\n",
      "Epoch 78/600\n",
      "14/14 [==============================] - 0s 24ms/step - loss: 0.1245 - val_loss: 0.1080\n",
      "Epoch 79/600\n",
      "14/14 [==============================] - 0s 24ms/step - loss: 0.1323 - val_loss: 0.1119\n",
      "Epoch 80/600\n",
      "14/14 [==============================] - 0s 24ms/step - loss: 0.1111 - val_loss: 0.1135\n",
      "Epoch 81/600\n",
      "14/14 [==============================] - 0s 26ms/step - loss: 0.1370 - val_loss: 0.1108\n",
      "Epoch 82/600\n",
      "14/14 [==============================] - 0s 22ms/step - loss: 0.1240 - val_loss: 0.1187\n",
      "Epoch 83/600\n",
      "14/14 [==============================] - 0s 19ms/step - loss: 0.1297 - val_loss: 0.1133\n",
      "Epoch 84/600\n",
      "14/14 [==============================] - 0s 23ms/step - loss: 0.1307 - val_loss: 0.1127\n",
      "Epoch 85/600\n",
      "14/14 [==============================] - 0s 24ms/step - loss: 0.1300 - val_loss: 0.1110\n",
      "Epoch 86/600\n",
      "14/14 [==============================] - 0s 27ms/step - loss: 0.1292 - val_loss: 0.1192\n",
      "Epoch 87/600\n",
      "14/14 [==============================] - 0s 28ms/step - loss: 0.1060 - val_loss: 0.1113\n",
      "Epoch 88/600\n",
      "14/14 [==============================] - 0s 22ms/step - loss: 0.1045 - val_loss: 0.1146\n",
      "Epoch 89/600\n",
      "14/14 [==============================] - 0s 30ms/step - loss: 0.1211 - val_loss: 0.1196\n",
      "Epoch 90/600\n",
      "14/14 [==============================] - 0s 32ms/step - loss: 0.0903 - val_loss: 0.1116\n",
      "Epoch 91/600\n",
      "14/14 [==============================] - 0s 20ms/step - loss: 0.1044 - val_loss: 0.1114\n",
      "Epoch 92/600\n",
      "14/14 [==============================] - 0s 24ms/step - loss: 0.0937 - val_loss: 0.1123\n",
      "Epoch 93/600\n",
      "14/14 [==============================] - 0s 24ms/step - loss: 0.1057 - val_loss: 0.1272\n",
      "Epoch 94/600\n",
      "14/14 [==============================] - 0s 21ms/step - loss: 0.1276 - val_loss: 0.1156\n",
      "Epoch 95/600\n",
      "14/14 [==============================] - 0s 24ms/step - loss: 0.1245 - val_loss: 0.1107\n",
      "Epoch 96/600\n",
      "14/14 [==============================] - 0s 24ms/step - loss: 0.1288 - val_loss: 0.1128\n",
      "Epoch 97/600\n",
      "14/14 [==============================] - 0s 30ms/step - loss: 0.1183 - val_loss: 0.1145\n",
      "Epoch 98/600\n",
      "14/14 [==============================] - 0s 26ms/step - loss: 0.0883 - val_loss: 0.1156\n",
      "Epoch 99/600\n",
      "14/14 [==============================] - 0s 23ms/step - loss: 0.0929 - val_loss: 0.1136\n",
      "Epoch 100/600\n",
      "14/14 [==============================] - 0s 21ms/step - loss: 0.1205 - val_loss: 0.1076\n",
      "Epoch 101/600\n",
      "14/14 [==============================] - 0s 25ms/step - loss: 0.0977 - val_loss: 0.1114\n",
      "Epoch 102/600\n",
      "14/14 [==============================] - 0s 21ms/step - loss: 0.1093 - val_loss: 0.1177\n",
      "Epoch 103/600\n",
      "14/14 [==============================] - 0s 21ms/step - loss: 0.0946 - val_loss: 0.1204\n",
      "Epoch 104/600\n",
      "14/14 [==============================] - 0s 24ms/step - loss: 0.1078 - val_loss: 0.1187\n",
      "Epoch 105/600\n",
      "14/14 [==============================] - 0s 28ms/step - loss: 0.0972 - val_loss: 0.1121\n",
      "Epoch 106/600\n",
      "14/14 [==============================] - 0s 21ms/step - loss: 0.1092 - val_loss: 0.1162\n",
      "Epoch 107/600\n",
      "14/14 [==============================] - 0s 23ms/step - loss: 0.1031 - val_loss: 0.1107\n",
      "Epoch 108/600\n",
      "14/14 [==============================] - 0s 23ms/step - loss: 0.1066 - val_loss: 0.1078\n",
      "Epoch 109/600\n",
      "14/14 [==============================] - 0s 25ms/step - loss: 0.0955 - val_loss: 0.1239\n",
      "Epoch 110/600\n",
      "14/14 [==============================] - 0s 22ms/step - loss: 0.1062 - val_loss: 0.1155\n",
      "Epoch 111/600\n",
      "14/14 [==============================] - 0s 29ms/step - loss: 0.1209 - val_loss: 0.1207\n",
      "Epoch 112/600\n",
      "14/14 [==============================] - 0s 24ms/step - loss: 0.1055 - val_loss: 0.1173\n",
      "Epoch 113/600\n",
      "14/14 [==============================] - 0s 28ms/step - loss: 0.1023 - val_loss: 0.1098\n",
      "Epoch 114/600\n",
      "14/14 [==============================] - 0s 23ms/step - loss: 0.0798 - val_loss: 0.1092\n",
      "Epoch 115/600\n",
      "14/14 [==============================] - 0s 25ms/step - loss: 0.1065 - val_loss: 0.1156\n",
      "Epoch 116/600\n",
      "14/14 [==============================] - 0s 22ms/step - loss: 0.0773 - val_loss: 0.1171\n",
      "Epoch 117/600\n",
      "14/14 [==============================] - 0s 30ms/step - loss: 0.1068 - val_loss: 0.1142\n",
      "Epoch 118/600\n",
      "14/14 [==============================] - 0s 21ms/step - loss: 0.1100 - val_loss: 0.1087\n",
      "Epoch 119/600\n",
      "14/14 [==============================] - 0s 21ms/step - loss: 0.0906 - val_loss: 0.1205\n",
      "Epoch 120/600\n",
      "14/14 [==============================] - 0s 21ms/step - loss: 0.0910 - val_loss: 0.1130\n",
      "Epoch 121/600\n",
      "14/14 [==============================] - 0s 26ms/step - loss: 0.0816 - val_loss: 0.1167\n",
      "Epoch 122/600\n",
      "14/14 [==============================] - 0s 24ms/step - loss: 0.0932 - val_loss: 0.1154\n",
      "Epoch 123/600\n",
      "14/14 [==============================] - 0s 20ms/step - loss: 0.0762 - val_loss: 0.1153\n",
      "Epoch 124/600\n",
      "14/14 [==============================] - 0s 21ms/step - loss: 0.0789 - val_loss: 0.1112\n",
      "Epoch 125/600\n",
      "14/14 [==============================] - 0s 24ms/step - loss: 0.0776 - val_loss: 0.1141\n",
      "Epoch 00125: early stopping\n"
     ]
    },
    {
     "data": {
      "text/plain": [
       "<tensorflow.python.keras.callbacks.History at 0x269fb2e1d90>"
      ]
     },
     "execution_count": 18,
     "metadata": {},
     "output_type": "execute_result"
    }
   ],
   "source": [
    "model.fit(x=X_train, \n",
    "          y=y_train, \n",
    "          epochs=600,\n",
    "          validation_data=(X_test, y_test), verbose=1,\n",
    "          callbacks=[early_stop,board]\n",
    "          )"
   ]
  },
  {
   "cell_type": "markdown",
   "metadata": {},
   "source": [
    "# Running Tensorboard\n"
   ]
  },
  {
   "cell_type": "markdown",
   "metadata": {},
   "source": [
    "## Running through the Command Line\n",
    "\n",
    "**Watch video to see how to run Tensorboard through a command line call.**"
   ]
  },
  {
   "cell_type": "markdown",
   "metadata": {},
   "source": [
    "Tensorboard will run locally in your browser at [http://localhost:6006/](http://localhost:6006/)\n"
   ]
  },
  {
   "cell_type": "code",
   "execution_count": 19,
   "metadata": {},
   "outputs": [
    {
     "name": "stdout",
     "output_type": "stream",
     "text": [
      "logs\\fit\n"
     ]
    }
   ],
   "source": [
    "print(log_directory)"
   ]
  },
  {
   "cell_type": "code",
   "execution_count": 20,
   "metadata": {},
   "outputs": [
    {
     "data": {
      "text/plain": [
       "'C:\\\\Users\\\\Yasin\\\\Desktop\\\\Machine Excercise\\\\New folder\\\\Deep Learning and Neural Network'"
      ]
     },
     "execution_count": 20,
     "metadata": {},
     "output_type": "execute_result"
    }
   ],
   "source": [
    "pwd"
   ]
  },
  {
   "cell_type": "markdown",
   "metadata": {},
   "source": [
    "### Use cd at your command line to change directory to the file path reported back by pwd or your current .py file location.\n",
    "### Then run this code at your command line or terminal"
   ]
  },
  {
   "cell_type": "code",
   "execution_count": null,
   "metadata": {},
   "outputs": [],
   "source": [
    "tensorboard --logdir logs\\fit "
   ]
  }
 ],
 "metadata": {
  "kernelspec": {
   "display_name": "Python 3",
   "language": "python",
   "name": "python3"
  },
  "language_info": {
   "codemirror_mode": {
    "name": "ipython",
    "version": 3
   },
   "file_extension": ".py",
   "mimetype": "text/x-python",
   "name": "python",
   "nbconvert_exporter": "python",
   "pygments_lexer": "ipython3",
   "version": "3.8.8"
  }
 },
 "nbformat": 4,
 "nbformat_minor": 2
}
